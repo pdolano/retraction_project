{
 "cells": [
  {
   "cell_type": "markdown",
   "id": "83c0d779-9f5c-4cc8-9229-2154c7bf0fe6",
   "metadata": {},
   "source": [
    "# 3c. Extract Abstracts for Non-Retracted Papers"
   ]
  },
  {
   "cell_type": "markdown",
   "id": "945ad1d4-6973-4144-b34e-84fa2296c3ff",
   "metadata": {},
   "source": [
    "## Introduction"
   ]
  },
  {
   "cell_type": "markdown",
   "id": "01f358f2-9bf8-4585-91d6-9b75be1b6a4d",
   "metadata": {},
   "source": [
    "This Notebook **extracts abstracts** from the .json files that we downloaded from OpenAlex **for our non-retracted papers**. Again, it downloads inverted word indeces directly from the .json files, then reconstructing them to obtain standard abstract text.\n",
    "\n",
    "The Notebook takes as input the .json files that were downloaded in **Notebook 3b** and it uses the master function that we used to obtain abstracts for retracted papers in **Notebook 2c**. The reconstructed abstract generated in these two notebooks will in turn be used as input in **Notebook 5** to generated the corpus that we will used to train our model.\n",
    "\n",
    "The **workflow** has been set to be as follows:\n",
    "\n",
    "- Input: all the **.json files** for our non-retracted papers.\n",
    "- Output: **one .csv file** with the reconstructed abstracts, along with the DOI, year, and country of each paper, and **one .csv file** with log information about the extraction and reconstruction process."
   ]
  },
  {
   "cell_type": "markdown",
   "id": "7e243347-13bd-44ca-ab3a-a41de4e80465",
   "metadata": {},
   "source": [
    "## Input / Output Parameters"
   ]
  },
  {
   "cell_type": "markdown",
   "id": "07dc1d96-0d92-4e02-9696-d9205a7613f7",
   "metadata": {},
   "source": [
    "Input parameters:"
   ]
  },
  {
   "cell_type": "code",
   "execution_count": 22,
   "id": "c9923da9-d01b-4f5f-9398-28f319d26ac0",
   "metadata": {
    "tags": []
   },
   "outputs": [],
   "source": [
    "\n",
    "# Input path\n",
    "\n",
    "input_path = '../data/json_files/cell_biology/non_retracted'\n"
   ]
  },
  {
   "cell_type": "markdown",
   "id": "9cbb7273-9c36-4fcc-8939-3bb7a38f98e0",
   "metadata": {},
   "source": [
    "Output parameters:"
   ]
  },
  {
   "cell_type": "code",
   "execution_count": 23,
   "id": "bb4aecbd-7433-4b87-9169-44f25727858a",
   "metadata": {
    "tags": []
   },
   "outputs": [],
   "source": [
    "\n",
    "# Output path for abstracts\n",
    "\n",
    "output_path_abstracts = '../data/abstracts/cell_biology/non_retracted/retracted_cell_biology_abstracts.csv'\n",
    "\n",
    "# Output path for logs\n",
    "\n",
    "output_path_logs = '../data/logs/non_retracted_abstract_extraction_log.csv'\n"
   ]
  },
  {
   "cell_type": "markdown",
   "id": "aae060ff-f297-411b-bb86-0b41f59261c3",
   "metadata": {},
   "source": [
    "## Importing Libraries"
   ]
  },
  {
   "cell_type": "code",
   "execution_count": 24,
   "id": "a88944e2-31ad-497d-9b7a-507db16ed5cf",
   "metadata": {
    "tags": []
   },
   "outputs": [],
   "source": [
    "import os\n",
    "import json\n",
    "import pandas as pd\n",
    "import csv\n",
    "import string"
   ]
  },
  {
   "cell_type": "markdown",
   "id": "6c05fc24-0b42-440e-8bf9-3ff5914cd2b4",
   "metadata": {},
   "source": [
    "## Extracting Abstracts from JSON Files"
   ]
  },
  {
   "cell_type": "markdown",
   "id": "317f3280-75f7-4d85-8b11-a1550ab75087",
   "metadata": {},
   "source": [
    "We already defined our master function to extract abstracts from our .json files when doing so for our retracted papers. Thus, we can simply re-use this function to obtain this same information for our non-retracted papers:"
   ]
  },
  {
   "cell_type": "code",
   "execution_count": 19,
   "id": "6d60645a-0516-4aa6-8b1a-c270420eefd1",
   "metadata": {
    "tags": []
   },
   "outputs": [],
   "source": [
    "\n",
    "# Initialize lists to store data and log entries\n",
    "\n",
    "data = []\n",
    "log_entries = []\n",
    "\n",
    "data, log_entries = function_definitions.abstract_getter(input_path)\n"
   ]
  },
  {
   "cell_type": "markdown",
   "id": "278b3df5-028f-4ca4-8aaa-a50764544e42",
   "metadata": {},
   "source": [
    "## Output"
   ]
  },
  {
   "cell_type": "markdown",
   "id": "e3deb6e4-7b14-486c-ab58-d5566e9e0196",
   "metadata": {},
   "source": [
    "To conclude, we save the abstract text that we extracted from our .json files into a .csv file:"
   ]
  },
  {
   "cell_type": "code",
   "execution_count": 20,
   "id": "af43ef2d-222c-4054-bc3e-5b71c8f8760e",
   "metadata": {
    "tags": []
   },
   "outputs": [],
   "source": [
    "\n",
    "# Create data frame with content of data list and pipe symbol as delimiter\n",
    "\n",
    "df = pd.DataFrame(data)\n",
    "\n",
    "# Save content of data frame to .csv\n",
    "\n",
    "df.to_csv(output_path_abstracts, sep='|', index=False, quoting=csv.QUOTE_MINIMAL)\n",
    "\n"
   ]
  },
  {
   "cell_type": "markdown",
   "id": "26b9c20f-7ca0-4c8e-a48d-ec531f19fb59",
   "metadata": {},
   "source": [
    "And we do the same with the log files that we generated in the process:"
   ]
  },
  {
   "cell_type": "code",
   "execution_count": 21,
   "id": "1063b19e-0a39-4623-a0e3-34897e74f4ec",
   "metadata": {
    "tags": []
   },
   "outputs": [],
   "source": [
    "\n",
    "# Create data frame with content of log_entries list \n",
    "\n",
    "log_df = pd.DataFrame(log_entries)\n",
    "\n",
    "# Save content of log entry data frame to .csv\n",
    "\n",
    "log_df.to_csv(output_path_logs, index=False, quoting=csv.QUOTE_MINIMAL)\n"
   ]
  }
 ],
 "metadata": {
  "kernelspec": {
   "display_name": "Python 3 (ipykernel)",
   "language": "python",
   "name": "python3"
  },
  "language_info": {
   "codemirror_mode": {
    "name": "ipython",
    "version": 3
   },
   "file_extension": ".py",
   "mimetype": "text/x-python",
   "name": "python",
   "nbconvert_exporter": "python",
   "pygments_lexer": "ipython3",
   "version": "3.11.3"
  }
 },
 "nbformat": 4,
 "nbformat_minor": 5
}
