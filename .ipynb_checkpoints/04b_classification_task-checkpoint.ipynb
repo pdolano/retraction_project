{
 "cells": [
  {
   "cell_type": "markdown",
   "id": "8e7366cb-30e5-44fe-87e4-97ceedfa3015",
   "metadata": {},
   "source": [
    "# 4b. Classification Task: Using Machine Learning to Predict Retraction"
   ]
  },
  {
   "cell_type": "markdown",
   "id": "f666a0cd-c8fb-4665-835f-8fc84d2a369a",
   "metadata": {},
   "source": [
    "## Introduction"
   ]
  },
  {
   "cell_type": "markdown",
   "id": "b353bfdb-12cd-43d0-a35a-f3079cf7b9fb",
   "metadata": {},
   "source": [
    "\n",
    "This Notebook performs our **main classification task**. It uses some of the most common classifier models (**logistic regressor, XGBoost Classifier, and Random Forest Classifier**) to predict what papers are at risk of retraction, and the most common vectorizers (**Bag of Words and tf idf**) to convert text data into numbers that our models can process. \n",
    "\n",
    "The Notebook uses the corpus of abstracts that was generated in **Notebook 4a**. The trained models that the Notebook produces will in turn serve as input for **Notebook 4c**.\n",
    "\n",
    "The **workflow** of the notebook is set up as follows:\n",
    "\n",
    "- Input: **one .csv file** with our corpus with text from both retracted and non-retracted papers.\n",
    "- Output: **none**."
   ]
  },
  {
   "cell_type": "markdown",
   "id": "97c2c621-65dc-4b67-9ed5-52dec382fe32",
   "metadata": {
    "tags": []
   },
   "source": [
    "## Input / Output Parameters:"
   ]
  },
  {
   "cell_type": "markdown",
   "id": "aaad40fd-ad1a-4081-b257-541f291b79e3",
   "metadata": {},
   "source": [
    "Input parameters:"
   ]
  },
  {
   "cell_type": "code",
   "execution_count": 2,
   "id": "c9bfc906-ffba-44ac-8ce9-7839b8bd9832",
   "metadata": {
    "tags": []
   },
   "outputs": [],
   "source": [
    "\n",
    "# File path to corpus to train model\n",
    "\n",
    "input_path = \"../data/final_corpus.csv\"\n",
    "\n",
    "# File path for country codes dictionary\n",
    "\n",
    "#file_path_country_codes = \"../data/country_codes_dictionary.csv\""
   ]
  },
  {
   "cell_type": "markdown",
   "id": "0f6b562d-0ff0-4997-bce0-2fb934d13e97",
   "metadata": {},
   "source": [
    "Output parameters:"
   ]
  },
  {
   "cell_type": "code",
   "execution_count": 3,
   "id": "cc9b6750-cde6-4b77-bb88-6d9f924249d4",
   "metadata": {},
   "outputs": [],
   "source": [
    "\n",
    "# File path to trained model\n",
    "\n",
    "output_path = \"../data/trained_models\""
   ]
  },
  {
   "cell_type": "markdown",
   "id": "e180e5ba-3ca6-44a8-bc58-f2a755fdaf9d",
   "metadata": {},
   "source": [
    "## Importing Required Libraries"
   ]
  },
  {
   "cell_type": "markdown",
   "id": "f18a3fe8-9cff-461a-b03f-8bfb14b43450",
   "metadata": {},
   "source": [
    "Let us start by importing the required libraries to implement our task:"
   ]
  },
  {
   "cell_type": "code",
   "execution_count": 31,
   "id": "dc82e987-cde7-4712-9a89-483af411cd1a",
   "metadata": {
    "tags": []
   },
   "outputs": [],
   "source": [
    "\n",
    "# Import required libraries\n",
    "\n",
    "import pandas as pd\n",
    "import numpy as np\n",
    "\n",
    "import seaborn as sns\n",
    "import matplotlib.pyplot as plt\n",
    "from wordcloud import WordCloud\n",
    "import matplotlib.pyplot as plt\n",
    "\n",
    "import sklearn\n",
    "from sklearn.feature_selection import SelectKBest, f_classif\n",
    "from sklearn.model_selection import train_test_split\n",
    "from sklearn.linear_model import LogisticRegression\n",
    "from sklearn.metrics import accuracy_score, classification_report\n",
    "from sklearn.metrics import roc_curve, auc\n",
    "from sklearn.metrics import confusion_matrix\n",
    "from sklearn.feature_extraction.text import CountVectorizer\n",
    "from sklearn.feature_extraction.text import TfidfVectorizer\n",
    "from sklearn.ensemble import RandomForestClassifier\n",
    "from xgboost.sklearn import XGBClassifier\n",
    "\n",
    "import json\n",
    "import os\n",
    "\n",
    "from scipy.stats import norm\n",
    "\n",
    "import time\n",
    "from function_definitions import seconds_to_hms\n",
    "\n"
   ]
  },
  {
   "cell_type": "markdown",
   "id": "a060d248-5db2-4ef7-aa38-a1bf36e36a8a",
   "metadata": {},
   "source": [
    "## Data Preprocessing and Test-Train Split"
   ]
  },
  {
   "cell_type": "markdown",
   "id": "2beeeab5-02a9-4cd7-ae9e-6eef46658371",
   "metadata": {},
   "source": [
    "\n",
    "Let us start by loading the textual corpus that we will use to train our models into our data frame:"
   ]
  },
  {
   "cell_type": "code",
   "execution_count": 5,
   "id": "cae91ac1-46ee-41ca-b30f-93d3d58cb5cc",
   "metadata": {},
   "outputs": [
    {
     "data": {
      "text/html": [
       "<div>\n",
       "<style scoped>\n",
       "    .dataframe tbody tr th:only-of-type {\n",
       "        vertical-align: middle;\n",
       "    }\n",
       "\n",
       "    .dataframe tbody tr th {\n",
       "        vertical-align: top;\n",
       "    }\n",
       "\n",
       "    .dataframe thead th {\n",
       "        text-align: right;\n",
       "    }\n",
       "</style>\n",
       "<table border=\"1\" class=\"dataframe\">\n",
       "  <thead>\n",
       "    <tr style=\"text-align: right;\">\n",
       "      <th></th>\n",
       "      <th>abstract_text</th>\n",
       "      <th>target</th>\n",
       "      <th>doi</th>\n",
       "      <th>country</th>\n",
       "      <th>year</th>\n",
       "      <th>ret_flag</th>\n",
       "    </tr>\n",
       "  </thead>\n",
       "  <tbody>\n",
       "    <tr>\n",
       "      <th>0</th>\n",
       "      <td>\"Atrial fibrosis occurs frequently with struct...</td>\n",
       "      <td>1</td>\n",
       "      <td>10.1038_s41420-022-00895-9</td>\n",
       "      <td>CN</td>\n",
       "      <td>2022</td>\n",
       "      <td>False</td>\n",
       "    </tr>\n",
       "    <tr>\n",
       "      <th>1</th>\n",
       "      <td>\"In Brief Purpose To determine the safety and ...</td>\n",
       "      <td>1</td>\n",
       "      <td>10.1097_00006982-200402000-00018</td>\n",
       "      <td>US</td>\n",
       "      <td>2004</td>\n",
       "      <td>False</td>\n",
       "    </tr>\n",
       "    <tr>\n",
       "      <th>2</th>\n",
       "      <td>\"Biglycan (BGN) is an important component of t...</td>\n",
       "      <td>0</td>\n",
       "      <td>10.1016_j.molonc.2016.08.002</td>\n",
       "      <td>CN</td>\n",
       "      <td>2016</td>\n",
       "      <td>False</td>\n",
       "    </tr>\n",
       "    <tr>\n",
       "      <th>3</th>\n",
       "      <td>\"Fusarium wilt caused by Fusarium oxysporum f....</td>\n",
       "      <td>0</td>\n",
       "      <td>10.3390_toxins12040254</td>\n",
       "      <td>CN</td>\n",
       "      <td>2020</td>\n",
       "      <td>False</td>\n",
       "    </tr>\n",
       "    <tr>\n",
       "      <th>4</th>\n",
       "      <td>\"The genome of Stenotrophomonas maltophilia en...</td>\n",
       "      <td>1</td>\n",
       "      <td>10.1128_JB.00310-07</td>\n",
       "      <td>IE</td>\n",
       "      <td>2007</td>\n",
       "      <td>False</td>\n",
       "    </tr>\n",
       "    <tr>\n",
       "      <th>...</th>\n",
       "      <td>...</td>\n",
       "      <td>...</td>\n",
       "      <td>...</td>\n",
       "      <td>...</td>\n",
       "      <td>...</td>\n",
       "      <td>...</td>\n",
       "    </tr>\n",
       "    <tr>\n",
       "      <th>13052</th>\n",
       "      <td>\"Globally  the incidence and mortality rates o...</td>\n",
       "      <td>0</td>\n",
       "      <td>10.1186_s12885-019-5810-2</td>\n",
       "      <td>CN</td>\n",
       "      <td>2019</td>\n",
       "      <td>False</td>\n",
       "    </tr>\n",
       "    <tr>\n",
       "      <th>13053</th>\n",
       "      <td>\"Background: Apigenin is known to have a broad...</td>\n",
       "      <td>1</td>\n",
       "      <td>10.2147_IJN.S256494</td>\n",
       "      <td>CN</td>\n",
       "      <td>2020</td>\n",
       "      <td>False</td>\n",
       "    </tr>\n",
       "    <tr>\n",
       "      <th>13054</th>\n",
       "      <td>\"Endophytic fungi act as seed endosymbiont  th...</td>\n",
       "      <td>0</td>\n",
       "      <td>10.3389_fmicb.2022.814864</td>\n",
       "      <td>CN</td>\n",
       "      <td>2022</td>\n",
       "      <td>False</td>\n",
       "    </tr>\n",
       "    <tr>\n",
       "      <th>13055</th>\n",
       "      <td>\"Severe acute respiratory syndrome coronavirus...</td>\n",
       "      <td>0</td>\n",
       "      <td>10.1128_jvi.00011-23</td>\n",
       "      <td>CN</td>\n",
       "      <td>2023</td>\n",
       "      <td>False</td>\n",
       "    </tr>\n",
       "    <tr>\n",
       "      <th>13056</th>\n",
       "      <td>\"Pelvic inflammatory disease (PID) is a common...</td>\n",
       "      <td>0</td>\n",
       "      <td>10.1021_acs.jafc.0c05102</td>\n",
       "      <td>CN</td>\n",
       "      <td>2020</td>\n",
       "      <td>False</td>\n",
       "    </tr>\n",
       "  </tbody>\n",
       "</table>\n",
       "<p>13057 rows × 6 columns</p>\n",
       "</div>"
      ],
      "text/plain": [
       "                                           abstract_text  target  \\\n",
       "0      \"Atrial fibrosis occurs frequently with struct...       1   \n",
       "1      \"In Brief Purpose To determine the safety and ...       1   \n",
       "2      \"Biglycan (BGN) is an important component of t...       0   \n",
       "3      \"Fusarium wilt caused by Fusarium oxysporum f....       0   \n",
       "4      \"The genome of Stenotrophomonas maltophilia en...       1   \n",
       "...                                                  ...     ...   \n",
       "13052  \"Globally  the incidence and mortality rates o...       0   \n",
       "13053  \"Background: Apigenin is known to have a broad...       1   \n",
       "13054  \"Endophytic fungi act as seed endosymbiont  th...       0   \n",
       "13055  \"Severe acute respiratory syndrome coronavirus...       0   \n",
       "13056  \"Pelvic inflammatory disease (PID) is a common...       0   \n",
       "\n",
       "                                    doi country  year  ret_flag  \n",
       "0            10.1038_s41420-022-00895-9      CN  2022     False  \n",
       "1      10.1097_00006982-200402000-00018      US  2004     False  \n",
       "2          10.1016_j.molonc.2016.08.002      CN  2016     False  \n",
       "3                10.3390_toxins12040254      CN  2020     False  \n",
       "4                   10.1128_JB.00310-07      IE  2007     False  \n",
       "...                                 ...     ...   ...       ...  \n",
       "13052         10.1186_s12885-019-5810-2      CN  2019     False  \n",
       "13053               10.2147_IJN.S256494      CN  2020     False  \n",
       "13054         10.3389_fmicb.2022.814864      CN  2022     False  \n",
       "13055              10.1128_jvi.00011-23      CN  2023     False  \n",
       "13056          10.1021_acs.jafc.0c05102      CN  2020     False  \n",
       "\n",
       "[13057 rows x 6 columns]"
      ]
     },
     "execution_count": 5,
     "metadata": {},
     "output_type": "execute_result"
    }
   ],
   "source": [
    "\n",
    "# Create data frame with all abstracts\n",
    "\n",
    "df_corpus = pd.read_csv(input_path, encoding='latin-1')\n",
    "\n",
    "# Visualize data frame for verification\n",
    "\n",
    "df_corpus\n"
   ]
  },
  {
   "cell_type": "markdown",
   "id": "8d5adf70-3cfa-44a0-ab10-f3cab886f714",
   "metadata": {},
   "source": [
    "We can now define the target and features that we will use for our classification task:"
   ]
  },
  {
   "cell_type": "code",
   "execution_count": 6,
   "id": "bc3f0ed3-8416-41d9-84d4-03225e1f3941",
   "metadata": {},
   "outputs": [],
   "source": [
    "\n",
    "# Definte target and features\n",
    "\n",
    "X = df_corpus[\"abstract_text\"]\n",
    "y = df_corpus[\"target\"]\n"
   ]
  },
  {
   "cell_type": "markdown",
   "id": "ac9a4d9e-7b98-4315-875c-33f54b5e8518",
   "metadata": {},
   "source": [
    "And split our data set into train and test portions:"
   ]
  },
  {
   "cell_type": "code",
   "execution_count": 7,
   "id": "cdd9650f-0187-432d-93aa-b89f0238bce9",
   "metadata": {},
   "outputs": [],
   "source": [
    "\n",
    "# Split target and features into train and text sets\n",
    "\n",
    "X_train, X_test, y_train, y_test = train_test_split(X, y, test_size=0.2, random_state=42)\n"
   ]
  },
  {
   "cell_type": "markdown",
   "id": "8673b65f-ac1e-4c9a-898a-54b335010d1e",
   "metadata": {},
   "source": [
    "## Bag of Words Vectorization:"
   ]
  },
  {
   "cell_type": "markdown",
   "id": "7a9f02a3-b8c5-4d75-8b56-8d74118442f4",
   "metadata": {},
   "source": [
    "\n",
    "In order to be able to train our classifiers, we will need a method to translate our corpus, which is made out of text, into numbers. We will need, in other words, a vectorization process that turns words into vectors with numerical components. We will first try the most simple vectorization method, namely the \"bag of words\" method, to accomplish this. First we need to translate the train portion of our corpus into a set of vectors:\n"
   ]
  },
  {
   "cell_type": "code",
   "execution_count": 8,
   "id": "a4163c22-6c48-43ef-bd52-41580b56c3d4",
   "metadata": {},
   "outputs": [
    {
     "name": "stdout",
     "output_type": "stream",
     "text": [
      "Bag of Words Vocabulary:\n",
      "\n",
      "['00' '000' '0000' ... 'zyxin' 'zyxincdk8yap' 'zz']\n",
      "\n",
      "Bag of Words Vectors:\n",
      "\n",
      "[[0 0 0 ... 0 0 0]\n",
      " [0 0 0 ... 0 0 0]\n",
      " [0 0 0 ... 0 0 0]\n",
      " ...\n",
      " [0 0 0 ... 0 0 0]\n",
      " [0 0 0 ... 0 0 0]\n",
      " [0 0 0 ... 0 0 0]]\n",
      "\n",
      "\n"
     ]
    }
   ],
   "source": [
    "\n",
    "# Instantiate CountVectorizer \n",
    "\n",
    "vectorizer = CountVectorizer()\n",
    "\n",
    "# Fit vectorizer to corpus of fraudulent papers to create bag of words vectors\n",
    "\n",
    "X_train_vec = vectorizer.fit_transform(X_train)\n",
    "\n",
    "# Obtain vocabulary for corpus\n",
    "\n",
    "print(\"Bag of Words Vocabulary:\\n\")\n",
    "print(vectorizer.get_feature_names_out())\n",
    "\n",
    "# Print all bag of words vectors \n",
    "\n",
    "print(\"\\nBag of Words Vectors:\\n\")\n",
    "print(X_train_vec.toarray())\n",
    "print(\"\\n\")\n"
   ]
  },
  {
   "cell_type": "markdown",
   "id": "81d3c7c4-e328-4fe1-bae8-0a7e072596fa",
   "metadata": {},
   "source": [
    "Now we can use the correspondence between words and vectors that we have just generated to vectorize the test porition of our corpus:"
   ]
  },
  {
   "cell_type": "code",
   "execution_count": 9,
   "id": "56fdbe0e-b143-4500-a800-8052b71a75bd",
   "metadata": {},
   "outputs": [
    {
     "name": "stdout",
     "output_type": "stream",
     "text": [
      "\n",
      "Vectorized features (BoW):\n",
      "\n",
      "[[0 0 0 ... 0 0 0]\n",
      " [0 0 0 ... 0 0 0]\n",
      " [0 0 0 ... 0 0 0]\n",
      " ...\n",
      " [0 0 0 ... 0 0 0]\n",
      " [0 0 0 ... 0 0 0]\n",
      " [0 0 0 ... 0 0 0]]\n",
      "\n",
      "\n"
     ]
    }
   ],
   "source": [
    "\n",
    "# Vectorize test data set by using our vectorizer\n",
    "\n",
    "X_test_vec = vectorizer.transform(X_test)\n",
    "\n",
    "# Visualize vectorized features for confirmation\n",
    "\n",
    "print(\"\\nVectorized features (BoW):\\n\")\n",
    "print(X_test_vec.toarray())\n",
    "print(\"\\n\")\n"
   ]
  },
  {
   "cell_type": "markdown",
   "id": "371c7aaa-600a-45ee-8430-9d9b64e065b5",
   "metadata": {},
   "source": [
    "## TF-IDF Vectorization"
   ]
  },
  {
   "cell_type": "markdown",
   "id": "f2473ede-8349-467d-b2e9-8630268e06d2",
   "metadata": {},
   "source": [
    "\n",
    "We can also try a slightly more sophisticated vectorization method called tf-idf. Again, we first apply the vectorizer to the train portion of our corpus:\n"
   ]
  },
  {
   "cell_type": "code",
   "execution_count": 10,
   "id": "9acf5321-5459-4017-b1d2-cafaa19175a5",
   "metadata": {},
   "outputs": [
    {
     "name": "stdout",
     "output_type": "stream",
     "text": [
      "\n",
      "TF-IDF Vocabulary:\n",
      "\n",
      "['00' '000' '0000' ... 'zyxin' 'zyxincdk8yap' 'zz']\n",
      "\n",
      "TF-IDF vectors:\n",
      "\n",
      "[[0. 0. 0. ... 0. 0. 0.]\n",
      " [0. 0. 0. ... 0. 0. 0.]\n",
      " [0. 0. 0. ... 0. 0. 0.]\n",
      " ...\n",
      " [0. 0. 0. ... 0. 0. 0.]\n",
      " [0. 0. 0. ... 0. 0. 0.]\n",
      " [0. 0. 0. ... 0. 0. 0.]]\n",
      "\n",
      "\n"
     ]
    }
   ],
   "source": [
    "\n",
    "# Instantiate CountVectorizer \n",
    "\n",
    "tfidf = TfidfVectorizer()\n",
    "\n",
    "# Fit vectorizer to corpus of fraudulent papers to create vectors\n",
    "\n",
    "X_train_tfidf = tfidf.fit_transform(X_train)\n",
    "\n",
    "# Obtain vocabulary for corpus\n",
    "\n",
    "print(\"\\nTF-IDF Vocabulary:\\n\")\n",
    "print(tfidf.get_feature_names_out())\n",
    "\n",
    "# Print all vectors \n",
    "\n",
    "print(\"\\nTF-IDF vectors:\\n\")\n",
    "print(X_train_tfidf.toarray())\n",
    "print(\"\\n\")\n",
    "\n"
   ]
  },
  {
   "cell_type": "markdown",
   "id": "3ffe60dc-36db-49e6-85eb-fe505169202c",
   "metadata": {},
   "source": [
    "\n",
    "And we then use the vocabulary generated from the train data set to vectorize out test data set:\n"
   ]
  },
  {
   "cell_type": "code",
   "execution_count": 11,
   "id": "8ae1f53e-bdb7-4d88-ba9f-397f7b980516",
   "metadata": {},
   "outputs": [
    {
     "name": "stdout",
     "output_type": "stream",
     "text": [
      "\n",
      "Vectorized features (TF-IDF):\n",
      "\n",
      "[[0 0 0 ... 0 0 0]\n",
      " [0 0 0 ... 0 0 0]\n",
      " [0 0 0 ... 0 0 0]\n",
      " ...\n",
      " [0 0 0 ... 0 0 0]\n",
      " [0 0 0 ... 0 0 0]\n",
      " [0 0 0 ... 0 0 0]]\n",
      "\n",
      "\n"
     ]
    }
   ],
   "source": [
    "\n",
    "# Vectorize test data set using vocabulary from train\n",
    "\n",
    "X_test_tfidf = tfidf.transform(X_test)\n",
    "\n",
    "# Visualize vectorized features for confirmation\n",
    "\n",
    "print(\"\\nVectorized features (TF-IDF):\\n\")\n",
    "print(X_test_vec.toarray())\n",
    "print(\"\\n\")\n"
   ]
  },
  {
   "cell_type": "markdown",
   "id": "568981bc-26da-4aee-8957-a43cd45d81e6",
   "metadata": {
    "tags": []
   },
   "source": [
    "## K-Best Analysis "
   ]
  },
  {
   "cell_type": "markdown",
   "id": "fd2f6f28-f043-4a6f-9884-2916268e8160",
   "metadata": {},
   "source": [
    "\n",
    "Now that we have vectorized our corpus, and before we use it to train our models, we can run a K-Best analysis on our data set. This will give us an idea of which ones of our features (in our case, vectors corresponding to a word in our corpus) are more strongly correlated with the different values that our target can get. A K-best analysis will give us a sense, in other words, of which words are more strongly correlated (either positively or negatively) with retraction:\n"
   ]
  },
  {
   "cell_type": "code",
   "execution_count": 13,
   "id": "63a17aee-3748-4d94-99e1-df33969e4aa2",
   "metadata": {
    "tags": []
   },
   "outputs": [
    {
     "name": "stdout",
     "output_type": "stream",
     "text": [
      "\n",
      "The 20 words most predictive of retraction are:\n",
      "\n",
      "Word: apoptosis      Score:    256.5\n",
      "Word: assay          Score:   505.94\n",
      "Word: blot           Score:   315.98\n",
      "Word: conclusion     Score:   318.86\n",
      "Word: cytometry      Score:   316.73\n",
      "Word: effects        Score:    270.6\n",
      "Word: endoplasmic    Score:    274.9\n",
      "Word: expression     Score:   579.91\n",
      "Word: inhibited      Score:   274.02\n",
      "Word: invasion       Score:   436.22\n",
      "Word: luciferase     Score:   354.02\n",
      "Word: mir            Score:    820.8\n",
      "Word: proliferation  Score:   394.96\n",
      "Word: reticulum      Score:    260.7\n",
      "Word: species        Score:   308.49\n",
      "Word: target         Score:   321.38\n",
      "Word: tissues        Score:   389.83\n",
      "Word: transwell      Score:   317.89\n",
      "Word: was            Score:   332.81\n",
      "Word: western        Score:   367.92\n",
      "\n",
      "\n"
     ]
    }
   ],
   "source": [
    "\n",
    "# Set number of top predictive features to be extracted\n",
    "\n",
    "k_value = 20\n",
    "\n",
    "# Instantiate K-Best Selector\n",
    "\n",
    "k_best = SelectKBest(score_func=f_classif, k = k_value)  \n",
    "\n",
    "# Fit K-Best Selector to training data \n",
    "\n",
    "X_train_selected_vec = k_best.fit_transform(X_train_vec, y_train)\n",
    "\n",
    "# Get indices of k most salient features\n",
    "\n",
    "selected_feature_indices = k_best.get_support(indices=True)\n",
    "\n",
    "# Obtain words corresponding to each index from vectorizer\n",
    "\n",
    "features_list = vectorizer.get_feature_names_out()\n",
    "\n",
    "# Obtain words corresponding to most salient features from index\n",
    "\n",
    "selected_feature_names = [features_list[i] for i in selected_feature_indices]\n",
    "\n",
    "# Visualize most salient words\n",
    "\n",
    "selected_feature_names\n",
    "\n",
    "# Obtain scores of selected features\n",
    "\n",
    "selected_feature_scores = k_best.scores_[selected_feature_indices]\n",
    "\n",
    "# Pair feature names with their corresponding scores\n",
    "\n",
    "feature_scores = list(zip(selected_feature_names, selected_feature_scores))\n",
    "\n",
    "# Print feature names and scores\n",
    "\n",
    "max_width = max(len(feature) for feature, _ in feature_scores)\n",
    "\n",
    "print(f\"\\nThe {k_value} words most predictive of retraction are:\\n\")\n",
    "\n",
    "for feature_name, score in feature_scores:\n",
    "    print(f\"Word: {feature_name.ljust(max_width)}  Score: {round(score, 2):>8}\")\n",
    "\n",
    "print(\"\\n\")\n"
   ]
  },
  {
   "cell_type": "markdown",
   "id": "4352a8e8-1c95-4d80-85e1-9c923307d81d",
   "metadata": {},
   "source": [
    "\n",
    "It will be instructive to choose the most predictive word in our corpus and see what are the abstracts in our corpus that include it:\n"
   ]
  },
  {
   "cell_type": "code",
   "execution_count": 16,
   "id": "1167d360-782c-4bb5-bcff-654cad31ac00",
   "metadata": {},
   "outputs": [
    {
     "name": "stdout",
     "output_type": "stream",
     "text": [
      "3        \"Fusarium wilt caused by Fusarium oxysporum f....\n",
      "5        \"Cerebellar fastigial nucleus electrical stimu...\n",
      "6        \"Retinoblastoma is an ocular malignancy occurr...\n",
      "9        \"MicroRNA-145 inhibits the activation of the m...\n",
      "10       \"Involvement of NF-B and HSP70 signaling pathw...\n",
      "                               ...                        \n",
      "13036    \"Background:Nasopharyngeal carcinoma (NPC) is ...\n",
      "13045    \"Abstract Background Osteosarcoma (OS) is the ...\n",
      "13047    \"Abstract Background Accumulating evidence has...\n",
      "13051    \"Increasing evidence has suggested that microR...\n",
      "13052    \"Globally  the incidence and mortality rates o...\n",
      "Name: abstract_text, Length: 3209, dtype: object\n"
     ]
    }
   ],
   "source": [
    "\n",
    "# Create filtered data frame with abstracts that include the word \"assay\" only\n",
    "\n",
    "df_key_word = df_corpus[df_corpus[\"abstract_text\"].str.contains(\"assay\")]\n",
    "\n",
    "# Visualize abstracts in filtered data frame\n",
    "\n",
    "df_key_word[\"abstract_text\"]\n"
   ]
  },
  {
   "cell_type": "markdown",
   "id": "181cf52d-d13a-4c94-97cb-9e99485719ef",
   "metadata": {},
   "source": [
    "\n",
    "We can also select one of those abstracts and display its full text for manual inspection:\n"
   ]
  },
  {
   "cell_type": "code",
   "execution_count": 17,
   "id": "65575f89-758e-467b-b566-d7d77fece0ff",
   "metadata": {
    "tags": []
   },
   "outputs": [
    {
     "data": {
      "text/plain": [
       "'\"Cerebellar fastigial nucleus electrical stimulation (FNS) in rats has been shown to protect against brain ischemia/reperfusion (I/R) damage. Activation of telomerase has been reported to provide neuroprotection in animal models of stroke.The aim of this study was to explore whether precondition FNS increases the expression of telomerase reverse transcriptase (TERT) and telomerase activity in rats after cerebral I/R injury.One day after continuous stimulation of the fastigial cerebellar nucleus for 1 h  adult male Sprague Dawley rats were subjected to middle cerebral artery occlusion (MCAO) for 2 h and reperfusion for 24 h  48 h and 72 h  while the I/R control groups received the same treatment without FNS. Ischemic lesion volumes were measured following TTC staining. The number of apoptotic cells was measured by using TUNEL assays. Subsequently  telomerase activity was examined by using TRAP-silver staining. Additionally  the expression level of TERT mRNA was assessed by using real-time fluorescence quantitative PCR. Finally  the expression of TERT protein was measured by using Western blotting.The results of our study demonstrated that FNS significantly decreased infarct volumes and improved neurological deficits when compared with the I/R control group. The telomerase activity in the I/R + FNS group was significantly increased compared with that in the I/R control group  particularly in the 24 h reperfusion subgroup (P   0.05). FNS treatment significantly decreased the number of TUNEL-positive cells when compared with that in the I/R control group. Expression of TERT gradually increased  with the peak occurring after or before 48 h reperfusion and the 24 h and 72 h reperfusion subgroups demonstrating higher expression than each I/R control group (P   0.05).Our results show that pre-FNS exerts neuroprotective effects that may be achieved by upregulating the expression of TERT and then by increasing telomerase activity.\"'"
      ]
     },
     "execution_count": 17,
     "metadata": {},
     "output_type": "execute_result"
    }
   ],
   "source": [
    "df_corpus.iloc[5].abstract_text"
   ]
  },
  {
   "cell_type": "markdown",
   "id": "74a03fd4-3ba2-4b24-afc3-b9ae884e9c87",
   "metadata": {},
   "source": [
    "Finally, we can also create a word cloud to visualize the extent of each word's correlation with our target, as given by our K-best analysis:"
   ]
  },
  {
   "cell_type": "code",
   "execution_count": 38,
   "id": "089b7083-7c75-4b99-a1f7-69b9dd2338ad",
   "metadata": {},
   "outputs": [
    {
     "data": {
      "image/png": "[encoded data removed]",
      "text/plain": [
       "<Figure size 1000x500 with 1 Axes>"
      ]
     },
     "metadata": {},
     "output_type": "display_data"
    }
   ],
   "source": [
    "\n",
    "\n",
    "# Separate words with positive and negative coefficients\n",
    "\n",
    "positive_words = [feature for feature, score in feature_scores if score > 0]\n",
    "negative_words = [feature for feature, score in feature_scores if score < 0]\n",
    "\n",
    "# Generate word cloud with custom color function\n",
    "\n",
    "def fixed_color_func(word, font_size, position, orientation, random_state=None, **kwargs):\n",
    "    if word in positive_words:\n",
    "        # Set color to light blue for positive coefficients\n",
    "        return \"rgb(135, 206, 250)\"  # Light blue color\n",
    "    elif word in negative_words:\n",
    "        # Set color to light grey for negative coefficients\n",
    "        return \"rgb(192, 192, 192)\"  # Light grey color\n",
    "    else:\n",
    "        # Default color for neutral words\n",
    "        return \"rgb(128, 128, 128)\"  # Default grey color\n",
    "\n",
    "# Convert top_words into a dictionary\n",
    "\n",
    "word_freq_dict = {feature: abs(score) for feature, score in feature_scores}\n",
    "\n",
    "# Generate word cloud\n",
    "\n",
    "wordcloud = WordCloud(width=800, height=400, background_color='white', color_func=fixed_color_func)\n",
    "wordcloud.generate_from_frequencies(word_freq_dict)\n",
    "\n",
    "# Display the generated word cloud using matplotlib\n",
    "\n",
    "plt.figure(figsize=(10, 5))\n",
    "plt.imshow(wordcloud, interpolation='bilinear')\n",
    "plt.axis('off')\n",
    "plt.show()\n"
   ]
  },
  {
   "cell_type": "markdown",
   "id": "69a996a1-7bf8-406b-bcdd-e213c54c0456",
   "metadata": {},
   "source": [
    "## Classification with Logistic Regression"
   ]
  },
  {
   "cell_type": "markdown",
   "id": "bafef86f-f846-473b-8c07-90e9944813f9",
   "metadata": {},
   "source": [
    "Since our corpus has been appropriately vectoriyed we can also go on to train various classifiers on it, see how good a job they do at predicting retraction. Let us start with a logistic regressor:"
   ]
  },
  {
   "cell_type": "code",
   "execution_count": 19,
   "id": "ba168b9a-8c16-42c6-a387-daf3d8a281b5",
   "metadata": {},
   "outputs": [
    {
     "name": "stdout",
     "output_type": "stream",
     "text": [
      "The model was successfully trained in : 0.0h, 0.0m, 0.101s. \n",
      "\n"
     ]
    }
   ],
   "source": [
    "\n",
    "# Instantiate logistic regressor\n",
    "\n",
    "log_reg = LogisticRegression(max_iter = 200)\n",
    "\n",
    "# Store start time of loop execution\n",
    "\n",
    "start_time = time.time()\n",
    "\n",
    "# Fit logistic regressor to our train data set\n",
    "\n",
    "#log_reg.fit(X_train_vec, y_train)\n",
    "\n",
    "log_reg.fit(X_train_tfidf, y_train)\n",
    "\n",
    "# Use logistic regressor to obtain predictions for test data set\n",
    "\n",
    "#y_pred = log_reg.predict(X_test_vec)\n",
    "\n",
    "y_pred = log_reg.predict(X_test_tfidf)\n",
    "\n",
    "# And for train data set\n",
    "\n",
    "#y_pred_train = log_reg.predict(X_train_vec)\n",
    "\n",
    "y_pred_train = log_reg.predict(X_train_tfidf)\n",
    "\n",
    "# Calculate elapsed time for for training model\n",
    "\n",
    "elapsed_time = time.time() - start_time\n",
    "\n",
    "# Convert time to hours, minutes, and seconds\n",
    "\n",
    "elapsed_hours, elapsed_minutes, elapsed_seconds = seconds_to_hms(elapsed_time)\n",
    "\n",
    "# Print message with elapsed time\n",
    "\n",
    "print(f\"The model was successfully trained in : {elapsed_hours}h, {elapsed_minutes}m, {round(elapsed_seconds,3)}s. \\n\")\n"
   ]
  },
  {
   "cell_type": "markdown",
   "id": "0f1f95a7-a5fd-43d9-9592-f93a7a5b519b",
   "metadata": {
    "tags": []
   },
   "source": [
    "\n",
    "We can now see how well our model performs by obtaining some of the usual metrics:"
   ]
  },
  {
   "cell_type": "code",
   "execution_count": 45,
   "id": "e5f8de8e-9fcf-4e09-b732-0778112aaf1a",
   "metadata": {},
   "outputs": [
    {
     "name": "stdout",
     "output_type": "stream",
     "text": [
      "\n",
      "Accuracy on train data set: 0.9329822881761608\n",
      "Accuracy on test data set: 0.89\n",
      "\n",
      "Classification Report for Train (Logistic Regressor):\n",
      "\n",
      "               precision    recall  f1-score   support\n",
      "\n",
      "           0       0.94      0.93      0.93      5386\n",
      "           1       0.93      0.93      0.93      5059\n",
      "\n",
      "    accuracy                           0.93     10445\n",
      "   macro avg       0.93      0.93      0.93     10445\n",
      "weighted avg       0.93      0.93      0.93     10445\n",
      "\n",
      "Classification Report for Test (Logistic Regressor):\n",
      "\n",
      "               precision    recall  f1-score   support\n",
      "\n",
      "           0       0.89      0.89      0.89      1361\n",
      "           1       0.88      0.88      0.88      1251\n",
      "\n",
      "    accuracy                           0.89      2612\n",
      "   macro avg       0.88      0.88      0.88      2612\n",
      "weighted avg       0.89      0.89      0.89      2612\n",
      "\n"
     ]
    }
   ],
   "source": [
    "\n",
    "# Obtain accuracy score and other evaluation metrics\n",
    "\n",
    "accuracy_test = accuracy_score(y_test, y_pred)\n",
    "accuracy_train = accuracy_score(y_train, y_pred_train)\n",
    "\n",
    "report_test = classification_report(y_test, y_pred)\n",
    "report_train = classification_report(y_train, y_pred_train)\n",
    "\n",
    "# Print scores\n",
    "\n",
    "print(\"\\nAccuracy on train data set:\", accuracy_train)\n",
    "print(\"Accuracy on test data set:\", round(accuracy_test,2))\n",
    "\n",
    "print(\"\\nClassification Report for Train (Logistic Regressor):\\n\\n\", report_train)\n",
    "print(\"Classification Report for Test (Logistic Regressor):\\n\\n\", report_test)\n"
   ]
  },
  {
   "cell_type": "markdown",
   "id": "b1c22047-f28a-4347-adf5-dd92ede8091a",
   "metadata": {
    "tags": []
   },
   "source": [
    "Let us also obtain the confusion matrix for our classification task:"
   ]
  },
  {
   "cell_type": "code",
   "execution_count": 47,
   "id": "c5045190-b5ad-4b6a-8a8c-42793a7de37e",
   "metadata": {
    "tags": []
   },
   "outputs": [
    {
     "name": "stdout",
     "output_type": "stream",
     "text": [
      "Confusion Matrix for Logistic Regressor:\n",
      "\n",
      " [[1212  149]\n",
      " [ 151 1100]]\n"
     ]
    }
   ],
   "source": [
    "\n",
    "# Obtain confusion matrix\n",
    "\n",
    "conf_matrix_log_reg = confusion_matrix(y_test, y_pred)\n",
    "\n",
    "print(\"Confusion Matrix for Logistic Regressor:\\n\\n\", conf_matrix_log_reg)\n"
   ]
  },
  {
   "cell_type": "markdown",
   "id": "76fd4cf8-49a1-465f-b564-1143e9d129c3",
   "metadata": {
    "tags": []
   },
   "source": [
    "\n",
    "Finally, it will also be useful to obtain the values of the largest coefficients in our trained model, along with the words associated to them. This is because the size of these coefficients can be give us a (sometimes misleading) sense of what features are the most decisive in driving the classification task:"
   ]
  },
  {
   "cell_type": "code",
   "execution_count": 32,
   "id": "42daa4c7-8e97-4106-af8f-5a39a46e99d5",
   "metadata": {
    "tags": []
   },
   "outputs": [
    {
     "name": "stdout",
     "output_type": "stream",
     "text": [
      "Top 20 coefficients with largest absolute magnitude:\n",
      "\n",
      " 1. Feature: yap          Coefficient:    -6.8115\n",
      " 2. Feature: mir          Coefficient:     5.2397\n",
      " 3. Feature: er           Coefficient:    -4.6686\n",
      " 4. Feature: hippo        Coefficient:    -4.6583\n",
      " 5. Feature: yap1         Coefficient:    -4.6149\n",
      " 6. Feature: zebrafish    Coefficient:    -4.3837\n",
      " 7. Feature: vitiligo     Coefficient:    -4.3462\n",
      " 8. Feature: stress       Coefficient:    -4.0946\n",
      " 9. Feature: species      Coefficient:    -3.7143\n",
      "10. Feature: tyrosinase   Coefficient:    -3.4557\n",
      "11. Feature: grp78        Coefficient:    -3.4336\n",
      "12. Feature: endoplasmic  Coefficient:    -3.0627\n",
      "13. Feature: taurine      Coefficient:    -3.0482\n",
      "14. Feature: il           Coefficient:     3.0134\n",
      "15. Feature: reticulum    Coefficient:    -3.0094\n",
      "16. Feature: calpain      Coefficient:    -2.9978\n",
      "17. Feature: melanin      Coefficient:    -2.9831\n",
      "18. Feature: mechanical   Coefficient:    -2.9687\n",
      "19. Feature: taz          Coefficient:    -2.9401\n",
      "20. Feature: nf           Coefficient:     2.7098\n"
     ]
    }
   ],
   "source": [
    "\n",
    "# Obtain coefficients for logistic regressor\n",
    "\n",
    "coefficients_log_reg = log_reg.coef_[0]\n",
    "intercept_log_reg = log_reg.intercept_\n",
    "\n",
    "# Obtain feature names from vocabulary\n",
    "\n",
    "#feature_names_log_reg = vectorizer.get_feature_names_out()\n",
    "feature_names_log_reg = tfidf.get_feature_names_out()\n",
    "\n",
    "\n",
    "# Pair each feature with its coefficient\n",
    "\n",
    "coefficients_with_features_log_reg = list(zip(feature_names_log_reg, coefficients_log_reg))\n",
    "\n",
    "# Sort coefficients based on absolute values\n",
    "\n",
    "sorted_coefficients_log_reg = sorted(coefficients_with_features_log_reg, key=lambda x: abs(x[1]), reverse=True)\n",
    "\n",
    "# Print the largest coefficients along with their corresponding features (number depends on k_value from k-best analysis)\n",
    "\n",
    "max_width = max(len(feature) for feature, _ in sorted_coefficients_log_reg[:k_value])\n",
    "\n",
    "print(\"Top 20 coefficients with largest absolute magnitude:\\n\")\n",
    "for i, (feature, coefficient) in enumerate(sorted_coefficients_log_reg[:k_value], start=1):\n",
    "    print(f\"{i:>2}. Feature: {feature.ljust(max_width)}  Coefficient: {coefficient:>10.4f}\")"
   ]
  },
  {
   "cell_type": "markdown",
   "id": "5ae0e7d4-2e5b-45e4-8bcd-594ba15eeb68",
   "metadata": {},
   "source": [
    "Again, we can create a word cloud for easier visualization, and for comparison with what our K-best analysis gave us: "
   ]
  },
  {
   "cell_type": "code",
   "execution_count": 36,
   "id": "0faaad49-d9b7-480c-9a29-6e1bbdad4282",
   "metadata": {
    "tags": []
   },
   "outputs": [
    {
     "data": {
      "image/png": "[encoded data removed]",
      "text/plain": [
       "<Figure size 1000x500 with 1 Axes>"
      ]
     },
     "metadata": {},
     "output_type": "display_data"
    }
   ],
   "source": [
    "\n",
    "# Select the top words\n",
    "\n",
    "top_words_log_reg = sorted_coefficients_log_reg[:k_value]\n",
    "\n",
    "# Separate words with positive and negative coefficients\n",
    "\n",
    "positive_words = [word for word, coeff in top_words_log_reg if coeff > 0]\n",
    "negative_words = [word for word, coeff in top_words_log_reg if coeff < 0]\n",
    "\n",
    "# Generate word cloud with custom color function\n",
    "\n",
    "def fixed_color_func(word, font_size, position, orientation, random_state=None, **kwargs):\n",
    "    if word in positive_words:\n",
    "        # Set color to light blue for positive coefficients\n",
    "        return \"rgb(135, 206, 250)\"  # Light blue color\n",
    "    elif word in negative_words:\n",
    "        # Set color to light grey for negative coefficients\n",
    "        return \"rgb(192, 192, 192)\"  # Light grey color\n",
    "    else:\n",
    "        # Default color for neutral words\n",
    "        return \"rgb(128, 128, 128)\"  # Default grey color\n",
    "\n",
    "# Convert top_words into a dictionary\n",
    "\n",
    "word_freq_dict = {word: abs(coeff) for word, coeff in top_words_log_reg}\n",
    "\n",
    "# Generate word cloud\n",
    "\n",
    "wordcloud = WordCloud(width=800, height=400, background_color='white', color_func=fixed_color_func)\n",
    "wordcloud.generate_from_frequencies(word_freq_dict)\n",
    "\n",
    "# Display the generated word cloud using matplotlib\n",
    "\n",
    "plt.figure(figsize=(10, 5))\n",
    "plt.imshow(wordcloud, interpolation='bilinear')\n",
    "plt.axis('off')\n",
    "plt.show()\n"
   ]
  },
  {
   "cell_type": "markdown",
   "id": "854416ec-d231-4e1c-9a10-4a80dd38325b",
   "metadata": {},
   "source": [
    "## Classification with XGBoost"
   ]
  },
  {
   "cell_type": "markdown",
   "id": "4722ab0a-3239-47a1-9b18-ce1bfa70ff2e",
   "metadata": {},
   "source": [
    "It is often be instructive to use different models to perform the same classification task and see which ones fare better than the others. Apart from our logistic regressor, we will also use an XGBoost classifier to classify our papers into retracted and not retracted. We will thus start by instantiating our new model:"
   ]
  },
  {
   "cell_type": "code",
   "execution_count": 39,
   "id": "26d60918-65f7-4a53-8734-9251db459885",
   "metadata": {},
   "outputs": [],
   "source": [
    "xgboost = XGBClassifier()"
   ]
  },
  {
   "cell_type": "markdown",
   "id": "36c2a838-2732-4c99-ae97-9b5a9913b8eb",
   "metadata": {},
   "source": [
    "We can go ahead and train it on our vectorized train data set:"
   ]
  },
  {
   "cell_type": "code",
   "execution_count": 40,
   "id": "561470da-e3aa-4166-b52e-010f17ffd9c6",
   "metadata": {},
   "outputs": [
    {
     "data": {
      "text/html": [
       "<style>#sk-container-id-1 {\n",
       "  /* Definition of color scheme common for light and dark mode */\n",
       "  --sklearn-color-text: #000;\n",
       "  --sklearn-color-text-muted: #666;\n",
       "  --sklearn-color-line: gray;\n",
       "  /* Definition of color scheme for unfitted estimators */\n",
       "  --sklearn-color-unfitted-level-0: #fff5e6;\n",
       "  --sklearn-color-unfitted-level-1: #f6e4d2;\n",
       "  --sklearn-color-unfitted-level-2: #ffe0b3;\n",
       "  --sklearn-color-unfitted-level-3: chocolate;\n",
       "  /* Definition of color scheme for fitted estimators */\n",
       "  --sklearn-color-fitted-level-0: #f0f8ff;\n",
       "  --sklearn-color-fitted-level-1: #d4ebff;\n",
       "  --sklearn-color-fitted-level-2: #b3dbfd;\n",
       "  --sklearn-color-fitted-level-3: cornflowerblue;\n",
       "\n",
       "  /* Specific color for light theme */\n",
       "  --sklearn-color-text-on-default-background: var(--sg-text-color, var(--theme-code-foreground, var(--jp-content-font-color1, black)));\n",
       "  --sklearn-color-background: var(--sg-background-color, var(--theme-background, var(--jp-layout-color0, white)));\n",
       "  --sklearn-color-border-box: var(--sg-text-color, var(--theme-code-foreground, var(--jp-content-font-color1, black)));\n",
       "  --sklearn-color-icon: #696969;\n",
       "\n",
       "  @media (prefers-color-scheme: dark) {\n",
       "    /* Redefinition of color scheme for dark theme */\n",
       "    --sklearn-color-text-on-default-background: var(--sg-text-color, var(--theme-code-foreground, var(--jp-content-font-color1, white)));\n",
       "    --sklearn-color-background: var(--sg-background-color, var(--theme-background, var(--jp-layout-color0, #111)));\n",
       "    --sklearn-color-border-box: var(--sg-text-color, var(--theme-code-foreground, var(--jp-content-font-color1, white)));\n",
       "    --sklearn-color-icon: #878787;\n",
       "  }\n",
       "}\n",
       "\n",
       "#sk-container-id-1 {\n",
       "  color: var(--sklearn-color-text);\n",
       "}\n",
       "\n",
       "#sk-container-id-1 pre {\n",
       "  padding: 0;\n",
       "}\n",
       "\n",
       "#sk-container-id-1 input.sk-hidden--visually {\n",
       "  border: 0;\n",
       "  clip: rect(1px 1px 1px 1px);\n",
       "  clip: rect(1px, 1px, 1px, 1px);\n",
       "  height: 1px;\n",
       "  margin: -1px;\n",
       "  overflow: hidden;\n",
       "  padding: 0;\n",
       "  position: absolute;\n",
       "  width: 1px;\n",
       "}\n",
       "\n",
       "#sk-container-id-1 div.sk-dashed-wrapped {\n",
       "  border: 1px dashed var(--sklearn-color-line);\n",
       "  margin: 0 0.4em 0.5em 0.4em;\n",
       "  box-sizing: border-box;\n",
       "  padding-bottom: 0.4em;\n",
       "  background-color: var(--sklearn-color-background);\n",
       "}\n",
       "\n",
       "#sk-container-id-1 div.sk-container {\n",
       "  /* jupyter's `normalize.less` sets `[hidden] { display: none; }`\n",
       "     but bootstrap.min.css set `[hidden] { display: none !important; }`\n",
       "     so we also need the `!important` here to be able to override the\n",
       "     default hidden behavior on the sphinx rendered scikit-learn.org.\n",
       "     See: https://github.com/scikit-learn/scikit-learn/issues/21755 */\n",
       "  display: inline-block !important;\n",
       "  position: relative;\n",
       "}\n",
       "\n",
       "#sk-container-id-1 div.sk-text-repr-fallback {\n",
       "  display: none;\n",
       "}\n",
       "\n",
       "div.sk-parallel-item,\n",
       "div.sk-serial,\n",
       "div.sk-item {\n",
       "  /* draw centered vertical line to link estimators */\n",
       "  background-image: linear-gradient(var(--sklearn-color-text-on-default-background), var(--sklearn-color-text-on-default-background));\n",
       "  background-size: 2px 100%;\n",
       "  background-repeat: no-repeat;\n",
       "  background-position: center center;\n",
       "}\n",
       "\n",
       "/* Parallel-specific style estimator block */\n",
       "\n",
       "#sk-container-id-1 div.sk-parallel-item::after {\n",
       "  content: \"\";\n",
       "  width: 100%;\n",
       "  border-bottom: 2px solid var(--sklearn-color-text-on-default-background);\n",
       "  flex-grow: 1;\n",
       "}\n",
       "\n",
       "#sk-container-id-1 div.sk-parallel {\n",
       "  display: flex;\n",
       "  align-items: stretch;\n",
       "  justify-content: center;\n",
       "  background-color: var(--sklearn-color-background);\n",
       "  position: relative;\n",
       "}\n",
       "\n",
       "#sk-container-id-1 div.sk-parallel-item {\n",
       "  display: flex;\n",
       "  flex-direction: column;\n",
       "}\n",
       "\n",
       "#sk-container-id-1 div.sk-parallel-item:first-child::after {\n",
       "  align-self: flex-end;\n",
       "  width: 50%;\n",
       "}\n",
       "\n",
       "#sk-container-id-1 div.sk-parallel-item:last-child::after {\n",
       "  align-self: flex-start;\n",
       "  width: 50%;\n",
       "}\n",
       "\n",
       "#sk-container-id-1 div.sk-parallel-item:only-child::after {\n",
       "  width: 0;\n",
       "}\n",
       "\n",
       "/* Serial-specific style estimator block */\n",
       "\n",
       "#sk-container-id-1 div.sk-serial {\n",
       "  display: flex;\n",
       "  flex-direction: column;\n",
       "  align-items: center;\n",
       "  background-color: var(--sklearn-color-background);\n",
       "  padding-right: 1em;\n",
       "  padding-left: 1em;\n",
       "}\n",
       "\n",
       "\n",
       "/* Toggleable style: style used for estimator/Pipeline/ColumnTransformer box that is\n",
       "clickable and can be expanded/collapsed.\n",
       "- Pipeline and ColumnTransformer use this feature and define the default style\n",
       "- Estimators will overwrite some part of the style using the `sk-estimator` class\n",
       "*/\n",
       "\n",
       "/* Pipeline and ColumnTransformer style (default) */\n",
       "\n",
       "#sk-container-id-1 div.sk-toggleable {\n",
       "  /* Default theme specific background. It is overwritten whether we have a\n",
       "  specific estimator or a Pipeline/ColumnTransformer */\n",
       "  background-color: var(--sklearn-color-background);\n",
       "}\n",
       "\n",
       "/* Toggleable label */\n",
       "#sk-container-id-1 label.sk-toggleable__label {\n",
       "  cursor: pointer;\n",
       "  display: flex;\n",
       "  width: 100%;\n",
       "  margin-bottom: 0;\n",
       "  padding: 0.5em;\n",
       "  box-sizing: border-box;\n",
       "  text-align: center;\n",
       "  align-items: start;\n",
       "  justify-content: space-between;\n",
       "  gap: 0.5em;\n",
       "}\n",
       "\n",
       "#sk-container-id-1 label.sk-toggleable__label .caption {\n",
       "  font-size: 0.6rem;\n",
       "  font-weight: lighter;\n",
       "  color: var(--sklearn-color-text-muted);\n",
       "}\n",
       "\n",
       "#sk-container-id-1 label.sk-toggleable__label-arrow:before {\n",
       "  /* Arrow on the left of the label */\n",
       "  content: \"▸\";\n",
       "  float: left;\n",
       "  margin-right: 0.25em;\n",
       "  color: var(--sklearn-color-icon);\n",
       "}\n",
       "\n",
       "#sk-container-id-1 label.sk-toggleable__label-arrow:hover:before {\n",
       "  color: var(--sklearn-color-text);\n",
       "}\n",
       "\n",
       "/* Toggleable content - dropdown */\n",
       "\n",
       "#sk-container-id-1 div.sk-toggleable__content {\n",
       "  max-height: 0;\n",
       "  max-width: 0;\n",
       "  overflow: hidden;\n",
       "  text-align: left;\n",
       "  /* unfitted */\n",
       "  background-color: var(--sklearn-color-unfitted-level-0);\n",
       "}\n",
       "\n",
       "#sk-container-id-1 div.sk-toggleable__content.fitted {\n",
       "  /* fitted */\n",
       "  background-color: var(--sklearn-color-fitted-level-0);\n",
       "}\n",
       "\n",
       "#sk-container-id-1 div.sk-toggleable__content pre {\n",
       "  margin: 0.2em;\n",
       "  border-radius: 0.25em;\n",
       "  color: var(--sklearn-color-text);\n",
       "  /* unfitted */\n",
       "  background-color: var(--sklearn-color-unfitted-level-0);\n",
       "}\n",
       "\n",
       "#sk-container-id-1 div.sk-toggleable__content.fitted pre {\n",
       "  /* unfitted */\n",
       "  background-color: var(--sklearn-color-fitted-level-0);\n",
       "}\n",
       "\n",
       "#sk-container-id-1 input.sk-toggleable__control:checked~div.sk-toggleable__content {\n",
       "  /* Expand drop-down */\n",
       "  max-height: 200px;\n",
       "  max-width: 100%;\n",
       "  overflow: auto;\n",
       "}\n",
       "\n",
       "#sk-container-id-1 input.sk-toggleable__control:checked~label.sk-toggleable__label-arrow:before {\n",
       "  content: \"▾\";\n",
       "}\n",
       "\n",
       "/* Pipeline/ColumnTransformer-specific style */\n",
       "\n",
       "#sk-container-id-1 div.sk-label input.sk-toggleable__control:checked~label.sk-toggleable__label {\n",
       "  color: var(--sklearn-color-text);\n",
       "  background-color: var(--sklearn-color-unfitted-level-2);\n",
       "}\n",
       "\n",
       "#sk-container-id-1 div.sk-label.fitted input.sk-toggleable__control:checked~label.sk-toggleable__label {\n",
       "  background-color: var(--sklearn-color-fitted-level-2);\n",
       "}\n",
       "\n",
       "/* Estimator-specific style */\n",
       "\n",
       "/* Colorize estimator box */\n",
       "#sk-container-id-1 div.sk-estimator input.sk-toggleable__control:checked~label.sk-toggleable__label {\n",
       "  /* unfitted */\n",
       "  background-color: var(--sklearn-color-unfitted-level-2);\n",
       "}\n",
       "\n",
       "#sk-container-id-1 div.sk-estimator.fitted input.sk-toggleable__control:checked~label.sk-toggleable__label {\n",
       "  /* fitted */\n",
       "  background-color: var(--sklearn-color-fitted-level-2);\n",
       "}\n",
       "\n",
       "#sk-container-id-1 div.sk-label label.sk-toggleable__label,\n",
       "#sk-container-id-1 div.sk-label label {\n",
       "  /* The background is the default theme color */\n",
       "  color: var(--sklearn-color-text-on-default-background);\n",
       "}\n",
       "\n",
       "/* On hover, darken the color of the background */\n",
       "#sk-container-id-1 div.sk-label:hover label.sk-toggleable__label {\n",
       "  color: var(--sklearn-color-text);\n",
       "  background-color: var(--sklearn-color-unfitted-level-2);\n",
       "}\n",
       "\n",
       "/* Label box, darken color on hover, fitted */\n",
       "#sk-container-id-1 div.sk-label.fitted:hover label.sk-toggleable__label.fitted {\n",
       "  color: var(--sklearn-color-text);\n",
       "  background-color: var(--sklearn-color-fitted-level-2);\n",
       "}\n",
       "\n",
       "/* Estimator label */\n",
       "\n",
       "#sk-container-id-1 div.sk-label label {\n",
       "  font-family: monospace;\n",
       "  font-weight: bold;\n",
       "  display: inline-block;\n",
       "  line-height: 1.2em;\n",
       "}\n",
       "\n",
       "#sk-container-id-1 div.sk-label-container {\n",
       "  text-align: center;\n",
       "}\n",
       "\n",
       "/* Estimator-specific */\n",
       "#sk-container-id-1 div.sk-estimator {\n",
       "  font-family: monospace;\n",
       "  border: 1px dotted var(--sklearn-color-border-box);\n",
       "  border-radius: 0.25em;\n",
       "  box-sizing: border-box;\n",
       "  margin-bottom: 0.5em;\n",
       "  /* unfitted */\n",
       "  background-color: var(--sklearn-color-unfitted-level-0);\n",
       "}\n",
       "\n",
       "#sk-container-id-1 div.sk-estimator.fitted {\n",
       "  /* fitted */\n",
       "  background-color: var(--sklearn-color-fitted-level-0);\n",
       "}\n",
       "\n",
       "/* on hover */\n",
       "#sk-container-id-1 div.sk-estimator:hover {\n",
       "  /* unfitted */\n",
       "  background-color: var(--sklearn-color-unfitted-level-2);\n",
       "}\n",
       "\n",
       "#sk-container-id-1 div.sk-estimator.fitted:hover {\n",
       "  /* fitted */\n",
       "  background-color: var(--sklearn-color-fitted-level-2);\n",
       "}\n",
       "\n",
       "/* Specification for estimator info (e.g. \"i\" and \"?\") */\n",
       "\n",
       "/* Common style for \"i\" and \"?\" */\n",
       "\n",
       ".sk-estimator-doc-link,\n",
       "a:link.sk-estimator-doc-link,\n",
       "a:visited.sk-estimator-doc-link {\n",
       "  float: right;\n",
       "  font-size: smaller;\n",
       "  line-height: 1em;\n",
       "  font-family: monospace;\n",
       "  background-color: var(--sklearn-color-background);\n",
       "  border-radius: 1em;\n",
       "  height: 1em;\n",
       "  width: 1em;\n",
       "  text-decoration: none !important;\n",
       "  margin-left: 0.5em;\n",
       "  text-align: center;\n",
       "  /* unfitted */\n",
       "  border: var(--sklearn-color-unfitted-level-1) 1pt solid;\n",
       "  color: var(--sklearn-color-unfitted-level-1);\n",
       "}\n",
       "\n",
       ".sk-estimator-doc-link.fitted,\n",
       "a:link.sk-estimator-doc-link.fitted,\n",
       "a:visited.sk-estimator-doc-link.fitted {\n",
       "  /* fitted */\n",
       "  border: var(--sklearn-color-fitted-level-1) 1pt solid;\n",
       "  color: var(--sklearn-color-fitted-level-1);\n",
       "}\n",
       "\n",
       "/* On hover */\n",
       "div.sk-estimator:hover .sk-estimator-doc-link:hover,\n",
       ".sk-estimator-doc-link:hover,\n",
       "div.sk-label-container:hover .sk-estimator-doc-link:hover,\n",
       ".sk-estimator-doc-link:hover {\n",
       "  /* unfitted */\n",
       "  background-color: var(--sklearn-color-unfitted-level-3);\n",
       "  color: var(--sklearn-color-background);\n",
       "  text-decoration: none;\n",
       "}\n",
       "\n",
       "div.sk-estimator.fitted:hover .sk-estimator-doc-link.fitted:hover,\n",
       ".sk-estimator-doc-link.fitted:hover,\n",
       "div.sk-label-container:hover .sk-estimator-doc-link.fitted:hover,\n",
       ".sk-estimator-doc-link.fitted:hover {\n",
       "  /* fitted */\n",
       "  background-color: var(--sklearn-color-fitted-level-3);\n",
       "  color: var(--sklearn-color-background);\n",
       "  text-decoration: none;\n",
       "}\n",
       "\n",
       "/* Span, style for the box shown on hovering the info icon */\n",
       ".sk-estimator-doc-link span {\n",
       "  display: none;\n",
       "  z-index: 9999;\n",
       "  position: relative;\n",
       "  font-weight: normal;\n",
       "  right: .2ex;\n",
       "  padding: .5ex;\n",
       "  margin: .5ex;\n",
       "  width: min-content;\n",
       "  min-width: 20ex;\n",
       "  max-width: 50ex;\n",
       "  color: var(--sklearn-color-text);\n",
       "  box-shadow: 2pt 2pt 4pt #999;\n",
       "  /* unfitted */\n",
       "  background: var(--sklearn-color-unfitted-level-0);\n",
       "  border: .5pt solid var(--sklearn-color-unfitted-level-3);\n",
       "}\n",
       "\n",
       ".sk-estimator-doc-link.fitted span {\n",
       "  /* fitted */\n",
       "  background: var(--sklearn-color-fitted-level-0);\n",
       "  border: var(--sklearn-color-fitted-level-3);\n",
       "}\n",
       "\n",
       ".sk-estimator-doc-link:hover span {\n",
       "  display: block;\n",
       "}\n",
       "\n",
       "/* \"?\"-specific style due to the `<a>` HTML tag */\n",
       "\n",
       "#sk-container-id-1 a.estimator_doc_link {\n",
       "  float: right;\n",
       "  font-size: 1rem;\n",
       "  line-height: 1em;\n",
       "  font-family: monospace;\n",
       "  background-color: var(--sklearn-color-background);\n",
       "  border-radius: 1rem;\n",
       "  height: 1rem;\n",
       "  width: 1rem;\n",
       "  text-decoration: none;\n",
       "  /* unfitted */\n",
       "  color: var(--sklearn-color-unfitted-level-1);\n",
       "  border: var(--sklearn-color-unfitted-level-1) 1pt solid;\n",
       "}\n",
       "\n",
       "#sk-container-id-1 a.estimator_doc_link.fitted {\n",
       "  /* fitted */\n",
       "  border: var(--sklearn-color-fitted-level-1) 1pt solid;\n",
       "  color: var(--sklearn-color-fitted-level-1);\n",
       "}\n",
       "\n",
       "/* On hover */\n",
       "#sk-container-id-1 a.estimator_doc_link:hover {\n",
       "  /* unfitted */\n",
       "  background-color: var(--sklearn-color-unfitted-level-3);\n",
       "  color: var(--sklearn-color-background);\n",
       "  text-decoration: none;\n",
       "}\n",
       "\n",
       "#sk-container-id-1 a.estimator_doc_link.fitted:hover {\n",
       "  /* fitted */\n",
       "  background-color: var(--sklearn-color-fitted-level-3);\n",
       "}\n",
       "</style><div id=\"sk-container-id-1\" class=\"sk-top-container\"><div class=\"sk-text-repr-fallback\"><pre>XGBClassifier(base_score=None, booster=None, callbacks=None,\n",
       "              colsample_bylevel=None, colsample_bynode=None,\n",
       "              colsample_bytree=None, device=None, early_stopping_rounds=None,\n",
       "              enable_categorical=False, eval_metric=None, feature_types=None,\n",
       "              gamma=None, grow_policy=None, importance_type=None,\n",
       "              interaction_constraints=None, learning_rate=None, max_bin=None,\n",
       "              max_cat_threshold=None, max_cat_to_onehot=None,\n",
       "              max_delta_step=None, max_depth=None, max_leaves=None,\n",
       "              min_child_weight=None, missing=nan, monotone_constraints=None,\n",
       "              multi_strategy=None, n_estimators=None, n_jobs=None,\n",
       "              num_parallel_tree=None, random_state=None, ...)</pre><b>In a Jupyter environment, please rerun this cell to show the HTML representation or trust the notebook. <br />On GitHub, the HTML representation is unable to render, please try loading this page with nbviewer.org.</b></div><div class=\"sk-container\" hidden><div class=\"sk-item\"><div class=\"sk-estimator fitted sk-toggleable\"><input class=\"sk-toggleable__control sk-hidden--visually\" id=\"sk-estimator-id-1\" type=\"checkbox\" checked><label for=\"sk-estimator-id-1\" class=\"sk-toggleable__label fitted sk-toggleable__label-arrow\"><div><div>XGBClassifier</div></div><div><span class=\"sk-estimator-doc-link fitted\">i<span>Fitted</span></span></div></label><div class=\"sk-toggleable__content fitted\"><pre>XGBClassifier(base_score=None, booster=None, callbacks=None,\n",
       "              colsample_bylevel=None, colsample_bynode=None,\n",
       "              colsample_bytree=None, device=None, early_stopping_rounds=None,\n",
       "              enable_categorical=False, eval_metric=None, feature_types=None,\n",
       "              gamma=None, grow_policy=None, importance_type=None,\n",
       "              interaction_constraints=None, learning_rate=None, max_bin=None,\n",
       "              max_cat_threshold=None, max_cat_to_onehot=None,\n",
       "              max_delta_step=None, max_depth=None, max_leaves=None,\n",
       "              min_child_weight=None, missing=nan, monotone_constraints=None,\n",
       "              multi_strategy=None, n_estimators=None, n_jobs=None,\n",
       "              num_parallel_tree=None, random_state=None, ...)</pre></div> </div></div></div></div>"
      ],
      "text/plain": [
       "XGBClassifier(base_score=None, booster=None, callbacks=None,\n",
       "              colsample_bylevel=None, colsample_bynode=None,\n",
       "              colsample_bytree=None, device=None, early_stopping_rounds=None,\n",
       "              enable_categorical=False, eval_metric=None, feature_types=None,\n",
       "              gamma=None, grow_policy=None, importance_type=None,\n",
       "              interaction_constraints=None, learning_rate=None, max_bin=None,\n",
       "              max_cat_threshold=None, max_cat_to_onehot=None,\n",
       "              max_delta_step=None, max_depth=None, max_leaves=None,\n",
       "              min_child_weight=None, missing=nan, monotone_constraints=None,\n",
       "              multi_strategy=None, n_estimators=None, n_jobs=None,\n",
       "              num_parallel_tree=None, random_state=None, ...)"
      ]
     },
     "execution_count": 40,
     "metadata": {},
     "output_type": "execute_result"
    }
   ],
   "source": [
    "xgboost.fit(X_train_tfidf, y_train)"
   ]
  },
  {
   "cell_type": "markdown",
   "id": "6feef471-f1bd-425f-a54d-1f96526ecbbe",
   "metadata": {},
   "source": [
    "With our trained model, we can go on to make predictions for the features in both our test and our train data sets:"
   ]
  },
  {
   "cell_type": "code",
   "execution_count": 41,
   "id": "39fcd7e1-454b-42c9-9b2e-6c3e26bafbd5",
   "metadata": {},
   "outputs": [],
   "source": [
    "\n",
    "# Predictions for the test data set\n",
    "\n",
    "y_pred_xgb = xgboost.predict(X_test_tfidf)\n",
    "\n",
    "# And for train data set\n",
    "\n",
    "y_pred_train_xgb = xgboost.predict(X_train_tfidf)\n"
   ]
  },
  {
   "cell_type": "markdown",
   "id": "52473bea-feb8-419d-9a9d-aa5569fa6fc0",
   "metadata": {},
   "source": [
    "Having done that, we can obtain some evaluation metrics to see how well our model performs:"
   ]
  },
  {
   "cell_type": "code",
   "execution_count": 46,
   "id": "d2de487d-60e0-4b53-bab1-c7c742dd1420",
   "metadata": {
    "tags": []
   },
   "outputs": [
    {
     "name": "stdout",
     "output_type": "stream",
     "text": [
      "Accuracy on train data set (XGB Classifier): 0.9651507898516036\n",
      "Accuracy on test data set (XGB Classifier): 0.88\n",
      "\n",
      "Classification Report for Train (XGB Classifier):\n",
      "\n",
      "               precision    recall  f1-score   support\n",
      "\n",
      "           0       0.98      0.95      0.97      5386\n",
      "           1       0.95      0.98      0.96      5059\n",
      "\n",
      "    accuracy                           0.97     10445\n",
      "   macro avg       0.97      0.97      0.97     10445\n",
      "weighted avg       0.97      0.97      0.97     10445\n",
      "\n",
      "Classification Report for Test (XGB Classifier):\n",
      "\n",
      "               precision    recall  f1-score   support\n",
      "\n",
      "           0       0.90      0.88      0.89      1361\n",
      "           1       0.87      0.89      0.88      1251\n",
      "\n",
      "    accuracy                           0.88      2612\n",
      "   macro avg       0.88      0.88      0.88      2612\n",
      "weighted avg       0.88      0.88      0.88      2612\n",
      "\n"
     ]
    }
   ],
   "source": [
    "\n",
    "# Obtain accuracy score and other evaluation metrics\n",
    "\n",
    "accuracy_test_xgb = accuracy_score(y_test, y_pred_xgb)\n",
    "accuracy_train_xgb = accuracy_score(y_train, y_pred_train_xgb)\n",
    "\n",
    "report_test_xgb = classification_report(y_test, y_pred_xgb)\n",
    "report_train_xgb = classification_report(y_train, y_pred_train_xgb)\n",
    "\n",
    "# Print scores\n",
    "\n",
    "print(\"Accuracy on train data set (XGB Classifier):\", accuracy_train_xgb)\n",
    "print(\"Accuracy on test data set (XGB Classifier):\", round(accuracy_test_xgb,2))\n",
    "\n",
    "print(\"\\nClassification Report for Train (XGB Classifier):\\n\\n\", report_train_xgb)\n",
    "\n",
    "print(\"Classification Report for Test (XGB Classifier):\\n\\n\", report_test_xgb)"
   ]
  },
  {
   "cell_type": "markdown",
   "id": "5018d39a-6f60-4823-8a01-c1e67d32b0b9",
   "metadata": {
    "tags": []
   },
   "source": [
    "And we can obtain the confusion matrix for the classification task that our XGBoost classifier performed:"
   ]
  },
  {
   "cell_type": "code",
   "execution_count": 59,
   "id": "5741dae1-2f71-4a9e-a6ce-855c0b78e286",
   "metadata": {
    "tags": []
   },
   "outputs": [
    {
     "name": "stdout",
     "output_type": "stream",
     "text": [
      "\n",
      "Confusion Matrix for XGB Classifier:\n",
      "\n",
      " [[1194  167]\n",
      " [ 140 1111]]\n"
     ]
    }
   ],
   "source": [
    "\n",
    "# Obtain confusion matrix\n",
    "conf_matrix_xgb = confusion_matrix(y_test, y_pred_xgb)\n",
    "\n",
    "print(\"\\nConfusion Matrix for XGB Classifier:\\n\\n\", conf_matrix_xgb)\n"
   ]
  },
  {
   "cell_type": "markdown",
   "id": "86b35c07-c4b9-491e-9b18-85ec5ebf7d3b",
   "metadata": {},
   "source": [
    "## Classification with Random Forest"
   ]
  },
  {
   "cell_type": "markdown",
   "id": "8da23291-7689-4470-ba04-5104739039e7",
   "metadata": {},
   "source": [
    "We will try a third and last model to classify papers as retracted or non-retracted, namely a random forest classifier. We start by instantiating and traning our model:"
   ]
  },
  {
   "cell_type": "code",
   "execution_count": 50,
   "id": "2b1151b3-a2e9-4595-94ad-08faefd97f80",
   "metadata": {
    "tags": []
   },
   "outputs": [
    {
     "name": "stdout",
     "output_type": "stream",
     "text": [
      "Training completed in: 0.0 hours, 0.0 minutes, and 9.36 seconds\n"
     ]
    }
   ],
   "source": [
    "\n",
    "# Instantiate and configure the random forest classifier\n",
    "\n",
    "rf_classifier = RandomForestClassifier(\n",
    "    n_estimators=8000,\n",
    "    max_depth=20,\n",
    "    max_features='sqrt',\n",
    "    random_state=42,\n",
    "    n_jobs=-1\n",
    ")\n",
    "\n",
    "# Start timer to track training time of the model\n",
    "\n",
    "start_time = time.time()\n",
    "\n",
    "# Train model\n",
    "\n",
    "rf_classifier.fit(X_train_tfidf, y_train)\n",
    "\n",
    "# End timer and display training time\n",
    "\n",
    "end_time = time.time()\n",
    "fit_time = end_time - start_time\n",
    "hours, minutes, seconds = seconds_to_hms(fit_time)\n",
    "print(f\"Training completed in: {hours} hours, {minutes} minutes, and {seconds:.2f} seconds\")\n"
   ]
  },
  {
   "cell_type": "markdown",
   "id": "9bc434dd-b2cd-4ade-9178-7e3afe7e8002",
   "metadata": {},
   "source": [
    "With our trained model we can go ahead and obtain the predicted target values for our train and test features:"
   ]
  },
  {
   "cell_type": "code",
   "execution_count": 53,
   "id": "209a57d5-f855-47a0-b1ed-8a4e62b44b03",
   "metadata": {},
   "outputs": [],
   "source": [
    "\n",
    "# Make predictions for test and train data sets\n",
    "\n",
    "y_pred_rf = rf_classifier.predict(X_test_tfidf)\n",
    "y_pred_train_rf = rf_classifier.predict(X_train_tfidf)\n"
   ]
  },
  {
   "cell_type": "markdown",
   "id": "f140b78f-7003-424e-b9a7-0c481981c6a4",
   "metadata": {},
   "source": [
    "And obtain some of the usual metrics to evaluate our model's performance:"
   ]
  },
  {
   "cell_type": "code",
   "execution_count": 54,
   "id": "0f926a46-e3b5-45a6-a834-d98368af6e90",
   "metadata": {},
   "outputs": [
    {
     "name": "stdout",
     "output_type": "stream",
     "text": [
      "Accuracy on train data set (XGB Classifier): 0.8950694112015318\n",
      "Accuracy on test data set (XGB Classifier): 0.77\n",
      "\n",
      "Classification Report for Train (XGB Classifier):\n",
      "\n",
      "               precision    recall  f1-score   support\n",
      "\n",
      "           0       0.86      0.95      0.90      5386\n",
      "           1       0.94      0.84      0.89      5059\n",
      "\n",
      "    accuracy                           0.90     10445\n",
      "   macro avg       0.90      0.89      0.89     10445\n",
      "weighted avg       0.90      0.90      0.89     10445\n",
      "\n",
      "Classification Report for Test (XGB Classifier):\n",
      "\n",
      "               precision    recall  f1-score   support\n",
      "\n",
      "           0       0.75      0.85      0.79      1361\n",
      "           1       0.81      0.68      0.74      1251\n",
      "\n",
      "    accuracy                           0.77      2612\n",
      "   macro avg       0.78      0.77      0.77      2612\n",
      "weighted avg       0.78      0.77      0.77      2612\n",
      "\n"
     ]
    }
   ],
   "source": [
    "\n",
    "# Obtain accuracy score and other evaluation metrics\n",
    "\n",
    "accuracy_test_rf = accuracy_score(y_test, y_pred_rf)\n",
    "accuracy_train_rf = accuracy_score(y_train, y_pred_train_rf)\n",
    "\n",
    "report_test_rf = classification_report(y_test, y_pred_rf)\n",
    "report_train_rf = classification_report(y_train, y_pred_train_rf)\n",
    "\n",
    "# Print scores\n",
    "\n",
    "print(\"Accuracy on train data set (XGB Classifier):\", accuracy_train_rf)\n",
    "print(\"Accuracy on test data set (XGB Classifier):\", round(accuracy_test_rf,2))\n",
    "\n",
    "print(\"\\nClassification Report for Train (XGB Classifier):\\n\\n\", report_train_rf)\n",
    "\n",
    "print(\"Classification Report for Test (XGB Classifier):\\n\\n\", report_test_rf)"
   ]
  },
  {
   "cell_type": "markdown",
   "id": "9dc1273d-aa38-4baf-a7cc-78ba23c28fa9",
   "metadata": {},
   "source": [
    "We will also obtain the confusion matrix:"
   ]
  },
  {
   "cell_type": "code",
   "execution_count": 58,
   "id": "d2c2b84f-c371-41bb-a47c-d34f537ec46b",
   "metadata": {},
   "outputs": [
    {
     "name": "stdout",
     "output_type": "stream",
     "text": [
      "\n",
      "Confusion Matrix for Random Forest Classifier:\n",
      "\n",
      " [[1158  203]\n",
      " [ 396  855]]\n"
     ]
    }
   ],
   "source": [
    "# Obtain confusion matrix\n",
    "\n",
    "conf_matrix_rf = confusion_matrix(y_test, y_pred_rf)\n",
    "\n",
    "print(\"\\nConfusion Matrix for Random Forest Classifier:\\n\\n\", conf_matrix_rf)"
   ]
  },
  {
   "cell_type": "markdown",
   "id": "e1b0ebc9-74f2-414e-9ce6-21bedf577de2",
   "metadata": {},
   "source": [
    "Finally we can obtain the f"
   ]
  },
  {
   "cell_type": "code",
   "execution_count": 31,
   "id": "1ddf2c69-545f-4cb4-add4-807333c815c9",
   "metadata": {
    "tags": []
   },
   "outputs": [
    {
     "name": "stdout",
     "output_type": "stream",
     "text": [
      "mir: 0.0109\n",
      "expression: 0.0090\n",
      "assay: 0.0079\n",
      "was: 0.0067\n",
      "endoplasmic: 0.0067\n",
      "reticulum: 0.0066\n",
      "cells: 0.0064\n",
      "luciferase: 0.0061\n",
      "apoptosis: 0.0056\n",
      "western: 0.0055\n",
      "invasion: 0.0055\n",
      "cell: 0.0055\n",
      "yap: 0.0054\n",
      "is: 0.0053\n",
      "proliferation: 0.0053\n",
      "er: 0.0049\n",
      "hippo: 0.0049\n",
      "cancer: 0.0047\n",
      "species: 0.0047\n",
      "tumor: 0.0046\n"
     ]
    }
   ],
   "source": [
    "\n",
    "# Get feature importances from the trained model\n",
    "\n",
    "importances = rf_classifier.feature_importances_\n",
    "\n",
    "# Get feature names from the vectorizer\n",
    "\n",
    "feature_names = tfidf.get_feature_names_out()\n",
    "\n",
    "# Get the indices of the K most important features in descending order of importance\n",
    "\n",
    "indices = importances.argsort()[-k_value:][::-1]\n",
    "\n",
    "# Display the top K important features with their names and importance scores\n",
    "\n",
    "top_features = [(feature_names[i], importances[i]) for i in indices]\n",
    "for feature, importance in top_features:\n",
    "    print(f\"{feature}: {importance:.4f}\")"
   ]
  },
  {
   "cell_type": "markdown",
   "id": "52d29691-4e01-45a0-87df-56d92ffa157f",
   "metadata": {},
   "source": [
    "## ROC Curve for all three Models "
   ]
  },
  {
   "cell_type": "markdown",
   "id": "53f66bee-3f7b-462b-8153-f190e2f62fd8",
   "metadata": {},
   "source": [
    "\n",
    "- Let us also obtain ROC score and visualize the ROC curve for our regressor:"
   ]
  },
  {
   "cell_type": "code",
   "execution_count": 37,
   "id": "2c281285-7373-4e1b-8039-dd3e92f7111b",
   "metadata": {},
   "outputs": [
    {
     "data": {
      "image/png": "[encoded data removed]",
      "text/plain": [
       "<Figure size 640x480 with 1 Axes>"
      ]
     },
     "metadata": {},
     "output_type": "display_data"
    }
   ],
   "source": [
    "\n",
    "# Obtain predicted probabilities for positive class (Log Reg)\n",
    "\n",
    "y_pred_proba = log_reg.predict_proba(X_test_vec)[:, 1]\n",
    "\n",
    "# Obtain predicted probabilities for positive class (XGB classifier)\n",
    "\n",
    "y_pred_proba_xgb = xgboost.predict_proba(X_test_vec)[:, 1]\n",
    "\n",
    "# Obtain predicted probabilities for positive class (random forest classifier)\n",
    "\n",
    "y_pred_proba_rf = clf.predict_proba(X_test_vec)[:, 1]\n",
    "\n",
    "# Compute ROC curve and ROC area for each class\n",
    "\n",
    "fpr, tpr, _ = roc_curve(y_test, y_pred_proba)\n",
    "\n",
    "fpr_xgb, tpr_xgb, _ = roc_curve(y_test, y_pred_proba_xgb)\n",
    "\n",
    "fpr_rf, tpr_rf, _ = roc_curve(y_test, y_pred_proba_rf)\n",
    "\n",
    "# Compute Area Under the Curve (AUC)\n",
    "\n",
    "roc_auc = auc(fpr, tpr)\n",
    "\n",
    "roc_auc_xgb = auc(fpr_xgb, tpr_xgb)\n",
    "\n",
    "roc_auc_rf = auc(fpr_rf, tpr_rf)\n",
    "\n",
    "\n",
    "# Plot ROC curve\n",
    "plt.figure()\n",
    "plt.plot(fpr, tpr, color='orange', lw=2, label='Logistic Regressor (area = %0.2f)' % roc_auc)\n",
    "plt.plot(fpr_xgb, tpr_xgb, color='lightgreen', lw=2, label='XG Boost Classifier (area = %0.2f)' % roc_auc_xgb)\n",
    "plt.plot(fpr_rf, tpr_rf, color='blue', lw=2, label='Random Forest Classifier (area = %0.2f)' % roc_auc_rf)\n",
    "\n",
    "plt.plot([0, 1], [0, 1], color='grey', lw=2, linestyle='--')\n",
    "plt.xlim([0.0, 1.0])\n",
    "plt.ylim([0.0, 1.05])\n",
    "plt.xlabel('False Positive Rate')\n",
    "plt.ylabel('True Positive Rate')\n",
    "plt.title('Receiver Operating Characteristic (ROC) Curve')\n",
    "plt.legend(loc='lower right')\n",
    "plt.show()\n",
    "\n"
   ]
  },
  {
   "cell_type": "markdown",
   "id": "0160c918-52ea-4739-a4c1-078a0de3eb81",
   "metadata": {
    "tags": []
   },
   "source": [
    "## Model Performance for Different Countries"
   ]
  },
  {
   "cell_type": "markdown",
   "id": "0e2d463e-ce30-482e-91f5-efe7927ada46",
   "metadata": {},
   "source": [
    "\n",
    "-Finally, let us also make sure that our model gives comparable predictions for papers from different years and countries. Let us start with China:"
   ]
  },
  {
   "cell_type": "code",
   "execution_count": 38,
   "id": "3e0c7fe2-e0b1-44f3-85d5-c0423ac9fe5a",
   "metadata": {
    "tags": []
   },
   "outputs": [
    {
     "name": "stdout",
     "output_type": "stream",
     "text": [
      "(7031, 6)\n"
     ]
    }
   ],
   "source": [
    "\n",
    "# Obtain only abstracts for papers from China and store them in data frame\n",
    "\n",
    "df_ch = df_all_abstracts[df_all_abstracts[\"country\"] == \"CN\"]\n",
    "\n",
    "# Visualize shape of filtered array\n",
    "\n",
    "print(df_ch.shape)\n",
    "\n",
    "# Vectorize text for those papers using TF-IDF vectorization\n",
    "\n",
    "X_ch_tfidf = tfidf.transform(df_ch[\"abstract_text\"])\n",
    "\n",
    "# Obtain predictions for vectorized text with logistic reg model\n",
    "\n",
    "y_pred_ch = log_reg.predict(X_ch_tfidf)"
   ]
  },
  {
   "cell_type": "code",
   "execution_count": 39,
   "id": "663bd046-1d85-46fa-bbb1-5453714d7bee",
   "metadata": {
    "tags": []
   },
   "outputs": [
    {
     "data": {
      "text/plain": [
       "np.int64(3670)"
      ]
     },
     "execution_count": 39,
     "metadata": {},
     "output_type": "execute_result"
    }
   ],
   "source": [
    "\n",
    "# Obtain number of papers flagged as fraudulent\n",
    "\n",
    "y_pred_ch.sum()"
   ]
  },
  {
   "cell_type": "code",
   "execution_count": 40,
   "id": "ada8db20-3fa3-4fa5-864c-032086d2669c",
   "metadata": {
    "tags": []
   },
   "outputs": [
    {
     "data": {
      "text/plain": [
       "7031"
      ]
     },
     "execution_count": 40,
     "metadata": {},
     "output_type": "execute_result"
    }
   ],
   "source": [
    "\n",
    "# Obtain number of papers that we tested in total\n",
    "\n",
    "len(y_pred_ch)"
   ]
  },
  {
   "cell_type": "code",
   "execution_count": 41,
   "id": "719e0f3b-d645-4aff-820c-8630085453ec",
   "metadata": {
    "tags": []
   },
   "outputs": [
    {
     "data": {
      "text/plain": [
       "np.float64(52.197411463518705)"
      ]
     },
     "execution_count": 41,
     "metadata": {},
     "output_type": "execute_result"
    }
   ],
   "source": [
    "\n",
    "# Compute percentage of papers flagged as fraudulent for China\n",
    "\n",
    "per_fraud_china = y_pred_ch.sum() / len(y_pred_ch) * 100\n",
    "\n",
    "# Visualize result\n",
    "\n",
    "per_fraud_china "
   ]
  },
  {
   "cell_type": "code",
   "execution_count": 42,
   "id": "fe6069e4-18c0-4a43-a95f-f67947b18ac7",
   "metadata": {
    "tags": []
   },
   "outputs": [],
   "source": [
    "df_ch_fraud = df_ch[df_ch[\"target\"] == 1]"
   ]
  },
  {
   "cell_type": "code",
   "execution_count": 43,
   "id": "dad6109d-7262-44f0-8519-02ee7ea5776e",
   "metadata": {
    "tags": []
   },
   "outputs": [
    {
     "data": {
      "text/plain": [
       "(3400, 6)"
      ]
     },
     "execution_count": 43,
     "metadata": {},
     "output_type": "execute_result"
    }
   ],
   "source": [
    "df_ch_fraud.shape"
   ]
  },
  {
   "cell_type": "code",
   "execution_count": 44,
   "id": "ee681d57-ecea-4a3c-97ef-fdd19d7c67d4",
   "metadata": {
    "tags": []
   },
   "outputs": [
    {
     "data": {
      "text/plain": [
       "48.35727492533068"
      ]
     },
     "execution_count": 44,
     "metadata": {},
     "output_type": "execute_result"
    }
   ],
   "source": [
    "df_ch_fraud.shape[0] / df_ch.shape[0] * 100"
   ]
  },
  {
   "cell_type": "markdown",
   "id": "1faf7292-a3b9-4b37-abab-6eebb804112c",
   "metadata": {},
   "source": [
    "- Let us now repeat the same steps for the US:"
   ]
  },
  {
   "cell_type": "code",
   "execution_count": 45,
   "id": "71d81439-8036-42f6-a518-1679686a80a7",
   "metadata": {
    "tags": []
   },
   "outputs": [
    {
     "name": "stdout",
     "output_type": "stream",
     "text": [
      "(2069, 6)\n"
     ]
    }
   ],
   "source": [
    "\n",
    "# Obtain only abstracts for papers from China and store them in data frame\n",
    "\n",
    "df_us = df_all_abstracts[df_all_abstracts[\"country\"] == \"US\"]\n",
    "\n",
    "# Visualize shape of filtered array\n",
    "\n",
    "print(df_us.shape)\n",
    "\n",
    "# Vectorize text for those papers using TF-IDF vectorization\n",
    "\n",
    "X_us_tfidf = tfidf.transform(df_us[\"abstract_text\"])\n",
    "\n",
    "# Obtain predictions for vectorized text with logistic reg model\n",
    "\n",
    "y_pred_us = log_reg.predict(X_us_tfidf)"
   ]
  },
  {
   "cell_type": "code",
   "execution_count": 46,
   "id": "38dc7089-0eb0-4ded-b81b-cb68d85feb51",
   "metadata": {
    "tags": []
   },
   "outputs": [
    {
     "data": {
      "text/plain": [
       "np.float64(39.53600773320445)"
      ]
     },
     "execution_count": 46,
     "metadata": {},
     "output_type": "execute_result"
    }
   ],
   "source": [
    "\n",
    "# Compute percentage of papers flagged as fraudulent for China\n",
    "\n",
    "per_fraud_us = y_pred_us.sum() / len(y_pred_us) * 100\n",
    "\n",
    "# Visualize result\n",
    "\n",
    "per_fraud_us"
   ]
  },
  {
   "cell_type": "code",
   "execution_count": 47,
   "id": "8c03164a-8701-4647-9038-7835fec4e32d",
   "metadata": {
    "tags": []
   },
   "outputs": [],
   "source": [
    "df_us_fraud = df_us[df_us[\"target\"] == 1]"
   ]
  },
  {
   "cell_type": "code",
   "execution_count": 48,
   "id": "855002e5-a102-481f-bab4-573307c3ef7c",
   "metadata": {
    "tags": []
   },
   "outputs": [
    {
     "data": {
      "text/plain": [
       "44.70758820686322"
      ]
     },
     "execution_count": 48,
     "metadata": {},
     "output_type": "execute_result"
    }
   ],
   "source": [
    "df_us_fraud.shape[0] / df_us.shape[0] * 100"
   ]
  },
  {
   "cell_type": "markdown",
   "id": "7ba5188b-dea2-4663-8ace-e564a012591f",
   "metadata": {},
   "source": [
    "\n",
    "- It will be easier to simply write a function that performs all these operations for future use:"
   ]
  },
  {
   "cell_type": "code",
   "execution_count": 77,
   "id": "044ac80e-749f-42e9-a0e3-24c443bcf518",
   "metadata": {
    "tags": []
   },
   "outputs": [],
   "source": [
    "\n",
    "def model_tester_country(country_code, df, vectorizer, model):\n",
    "    \n",
    "    # Obtain only abstracts for papers from China and store them in data frame\n",
    "\n",
    "    df_filtered = df[df[\"country\"] == country_code]\n",
    "\n",
    "    # Check if we have at least one abstract to process\n",
    "    \n",
    "    if df_filtered.empty:\n",
    "        print(f\"No abstracts found for {country_code}. Skipping.\")\n",
    "        return (None, None)\n",
    "\n",
    "    # Vectorize text for those papers using TF-IDF vectorization\n",
    "\n",
    "    X_filtered = vectorizer.transform(df_filtered[\"abstract_text\"])\n",
    "\n",
    "    # Obtain predictions for vectorized text with logistic reg model\n",
    "\n",
    "    y_pred_filtered = model.predict(X_filtered)\n",
    "    \n",
    "    # Obtain total number of papers flagged\n",
    "    \n",
    "    total_flagged = y_pred_filtered.sum()\n",
    "\n",
    "    # Compute percentage of papers flagged as fraudulent for country\n",
    "\n",
    "    percentage_flagged = total_flagged / len(y_pred_filtered) * 100\n",
    "    \n",
    "    # Calculate total number of papers that are actually fraudulent for country\n",
    "    \n",
    "    total_fraud = df_filtered[df_filtered[\"target\"] == 1].shape[0]\n",
    "    \n",
    "    # Calculate percentage of papers that are actually fraudulent for country\n",
    "    \n",
    "    percentage_fraud = total_fraud / df_filtered.shape[0] * 100\n",
    "\n",
    "    # Print results\n",
    "    \n",
    "    #print(f\"Perfectage of papers flagged for {country_code} {percentage_flagged}\")\n",
    "    #print(f\"Perfectage of fraudulent papers for {country_code} {percentage_fraud}\")\n",
    "    \n",
    "    return percentage_flagged, percentage_fraud, total_flagged, total_fraud\n",
    " "
   ]
  },
  {
   "cell_type": "markdown",
   "id": "64065cc1-31db-453f-bd5f-d9043ca4e735",
   "metadata": {
    "tags": []
   },
   "source": [
    "- Let us test it to make sure it works OK:"
   ]
  },
  {
   "cell_type": "code",
   "execution_count": 50,
   "id": "80b040bc-84f0-474d-ac56-ae82e63745a1",
   "metadata": {
    "tags": []
   },
   "outputs": [
    {
     "data": {
      "text/plain": [
       "(np.float64(39.53600773320445), 44.70758820686322, np.int64(818), 925)"
      ]
     },
     "execution_count": 50,
     "metadata": {},
     "output_type": "execute_result"
    }
   ],
   "source": [
    "\n",
    "# Calculate percentage of papers flagged for US\n",
    "\n",
    "model_tester_country(\"US\", df_all_abstracts, tfidf, log_reg)"
   ]
  },
  {
   "cell_type": "code",
   "execution_count": 51,
   "id": "6555f6a0-2fcd-4f8a-9901-e276ecb43904",
   "metadata": {
    "tags": []
   },
   "outputs": [
    {
     "data": {
      "text/plain": [
       "(np.float64(52.197411463518705), 48.35727492533068, np.int64(3670), 3400)"
      ]
     },
     "execution_count": 51,
     "metadata": {},
     "output_type": "execute_result"
    }
   ],
   "source": [
    "\n",
    "# Now for China\n",
    "\n",
    "model_tester_country(\"CN\", df_all_abstracts, tfidf, log_reg)"
   ]
  },
  {
   "cell_type": "code",
   "execution_count": 52,
   "id": "5c06cf32-e16f-4e5f-926c-4ed739e26f33",
   "metadata": {
    "tags": []
   },
   "outputs": [
    {
     "data": {
      "text/plain": [
       "(np.float64(31.963470319634702), 38.81278538812785, np.int64(70), 85)"
      ]
     },
     "execution_count": 52,
     "metadata": {},
     "output_type": "execute_result"
    }
   ],
   "source": [
    "\n",
    "# UK\n",
    "\n",
    "model_tester_country(\"GB\", df_all_abstracts, tfidf, log_reg)"
   ]
  },
  {
   "cell_type": "code",
   "execution_count": 53,
   "id": "c3294a35-eb1c-414d-82ae-e8accfb6f469",
   "metadata": {
    "tags": []
   },
   "outputs": [
    {
     "data": {
      "text/plain": [
       "(np.float64(44.09221902017291), 47.55043227665706, np.int64(153), 165)"
      ]
     },
     "execution_count": 53,
     "metadata": {},
     "output_type": "execute_result"
    }
   ],
   "source": [
    "\n",
    "# India\n",
    "\n",
    "model_tester_country(\"IN\", df_all_abstracts, tfidf, log_reg)"
   ]
  },
  {
   "cell_type": "code",
   "execution_count": 54,
   "id": "661eb3a6-fb1d-4330-9fda-833e21b1c11a",
   "metadata": {
    "tags": []
   },
   "outputs": [
    {
     "data": {
      "text/plain": [
       "(np.float64(63.63636363636363), 60.3896103896104, np.int64(98), 93)"
      ]
     },
     "execution_count": 54,
     "metadata": {},
     "output_type": "execute_result"
    }
   ],
   "source": [
    "\n",
    "# Iran\n",
    "\n",
    "model_tester_country(\"IR\", df_all_abstracts, tfidf, log_reg)"
   ]
  },
  {
   "cell_type": "code",
   "execution_count": 55,
   "id": "adfc50d2-65db-4d97-8497-7666f135e135",
   "metadata": {
    "tags": []
   },
   "outputs": [
    {
     "data": {
      "text/plain": [
       "(np.float64(33.33333333333333), 40.74074074074074, np.int64(27), 33)"
      ]
     },
     "execution_count": 55,
     "metadata": {},
     "output_type": "execute_result"
    }
   ],
   "source": [
    "# France\n",
    "\n",
    "model_tester_country(\"AU\", df_all_abstracts, tfidf, log_reg)"
   ]
  },
  {
   "cell_type": "markdown",
   "id": "4ff29761-61bc-4a21-99fd-561bbbbfee38",
   "metadata": {},
   "source": [
    "- Let us run a similar quality test for our year breakdown:"
   ]
  },
  {
   "cell_type": "code",
   "execution_count": 56,
   "id": "71852a47-1c9f-44e1-8199-f752ecaf6641",
   "metadata": {
    "tags": []
   },
   "outputs": [],
   "source": [
    "\n",
    "def model_tester_year(year, df, vectorizer, model):\n",
    "    \n",
    "    # Obtain only abstracts for papers from China and store them in data frame\n",
    "\n",
    "    df_filtered = df[df[\"year\"] == year]\n",
    "\n",
    "    # Vectorize text for those papers using TF-IDF vectorization\n",
    "\n",
    "    X_filtered = vectorizer.transform(df_filtered[\"abstract_text\"])\n",
    "\n",
    "    # Obtain predictions for vectorized text with logistic reg model\n",
    "\n",
    "    y_pred_filtered = model.predict(X_filtered)\n",
    "\n",
    "    # Obtain total number of papers flagged\n",
    "    \n",
    "    total_flagged = y_pred_filtered.sum()\n",
    "\n",
    "    # Compute percentage of papers flagged as fraudulent for country\n",
    "\n",
    "    percentage_flagged = total_flagged / len(y_pred_filtered) * 100\n",
    "    \n",
    "    # Calculate total number of papers that are actually fraudulent for country\n",
    "    \n",
    "    total_fraud = df_filtered[df_filtered[\"target\"] == 1].shape[0]\n",
    "    \n",
    "    # Calculate percentage of papers that are actually fraudulent for country\n",
    "    \n",
    "    percentage_fraud = total_fraud / df_filtered.shape[0] * 100\n",
    "    \n",
    "    return percentage_flagged, percentage_fraud, total_flagged, total_fraud\n",
    " "
   ]
  },
  {
   "cell_type": "code",
   "execution_count": 57,
   "id": "91b0d4b6-a40f-4c97-9b7c-f4edd220a746",
   "metadata": {
    "tags": []
   },
   "outputs": [
    {
     "data": {
      "text/plain": [
       "(np.float64(49.200833912439194), 45.448227936066715, np.int64(708), 654)"
      ]
     },
     "execution_count": 57,
     "metadata": {},
     "output_type": "execute_result"
    }
   ],
   "source": [
    "model_tester_year(2020, df_all_abstracts, tfidf, log_reg)"
   ]
  },
  {
   "cell_type": "code",
   "execution_count": 58,
   "id": "4e5cbc37-f69f-45e9-b08d-3bb4fdd0bee9",
   "metadata": {
    "tags": []
   },
   "outputs": [
    {
     "data": {
      "text/plain": [
       "(np.float64(52.62832405689548), 49.474335188620906, np.int64(851), 800)"
      ]
     },
     "execution_count": 58,
     "metadata": {},
     "output_type": "execute_result"
    }
   ],
   "source": [
    "model_tester_year(2019, df_all_abstracts, tfidf, log_reg)"
   ]
  },
  {
   "cell_type": "code",
   "execution_count": 59,
   "id": "d131d80f-31d6-4eb0-88d1-b5a3a500f948",
   "metadata": {
    "tags": []
   },
   "outputs": [
    {
     "data": {
      "text/plain": [
       "(np.float64(41.348973607038126), 48.38709677419355, np.int64(141), 165)"
      ]
     },
     "execution_count": 59,
     "metadata": {},
     "output_type": "execute_result"
    }
   ],
   "source": [
    "model_tester_year(2009, df_all_abstracts, tfidf, log_reg)"
   ]
  },
  {
   "cell_type": "markdown",
   "id": "9f9f28d6-0a6c-4a72-a420-583306d1f927",
   "metadata": {},
   "source": [
    "\n",
    "- Finally, let us create a function that allows us to run an analysis for both a country and a year of our choice:"
   ]
  },
  {
   "cell_type": "code",
   "execution_count": 60,
   "id": "4268b411-3435-40eb-b757-066c0508f54a",
   "metadata": {
    "tags": []
   },
   "outputs": [],
   "source": [
    "\n",
    "def model_tester_year_country(year, country, df, vectorizer, model):\n",
    "    \n",
    "    # Obtain only abstracts for papers from a given bucket and store them in data frame\n",
    "\n",
    "    df_filtered = df[(df[\"year\"] == year) & (df[\"country\"] == country)]\n",
    "\n",
    "    # Vectorize text for those papers using our vectorizer\n",
    "\n",
    "    X_filtered = vectorizer.transform(df_filtered[\"abstract_text\"])\n",
    "\n",
    "    # Obtain predictions for vectorized text with our model\n",
    "\n",
    "    y_pred_filtered = model.predict(X_filtered)\n",
    "\n",
    "    # Obtain total number of papers flagged\n",
    "    \n",
    "    total_flagged = y_pred_filtered.sum()\n",
    "\n",
    "    # Compute percentage of papers flagged as fraudulent for country\n",
    "\n",
    "    percentage_flagged = total_flagged / len(y_pred_filtered) * 100\n",
    "    \n",
    "    # Calculate total number of papers that are actually fraudulent for country\n",
    "    \n",
    "    total_fraud = df_filtered[df_filtered[\"target\"] == 1].shape[0]\n",
    "    \n",
    "    # Calculate percentage of papers that are actually fraudulent for country\n",
    "    \n",
    "    percentage_fraud = total_fraud / df_filtered.shape[0] * 100\n",
    "\n",
    "    # Print results\n",
    "    \n",
    "    #print(f\"Perfectage of papers flagged for {year} and {country} {percentage_flagged}\")\n",
    "    #print(f\"Perfectage of fraudulent papers for {year} and {country} {percentage_fraud}\")\n",
    "    \n",
    "    return percentage_flagged, percentage_fraud, total_flagged, total_fraud\n",
    "    "
   ]
  },
  {
   "cell_type": "code",
   "execution_count": 61,
   "id": "91139a05-9635-4d1e-bba9-f38213a171d0",
   "metadata": {
    "tags": []
   },
   "outputs": [
    {
     "data": {
      "text/plain": [
       "(np.float64(54.68164794007491), 49.56304619225968, np.int64(438), 397)"
      ]
     },
     "execution_count": 61,
     "metadata": {},
     "output_type": "execute_result"
    }
   ],
   "source": [
    "\n",
    "model_tester_year_country(2017, \"CN\", df_all_abstracts, tfidf, log_reg)"
   ]
  },
  {
   "cell_type": "code",
   "execution_count": 62,
   "id": "956d7396-210a-43d9-8d88-fbf9fb27d3c6",
   "metadata": {
    "tags": []
   },
   "outputs": [
    {
     "data": {
      "text/plain": [
       "(np.float64(32.35294117647059), 32.35294117647059, np.int64(11), 11)"
      ]
     },
     "execution_count": 62,
     "metadata": {},
     "output_type": "execute_result"
    }
   ],
   "source": [
    "\n",
    "model_tester_year_country(2021, \"US\", df_all_abstracts, tfidf, log_reg)"
   ]
  },
  {
   "cell_type": "code",
   "execution_count": 63,
   "id": "eb9c2ba8-5aca-4faa-b944-0372b29431bd",
   "metadata": {
    "tags": []
   },
   "outputs": [
    {
     "data": {
      "text/plain": [
       "(np.float64(70.0), 70.0, np.int64(7), 7)"
      ]
     },
     "execution_count": 63,
     "metadata": {},
     "output_type": "execute_result"
    }
   ],
   "source": [
    "\n",
    "model_tester_year_country(2018, \"IR\", df_all_abstracts, tfidf, log_reg)"
   ]
  },
  {
   "cell_type": "markdown",
   "id": "7f9454f1-9639-4b9a-97b3-7a12282f856c",
   "metadata": {},
   "source": [
    "- Let us try a more systematic comparison for all countries:"
   ]
  },
  {
   "cell_type": "code",
   "execution_count": 87,
   "id": "1de62ddb-6281-495c-88ea-1afc2ff44d8c",
   "metadata": {},
   "outputs": [],
   "source": [
    "df_all_abstracts[\"country\"] = df_all_abstracts[\"country\"].fillna(\"Unknown\")\n",
    "\n",
    "#temporary fix maybe remove later\n"
   ]
  },
  {
   "cell_type": "code",
   "execution_count": 88,
   "id": "55dd4d90-380a-42ca-ae9a-95dac02b626b",
   "metadata": {
    "tags": []
   },
   "outputs": [],
   "source": [
    "\n",
    "countries = df_all_abstracts[\"country\"].unique()\n",
    "results = []\n",
    "difference_percentage = []\n",
    "difference_total = []\n",
    "\n",
    "for country in countries:\n",
    "    country_results = model_tester_country(country, df_all_abstracts, tfidf, log_reg)\n",
    "    if country_results is None or len(country_results) < 4:\n",
    "        print(f\"Skipping {country} due to insufficient data.\")\n",
    "        continue\n",
    "    results.append(country_results)\n",
    "    difference_percentage.append(country_results[0] - country_results[1])\n",
    "    difference_total.append(country_results[2] - country_results[3])\n",
    "\n"
   ]
  },
  {
   "cell_type": "code",
   "execution_count": 89,
   "id": "2efcb475-41f9-4033-a274-17caa15e5c19",
   "metadata": {
    "tags": []
   },
   "outputs": [],
   "source": [
    "\n",
    "\n",
    "df_differences = pd.DataFrame({\"country\": countries, \"percentage_difference\": difference_percentage, \"total_difference\": difference_total})"
   ]
  },
  {
   "cell_type": "code",
   "execution_count": 90,
   "id": "028e8884-3cc6-4094-a2cd-c128a4ae4fa0",
   "metadata": {
    "tags": []
   },
   "outputs": [],
   "source": [
    "\n",
    "df_differences = df_differences[df_differences[\"total_difference\"] != 0]"
   ]
  },
  {
   "cell_type": "code",
   "execution_count": 91,
   "id": "10024dd2-6a89-4d61-b357-50736d531c0c",
   "metadata": {
    "tags": []
   },
   "outputs": [
    {
     "data": {
      "text/plain": [
       "<Axes: xlabel='country'>"
      ]
     },
     "execution_count": 91,
     "metadata": {},
     "output_type": "execute_result"
    },
    {
     "data": {
      "image/png": "[encoded data removed]",
      "text/plain": [
       "<Figure size 640x480 with 1 Axes>"
      ]
     },
     "metadata": {},
     "output_type": "display_data"
    }
   ],
   "source": [
    "\n",
    "df_differences.plot.bar(x=\"country\", y=\"total_difference\")\n"
   ]
  },
  {
   "cell_type": "code",
   "execution_count": 92,
   "id": "ec1dbfdf-986e-4f34-bdb3-09d464432dda",
   "metadata": {
    "tags": []
   },
   "outputs": [
    {
     "data": {
      "text/plain": [
       "(49, 3)"
      ]
     },
     "execution_count": 92,
     "metadata": {},
     "output_type": "execute_result"
    }
   ],
   "source": [
    "\n",
    "# Obtain size of data frame to decide how to filter top entires\n",
    "\n",
    "df_differences.shape"
   ]
  },
  {
   "cell_type": "code",
   "execution_count": 93,
   "id": "53c74bfa-329f-497c-95f4-07ee92993b7f",
   "metadata": {
    "tags": []
   },
   "outputs": [],
   "source": [
    "\n",
    "# Filter data frame to obtain countries with most papers in absolute number only \n",
    "\n",
    "df_differences_filtered = df_differences.head(27)"
   ]
  },
  {
   "cell_type": "code",
   "execution_count": 94,
   "id": "2ea8f77a-40a5-4622-b04a-40217359302f",
   "metadata": {},
   "outputs": [
    {
     "data": {
      "text/plain": [
       "<Axes: xlabel='country'>"
      ]
     },
     "execution_count": 94,
     "metadata": {},
     "output_type": "execute_result"
    },
    {
     "data": {
      "image/png": "[encoded data removed]",
      "text/plain": [
       "<Figure size 640x480 with 1 Axes>"
      ]
     },
     "metadata": {},
     "output_type": "display_data"
    }
   ],
   "source": [
    "\n",
    "# Make normal plot\n",
    "\n",
    "df_differences.plot.bar(x=\"country\", y=\"percentage_difference\")\n"
   ]
  },
  {
   "cell_type": "code",
   "execution_count": 95,
   "id": "eee9fb0c-4c65-4736-956b-87acaf675b3e",
   "metadata": {
    "tags": []
   },
   "outputs": [
    {
     "data": {
      "image/png": "[encoded data removed]",
      "text/plain": [
       "<Figure size 640x480 with 1 Axes>"
      ]
     },
     "metadata": {},
     "output_type": "display_data"
    }
   ],
   "source": [
    "\n",
    "# Make plot for filtered data frame\n",
    "\n",
    "ax = df_differences_filtered.plot.bar(x=\"country\", y=\"percentage_difference\", color='grey', legend=False)\n",
    "\n",
    "# Set the y axis to -50 and 50 percentage points\n",
    "\n",
    "ax.set_ylim(-70, 70)\n",
    "\n",
    "# Add grid\n",
    "\n",
    "ax.grid(True)\n",
    "\n",
    "# Display plot\n",
    "\n",
    "plt.show()\n"
   ]
  },
  {
   "cell_type": "markdown",
   "id": "3fdaedf5-e610-4dca-8f0e-049074210b74",
   "metadata": {},
   "source": [
    "- And now for all years:"
   ]
  },
  {
   "cell_type": "code",
   "execution_count": 96,
   "id": "fe40f79e-c348-40e2-818f-398d4d91ccaa",
   "metadata": {
    "tags": []
   },
   "outputs": [],
   "source": [
    "\n",
    "year_results = model_tester_year(2020, df_all_abstracts, tfidf, log_reg)\n"
   ]
  },
  {
   "cell_type": "code",
   "execution_count": 97,
   "id": "81c55d78-be4c-470b-9898-5768e2cb06bf",
   "metadata": {
    "tags": []
   },
   "outputs": [],
   "source": [
    "years = df_all_abstracts[\"year\"].unique()\n",
    "results_year = []\n",
    "difference_percentage_year = []\n",
    "difference_total_year = []\n",
    "\n",
    "\n",
    "    \n",
    "for year in years:\n",
    "    year_results = model_tester_year(year, df_all_abstracts, tfidf, log_reg)\n",
    "    results_year.append(year_results)\n",
    "    difference_percentage_year.append(year_results[0] - year_results[1])\n",
    "    difference_total_year.append(year_results[2] - year_results[3])\n",
    "\n"
   ]
  },
  {
   "cell_type": "code",
   "execution_count": 98,
   "id": "be82d393-8b3d-4572-8cc9-5a73f57e89d4",
   "metadata": {
    "tags": []
   },
   "outputs": [],
   "source": [
    "df_differences_year = pd.DataFrame({\"year\": years, \"percentage_difference\": difference_percentage_year, \"total_difference\": difference_total_year})"
   ]
  },
  {
   "cell_type": "code",
   "execution_count": 99,
   "id": "4969a163-0af7-41b6-b334-59e65e11cec7",
   "metadata": {
    "tags": []
   },
   "outputs": [
    {
     "data": {
      "text/html": [
       "<div>\n",
       "<style scoped>\n",
       "    .dataframe tbody tr th:only-of-type {\n",
       "        vertical-align: middle;\n",
       "    }\n",
       "\n",
       "    .dataframe tbody tr th {\n",
       "        vertical-align: top;\n",
       "    }\n",
       "\n",
       "    .dataframe thead th {\n",
       "        text-align: right;\n",
       "    }\n",
       "</style>\n",
       "<table border=\"1\" class=\"dataframe\">\n",
       "  <thead>\n",
       "    <tr style=\"text-align: right;\">\n",
       "      <th></th>\n",
       "      <th>year</th>\n",
       "      <th>percentage_difference</th>\n",
       "      <th>total_difference</th>\n",
       "    </tr>\n",
       "  </thead>\n",
       "  <tbody>\n",
       "    <tr>\n",
       "      <th>0</th>\n",
       "      <td>2019</td>\n",
       "      <td>3.153989</td>\n",
       "      <td>51</td>\n",
       "    </tr>\n",
       "    <tr>\n",
       "      <th>1</th>\n",
       "      <td>2021</td>\n",
       "      <td>0.883838</td>\n",
       "      <td>7</td>\n",
       "    </tr>\n",
       "    <tr>\n",
       "      <th>2</th>\n",
       "      <td>2018</td>\n",
       "      <td>2.934363</td>\n",
       "      <td>38</td>\n",
       "    </tr>\n",
       "    <tr>\n",
       "      <th>3</th>\n",
       "      <td>2020</td>\n",
       "      <td>3.752606</td>\n",
       "      <td>54</td>\n",
       "    </tr>\n",
       "    <tr>\n",
       "      <th>4</th>\n",
       "      <td>2015</td>\n",
       "      <td>3.468208</td>\n",
       "      <td>24</td>\n",
       "    </tr>\n",
       "  </tbody>\n",
       "</table>\n",
       "</div>"
      ],
      "text/plain": [
       "   year  percentage_difference  total_difference\n",
       "0  2019               3.153989                51\n",
       "1  2021               0.883838                 7\n",
       "2  2018               2.934363                38\n",
       "3  2020               3.752606                54\n",
       "4  2015               3.468208                24"
      ]
     },
     "execution_count": 99,
     "metadata": {},
     "output_type": "execute_result"
    }
   ],
   "source": [
    "df_differences_year.head(5)"
   ]
  },
  {
   "cell_type": "code",
   "execution_count": 100,
   "id": "8e0d7788-191f-4d4d-b9f1-f1325e1718cf",
   "metadata": {
    "tags": []
   },
   "outputs": [
    {
     "data": {
      "text/plain": [
       "<Axes: xlabel='year'>"
      ]
     },
     "execution_count": 100,
     "metadata": {},
     "output_type": "execute_result"
    },
    {
     "data": {
      "image/png": "[encoded data removed]",
      "text/plain": [
       "<Figure size 640x480 with 1 Axes>"
      ]
     },
     "metadata": {},
     "output_type": "display_data"
    }
   ],
   "source": [
    "df_differences_year.plot.bar(x=\"year\", y=\"percentage_difference\")\n"
   ]
  },
  {
   "cell_type": "code",
   "execution_count": 101,
   "id": "c2d060d9-3714-4b08-b269-f1ed0323881b",
   "metadata": {
    "tags": []
   },
   "outputs": [
    {
     "data": {
      "text/plain": [
       "<Axes: xlabel='year'>"
      ]
     },
     "execution_count": 101,
     "metadata": {},
     "output_type": "execute_result"
    },
    {
     "data": {
      "image/png": "[encoded data removed]",
      "text/plain": [
       "<Figure size 640x480 with 1 Axes>"
      ]
     },
     "metadata": {},
     "output_type": "display_data"
    }
   ],
   "source": [
    "\n",
    "df_differences_year.plot.bar(x=\"year\", y=\"total_difference\")\n"
   ]
  },
  {
   "cell_type": "markdown",
   "id": "90dc449e-1b77-406a-90ee-55f62bf08d03",
   "metadata": {},
   "source": [
    "-Let us get some scores and performance metrics per year and country too. First we'll try China:\n"
   ]
  },
  {
   "cell_type": "code",
   "execution_count": 102,
   "id": "e1e677d8-1dfc-45ab-93f0-c0fd6dec8d2a",
   "metadata": {
    "tags": []
   },
   "outputs": [],
   "source": [
    "\n",
    "df_china = df_all_abstracts[df_all_abstracts[\"country\"] == \"CN\"]\n",
    "\n",
    "# Vectorize text for those papers using TF-IDF vectorization\n",
    "\n",
    "X_china = tfidf.transform(df_china[\"abstract_text\"])\n",
    "\n",
    "# Obtain predictions for vectorized text with logistic reg model\n",
    "\n",
    "y_pred_china = log_reg.predict(X_china)\n",
    "    "
   ]
  },
  {
   "cell_type": "code",
   "execution_count": 103,
   "id": "f7008422-c7c5-4a1f-b57d-1a58d43328c1",
   "metadata": {
    "tags": []
   },
   "outputs": [
    {
     "name": "stdout",
     "output_type": "stream",
     "text": [
      "Classification Report for China:\n",
      "               precision    recall  f1-score   support\n",
      "\n",
      "           0       0.96      0.89      0.93      3631\n",
      "           1       0.89      0.96      0.93      3400\n",
      "\n",
      "    accuracy                           0.93      7031\n",
      "   macro avg       0.93      0.93      0.93      7031\n",
      "weighted avg       0.93      0.93      0.93      7031\n",
      "\n"
     ]
    }
   ],
   "source": [
    "y_china = df_china[\"target\"]\n",
    "\n",
    "report_test = classification_report(y_china, y_pred_china)\n",
    "\n",
    "print(\"Classification Report for China:\\n\", report_test)"
   ]
  },
  {
   "cell_type": "code",
   "execution_count": 104,
   "id": "ad2c0a3b-ac90-46bf-bb2b-547003ec5ca9",
   "metadata": {
    "tags": []
   },
   "outputs": [
    {
     "data": {
      "text/plain": [
       "array([[3237,  394],\n",
       "       [ 124, 3276]])"
      ]
     },
     "execution_count": 104,
     "metadata": {},
     "output_type": "execute_result"
    }
   ],
   "source": [
    "conf_matrix_china = confusion_matrix(y_china, y_pred_china)\n",
    "\n",
    "conf_matrix_china"
   ]
  },
  {
   "cell_type": "markdown",
   "id": "e2ad4474-da40-4660-ad84-78f0645c7fac",
   "metadata": {
    "tags": []
   },
   "source": [
    "- And then the US:"
   ]
  },
  {
   "cell_type": "code",
   "execution_count": 105,
   "id": "741fa11e-f2ad-4760-bcf7-42c32e56b946",
   "metadata": {
    "tags": []
   },
   "outputs": [],
   "source": [
    "\n",
    "df_us = df_all_abstracts[df_all_abstracts[\"country\"] == \"US\"]\n",
    "\n",
    "# Vectorize text for those papers using TF-IDF vectorization\n",
    "\n",
    "X_us = tfidf.transform(df_us[\"abstract_text\"])\n",
    "\n",
    "# Obtain predictions for vectorized text with logistic reg model\n",
    "\n",
    "y_pred_us = log_reg.predict(X_us)\n",
    "    "
   ]
  },
  {
   "cell_type": "code",
   "execution_count": 106,
   "id": "eb1dc96d-6e08-46c2-b30b-b07c8d1e417a",
   "metadata": {
    "tags": []
   },
   "outputs": [
    {
     "name": "stdout",
     "output_type": "stream",
     "text": [
      "Classification Report for the USA:\n",
      "               precision    recall  f1-score   support\n",
      "\n",
      "           0       0.89      0.97      0.93      1144\n",
      "           1       0.96      0.85      0.91       925\n",
      "\n",
      "    accuracy                           0.92      2069\n",
      "   macro avg       0.93      0.91      0.92      2069\n",
      "weighted avg       0.92      0.92      0.92      2069\n",
      "\n"
     ]
    }
   ],
   "source": [
    "y_us = df_us[\"target\"]\n",
    "\n",
    "report_test_us = classification_report(y_us, y_pred_us)\n",
    "\n",
    "print(\"Classification Report for the USA:\\n\", report_test_us)"
   ]
  },
  {
   "cell_type": "code",
   "execution_count": 107,
   "id": "c6ab5a2a-6ebb-439b-aa1b-e18f80a4035a",
   "metadata": {
    "tags": []
   },
   "outputs": [
    {
     "data": {
      "text/plain": [
       "array([[1115,   29],\n",
       "       [ 136,  789]])"
      ]
     },
     "execution_count": 107,
     "metadata": {},
     "output_type": "execute_result"
    }
   ],
   "source": [
    "conf_matrix_us = confusion_matrix(y_us, y_pred_us)\n",
    "\n",
    "conf_matrix_us"
   ]
  },
  {
   "cell_type": "code",
   "execution_count": null,
   "id": "1b304955-f853-4bf1-b509-01709a633234",
   "metadata": {},
   "outputs": [],
   "source": []
  },
  {
   "cell_type": "code",
   "execution_count": null,
   "id": "dfeb1731-a2b6-4a35-99bf-1737b9c5e113",
   "metadata": {},
   "outputs": [],
   "source": []
  }
 ],
 "metadata": {
  "kernelspec": {
   "display_name": "Python 3 (ipykernel)",
   "language": "python",
   "name": "python3"
  },
  "language_info": {
   "codemirror_mode": {
    "name": "ipython",
    "version": 3
   },
   "file_extension": ".py",
   "mimetype": "text/x-python",
   "name": "python",
   "nbconvert_exporter": "python",
   "pygments_lexer": "ipython3",
   "version": "3.13.2"
  }
 },
 "nbformat": 4,
 "nbformat_minor": 5
}
