{
 "cells": [
  {
   "cell_type": "markdown",
   "id": "007a8d91-b6df-4e45-a13e-51b53bc41638",
   "metadata": {
    "tags": []
   },
   "source": [
    "# 1a. Data Cleaning: General Data Cleaning and EDA"
   ]
  },
  {
   "cell_type": "markdown",
   "id": "1f55df50-6836-48cb-bf32-b3b223f7f02b",
   "metadata": {
    "tags": []
   },
   "source": [
    "## Introduction"
   ]
  },
  {
   "cell_type": "markdown",
   "id": "b5c6344b-ecc6-411d-84a2-00e381eafc60",
   "metadata": {},
   "source": [
    "This notebook only performs very superficial **data cleaning** and **exploratory data analysis** on our original data set, which is a list of retracted papers from Retraction Watch. It only looks into the completeness and relevance of the data for the task at hand, leaving more complicated forms of data exploration and data pre-processing for  later notebooks in the \"1\" series.\n",
    "\n",
    "The clean data set that this notebook produces will serve as input for **Notebook 1b**, whose output will in turn be fed to **Notebook 1c**. This sequence will complete the data cleaning portion of our project.\n",
    "\n",
    "The **workflow** for this notebook is thus set as follows:\n",
    "\n",
    "- Input: **one .csv file** with our original data set from Retraction Watch.\n",
    "- Output: **one .csv file** with the exact same information, minus the elements that were cleaned away."
   ]
  },
  {
   "cell_type": "markdown",
   "id": "fbd1087f-50a9-43d8-a47a-90272f18e1ab",
   "metadata": {},
   "source": [
    "## Input / Output Parameters"
   ]
  },
  {
   "cell_type": "markdown",
   "id": "7d2350a8-6217-42cd-9f1c-8c4274c6fdc5",
   "metadata": {
    "tags": []
   },
   "source": [
    "Input parameters:"
   ]
  },
  {
   "cell_type": "code",
   "execution_count": 44,
   "id": "c9c6ad51-d68d-4bcb-951a-04094b290054",
   "metadata": {
    "tags": []
   },
   "outputs": [],
   "source": [
    "\n",
    "# File path for input .csv file\n",
    "\n",
    "input_path = \"../data/retraction_watch_data_set/1_original_data_set.csv\"\n",
    "\n",
    "# File path for country codes dictionary\n",
    "\n",
    "input_path_country_codes = \"../data/country_codes_dictionary.csv\"\n"
   ]
  },
  {
   "cell_type": "markdown",
   "id": "c65adfbb-9801-479e-b23d-4538959380d1",
   "metadata": {
    "tags": []
   },
   "source": [
    "Output parameters:"
   ]
  },
  {
   "cell_type": "code",
   "execution_count": 45,
   "id": "25b87b51-7252-45db-9294-426b5c4eed21",
   "metadata": {
    "tags": []
   },
   "outputs": [],
   "source": [
    "\n",
    "# File path for output .csv file\n",
    "\n",
    "output_path = \"../data/retraction_watch_data_set/2_clean_data_set.csv\"\n"
   ]
  },
  {
   "cell_type": "markdown",
   "id": "4f558ee6-b9ed-4326-8089-5a6b62c7ed5a",
   "metadata": {},
   "source": [
    "## Importing Libraries\n"
   ]
  },
  {
   "cell_type": "markdown",
   "id": "4c8097e2-7d88-4211-bb7d-0e089cdbc824",
   "metadata": {
    "tags": []
   },
   "source": [
    "Let us start by importing the libraries that we will need for this notebook:"
   ]
  },
  {
   "cell_type": "code",
   "execution_count": 46,
   "id": "4bd1f1b6-7b17-4766-8fb8-798e9d489a3e",
   "metadata": {
    "tags": []
   },
   "outputs": [],
   "source": [
    "\n",
    "# Import required libraries\n",
    "\n",
    "import numpy as np\n",
    "import pandas as pd\n",
    "import missingno as msno\n",
    "import matplotlib.pyplot as plt\n"
   ]
  },
  {
   "cell_type": "markdown",
   "id": "cfb6f568-0ff7-47c7-a312-e3c3a917f686",
   "metadata": {},
   "source": [
    "And let us also read the data from our .csv file:"
   ]
  },
  {
   "cell_type": "code",
   "execution_count": 47,
   "id": "f25dc545-e89d-4281-abcf-df160dccf1df",
   "metadata": {
    "tags": []
   },
   "outputs": [],
   "source": [
    "\n",
    "# Read data from .csv file \n",
    "\n",
    "df = pd.read_csv(input_path, encoding='latin-1')\n"
   ]
  },
  {
   "cell_type": "markdown",
   "id": "5c40350d-9744-4660-b215-db4a7873b40e",
   "metadata": {},
   "source": [
    "## Preliminary Look at the Data"
   ]
  },
  {
   "cell_type": "markdown",
   "id": "517b76ab-4391-4da6-ba79-0be2267ce634",
   "metadata": {},
   "source": [
    "Having done that, we can now go ahead and take a first quick look at our data:"
   ]
  },
  {
   "cell_type": "code",
   "execution_count": 48,
   "id": "e14c13b4-41b5-474b-bf40-f92be3505479",
   "metadata": {
    "tags": []
   },
   "outputs": [
    {
     "data": {
      "text/html": [
       "<div>\n",
       "<style scoped>\n",
       "    .dataframe tbody tr th:only-of-type {\n",
       "        vertical-align: middle;\n",
       "    }\n",
       "\n",
       "    .dataframe tbody tr th {\n",
       "        vertical-align: top;\n",
       "    }\n",
       "\n",
       "    .dataframe thead th {\n",
       "        text-align: right;\n",
       "    }\n",
       "</style>\n",
       "<table border=\"1\" class=\"dataframe\">\n",
       "  <thead>\n",
       "    <tr style=\"text-align: right;\">\n",
       "      <th></th>\n",
       "      <th>Record ID</th>\n",
       "      <th>Title</th>\n",
       "      <th>Subject</th>\n",
       "      <th>Institution</th>\n",
       "      <th>Journal</th>\n",
       "      <th>Publisher</th>\n",
       "      <th>Country</th>\n",
       "      <th>Author</th>\n",
       "      <th>URLS</th>\n",
       "      <th>ArticleType</th>\n",
       "      <th>RetractionDate</th>\n",
       "      <th>RetractionDOI</th>\n",
       "      <th>RetractionPubMedID</th>\n",
       "      <th>OriginalPaperDate</th>\n",
       "      <th>OriginalPaperDOI</th>\n",
       "      <th>OriginalPaperPubMedID</th>\n",
       "      <th>RetractionNature</th>\n",
       "      <th>Reason</th>\n",
       "      <th>Paywalled</th>\n",
       "      <th>Notes</th>\n",
       "    </tr>\n",
       "  </thead>\n",
       "  <tbody>\n",
       "    <tr>\n",
       "      <th>0</th>\n",
       "      <td>52765</td>\n",
       "      <td>An integrated 3D model based face recognition ...</td>\n",
       "      <td>(B/T) Data Science;(B/T) Technology;</td>\n",
       "      <td>Management Information System Department, Cypr...</td>\n",
       "      <td>Applied Nanoscience</td>\n",
       "      <td>Springer</td>\n",
       "      <td>Turkey</td>\n",
       "      <td>Ali Milad;Kamil Yurtkan</td>\n",
       "      <td>https://retractionwatch.com/2024/01/26/springe...</td>\n",
       "      <td>Research Article;</td>\n",
       "      <td>6/30/2023 0:00</td>\n",
       "      <td>10.1007/s13204-024-03010-9</td>\n",
       "      <td>0.0</td>\n",
       "      <td>2/3/2022 0:00</td>\n",
       "      <td>10.1007/s13204-021-02123-9</td>\n",
       "      <td>0.0</td>\n",
       "      <td>Correction</td>\n",
       "      <td>+Error in Text;+Updated to Retraction;</td>\n",
       "      <td>No</td>\n",
       "      <td>See also: https://pubpeer.com/publications/BCC...</td>\n",
       "    </tr>\n",
       "  </tbody>\n",
       "</table>\n",
       "</div>"
      ],
      "text/plain": [
       "   Record ID                                              Title  \\\n",
       "0      52765  An integrated 3D model based face recognition ...   \n",
       "\n",
       "                                Subject  \\\n",
       "0  (B/T) Data Science;(B/T) Technology;   \n",
       "\n",
       "                                         Institution              Journal  \\\n",
       "0  Management Information System Department, Cypr...  Applied Nanoscience   \n",
       "\n",
       "  Publisher Country                   Author  \\\n",
       "0  Springer  Turkey  Ali Milad;Kamil Yurtkan   \n",
       "\n",
       "                                                URLS        ArticleType  \\\n",
       "0  https://retractionwatch.com/2024/01/26/springe...  Research Article;   \n",
       "\n",
       "   RetractionDate               RetractionDOI  RetractionPubMedID  \\\n",
       "0  6/30/2023 0:00  10.1007/s13204-024-03010-9                 0.0   \n",
       "\n",
       "  OriginalPaperDate            OriginalPaperDOI  OriginalPaperPubMedID  \\\n",
       "0     2/3/2022 0:00  10.1007/s13204-021-02123-9                    0.0   \n",
       "\n",
       "  RetractionNature                                  Reason Paywalled  \\\n",
       "0       Correction  +Error in Text;+Updated to Retraction;        No   \n",
       "\n",
       "                                               Notes  \n",
       "0  See also: https://pubpeer.com/publications/BCC...  "
      ]
     },
     "execution_count": 48,
     "metadata": {},
     "output_type": "execute_result"
    }
   ],
   "source": [
    "\n",
    "# Display header \n",
    "\n",
    "df.head(1)\n"
   ]
  },
  {
   "cell_type": "markdown",
   "id": "4d401124-61b5-4b16-9d23-be621d16845a",
   "metadata": {},
   "source": [
    "\n",
    "As we can see, there is quite a bit of information in our data set. Let's get a clearer sense of just how large our data frame is:"
   ]
  },
  {
   "cell_type": "code",
   "execution_count": 49,
   "id": "068481b5-6364-40b8-8ed9-6c3fd8787725",
   "metadata": {
    "tags": []
   },
   "outputs": [
    {
     "data": {
      "text/plain": [
       "(52290, 20)"
      ]
     },
     "execution_count": 49,
     "metadata": {},
     "output_type": "execute_result"
    }
   ],
   "source": [
    "df.shape"
   ]
  },
  {
   "cell_type": "markdown",
   "id": "4caec4bc-38a6-4743-837c-2eb0140af8e5",
   "metadata": {},
   "source": [
    "That is quite a few columns to keep track of, so let's also get a preliminary sense of what each one of them contains:"
   ]
  },
  {
   "cell_type": "code",
   "execution_count": 50,
   "id": "e1291b72-34f2-420c-89d8-912145243f99",
   "metadata": {
    "tags": []
   },
   "outputs": [
    {
     "name": "stdout",
     "output_type": "stream",
     "text": [
      "<class 'pandas.core.frame.DataFrame'>\n",
      "RangeIndex: 52290 entries, 0 to 52289\n",
      "Data columns (total 20 columns):\n",
      " #   Column                 Non-Null Count  Dtype  \n",
      "---  ------                 --------------  -----  \n",
      " 0   Record ID              52290 non-null  int64  \n",
      " 1   Title                  52290 non-null  object \n",
      " 2   Subject                52290 non-null  object \n",
      " 3   Institution            52289 non-null  object \n",
      " 4   Journal                52290 non-null  object \n",
      " 5   Publisher              52290 non-null  object \n",
      " 6   Country                52290 non-null  object \n",
      " 7   Author                 52290 non-null  object \n",
      " 8   URLS                   28504 non-null  object \n",
      " 9   ArticleType            52290 non-null  object \n",
      " 10  RetractionDate         52290 non-null  object \n",
      " 11  RetractionDOI          51788 non-null  object \n",
      " 12  RetractionPubMedID     47117 non-null  float64\n",
      " 13  OriginalPaperDate      52290 non-null  object \n",
      " 14  OriginalPaperDOI       49751 non-null  object \n",
      " 15  OriginalPaperPubMedID  47142 non-null  float64\n",
      " 16  RetractionNature       52290 non-null  object \n",
      " 17  Reason                 52290 non-null  object \n",
      " 18  Paywalled              52287 non-null  object \n",
      " 19  Notes                  14210 non-null  object \n",
      "dtypes: float64(2), int64(1), object(17)\n",
      "memory usage: 8.0+ MB\n"
     ]
    }
   ],
   "source": [
    "\n",
    "# Display info on data type and non-null entries per column\n",
    "\n",
    "df.info()\n"
   ]
  },
  {
   "cell_type": "markdown",
   "id": "fa4e9637-33b1-4905-86ba-28d11836a511",
   "metadata": {},
   "source": [
    "One thing that one can immediately see, is that the names of the columns are not on snake case. It will be much easier to manipulate our data frame with appropriately formatted column names, so let's do just that:"
   ]
  },
  {
   "cell_type": "code",
   "execution_count": 51,
   "id": "e303e292-caa5-4668-83f1-4697ff662891",
   "metadata": {
    "tags": []
   },
   "outputs": [
    {
     "data": {
      "text/plain": [
       "Index(['record_id', 'title', 'subject', 'institution', 'journal', 'publisher',\n",
       "       'country', 'author', 'urls', 'articletype', 'retractiondate',\n",
       "       'retractiondoi', 'retractionpubmedid', 'originalpaperdate',\n",
       "       'originalpaperdoi', 'originalpaperpubmedid', 'retractionnature',\n",
       "       'reason', 'paywalled', 'notes'],\n",
       "      dtype='object')"
      ]
     },
     "execution_count": 51,
     "metadata": {},
     "output_type": "execute_result"
    }
   ],
   "source": [
    "\n",
    "# Change column names to snake case\n",
    "\n",
    "df.columns = [col.lower().replace(\" \", \"_\") for col in df.columns]\n",
    "\n",
    "# Check that it worked\n",
    "\n",
    "df.columns\n"
   ]
  },
  {
   "cell_type": "markdown",
   "id": "f6967f6f-2236-47b9-95de-97000f3061eb",
   "metadata": {},
   "source": [
    "\n",
    "Some of the names of the columns still do not include spaces in the required places, so let us change that as well (unfortunately, by hand):"
   ]
  },
  {
   "cell_type": "code",
   "execution_count": 52,
   "id": "397da359-91a3-4c86-9bf7-c71f8798cefd",
   "metadata": {
    "tags": []
   },
   "outputs": [],
   "source": [
    "\n",
    "# Change names of remaining columns to snake_case\n",
    "\n",
    "df = df.rename(columns={'articletype': 'article_type'})\n",
    "\n",
    "df = df.rename(columns={'retractiondate': 'retraction_date'})\n",
    "\n",
    "df = df.rename(columns={'retractiondoi': 'retraction_doi'})\n",
    "\n",
    "df = df.rename(columns={'retractionpubmedid': 'retraction_pubmed_id'})\n",
    "\n",
    "df = df.rename(columns={'originalpaperdate': 'original_paper_date'})\n",
    "\n",
    "df = df.rename(columns={'originalpaperdoi': 'original_paper_doi'})\n",
    "\n",
    "df = df.rename(columns={'originalpaperpubmedid': 'original_paper_pubmed_id'})\n",
    "\n",
    "df = df.rename(columns={'retractionnature': 'retraction_nature'})\n"
   ]
  },
  {
   "cell_type": "markdown",
   "id": "f120dfe9-a477-4354-b409-b150d2ffcfa0",
   "metadata": {},
   "source": [
    "Let's make sure that that worked, and that all the names of our columns are now on snake case:"
   ]
  },
  {
   "cell_type": "code",
   "execution_count": 53,
   "id": "9619594b-4feb-4642-9a3f-8a7a02344e01",
   "metadata": {
    "tags": []
   },
   "outputs": [
    {
     "data": {
      "text/plain": [
       "Index(['record_id', 'title', 'subject', 'institution', 'journal', 'publisher',\n",
       "       'country', 'author', 'urls', 'article_type', 'retraction_date',\n",
       "       'retraction_doi', 'retraction_pubmed_id', 'original_paper_date',\n",
       "       'original_paper_doi', 'original_paper_pubmed_id', 'retraction_nature',\n",
       "       'reason', 'paywalled', 'notes'],\n",
       "      dtype='object')"
      ]
     },
     "execution_count": 53,
     "metadata": {},
     "output_type": "execute_result"
    }
   ],
   "source": [
    "\n",
    "# Visualize column names again\n",
    "\n",
    "df.columns\n"
   ]
  },
  {
   "cell_type": "markdown",
   "id": "7bf1a20a-7a2f-48f6-8ec5-9dff50945b73",
   "metadata": {},
   "source": [
    "We can see that the columns are now all on snake case, as we wanted. Earlier, we saw that some columns contained null entries, which could easily create problems in the future. Let us run a quick NaN analysis to get clearer picture of where exactly those null entries are located:"
   ]
  },
  {
   "cell_type": "code",
   "execution_count": 54,
   "id": "29890b00-6464-40a3-b512-83cbff4655ee",
   "metadata": {
    "tags": []
   },
   "outputs": [
    {
     "data": {
      "text/plain": [
       "<Axes: >"
      ]
     },
     "execution_count": 54,
     "metadata": {},
     "output_type": "execute_result"
    },
    {
     "data": {
      "image/png": "[encoded data removed]",
      "text/plain": [
       "<Figure size 2500x1000 with 3 Axes>"
      ]
     },
     "metadata": {},
     "output_type": "display_data"
    },
    {
     "data": {
      "image/png": "[encoded data removed]",
      "text/plain": [
       "<Figure size 2500x1000 with 2 Axes>"
      ]
     },
     "metadata": {},
     "output_type": "display_data"
    }
   ],
   "source": [
    "\n",
    "# Visualize NaNs per column using bars\n",
    "\n",
    "msno.bar(df)\n",
    "\n",
    "# Visualize NaNs per column using matrix\n",
    "\n",
    "msno.matrix(df)\n"
   ]
  },
  {
   "cell_type": "markdown",
   "id": "f0734a31-fd92-4221-b827-befc71a24409",
   "metadata": {},
   "source": [
    "There are indeed quite a few columns with null entries. Luckily, several of them are relatively inessential to our task, as they contain either \"notes\" or URLs and identifiers that will not be immediately useful to us. The columns that will the most important for our purposes, in fact, will be the following:\n",
    "\n",
    "- Original Paper DOI\n",
    "- Retraction Nature\n",
    "- Paywalled\n",
    "- Article Type\n",
    "- Original Paper Date\n",
    "- Reason for Retraction\n",
    "- Subject\n",
    "\n",
    "In the next few sections, we will take a look at each one of these columns, except for the last two. Because these two last columns require more elaborate treatment, we will postpone dealing with them until notebooks 1b and 1c. \n",
    "\n",
    "As for the rest of the colums, we will avoid dropping for now even if the information that they contain is not immediatelly useful for our purposes. The reason for that is that it might be useful to have this information available for future reference, for reasons that might not obvious just now.\n"
   ]
  },
  {
   "cell_type": "markdown",
   "id": "850c3e45-ebf4-4697-8927-adc95df03051",
   "metadata": {
    "tags": []
   },
   "source": [
    "## The \"Original Paper DOI Column\""
   ]
  },
  {
   "cell_type": "markdown",
   "id": "0d7d3649-7d3c-49a5-9f2b-18c374700d85",
   "metadata": {
    "tags": []
   },
   "source": [
    "\n",
    "As saw above, the \"original paper DOI column\" is the only column with relevant information that contains NaNs. Let us find out exactly how many of them we have, and see if it might be safe to simply drop them:\n"
   ]
  },
  {
   "cell_type": "code",
   "execution_count": 55,
   "id": "b5cd18ff-fec0-4d02-81dd-5d3ff0755291",
   "metadata": {
    "tags": []
   },
   "outputs": [
    {
     "data": {
      "text/plain": [
       "np.int64(2539)"
      ]
     },
     "execution_count": 55,
     "metadata": {},
     "output_type": "execute_result"
    }
   ],
   "source": [
    "\n",
    "# Obtain total number of papers with no doi\n",
    "\n",
    "df.original_paper_doi.isnull().sum()\n"
   ]
  },
  {
   "cell_type": "markdown",
   "id": "521c8897-aa0a-403c-a3f9-e0cc67ca72c6",
   "metadata": {},
   "source": [
    "\n",
    "It would be good to know what percentage of the total number of papers in our data set this represents. Since we will be trying to compute these kinds of percentages again for other columns, it will be useful to define a function that we can re-use later (we will also be adding all function definitions to a python file in our root folder, so that we can use them in other notebooks as well):"
   ]
  },
  {
   "cell_type": "code",
   "execution_count": 56,
   "id": "02464ef2-6956-412c-90ba-1c6e7204c483",
   "metadata": {
    "tags": []
   },
   "outputs": [],
   "source": [
    "\n",
    "# Define percentage_finder function\n",
    "\n",
    "def percentage_finder(df, col_name, val_name):\n",
    "    \"\"\"This function takes a data frame, the name of a column, and one of the \n",
    "    possible values of the column. It then returns how often that one value \n",
    "    occurs in that column of the data frame.\"\"\"\n",
    "    \n",
    "    if pd.isna(val_name):  # In case we want to check how many entries are NanNs\n",
    "        count = df[col_name].isna().sum()\n",
    "    else:\n",
    "        count = df[df[col_name] == val_name][col_name].count()\n",
    "        \n",
    "    percentage = (count / len(df[col_name])) * 100\n",
    "            \n",
    "    return percentage"
   ]
  },
  {
   "cell_type": "markdown",
   "id": "aa89b280-1c9f-4482-a50e-d8594fdfd450",
   "metadata": {},
   "source": [
    "We can now use this function to find out what percentage of rows in our column are null:"
   ]
  },
  {
   "cell_type": "code",
   "execution_count": 57,
   "id": "694070cb-2f5e-4f9f-8b5c-233ae9086f8b",
   "metadata": {
    "tags": []
   },
   "outputs": [
    {
     "name": "stdout",
     "output_type": "stream",
     "text": [
      "4.86 %\n"
     ]
    }
   ],
   "source": [
    "\n",
    "# Call percentage_finder function to find out % of paper with NaN values in \"original_paper_doi\" column\n",
    "\n",
    "print(round(percentage_finder(df, \"original_paper_doi\", np.nan),2), \"%\")\n",
    "   "
   ]
  },
  {
   "cell_type": "markdown",
   "id": "e02f168c-420b-4317-9eac-5344e8bf0947",
   "metadata": {},
   "source": [
    "This is a relatively small percentage of our papers. Since the DOI is the one identifier that we will use to access text data for our papers, it is essential that we have one. We will thus drop all papers without a DOI from our data set (since it might be useful to keep a record of our original data frame for future comparison, we will create a new data frame to store our \"clean\" information):"
   ]
  },
  {
   "cell_type": "code",
   "execution_count": 58,
   "id": "293c119f-fdbb-4501-bbde-1d6a8d9a43db",
   "metadata": {
    "tags": []
   },
   "outputs": [
    {
     "data": {
      "text/plain": [
       "np.int64(0)"
      ]
     },
     "execution_count": 58,
     "metadata": {},
     "output_type": "execute_result"
    }
   ],
   "source": [
    "\n",
    "# Create new clean data frame to store clean information only\n",
    "\n",
    "df_clean = df.copy()\n",
    "\n",
    "# Drop values with NaN entries from \"original_paper_doi\" column\n",
    "\n",
    "df_clean = df_clean.dropna(subset=[\"original_paper_doi\"])\n",
    "\n",
    "# Check that it worked\n",
    "\n",
    "df_clean.original_paper_doi.isnull().sum()\n"
   ]
  },
  {
   "cell_type": "markdown",
   "id": "adc7ebf0-85c1-4094-832f-671513e68a00",
   "metadata": {},
   "source": [
    "Note that it is still possible that some of the entries in the \"original_paper_doi\" column, while not being NaNs, will contain no valid DOI. Since all valid DOIs start with the character sequence \"10.\" we can easily find out whether we have any such cases. We will store all papers with an invalid DOI in a new data frame as that will be useful to manipulate later:"
   ]
  },
  {
   "cell_type": "code",
   "execution_count": 59,
   "id": "872cbd07-d8b9-41d3-921e-84f5a6c41938",
   "metadata": {
    "tags": []
   },
   "outputs": [
    {
     "data": {
      "text/html": [
       "<div>\n",
       "<style scoped>\n",
       "    .dataframe tbody tr th:only-of-type {\n",
       "        vertical-align: middle;\n",
       "    }\n",
       "\n",
       "    .dataframe tbody tr th {\n",
       "        vertical-align: top;\n",
       "    }\n",
       "\n",
       "    .dataframe thead th {\n",
       "        text-align: right;\n",
       "    }\n",
       "</style>\n",
       "<table border=\"1\" class=\"dataframe\">\n",
       "  <thead>\n",
       "    <tr style=\"text-align: right;\">\n",
       "      <th></th>\n",
       "      <th>record_id</th>\n",
       "      <th>title</th>\n",
       "      <th>subject</th>\n",
       "      <th>institution</th>\n",
       "      <th>journal</th>\n",
       "      <th>publisher</th>\n",
       "      <th>country</th>\n",
       "      <th>author</th>\n",
       "      <th>urls</th>\n",
       "      <th>article_type</th>\n",
       "      <th>retraction_date</th>\n",
       "      <th>retraction_doi</th>\n",
       "      <th>retraction_pubmed_id</th>\n",
       "      <th>original_paper_date</th>\n",
       "      <th>original_paper_doi</th>\n",
       "      <th>original_paper_pubmed_id</th>\n",
       "      <th>retraction_nature</th>\n",
       "      <th>reason</th>\n",
       "      <th>paywalled</th>\n",
       "      <th>notes</th>\n",
       "    </tr>\n",
       "  </thead>\n",
       "  <tbody>\n",
       "    <tr>\n",
       "      <th>207</th>\n",
       "      <td>52496</td>\n",
       "      <td>Comparison between two laparoscopic retropubic...</td>\n",
       "      <td>(HSC) Medicine - Surgery;(HSC) Medicine - Urol...</td>\n",
       "      <td>Obstetrics and Gynecology, University Magna Gr...</td>\n",
       "      <td>Minerva Surgery (formerly Minerva Chirurgica)</td>\n",
       "      <td>Edizioni Minerva Medica</td>\n",
       "      <td>Italy</td>\n",
       "      <td>Stefano Palomba;Tiziana Russo;Domenico Iuzzoli...</td>\n",
       "      <td>NaN</td>\n",
       "      <td>Clinical Study;</td>\n",
       "      <td>2/1/2024 0:00</td>\n",
       "      <td>10.23736/S2724-5691.23.10214-0</td>\n",
       "      <td>38381033.0</td>\n",
       "      <td>6/1/2002 0:00</td>\n",
       "      <td>unavailable</td>\n",
       "      <td>12029227.0</td>\n",
       "      <td>Retraction</td>\n",
       "      <td>+Duplication of Article;+Euphemisms for Duplic...</td>\n",
       "      <td>No</td>\n",
       "      <td>NaN</td>\n",
       "    </tr>\n",
       "  </tbody>\n",
       "</table>\n",
       "</div>"
      ],
      "text/plain": [
       "     record_id                                              title  \\\n",
       "207      52496  Comparison between two laparoscopic retropubic...   \n",
       "\n",
       "                                               subject  \\\n",
       "207  (HSC) Medicine - Surgery;(HSC) Medicine - Urol...   \n",
       "\n",
       "                                           institution  \\\n",
       "207  Obstetrics and Gynecology, University Magna Gr...   \n",
       "\n",
       "                                           journal                publisher  \\\n",
       "207  Minerva Surgery (formerly Minerva Chirurgica)  Edizioni Minerva Medica   \n",
       "\n",
       "    country                                             author urls  \\\n",
       "207   Italy  Stefano Palomba;Tiziana Russo;Domenico Iuzzoli...  NaN   \n",
       "\n",
       "        article_type retraction_date                  retraction_doi  \\\n",
       "207  Clinical Study;   2/1/2024 0:00  10.23736/S2724-5691.23.10214-0   \n",
       "\n",
       "     retraction_pubmed_id original_paper_date original_paper_doi  \\\n",
       "207            38381033.0       6/1/2002 0:00        unavailable   \n",
       "\n",
       "     original_paper_pubmed_id retraction_nature  \\\n",
       "207                12029227.0        Retraction   \n",
       "\n",
       "                                                reason paywalled notes  \n",
       "207  +Duplication of Article;+Euphemisms for Duplic...        No   NaN  "
      ]
     },
     "execution_count": 59,
     "metadata": {},
     "output_type": "execute_result"
    }
   ],
   "source": [
    "\n",
    "# Convert column entries to string string type and strip whitespaces\n",
    "\n",
    "df_clean['original_paper_doi'] = df_clean['original_paper_doi'].astype(str).str.strip()\n",
    "\n",
    "# Create new data frame with invalid DOIs that do NOT start with \"10.\" only\n",
    "\n",
    "df_invalid_dois = df_clean[~df_clean['original_paper_doi'].str.startswith('10.')]\n",
    "\n",
    "# Visualize resulting data frame with invalid DOIs\n",
    "\n",
    "df_invalid_dois.head(1)\n"
   ]
  },
  {
   "cell_type": "markdown",
   "id": "bebf539f-0561-4423-a115-d31d2837dc73",
   "metadata": {},
   "source": [
    "As we can see, we do have entries for which the \"original_paper_doi\" simply says \"unavailable.\" It would be good to find out how many different kinds of invalid DOIs we have, and how often each one of them occurs. In order to do that, we can create and display a new pandas series with the value count of each unique kind of invalid DOI on our data frame, as that will turn out to be convenient later:"
   ]
  },
  {
   "cell_type": "code",
   "execution_count": 60,
   "id": "f0ce6273-dd67-4360-8852-3e32e6cbe910",
   "metadata": {
    "tags": []
   },
   "outputs": [
    {
     "data": {
      "text/plain": [
       "original_paper_doi\n",
       "Unavailable                    2236\n",
       "unavailable                    1139\n",
       "doi: 10.1074/jbc.M313385200       1\n",
       "doi:10.1038/srep25491             1\n",
       "Name: count, dtype: int64"
      ]
     },
     "execution_count": 60,
     "metadata": {},
     "output_type": "execute_result"
    }
   ],
   "source": [
    "\n",
    "# Create new data frame with number of occurrances of each kind of invalid DOI as column entries \n",
    "\n",
    "invalid_doi_count = df_invalid_dois['original_paper_doi'].value_counts()\n",
    "\n",
    "# Visualize elements and values of new data frame to find out frequency of each kind of invalid DOI\n",
    "\n",
    "invalid_doi_count\n"
   ]
  },
  {
   "cell_type": "markdown",
   "id": "a9c3edc5-a03b-4e3f-ac13-296bf90939c5",
   "metadata": {},
   "source": [
    "We can see that there are only four kinds of unique non-valid DOIs. It would be good to find out how many of the papers in our data set have those kinds of invalid DOIs. Let us our percentage finder function to find out whate percentage over the total number of papers in our data set those numbes represent:"
   ]
  },
  {
   "cell_type": "code",
   "execution_count": 61,
   "id": "d7be7216-8742-47ec-b315-1f2398f5354e",
   "metadata": {
    "tags": []
   },
   "outputs": [
    {
     "name": "stdout",
     "output_type": "stream",
     "text": [
      "Percentage of papers with each kind of invalid DOI:\n",
      "\n",
      "Unavailable: 4.494%\n",
      "unavailable: 2.289%\n",
      "doi: 10.1074/jbc.M313385200: 0.002%\n",
      "doi:10.1038/srep25491: 0.002%\n"
     ]
    }
   ],
   "source": [
    "\n",
    "# Message clarifying meaning of numbers to be displayed\n",
    "\n",
    "print(\"Percentage of papers with each kind of invalid DOI:\\n\")\n",
    "\n",
    "# Visualize elements and values of invalid_doi_count series \n",
    "\n",
    "for element, value in invalid_doi_count.items():\n",
    "    print(f\"{element}: {round(percentage_finder(df_clean,'original_paper_doi', element),3)}%\")\n",
    "\n",
    " "
   ]
  },
  {
   "cell_type": "markdown",
   "id": "61fa4940-5c10-485d-82ec-377ee2a129f3",
   "metadata": {},
   "source": [
    "As we can see, these percentages are once again relatively small. We will therefore proceed to drop the rows for papers without a valid DOI from our data frame:"
   ]
  },
  {
   "cell_type": "code",
   "execution_count": 62,
   "id": "8410acc0-941b-4e66-af93-8f0b006f7d7c",
   "metadata": {
    "tags": []
   },
   "outputs": [
    {
     "name": "stdout",
     "output_type": "stream",
     "text": [
      "(46374, 20)\n"
     ]
    },
    {
     "data": {
      "text/html": [
       "<div>\n",
       "<style scoped>\n",
       "    .dataframe tbody tr th:only-of-type {\n",
       "        vertical-align: middle;\n",
       "    }\n",
       "\n",
       "    .dataframe tbody tr th {\n",
       "        vertical-align: top;\n",
       "    }\n",
       "\n",
       "    .dataframe thead th {\n",
       "        text-align: right;\n",
       "    }\n",
       "</style>\n",
       "<table border=\"1\" class=\"dataframe\">\n",
       "  <thead>\n",
       "    <tr style=\"text-align: right;\">\n",
       "      <th></th>\n",
       "      <th>record_id</th>\n",
       "      <th>title</th>\n",
       "      <th>subject</th>\n",
       "      <th>institution</th>\n",
       "      <th>journal</th>\n",
       "      <th>publisher</th>\n",
       "      <th>country</th>\n",
       "      <th>author</th>\n",
       "      <th>urls</th>\n",
       "      <th>article_type</th>\n",
       "      <th>retraction_date</th>\n",
       "      <th>retraction_doi</th>\n",
       "      <th>retraction_pubmed_id</th>\n",
       "      <th>original_paper_date</th>\n",
       "      <th>original_paper_doi</th>\n",
       "      <th>original_paper_pubmed_id</th>\n",
       "      <th>retraction_nature</th>\n",
       "      <th>reason</th>\n",
       "      <th>paywalled</th>\n",
       "      <th>notes</th>\n",
       "    </tr>\n",
       "  </thead>\n",
       "  <tbody>\n",
       "    <tr>\n",
       "      <th>0</th>\n",
       "      <td>52765</td>\n",
       "      <td>An integrated 3D model based face recognition ...</td>\n",
       "      <td>(B/T) Data Science;(B/T) Technology;</td>\n",
       "      <td>Management Information System Department, Cypr...</td>\n",
       "      <td>Applied Nanoscience</td>\n",
       "      <td>Springer</td>\n",
       "      <td>Turkey</td>\n",
       "      <td>Ali Milad;Kamil Yurtkan</td>\n",
       "      <td>https://retractionwatch.com/2024/01/26/springe...</td>\n",
       "      <td>Research Article;</td>\n",
       "      <td>6/30/2023 0:00</td>\n",
       "      <td>10.1007/s13204-024-03010-9</td>\n",
       "      <td>0.0</td>\n",
       "      <td>2/3/2022 0:00</td>\n",
       "      <td>10.1007/s13204-021-02123-9</td>\n",
       "      <td>0.0</td>\n",
       "      <td>Correction</td>\n",
       "      <td>+Error in Text;+Updated to Retraction;</td>\n",
       "      <td>No</td>\n",
       "      <td>See also: https://pubpeer.com/publications/BCC...</td>\n",
       "    </tr>\n",
       "  </tbody>\n",
       "</table>\n",
       "</div>"
      ],
      "text/plain": [
       "   record_id                                              title  \\\n",
       "0      52765  An integrated 3D model based face recognition ...   \n",
       "\n",
       "                                subject  \\\n",
       "0  (B/T) Data Science;(B/T) Technology;   \n",
       "\n",
       "                                         institution              journal  \\\n",
       "0  Management Information System Department, Cypr...  Applied Nanoscience   \n",
       "\n",
       "  publisher country                   author  \\\n",
       "0  Springer  Turkey  Ali Milad;Kamil Yurtkan   \n",
       "\n",
       "                                                urls       article_type  \\\n",
       "0  https://retractionwatch.com/2024/01/26/springe...  Research Article;   \n",
       "\n",
       "  retraction_date              retraction_doi  retraction_pubmed_id  \\\n",
       "0  6/30/2023 0:00  10.1007/s13204-024-03010-9                   0.0   \n",
       "\n",
       "  original_paper_date          original_paper_doi  original_paper_pubmed_id  \\\n",
       "0       2/3/2022 0:00  10.1007/s13204-021-02123-9                       0.0   \n",
       "\n",
       "  retraction_nature                                  reason paywalled  \\\n",
       "0        Correction  +Error in Text;+Updated to Retraction;        No   \n",
       "\n",
       "                                               notes  \n",
       "0  See also: https://pubpeer.com/publications/BCC...  "
      ]
     },
     "execution_count": 62,
     "metadata": {},
     "output_type": "execute_result"
    }
   ],
   "source": [
    "\n",
    "# Keep only those rows whose value for the \"original_doi_column\" starts with \"10.\"\n",
    "\n",
    "df_clean = df_clean[df_clean['original_paper_doi'].str.startswith('10.')]\n",
    "\n",
    "# Make sure size of clean data frame is correct\n",
    "\n",
    "print(df_clean.shape)\n",
    "\n",
    "# Visualize new clean data set to make sure all is as desired\n",
    "\n",
    "df_clean.head(1)\n"
   ]
  },
  {
   "cell_type": "markdown",
   "id": "e8fa74e3-8b58-42aa-9f8a-9ef22dc84d83",
   "metadata": {
    "tags": []
   },
   "source": [
    "\n",
    "We did get rid of a substantial amount of the papers in our original data frame. The papers that remain, however, are exactly the ones that we need for our investigation, and the pay-off that results from this in will be substantial in later notebooks.\n",
    "\n",
    "Before we continue, we will convert all remaining entries of the column to string type, since we will be using DOIs as strings in future notebooks:"
   ]
  },
  {
   "cell_type": "code",
   "execution_count": 63,
   "id": "143cdcb2-fe8f-4730-8fca-cd40d167f697",
   "metadata": {},
   "outputs": [],
   "source": [
    "\n",
    "df['original_paper_doi'] = df['original_paper_doi'].astype(str).fillna('')\n"
   ]
  },
  {
   "cell_type": "markdown",
   "id": "f10c234e-bad7-44af-8efb-c30a3f828a74",
   "metadata": {
    "tags": []
   },
   "source": [
    "## The \"Retraction Nature\" Column"
   ]
  },
  {
   "cell_type": "markdown",
   "id": "42e27819-2adf-4ea9-bfde-9f4e2db4308a",
   "metadata": {
    "tags": []
   },
   "source": [
    "Having dealt with the NaN entries in the \"original_paper_doi\" column, we can now turn to the rest of the columnns that we wanted to analyze, none of which had null entries. Let us start by taking a look at the \"Retraction Nature\" column. We will first display the unique values of the column:"
   ]
  },
  {
   "cell_type": "code",
   "execution_count": 64,
   "id": "ab33ca6a-8e34-46ad-aaf3-5ba6b8e56537",
   "metadata": {
    "tags": []
   },
   "outputs": [
    {
     "data": {
      "text/plain": [
       "array(['Correction', 'Retraction', 'Expression of concern',\n",
       "       'Reinstatement'], dtype=object)"
      ]
     },
     "execution_count": 64,
     "metadata": {},
     "output_type": "execute_result"
    }
   ],
   "source": [
    "# Visualize unique values of the column\n",
    "\n",
    "df_clean.retraction_nature.unique()\n"
   ]
  },
  {
   "cell_type": "markdown",
   "id": "4434cb40-a474-4056-9ffd-7ec96ad4d4c6",
   "metadata": {},
   "source": [
    "We are interested in finding out how often each one of those reasons for retractions occur in our data set. We already created a function to calculate the frequency with which a give value occurs in a column, but it will be useful to further automate the process of systematically calculating and displaying these percentages for all the values in a given column, since we will be doing that for other columns in this notebook. Let us thus go ahead and define a function that does just that (note also that this function would not have helped us with the percentages that we calculated earlier in our analysis of the \"original_paper_doi\" column. There, unlike here, we wanted to calculate the f):"
   ]
  },
  {
   "cell_type": "code",
   "execution_count": 65,
   "id": "45359dd7-9d98-4719-a134-42863b670333",
   "metadata": {
    "tags": []
   },
   "outputs": [],
   "source": [
    "\n",
    "def percentage_printer(df, col_name, val_num=None):\n",
    "    \"\"\"This function takes a data frame and a column name as input. It then calls\n",
    "    the percentage_finder function to print the percentage of occurrences of each\n",
    "    value of the column in descending order. The val_num parameter determines how\n",
    "    many of the top values to display.\"\"\"\n",
    "    \n",
    "    percentages = [\n",
    "        (value, percentage_finder(df, col_name, value))\n",
    "        for value in df[col_name].unique()\n",
    "    ]\n",
    "    \n",
    "    # Sort the list by percentage in descending order\n",
    "    percentages.sort(key=lambda x: x[1], reverse=True)\n",
    "    \n",
    "    # Limit the number of values displayed if val_num is specified\n",
    "    if val_num is not None:\n",
    "        percentages = percentages[:val_num]\n",
    "    \n",
    "    # Print the sorted percentages\n",
    "    for value, percentage in percentages:\n",
    "        print(f\"{value}: {round(percentage, 2)}%\")\n",
    "        "
   ]
  },
  {
   "cell_type": "markdown",
   "id": "b220fca0-d928-474d-b6d9-d8176fbffd90",
   "metadata": {},
   "source": [
    "It will also be useful to create a function that draws a histogram displaying the occurrances of all the values in a given data frame, so as to have a visual representation of what those percentages amount to:"
   ]
  },
  {
   "cell_type": "code",
   "execution_count": 66,
   "id": "ba8b8e8b-a741-4f86-aea7-fc9be4811dcd",
   "metadata": {
    "tags": []
   },
   "outputs": [],
   "source": [
    "\n",
    "# Define histogram printer function\n",
    "\n",
    "def histogram_printer(df, col_name):\n",
    "    \"\"\"Takes a data frame and a column name as input, produces a histogram\n",
    "    for the vaulues of that column of the data frame\"\"\"\n",
    "    \n",
    "    df[col_name].hist()\n"
   ]
  },
  {
   "cell_type": "markdown",
   "id": "51827ca0-1272-49d0-869d-605b5b31a4dd",
   "metadata": {},
   "source": [
    "We can now use those functions to obtain the relative frequence with which each reson for retraction occurs. First we call the percentage printer function to visualize those relative frequencies, expressed as percentages:"
   ]
  },
  {
   "cell_type": "code",
   "execution_count": 67,
   "id": "d27debe4-3739-441b-89f6-102d9b5c50c1",
   "metadata": {
    "tags": []
   },
   "outputs": [
    {
     "name": "stdout",
     "output_type": "stream",
     "text": [
      "Retraction: 90.53%\n",
      "Expression of concern: 6.58%\n",
      "Correction: 2.61%\n",
      "Reinstatement: 0.29%\n"
     ]
    }
   ],
   "source": [
    "\n",
    "# Call percentage_printer to obtain frequencies of each reason for retraction\n",
    "\n",
    "percentage_printer(df_clean, \"retraction_nature\")\n"
   ]
  },
  {
   "cell_type": "markdown",
   "id": "32fad6aa-8ee6-4900-859e-ef492a7e0b0f",
   "metadata": {},
   "source": [
    "And next we call our histogram printer function to visualize those frequencies in a histogram:"
   ]
  },
  {
   "cell_type": "code",
   "execution_count": 68,
   "id": "ade93d00-8a79-4afa-8aa8-de30d516efb9",
   "metadata": {
    "tags": []
   },
   "outputs": [
    {
     "data": {
      "image/png": "[encoded data removed]",
      "text/plain": [
       "<Figure size 640x480 with 1 Axes>"
      ]
     },
     "metadata": {},
     "output_type": "display_data"
    }
   ],
   "source": [
    "\n",
    "# Call histogram_printer to produce histogram for \"Retraction Nature\" column\n",
    "\n",
    "histogram_printer(df_clean, \"retraction_nature\")\n"
   ]
  },
  {
   "cell_type": "markdown",
   "id": "e2af45cc-69e0-49b6-ad4b-d348861be5aa",
   "metadata": {},
   "source": [
    "\n",
    "As we can see, the vast majority of papers papers were actually retracted. Since this is what we are primarily interested in, we can drop the articles that belong to the remaining three categories:"
   ]
  },
  {
   "cell_type": "code",
   "execution_count": 69,
   "id": "d038efce-ec97-47e8-8b7d-2042a6624a8b",
   "metadata": {
    "tags": []
   },
   "outputs": [
    {
     "data": {
      "text/plain": [
       "Index(['record_id', 'title', 'subject', 'institution', 'journal', 'publisher',\n",
       "       'country', 'author', 'urls', 'article_type', 'retraction_date',\n",
       "       'retraction_doi', 'retraction_pubmed_id', 'original_paper_date',\n",
       "       'original_paper_doi', 'original_paper_pubmed_id', 'reason', 'paywalled',\n",
       "       'notes'],\n",
       "      dtype='object')"
      ]
     },
     "execution_count": 69,
     "metadata": {},
     "output_type": "execute_result"
    }
   ],
   "source": [
    "\n",
    "# Retain only entries with \"Retraction\" value in the \"Retraction Nature\" column\n",
    "\n",
    "df_clean = df_clean[df_clean[\"retraction_nature\"] == \"Retraction\"]\n",
    "\n",
    "# Drop \"Retraction Nature\" column\n",
    "\n",
    "df_clean.drop(\"retraction_nature\", axis=1, inplace = True)\n",
    "\n",
    "# Check that it worked\n",
    "\n",
    "df_clean.columns\n"
   ]
  },
  {
   "cell_type": "markdown",
   "id": "d5e0fe5d-1f86-47e4-81b1-8241c80a8c3b",
   "metadata": {
    "tags": []
   },
   "source": [
    "## The \"Paywalled\" Column"
   ]
  },
  {
   "cell_type": "markdown",
   "id": "97148bc4-388f-4988-a54c-2d3dc9c9c04d",
   "metadata": {},
   "source": [
    "Next we turn to the \"Paywalled Column.\" Let us once again find out what the unique values of this column are:"
   ]
  },
  {
   "cell_type": "code",
   "execution_count": 70,
   "id": "46b71ad1-8894-4a9d-85e9-03eda723eedb",
   "metadata": {
    "tags": []
   },
   "outputs": [
    {
     "data": {
      "text/plain": [
       "array(['No', nan, 'Unknown', 'Yes'], dtype=object)"
      ]
     },
     "execution_count": 70,
     "metadata": {},
     "output_type": "execute_result"
    }
   ],
   "source": [
    "\n",
    "# Visualize the unique values of the Paywalled column\n",
    "\n",
    "df_clean.paywalled.unique()\n"
   ]
  },
  {
   "cell_type": "markdown",
   "id": "9c801de3-be60-4c77-9d7c-4bcd5818554a",
   "metadata": {},
   "source": [
    "And again, let us continue by using the percentage printer function that we defined above to find out how often each one of those values occurs:"
   ]
  },
  {
   "cell_type": "code",
   "execution_count": 71,
   "id": "5d656c9f-8765-481a-9b48-785c9e115c50",
   "metadata": {
    "tags": []
   },
   "outputs": [
    {
     "name": "stdout",
     "output_type": "stream",
     "text": [
      "No: 96.35%\n",
      "Yes: 3.37%\n",
      "Unknown: 0.27%\n",
      "nan: 0.01%\n"
     ]
    }
   ],
   "source": [
    "\n",
    "# Call percentage_printer function to visualize relative frequency of each reason\n",
    "\n",
    "percentage_printer(df_clean, \"paywalled\")\n"
   ]
  },
  {
   "cell_type": "markdown",
   "id": "493ff00e-9c1e-496e-a7f0-d124b1dad3c3",
   "metadata": {},
   "source": [
    "And by visualizing those percentages by using our histogram_printer function:"
   ]
  },
  {
   "cell_type": "code",
   "execution_count": 72,
   "id": "ff521aff-cf50-4b3f-abaa-e6edae6871b8",
   "metadata": {
    "tags": []
   },
   "outputs": [
    {
     "data": {
      "image/png": "[encoded data removed]",
      "text/plain": [
       "<Figure size 640x480 with 1 Axes>"
      ]
     },
     "metadata": {},
     "output_type": "display_data"
    }
   ],
   "source": [
    "\n",
    "# Visualize histogram for Paywalled column\n",
    "\n",
    "histogram_printer(df_clean, \"paywalled\")\n"
   ]
  },
  {
   "cell_type": "markdown",
   "id": "e6bc7345-3a2d-45ff-b4f5-47b24957f603",
   "metadata": {},
   "source": [
    "\n",
    "We see that the majority of the papers in our data set are not paywalled, which is good. Still, we will see how useful information (such as full text n-grams) is sometimes available for paywalled papers, so we will leave those papers in. It might also be useful to know if a given paper is paywalled or not, so we will leave the column in our data frame after all. "
   ]
  },
  {
   "cell_type": "markdown",
   "id": "a3b9f44e-87f1-4aea-8d7e-f277669a896e",
   "metadata": {},
   "source": [
    "## The \"Article Type\" Column"
   ]
  },
  {
   "cell_type": "markdown",
   "id": "5b143fdc-3610-446b-82ed-3becfea45492",
   "metadata": {},
   "source": [
    "\n",
    "Let us now take a look at the \"Article Type\" column. As always, we start by checking the number of unique values in this column:"
   ]
  },
  {
   "cell_type": "code",
   "execution_count": 73,
   "id": "0c658866-cbb8-4bec-abe3-7acd763406a5",
   "metadata": {
    "tags": []
   },
   "outputs": [
    {
     "data": {
      "text/plain": [
       "87"
      ]
     },
     "execution_count": 73,
     "metadata": {},
     "output_type": "execute_result"
    }
   ],
   "source": [
    "\n",
    "# Display number of unique values in \"Article Type\" column\n",
    "\n",
    "df_clean.article_type.nunique()\n"
   ]
  },
  {
   "cell_type": "markdown",
   "id": "1799245d-7446-456f-b7eb-33a86b4613fc",
   "metadata": {},
   "source": [
    "\n",
    "We have a lot of different values in the column, so let's try and see how often each one of those occurs by using our percentage_printer function:"
   ]
  },
  {
   "cell_type": "code",
   "execution_count": 74,
   "id": "2636403c-ca85-4d73-81c3-bfe2855088e1",
   "metadata": {
    "tags": []
   },
   "outputs": [
    {
     "name": "stdout",
     "output_type": "stream",
     "text": [
      "Research Article;: 61.71%\n",
      "Conference Abstract/Paper;: 23.44%\n",
      "Clinical Study;: 4.12%\n",
      "Review Article;: 3.26%\n",
      "Book Chapter/Reference Work;: 1.11%\n",
      "Case Report;: 1.07%\n",
      "Article in Press;Research Article;: 0.8%\n",
      "Meta-Analysis;: 0.76%\n",
      "Review Article;Revision;: 0.65%\n",
      "Commentary/Editorial;: 0.37%\n",
      "Clinical Study;Research Article;: 0.34%\n",
      "Case Report;Letter;: 0.24%\n",
      "Article in Press;: 0.16%\n",
      "Letter;: 0.16%\n",
      "Letter;Research Article;: 0.15%\n",
      "Preprint;Research Article;: 0.15%\n",
      "Commentary/Editorial;Conference Abstract/Paper;: 0.13%\n",
      "Conference Abstract/Paper;Research Article;: 0.1%\n",
      "Book Chapter/Reference Work;Research Article;: 0.09%\n",
      "Guideline;: 0.09%\n",
      "Meta-Analysis;Review Article;: 0.08%\n",
      "Article in Press;Review Article;: 0.07%\n",
      "Other;: 0.07%\n",
      "Case Report;Conference Abstract/Paper;: 0.06%\n",
      "Correction/Erratum/Corrigendum;: 0.06%\n",
      "Research Article;Review Article;: 0.05%\n",
      "Retracted Article;: 0.05%\n",
      "Article in Press;Clinical Study;: 0.04%\n",
      "Commentary/Editorial;Letter;: 0.04%\n",
      "Preprint;: 0.04%\n",
      "Conference Abstract/Paper;Review Article;: 0.04%\n",
      "Book Chapter/Reference Work;Conference Abstract/Paper;: 0.04%\n",
      "Case Report;Review Article;: 0.03%\n",
      "Article in Press;Case Report;: 0.03%\n",
      "Clinical Study;Conference Abstract/Paper;: 0.03%\n",
      "Guideline;Research Article;: 0.03%\n",
      "Meta-Analysis;Research Article;: 0.02%\n",
      "Case Report;Research Article;: 0.02%\n",
      "Clinical Study;Letter;: 0.02%\n",
      "Retraction Notice;: 0.02%\n",
      "Trade Magazines;: 0.02%\n",
      "Article in Press;Commentary/Editorial;: 0.02%\n",
      "Clinical Study;Preprint;: 0.01%\n",
      "Commentary/Editorial;Review Article;: 0.01%\n",
      "Article in Press;Meta-Analysis;: 0.01%\n",
      "Auto/Biography;: 0.01%\n",
      "Supplementary Materials;: 0.01%\n",
      "Guideline;Review Article;: 0.01%\n",
      "Commentary/Editorial;Research Article;: 0.01%\n",
      "Case Report;Clinical Study;: 0.01%\n",
      "Article in Press;Case Report;Review Article;: 0.01%\n",
      "Letter;Review Article;: 0.01%\n",
      "Article in Press;Letter;: 0.01%\n",
      "Article in Press;Conference Abstract/Paper;: 0.01%\n",
      "Interview/Q&A;: 0.01%\n",
      "Technical Report/White Paper;: 0.01%\n",
      "Expression of Concern;: 0.01%\n",
      "Meta-Analysis;Research Article;Review Article;: 0.0%\n",
      "Preprint;Review Article;: 0.0%\n",
      "Dissertation/Thesis;: 0.0%\n",
      "Article in Press;Guideline;: 0.0%\n",
      "Letter;Meta-Analysis;: 0.0%\n",
      "Research Article;Trade Magazines;: 0.0%\n",
      "Clinical Study;Preprint;Revision;: 0.0%\n",
      "Retracted Article;Retraction Notice;: 0.0%\n",
      "Conference Abstract/Paper;Meta-Analysis;: 0.0%\n",
      "Correction/Erratum/Corrigendum;Retracted Article;: 0.0%\n",
      "Article in Press;Correction/Erratum/Corrigendum;: 0.0%\n",
      "Article in Press;Guideline;Review Article;: 0.0%\n",
      "Article in Press;Case Report;Guideline;: 0.0%\n",
      "Article in Press;Clinical Study;Research Article;: 0.0%\n",
      "Correction/Erratum/Corrigendum;Research Article;: 0.0%\n",
      "Article in Press;Preprint;: 0.0%\n",
      "Article in Press;Case Report;Letter;: 0.0%\n",
      "Revision;: 0.0%\n",
      "Commentary/Editorial;Preprint;: 0.0%\n",
      "Commentary/Editorial;Trade Magazines;: 0.0%\n",
      "Government Publication;: 0.0%\n",
      "Government Publication;Research Article;: 0.0%\n",
      "Letter;Research Article;Retracted Article;: 0.0%\n",
      "Commentary/Editorial;Guideline;: 0.0%\n",
      "Article in Press;Meta-Analysis;Review Article;: 0.0%\n",
      "Clinical Study;Correction/Erratum/Corrigendum;: 0.0%\n",
      "Research Article;Retraction Notice;: 0.0%\n",
      "Legal Case/Analysis;: 0.0%\n",
      "Case Report;Commentary/Editorial;: 0.0%\n",
      "Clinical Study;Guideline;: 0.0%\n"
     ]
    }
   ],
   "source": [
    "\n",
    "# Find percentages of articles with each article type\n",
    "\n",
    "percentage_printer(df_clean, \"article_type\")\n"
   ]
  },
  {
   "cell_type": "markdown",
   "id": "2dce525f-81ff-4653-87ac-5210983a484f",
   "metadata": {},
   "source": [
    "\n",
    "We see that most article types are not actually represented in the data set, and that the article types that we are interested in comprise the vast majority of the papers. So will keep information for \"Research Articles,\" \"Review Articles,\" and \"Conference Abstract/Papers:\""
   ]
  },
  {
   "cell_type": "code",
   "execution_count": 75,
   "id": "6ccc7521-dafe-4907-8841-5c734d871217",
   "metadata": {
    "tags": []
   },
   "outputs": [
    {
     "data": {
      "text/plain": [
       "array(['Research Article;', 'Review Article;',\n",
       "       'Conference Abstract/Paper;'], dtype=object)"
      ]
     },
     "execution_count": 75,
     "metadata": {},
     "output_type": "execute_result"
    }
   ],
   "source": [
    "\n",
    "# Drop articles types that are of no interest\n",
    "# Note the semicolon at the end to match the format of the entries in the \"Article Type\" column\n",
    "\n",
    "df_clean = df_clean[df_clean[\"article_type\"].isin([\"Research Article;\", \"Review Article;\", \"Conference Abstract/Paper;\"])]\n",
    "\n",
    "# Check that it worked\n",
    "\n",
    "df_clean.article_type.unique()\n"
   ]
  },
  {
   "cell_type": "markdown",
   "id": "e09f2862-1453-474c-86d9-5fc9f42d0183",
   "metadata": {
    "tags": []
   },
   "source": [
    "## The \"Original Paper Date\" Column"
   ]
  },
  {
   "cell_type": "markdown",
   "id": "de48c52c-5f9a-481b-a516-6ba2c59a0165",
   "metadata": {
    "tags": []
   },
   "source": [
    "Let us take a look at the \"original_paper_date\" column. As it is easy to see, this colum contains the specific publication date for each article in our data set. However, the year of publication of each paper will often be more than enough for our purposes. It will therefore be useful to add a column to our data frame that contains this information only:"
   ]
  },
  {
   "cell_type": "code",
   "execution_count": 76,
   "id": "53bda4f3-bc6d-44d3-9abc-32e7921825ce",
   "metadata": {
    "tags": []
   },
   "outputs": [
    {
     "data": {
      "text/html": [
       "<div>\n",
       "<style scoped>\n",
       "    .dataframe tbody tr th:only-of-type {\n",
       "        vertical-align: middle;\n",
       "    }\n",
       "\n",
       "    .dataframe tbody tr th {\n",
       "        vertical-align: top;\n",
       "    }\n",
       "\n",
       "    .dataframe thead th {\n",
       "        text-align: right;\n",
       "    }\n",
       "</style>\n",
       "<table border=\"1\" class=\"dataframe\">\n",
       "  <thead>\n",
       "    <tr style=\"text-align: right;\">\n",
       "      <th></th>\n",
       "      <th>record_id</th>\n",
       "      <th>title</th>\n",
       "      <th>subject</th>\n",
       "      <th>institution</th>\n",
       "      <th>journal</th>\n",
       "      <th>publisher</th>\n",
       "      <th>country</th>\n",
       "      <th>author</th>\n",
       "      <th>urls</th>\n",
       "      <th>article_type</th>\n",
       "      <th>retraction_date</th>\n",
       "      <th>retraction_doi</th>\n",
       "      <th>retraction_pubmed_id</th>\n",
       "      <th>original_paper_date</th>\n",
       "      <th>original_paper_doi</th>\n",
       "      <th>original_paper_pubmed_id</th>\n",
       "      <th>reason</th>\n",
       "      <th>paywalled</th>\n",
       "      <th>notes</th>\n",
       "      <th>year</th>\n",
       "    </tr>\n",
       "  </thead>\n",
       "  <tbody>\n",
       "    <tr>\n",
       "      <th>1</th>\n",
       "      <td>52762</td>\n",
       "      <td>Convolutional neural network and Kalman filter...</td>\n",
       "      <td>(B/T) Data Science;(B/T) Technology;(PHY) Engi...</td>\n",
       "      <td>Engineering Campus, School of Electrical and E...</td>\n",
       "      <td>Applied Nanoscience</td>\n",
       "      <td>Springer</td>\n",
       "      <td>Malaysia</td>\n",
       "      <td>Bushra N Alsunbuli;Widad Ismail;Nor M Mahyuddin</td>\n",
       "      <td>https://retractionwatch.com/2024/01/26/springe...</td>\n",
       "      <td>Research Article;</td>\n",
       "      <td>1/11/2024 0:00</td>\n",
       "      <td>10.1007/s13204-024-03006-5</td>\n",
       "      <td>0.0</td>\n",
       "      <td>2021-09-17</td>\n",
       "      <td>10.1007/s13204-021-02043-8</td>\n",
       "      <td>0.0</td>\n",
       "      <td>+Concerns/Issues about Referencing/Attribution...</td>\n",
       "      <td>No</td>\n",
       "      <td>See also: https://pubpeer.com/publications/83D...</td>\n",
       "      <td>2021</td>\n",
       "    </tr>\n",
       "  </tbody>\n",
       "</table>\n",
       "</div>"
      ],
      "text/plain": [
       "   record_id                                              title  \\\n",
       "1      52762  Convolutional neural network and Kalman filter...   \n",
       "\n",
       "                                             subject  \\\n",
       "1  (B/T) Data Science;(B/T) Technology;(PHY) Engi...   \n",
       "\n",
       "                                         institution              journal  \\\n",
       "1  Engineering Campus, School of Electrical and E...  Applied Nanoscience   \n",
       "\n",
       "  publisher   country                                           author  \\\n",
       "1  Springer  Malaysia  Bushra N Alsunbuli;Widad Ismail;Nor M Mahyuddin   \n",
       "\n",
       "                                                urls       article_type  \\\n",
       "1  https://retractionwatch.com/2024/01/26/springe...  Research Article;   \n",
       "\n",
       "  retraction_date              retraction_doi  retraction_pubmed_id  \\\n",
       "1  1/11/2024 0:00  10.1007/s13204-024-03006-5                   0.0   \n",
       "\n",
       "  original_paper_date          original_paper_doi  original_paper_pubmed_id  \\\n",
       "1          2021-09-17  10.1007/s13204-021-02043-8                       0.0   \n",
       "\n",
       "                                              reason paywalled  \\\n",
       "1  +Concerns/Issues about Referencing/Attribution...        No   \n",
       "\n",
       "                                               notes  year  \n",
       "1  See also: https://pubpeer.com/publications/83D...  2021  "
      ]
     },
     "execution_count": 76,
     "metadata": {},
     "output_type": "execute_result"
    }
   ],
   "source": [
    "\n",
    "# Convert column entries of clean data frame to datetime format\n",
    "# Note that item at position 5045 has diverging format\n",
    "\n",
    "df_clean['original_paper_date'] = pd.to_datetime(df_clean['original_paper_date'], format='mixed')\n",
    "\n",
    "# Extract year iformation and create new column with it \n",
    "\n",
    "df_clean['year'] = df_clean['original_paper_date'].dt.year\n",
    "\n",
    "# Visualize result\n",
    "\n",
    "df_clean.head(1)\n"
   ]
  },
  {
   "cell_type": "markdown",
   "id": "f022a580-c466-4cfe-aa04-cec3161d1186",
   "metadata": {
    "tags": []
   },
   "source": [
    "\n",
    "Before we are done with this notebook and write our clean data into a .csv file, let us quickly find out how many retracted papers do we have in our data set after data cleaning, and what percentage of the entries in our original data set those represent:"
   ]
  },
  {
   "cell_type": "code",
   "execution_count": 77,
   "id": "b3a33dc4-dea7-405a-a9db-e898776c64df",
   "metadata": {
    "tags": []
   },
   "outputs": [
    {
     "name": "stdout",
     "output_type": "stream",
     "text": [
      "Number of papers in clean data frame: 37117.\n",
      "Percentage of papers of original data frame that remain in clean data frame: 70.98%.\n"
     ]
    }
   ],
   "source": [
    "\n",
    "# Print message with number of papers after data cleaning\n",
    "\n",
    "print(f\"Number of papers in clean data frame: {df_clean.shape[0]}.\")\n",
    "\n",
    "# Print message with percentage of dropped papers \n",
    "\n",
    "print(f\"Percentage of papers of original data frame that remain in clean data frame: {round(df_clean.shape[0] / df.shape[0] * 100,2)}%.\")\n"
   ]
  },
  {
   "cell_type": "markdown",
   "id": "2649770c-e9c9-44e8-ae47-f64968ab45f0",
   "metadata": {},
   "source": [
    "## The \"Country\" Column"
   ]
  },
  {
   "cell_type": "markdown",
   "id": "b1118086-bc54-4091-b41e-f7f9629de2e7",
   "metadata": {},
   "source": [
    "\n",
    "Finally, we will take a quick look at the \"country\" column:\n"
   ]
  },
  {
   "cell_type": "code",
   "execution_count": 78,
   "id": "ba563cdc-baea-442a-b398-cee572cd5be8",
   "metadata": {},
   "outputs": [
    {
     "data": {
      "text/plain": [
       "1                 Malaysia\n",
       "2                   Turkey\n",
       "3        India;Iraq;Turkey\n",
       "4                   Turkey\n",
       "5                   Turkey\n",
       "               ...        \n",
       "52284        United States\n",
       "52286             Portugal\n",
       "52287             Portugal\n",
       "52288        United States\n",
       "52289                China\n",
       "Name: country, Length: 37117, dtype: object"
      ]
     },
     "execution_count": 78,
     "metadata": {},
     "output_type": "execute_result"
    }
   ],
   "source": [
    "\n",
    "# Visualize entries of the \"country\" column\n",
    "\n",
    "df_clean.country\n"
   ]
  },
  {
   "cell_type": "markdown",
   "id": "f5a9742b-344a-4e12-b709-307498eae76f",
   "metadata": {},
   "source": [
    "\n",
    "As we can see, the entries of our column often contain more than one country, the different values being separated by a semicolon. Since this makes inspection difficult, it will be useful obtain a list with the names of all the countries that are mentioned in the \"country\" column at least once. Since we will encounter the same problem with other columns in our data set, we will define a function that we can use again when necessary:\n"
   ]
  },
  {
   "cell_type": "code",
   "execution_count": 79,
   "id": "4ed0454f-1038-434f-8a29-af31744af645",
   "metadata": {},
   "outputs": [],
   "source": [
    "\n",
    "def column_unpacker(df, column):\n",
    "\n",
    "    # Create series with all entries in column by splitting and exploding entries in subject column\n",
    "\n",
    "    entries_series = df[column].str.split(';').explode()\n",
    "\n",
    "    # Obtain pandas series with unique entries from series\n",
    "\n",
    "    unique_entries_series = sorted(entries_series.unique())\n",
    "\n",
    "    # Obtain series with value counts of unique entries\n",
    "    \n",
    "    unique_entries_value_counts = entries_series.value_counts()\n",
    "\n",
    "    # Return both series\n",
    "\n",
    "    return entries_series, unique_entries_series, unique_entries_value_counts\n"
   ]
  },
  {
   "cell_type": "markdown",
   "id": "58b3c990-0713-4274-8187-90a56e8a0a31",
   "metadata": {},
   "source": [
    "We can now call our function to obtain to find out what countries are mentioned in the \"country\" column:"
   ]
  },
  {
   "cell_type": "code",
   "execution_count": 80,
   "id": "d472c41d-5adb-478c-b514-c7ef63bd7ad2",
   "metadata": {},
   "outputs": [
    {
     "name": "stdout",
     "output_type": "stream",
     "text": [
      "Total number of individual countries in our data set is: 62106.\n",
      "\n"
     ]
    },
    {
     "data": {
      "text/plain": [
       "['Afghanistan',\n",
       " 'Albania',\n",
       " 'Algeria',\n",
       " 'Angola',\n",
       " 'Anguilla',\n",
       " 'Argentina',\n",
       " 'Armenia',\n",
       " 'Aruba',\n",
       " 'Australia',\n",
       " 'Austria',\n",
       " 'Azerbaijan',\n",
       " 'Bahrain',\n",
       " 'Bangladesh',\n",
       " 'Barbados',\n",
       " 'Belarus',\n",
       " 'Belgium',\n",
       " 'Belize',\n",
       " 'Benin',\n",
       " 'Bermuda',\n",
       " 'Bolivia',\n",
       " 'Bosnia & Herzegovina',\n",
       " 'Botswana',\n",
       " 'Brazil',\n",
       " 'Brunei',\n",
       " 'Bulgaria',\n",
       " 'Burkina Faso',\n",
       " 'Burundi',\n",
       " 'Cambodia',\n",
       " 'Cameroon',\n",
       " 'Canada',\n",
       " 'Cayman Islands',\n",
       " 'Central African Republic',\n",
       " 'Chad',\n",
       " 'Chile',\n",
       " 'China',\n",
       " 'Colombia',\n",
       " 'Comoros',\n",
       " 'Cook Islands',\n",
       " 'Costa Rica',\n",
       " \"Cote d'Ivoire\",\n",
       " 'Croatia',\n",
       " 'Cuba',\n",
       " 'Cyprus',\n",
       " 'Czech Republic',\n",
       " 'Democratic Republic of the Congo',\n",
       " 'Denmark',\n",
       " 'Dominica',\n",
       " 'Dominican Republic',\n",
       " 'East Timor',\n",
       " 'Ecuador',\n",
       " 'Egypt',\n",
       " 'Estonia',\n",
       " 'Eswatini (formerly Swaziland)',\n",
       " 'Ethiopia',\n",
       " 'Fiji',\n",
       " 'Finland',\n",
       " 'France',\n",
       " 'French Polynesia',\n",
       " 'Gabon',\n",
       " 'Gambia',\n",
       " 'Gaza Strip',\n",
       " 'Georgia',\n",
       " 'Germany',\n",
       " 'Ghana',\n",
       " 'Greece',\n",
       " 'Grenada',\n",
       " 'Guatemala',\n",
       " 'Guyana',\n",
       " 'Honduras',\n",
       " 'Hong Kong',\n",
       " 'Hungary',\n",
       " 'Iceland',\n",
       " 'India',\n",
       " 'Indonesia',\n",
       " 'Iran',\n",
       " 'Iraq',\n",
       " 'Ireland',\n",
       " 'Israel',\n",
       " 'Italy',\n",
       " 'Jamaica',\n",
       " 'Japan',\n",
       " 'Jordan',\n",
       " 'Kazakhstan',\n",
       " 'Kenya',\n",
       " 'Kosovo',\n",
       " 'Kuwait',\n",
       " 'Kyrgyzstan',\n",
       " 'Laos',\n",
       " 'Latvia',\n",
       " 'Lebanon',\n",
       " 'Lesotho',\n",
       " 'Liberia',\n",
       " 'Libya',\n",
       " 'Lithuania',\n",
       " 'Luxembourg',\n",
       " 'Macau',\n",
       " 'Macedonia',\n",
       " 'Madagascar',\n",
       " 'Malawi',\n",
       " 'Malaysia',\n",
       " 'Maldives',\n",
       " 'Mali',\n",
       " 'Malta',\n",
       " 'Mauritius',\n",
       " 'Mexico',\n",
       " 'Moldova',\n",
       " 'Mongolia',\n",
       " 'Montenegro',\n",
       " 'Morocco',\n",
       " 'Mozambique',\n",
       " 'Myanmar (formerly Burma)',\n",
       " 'Namibia',\n",
       " 'Nepal',\n",
       " 'Netherlands',\n",
       " 'New Zealand',\n",
       " 'Niger',\n",
       " 'Nigeria',\n",
       " 'North Korea',\n",
       " 'Norway',\n",
       " 'Oman',\n",
       " 'Pakistan',\n",
       " 'Palestine',\n",
       " 'Panama',\n",
       " 'Papua New Guinea',\n",
       " 'Paraguay',\n",
       " 'Peru',\n",
       " 'Philippines',\n",
       " 'Poland',\n",
       " 'Portugal',\n",
       " 'Puerto Rico',\n",
       " 'Qatar',\n",
       " 'Republic of the Congo (Congo-Brazzaville)',\n",
       " 'Romania',\n",
       " 'Russia',\n",
       " 'Rwanda',\n",
       " 'RÃ©union Island',\n",
       " 'Samoa',\n",
       " 'Saudi Arabia',\n",
       " 'Senegal',\n",
       " 'Serbia',\n",
       " 'Sierra Leone',\n",
       " 'Singapore',\n",
       " 'Sint Maarten',\n",
       " 'Slovakia',\n",
       " 'Slovenia',\n",
       " 'South Africa',\n",
       " 'South Korea',\n",
       " 'Spain',\n",
       " 'Sri Lanka',\n",
       " 'St. Kitts & Nevis',\n",
       " 'Sudan',\n",
       " 'Sweden',\n",
       " 'Switzerland',\n",
       " 'Syria',\n",
       " 'Taiwan',\n",
       " 'Tajikistan',\n",
       " 'Tanzania',\n",
       " 'Thailand',\n",
       " 'Togo',\n",
       " 'Trinidad & Tobago',\n",
       " 'Tunisia',\n",
       " 'Turkey',\n",
       " 'Turkmenistan',\n",
       " 'U',\n",
       " 'Uganda',\n",
       " 'Ukraine',\n",
       " 'United Arab Emirates',\n",
       " 'United Kingdom',\n",
       " 'United States',\n",
       " 'Unknown',\n",
       " 'Uruguay',\n",
       " 'Uzbekistan',\n",
       " 'Venezuela',\n",
       " 'Vietnam',\n",
       " 'Yemen',\n",
       " 'Zambia',\n",
       " 'Zimbabwe']"
      ]
     },
     "execution_count": 80,
     "metadata": {},
     "output_type": "execute_result"
    }
   ],
   "source": [
    "\n",
    "# Call column unpacker function\n",
    "\n",
    "country_series, unique_country_series, country_counts = column_unpacker(df, \"country\")\n",
    "\n",
    "# Print length of country series\n",
    "\n",
    "print(f\"Total number of individual countries in our data set is: {len(country_series)}.\\n\")\n",
    "\n",
    "# Visualize list with countries in \"country\" column\n",
    "\n",
    "unique_country_series\n"
   ]
  },
  {
   "cell_type": "markdown",
   "id": "fc943d6f-9ed6-49f3-a1f2-ac6830785680",
   "metadata": {},
   "source": [
    "As we can see, some of the entries in our column are invalid, as they their values are \"U,\" and \"Unknown.\" It will be useful to get a sense of how frequent these kinds of entries are:"
   ]
  },
  {
   "cell_type": "code",
   "execution_count": 81,
   "id": "43f41837-6987-49d8-88b8-c303f9006bdb",
   "metadata": {},
   "outputs": [
    {
     "data": {
      "text/plain": [
       "country\n",
       "China             26503\n",
       "United States      6295\n",
       "India              3642\n",
       "Russia             2654\n",
       "United Kingdom     1710\n",
       "Japan              1671\n",
       "Iran               1447\n",
       "Germany            1293\n",
       "South Korea        1082\n",
       "Saudi Arabia        981\n",
       "Italy               969\n",
       "Unknown             902\n",
       "Canada              781\n",
       "France              761\n",
       "Australia           700\n",
       "Name: count, dtype: int64"
      ]
     },
     "execution_count": 81,
     "metadata": {},
     "output_type": "execute_result"
    }
   ],
   "source": [
    "\n",
    "# Display value counts of countries series\n",
    "\n",
    "country_counts.head(15)\n"
   ]
  },
  {
   "cell_type": "markdown",
   "id": "a4ef35a3-fbff-4d18-96f0-9df2e185bc90",
   "metadata": {},
   "source": [
    "As we can see, the entry \"Unkown\" occurs somewhat often into the column. We can use some of the functions that we defined earlier to get percentage values indicating how often a given name appears in the \"country\" column and how relevant defective or non-standard values ultimately are:"
   ]
  },
  {
   "cell_type": "code",
   "execution_count": 82,
   "id": "65cf9385-d0a0-485c-a166-633afcf94b38",
   "metadata": {},
   "outputs": [
    {
     "name": "stdout",
     "output_type": "stream",
     "text": [
      "China: 42.67%\n",
      "United States: 10.14%\n",
      "India: 5.86%\n",
      "Russia: 4.27%\n",
      "United Kingdom: 2.75%\n",
      "Japan: 2.69%\n",
      "Iran: 2.33%\n",
      "Germany: 2.08%\n",
      "South Korea: 1.74%\n",
      "Saudi Arabia: 1.58%\n",
      "Italy: 1.56%\n",
      "Unknown: 1.45%\n",
      "Canada: 1.26%\n",
      "France: 1.23%\n",
      "Australia: 1.13%\n"
     ]
    }
   ],
   "source": [
    "\n",
    "# Convert series to data frame to be able to use defined functions\n",
    "\n",
    "df_country_series = pd.DataFrame(country_series)\n",
    "\n",
    "# Call percentage_finder\n",
    "\n",
    "percentage_printer(df_country_series, \"country\",15)\n"
   ]
  },
  {
   "cell_type": "markdown",
   "id": "275c09b2-2402-4e9a-945f-ff6736f8bfe7",
   "metadata": {},
   "source": [
    "\n",
    "Since we have split the values of our \"country\" column we can use the function that we defined earlier to visualize the frequency with which its different entries occur. But we can still make a regular plot displaying that same information:\n"
   ]
  },
  {
   "cell_type": "code",
   "execution_count": 83,
   "id": "9e2d783f-eaca-414e-a965-ef998bf67372",
   "metadata": {},
   "outputs": [
    {
     "data": {
      "image/png": "[encoded data removed]",
      "text/plain": [
       "<Figure size 640x480 with 1 Axes>"
      ]
     },
     "metadata": {},
     "output_type": "display_data"
    }
   ],
   "source": [
    "\n",
    "# Turn country_counts series into data frame\n",
    "\n",
    "df_country_counts = pd.DataFrame(country_counts, columns=['count'])\n",
    "\n",
    "# Sort by count in descending order and keep only the top 25\n",
    "\n",
    "df_country_counts = df_country_counts.sort_values(by=\"count\", ascending=False).head(25)\n",
    "\n",
    "# Create bar plot\n",
    "\n",
    "df_country_counts.plot(kind='bar', legend=False)\n",
    "\n",
    "# Label the axes\n",
    "\n",
    "plt.xlabel(\"Country\")\n",
    "plt.ylabel(\"Count\")\n",
    "plt.title(\"Top 25 Countries by Count\")\n",
    "\n",
    "# Rotate x-axis labels for better readability\n",
    "\n",
    "plt.xticks(rotation=45, ha=\"right\")\n",
    "\n",
    "# Show the plot\n",
    "plt.show()"
   ]
  },
  {
   "cell_type": "markdown",
   "id": "9b934290-9e05-4391-a95e-739988df3d7b",
   "metadata": {},
   "source": [
    "\n",
    "The relative weight of entries with the values \"U\" and \"Unknown\" seems small enough for us to be able to drop them from our data set. We will do that in order to avoid errors in the future:"
   ]
  },
  {
   "cell_type": "code",
   "execution_count": 86,
   "id": "db10b7fc-7f25-42c5-bcc9-f97afc087702",
   "metadata": {},
   "outputs": [
    {
     "data": {
      "text/html": [
       "<div>\n",
       "<style scoped>\n",
       "    .dataframe tbody tr th:only-of-type {\n",
       "        vertical-align: middle;\n",
       "    }\n",
       "\n",
       "    .dataframe tbody tr th {\n",
       "        vertical-align: top;\n",
       "    }\n",
       "\n",
       "    .dataframe thead th {\n",
       "        text-align: right;\n",
       "    }\n",
       "</style>\n",
       "<table border=\"1\" class=\"dataframe\">\n",
       "  <thead>\n",
       "    <tr style=\"text-align: right;\">\n",
       "      <th></th>\n",
       "      <th>record_id</th>\n",
       "      <th>title</th>\n",
       "      <th>subject</th>\n",
       "      <th>institution</th>\n",
       "      <th>journal</th>\n",
       "      <th>publisher</th>\n",
       "      <th>country</th>\n",
       "      <th>author</th>\n",
       "      <th>urls</th>\n",
       "      <th>article_type</th>\n",
       "      <th>retraction_date</th>\n",
       "      <th>retraction_doi</th>\n",
       "      <th>retraction_pubmed_id</th>\n",
       "      <th>original_paper_date</th>\n",
       "      <th>original_paper_doi</th>\n",
       "      <th>original_paper_pubmed_id</th>\n",
       "      <th>reason</th>\n",
       "      <th>paywalled</th>\n",
       "      <th>notes</th>\n",
       "      <th>year</th>\n",
       "    </tr>\n",
       "  </thead>\n",
       "  <tbody>\n",
       "    <tr>\n",
       "      <th>1</th>\n",
       "      <td>52762</td>\n",
       "      <td>Convolutional neural network and Kalman filter...</td>\n",
       "      <td>(B/T) Data Science;(B/T) Technology;(PHY) Engi...</td>\n",
       "      <td>Engineering Campus, School of Electrical and E...</td>\n",
       "      <td>Applied Nanoscience</td>\n",
       "      <td>Springer</td>\n",
       "      <td>Malaysia</td>\n",
       "      <td>Bushra N Alsunbuli;Widad Ismail;Nor M Mahyuddin</td>\n",
       "      <td>https://retractionwatch.com/2024/01/26/springe...</td>\n",
       "      <td>Research Article;</td>\n",
       "      <td>1/11/2024 0:00</td>\n",
       "      <td>10.1007/s13204-024-03006-5</td>\n",
       "      <td>0.0</td>\n",
       "      <td>2021-09-17</td>\n",
       "      <td>10.1007/s13204-021-02043-8</td>\n",
       "      <td>0.0</td>\n",
       "      <td>+Concerns/Issues about Referencing/Attribution...</td>\n",
       "      <td>No</td>\n",
       "      <td>See also: https://pubpeer.com/publications/83D...</td>\n",
       "      <td>2021</td>\n",
       "    </tr>\n",
       "    <tr>\n",
       "      <th>2</th>\n",
       "      <td>52761</td>\n",
       "      <td>Provide a new framework for blockchain-based i...</td>\n",
       "      <td>(B/T) Technology;</td>\n",
       "      <td>Electrical and Computer Engineering, Altinbas ...</td>\n",
       "      <td>Applied Nanoscience</td>\n",
       "      <td>Springer</td>\n",
       "      <td>Turkey</td>\n",
       "      <td>Firas Hammoodi Neanah Al-mutar;Abdullahi Abdu ...</td>\n",
       "      <td>https://retractionwatch.com/2024/01/26/springe...</td>\n",
       "      <td>Research Article;</td>\n",
       "      <td>1/10/2024 0:00</td>\n",
       "      <td>10.1007/s13204-024-03023-4</td>\n",
       "      <td>0.0</td>\n",
       "      <td>2022-02-03</td>\n",
       "      <td>10.1007/s13204-021-02175-x</td>\n",
       "      <td>0.0</td>\n",
       "      <td>+Concerns/Issues about Referencing/Attribution...</td>\n",
       "      <td>No</td>\n",
       "      <td>See also: https://pubpeer.com/publications/B48...</td>\n",
       "      <td>2022</td>\n",
       "    </tr>\n",
       "    <tr>\n",
       "      <th>3</th>\n",
       "      <td>52760</td>\n",
       "      <td>Integration of Healthcare 4.0 and blockchain i...</td>\n",
       "      <td>(B/T) Technology;(HSC) Medicine - General;(HSC...</td>\n",
       "      <td>Godwit Technologies, Pune, India; Business Inf...</td>\n",
       "      <td>Applied Nanoscience</td>\n",
       "      <td>Springer</td>\n",
       "      <td>India;Iraq;Turkey</td>\n",
       "      <td>Hemant B Mahajan;Ameer Sardar Rashid;Aparna A ...</td>\n",
       "      <td>NaN</td>\n",
       "      <td>Research Article;</td>\n",
       "      <td>1/14/2024 0:00</td>\n",
       "      <td>10.1007/s13204-024-03007-4</td>\n",
       "      <td>0.0</td>\n",
       "      <td>2022-02-04</td>\n",
       "      <td>10.1007/s13204-021-02164-0</td>\n",
       "      <td>35136707.0</td>\n",
       "      <td>+Concerns/Issues about Referencing/Attribution...</td>\n",
       "      <td>No</td>\n",
       "      <td>See also: https://pubpeer.com/publications/347...</td>\n",
       "      <td>2022</td>\n",
       "    </tr>\n",
       "    <tr>\n",
       "      <th>4</th>\n",
       "      <td>52759</td>\n",
       "      <td>A framework for adopting gamified learning sys...</td>\n",
       "      <td>(B/T) Technology;(SOC) Education;</td>\n",
       "      <td>Department of Electrical and Computer Engineer...</td>\n",
       "      <td>Applied Nanoscience</td>\n",
       "      <td>Springer</td>\n",
       "      <td>Turkey</td>\n",
       "      <td>Farazdaq Nahedh Alsamawi;Sefer Kurnaz</td>\n",
       "      <td>https://retractionwatch.com/2024/01/26/springe...</td>\n",
       "      <td>Research Article;</td>\n",
       "      <td>1/11/2024 0:00</td>\n",
       "      <td>10.1007/s13204-024-03028-z</td>\n",
       "      <td>0.0</td>\n",
       "      <td>2021-06-16</td>\n",
       "      <td>10.1007/s13204-021-01909-1</td>\n",
       "      <td>34155468.0</td>\n",
       "      <td>+Concerns/Issues about Referencing/Attribution...</td>\n",
       "      <td>No</td>\n",
       "      <td>See also: https://pubpeer.com/publications/F2E...</td>\n",
       "      <td>2021</td>\n",
       "    </tr>\n",
       "    <tr>\n",
       "      <th>5</th>\n",
       "      <td>52758</td>\n",
       "      <td>An integrated 3D model based face recognition ...</td>\n",
       "      <td>(B/T) Data Science;(B/T) Technology;</td>\n",
       "      <td>Management Information System Department, Cypr...</td>\n",
       "      <td>Applied Nanoscience</td>\n",
       "      <td>Springer</td>\n",
       "      <td>Turkey</td>\n",
       "      <td>Ali Milad;Kamil Yurtkan</td>\n",
       "      <td>https://retractionwatch.com/2024/01/26/springe...</td>\n",
       "      <td>Research Article;</td>\n",
       "      <td>1/10/2024 0:00</td>\n",
       "      <td>10.1007/s13204-024-03010-9</td>\n",
       "      <td>0.0</td>\n",
       "      <td>2022-02-03</td>\n",
       "      <td>10.1007/s13204-021-02123-9</td>\n",
       "      <td>0.0</td>\n",
       "      <td>+Concerns/Issues about Referencing/Attribution...</td>\n",
       "      <td>No</td>\n",
       "      <td>See also: https://pubpeer.com/publications/BCC...</td>\n",
       "      <td>2022</td>\n",
       "    </tr>\n",
       "  </tbody>\n",
       "</table>\n",
       "</div>"
      ],
      "text/plain": [
       "   record_id                                              title  \\\n",
       "1      52762  Convolutional neural network and Kalman filter...   \n",
       "2      52761  Provide a new framework for blockchain-based i...   \n",
       "3      52760  Integration of Healthcare 4.0 and blockchain i...   \n",
       "4      52759  A framework for adopting gamified learning sys...   \n",
       "5      52758  An integrated 3D model based face recognition ...   \n",
       "\n",
       "                                             subject  \\\n",
       "1  (B/T) Data Science;(B/T) Technology;(PHY) Engi...   \n",
       "2                                  (B/T) Technology;   \n",
       "3  (B/T) Technology;(HSC) Medicine - General;(HSC...   \n",
       "4                  (B/T) Technology;(SOC) Education;   \n",
       "5               (B/T) Data Science;(B/T) Technology;   \n",
       "\n",
       "                                         institution              journal  \\\n",
       "1  Engineering Campus, School of Electrical and E...  Applied Nanoscience   \n",
       "2  Electrical and Computer Engineering, Altinbas ...  Applied Nanoscience   \n",
       "3  Godwit Technologies, Pune, India; Business Inf...  Applied Nanoscience   \n",
       "4  Department of Electrical and Computer Engineer...  Applied Nanoscience   \n",
       "5  Management Information System Department, Cypr...  Applied Nanoscience   \n",
       "\n",
       "  publisher            country  \\\n",
       "1  Springer           Malaysia   \n",
       "2  Springer             Turkey   \n",
       "3  Springer  India;Iraq;Turkey   \n",
       "4  Springer             Turkey   \n",
       "5  Springer             Turkey   \n",
       "\n",
       "                                              author  \\\n",
       "1    Bushra N Alsunbuli;Widad Ismail;Nor M Mahyuddin   \n",
       "2  Firas Hammoodi Neanah Al-mutar;Abdullahi Abdu ...   \n",
       "3  Hemant B Mahajan;Ameer Sardar Rashid;Aparna A ...   \n",
       "4              Farazdaq Nahedh Alsamawi;Sefer Kurnaz   \n",
       "5                            Ali Milad;Kamil Yurtkan   \n",
       "\n",
       "                                                urls       article_type  \\\n",
       "1  https://retractionwatch.com/2024/01/26/springe...  Research Article;   \n",
       "2  https://retractionwatch.com/2024/01/26/springe...  Research Article;   \n",
       "3                                                NaN  Research Article;   \n",
       "4  https://retractionwatch.com/2024/01/26/springe...  Research Article;   \n",
       "5  https://retractionwatch.com/2024/01/26/springe...  Research Article;   \n",
       "\n",
       "  retraction_date              retraction_doi  retraction_pubmed_id  \\\n",
       "1  1/11/2024 0:00  10.1007/s13204-024-03006-5                   0.0   \n",
       "2  1/10/2024 0:00  10.1007/s13204-024-03023-4                   0.0   \n",
       "3  1/14/2024 0:00  10.1007/s13204-024-03007-4                   0.0   \n",
       "4  1/11/2024 0:00  10.1007/s13204-024-03028-z                   0.0   \n",
       "5  1/10/2024 0:00  10.1007/s13204-024-03010-9                   0.0   \n",
       "\n",
       "  original_paper_date          original_paper_doi  original_paper_pubmed_id  \\\n",
       "1          2021-09-17  10.1007/s13204-021-02043-8                       0.0   \n",
       "2          2022-02-03  10.1007/s13204-021-02175-x                       0.0   \n",
       "3          2022-02-04  10.1007/s13204-021-02164-0                35136707.0   \n",
       "4          2021-06-16  10.1007/s13204-021-01909-1                34155468.0   \n",
       "5          2022-02-03  10.1007/s13204-021-02123-9                       0.0   \n",
       "\n",
       "                                              reason paywalled  \\\n",
       "1  +Concerns/Issues about Referencing/Attribution...        No   \n",
       "2  +Concerns/Issues about Referencing/Attribution...        No   \n",
       "3  +Concerns/Issues about Referencing/Attribution...        No   \n",
       "4  +Concerns/Issues about Referencing/Attribution...        No   \n",
       "5  +Concerns/Issues about Referencing/Attribution...        No   \n",
       "\n",
       "                                               notes  year  \n",
       "1  See also: https://pubpeer.com/publications/83D...  2021  \n",
       "2  See also: https://pubpeer.com/publications/B48...  2022  \n",
       "3  See also: https://pubpeer.com/publications/347...  2022  \n",
       "4  See also: https://pubpeer.com/publications/F2E...  2021  \n",
       "5  See also: https://pubpeer.com/publications/BCC...  2022  "
      ]
     },
     "execution_count": 86,
     "metadata": {},
     "output_type": "execute_result"
    }
   ],
   "source": [
    "\n",
    "# Drop rows with \"U\" and \"Unknown\" entries in the \"country\" column\n",
    "\n",
    "df_clean = df_clean[~df_clean[\"country\"].isin([\"Unknown\", \"U\"])]\n",
    "\n",
    "# Visualize result\n",
    "\n",
    "df_clean.head(5)\n",
    "\n"
   ]
  },
  {
   "cell_type": "markdown",
   "id": "2b8a944a-4297-41c8-8c47-f85d1afa2e41",
   "metadata": {},
   "source": [
    "## Output"
   ]
  },
  {
   "cell_type": "markdown",
   "id": "cc6b7b57-690b-4cb3-aeea-70d2c30af6ff",
   "metadata": {},
   "source": [
    "Having finished out data cleaning operation, we can write the content of our new, clean data frame into a .csv file:"
   ]
  },
  {
   "cell_type": "code",
   "execution_count": 85,
   "id": "52476db5-7cf5-4262-85fc-8d4aaf410268",
   "metadata": {
    "tags": []
   },
   "outputs": [],
   "source": [
    "\n",
    "# Save date frame as .csv\n",
    "\n",
    "df.to_csv(output_path, index=False)\n"
   ]
  },
  {
   "cell_type": "code",
   "execution_count": null,
   "id": "6474f361-edcc-4367-a8da-aadf1d9d83c6",
   "metadata": {},
   "outputs": [],
   "source": []
  }
 ],
 "metadata": {
  "kernelspec": {
   "display_name": "Python 3 (ipykernel)",
   "language": "python",
   "name": "python3"
  },
  "language_info": {
   "codemirror_mode": {
    "name": "ipython",
    "version": 3
   },
   "file_extension": ".py",
   "mimetype": "text/x-python",
   "name": "python",
   "nbconvert_exporter": "python",
   "pygments_lexer": "ipython3",
   "version": "3.13.2"
  },
  "toc-showmarkdowntxt": false
 },
 "nbformat": 4,
 "nbformat_minor": 5
}
