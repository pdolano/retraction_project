{
 "cells": [
  {
   "cell_type": "markdown",
   "id": "f9e49b10-6fa2-4a93-858f-9fbf05c87dc7",
   "metadata": {},
   "source": [
    "# Fetching jsonfiles vailable per non-retracted paper in Open Alex for a specific Disciple via API\n",
    "\n"
   ]
  },
  {
   "cell_type": "markdown",
   "id": "ab7f73ab-ab81-4126-b519-52f55fc29964",
   "metadata": {},
   "source": [
    "## Introduction"
   ]
  },
  {
   "cell_type": "markdown",
   "id": "0d74035f-d7f9-4a25-b140-e31aef5ced92",
   "metadata": {},
   "source": [
    "\n",
    "This notebook fetches the full json iles for non-retracted papers from a specific discipline from Open Alex API by calling a list of DOI.\n",
    "\n",
    "The input is the a csv file (the output of notebook 04a_fetching_dois_non_retracted_discpline_buckets) with doi for non-retracted papers of one specific discipline where the distribution of countries and years is similar to the distribution of retracted papers in that field.\n",
    "\n",
    "The output are json files for each doi. \n",
    "\n",
    "The current output path is an external harddrive. In case this is run on a different machine, the output path needs to be adjusted.\n",
    "\n"
   ]
  },
  {
   "cell_type": "markdown",
   "id": "e11d8f04-1a2a-40bd-b8f4-1f682aacacfa",
   "metadata": {},
   "source": [
    "## Input / Output Parameters\n"
   ]
  },
  {
   "cell_type": "markdown",
   "id": "cf342ef3-9c36-47e2-ad65-b3b9b27defd8",
   "metadata": {},
   "source": [
    "- Input paramters:"
   ]
  },
  {
   "cell_type": "code",
   "execution_count": 2,
   "id": "f957368d-4bf7-428d-a544-e57af461bc17",
   "metadata": {
    "tags": []
   },
   "outputs": [],
   "source": [
    "# File path for retracted papers dataset for a specific discipline\n",
    "\n",
    "# !!! adjust the discipline for which the pipline is run by chaning the filename in below path to match the output path of 04a\n",
    "\n",
    "input_path = \"../data/data_sets/cellbio_non-retracted_dois.csv\""
   ]
  },
  {
   "cell_type": "markdown",
   "id": "9a7507e5-1684-4c58-84d8-248641ef8568",
   "metadata": {
    "tags": []
   },
   "source": [
    "- Output parameters:"
   ]
  },
  {
   "cell_type": "code",
   "execution_count": 3,
   "id": "258de979-a9c0-457b-8faa-751f77d60c8c",
   "metadata": {
    "tags": []
   },
   "outputs": [],
   "source": [
    "# File path for log .json files output\n",
    "\n",
    "# !! please specify the directory path and discipline of the folder name\n",
    "\n",
    "json_directory = \"/Volumes/Hurricane/cellbiology_non-retracted_fulljsonfiles\""
   ]
  },
  {
   "cell_type": "markdown",
   "id": "da40e893-9a23-4066-b4de-0c0475be25d5",
   "metadata": {},
   "source": [
    "## Preliminaries"
   ]
  },
  {
   "cell_type": "code",
   "execution_count": 4,
   "id": "0d70c050-65e6-4ac5-a37f-6695ff022c72",
   "metadata": {
    "tags": []
   },
   "outputs": [],
   "source": [
    "# Import required libraries\n",
    "\n",
    "import pandas as pd\n",
    "import numpy as np\n",
    "\n",
    "import requests\n",
    "import csv\n",
    "import os\n",
    "\n",
    "from json.decoder import JSONDecodeError\n",
    "import json\n",
    "\n",
    "import warnings\n",
    "warnings.filterwarnings(\"ignore\")"
   ]
  },
  {
   "cell_type": "code",
   "execution_count": 5,
   "id": "5c6878e4-c158-4fef-882d-80ccc54251b3",
   "metadata": {
    "tags": []
   },
   "outputs": [
    {
     "data": {
      "text/html": [
       "<div>\n",
       "<style scoped>\n",
       "    .dataframe tbody tr th:only-of-type {\n",
       "        vertical-align: middle;\n",
       "    }\n",
       "\n",
       "    .dataframe tbody tr th {\n",
       "        vertical-align: top;\n",
       "    }\n",
       "\n",
       "    .dataframe thead th {\n",
       "        text-align: right;\n",
       "    }\n",
       "</style>\n",
       "<table border=\"1\" class=\"dataframe\">\n",
       "  <thead>\n",
       "    <tr style=\"text-align: right;\">\n",
       "      <th></th>\n",
       "      <th>0</th>\n",
       "    </tr>\n",
       "  </thead>\n",
       "  <tbody>\n",
       "    <tr>\n",
       "      <th>0</th>\n",
       "      <td>https://doi.org/10.1186/s13045-018-0613-5</td>\n",
       "    </tr>\n",
       "    <tr>\n",
       "      <th>1</th>\n",
       "      <td>https://doi.org/10.1073/pnas.2221432120</td>\n",
       "    </tr>\n",
       "    <tr>\n",
       "      <th>2</th>\n",
       "      <td>https://doi.org/10.1016/j.cellsig.2013.11.026</td>\n",
       "    </tr>\n",
       "  </tbody>\n",
       "</table>\n",
       "</div>"
      ],
      "text/plain": [
       "                                               0\n",
       "0      https://doi.org/10.1186/s13045-018-0613-5\n",
       "1        https://doi.org/10.1073/pnas.2221432120\n",
       "2  https://doi.org/10.1016/j.cellsig.2013.11.026"
      ]
     },
     "execution_count": 5,
     "metadata": {},
     "output_type": "execute_result"
    }
   ],
   "source": [
    "# Load input .csv data into data frame and \n",
    "\n",
    "discipline_df = pd.read_csv(input_path, encoding='latin-1')\n",
    "\n",
    "# Show the DataFrame\n",
    "discipline_df.head(3)"
   ]
  },
  {
   "cell_type": "code",
   "execution_count": 8,
   "id": "8da0801d-843c-410f-8b43-ab13e10bb1b3",
   "metadata": {
    "tags": []
   },
   "outputs": [
    {
     "data": {
      "text/html": [
       "<div>\n",
       "<style scoped>\n",
       "    .dataframe tbody tr th:only-of-type {\n",
       "        vertical-align: middle;\n",
       "    }\n",
       "\n",
       "    .dataframe tbody tr th {\n",
       "        vertical-align: top;\n",
       "    }\n",
       "\n",
       "    .dataframe thead th {\n",
       "        text-align: right;\n",
       "    }\n",
       "</style>\n",
       "<table border=\"1\" class=\"dataframe\">\n",
       "  <thead>\n",
       "    <tr style=\"text-align: right;\">\n",
       "      <th></th>\n",
       "      <th>original_paper_doi</th>\n",
       "    </tr>\n",
       "  </thead>\n",
       "  <tbody>\n",
       "    <tr>\n",
       "      <th>0</th>\n",
       "      <td>10.1186/s13045-018-0613-5</td>\n",
       "    </tr>\n",
       "    <tr>\n",
       "      <th>1</th>\n",
       "      <td>10.1073/pnas.2221432120</td>\n",
       "    </tr>\n",
       "    <tr>\n",
       "      <th>2</th>\n",
       "      <td>10.1016/j.cellsig.2013.11.026</td>\n",
       "    </tr>\n",
       "    <tr>\n",
       "      <th>3</th>\n",
       "      <td>10.1186/s12864-020-6562-8</td>\n",
       "    </tr>\n",
       "    <tr>\n",
       "      <th>4</th>\n",
       "      <td>10.1073/pnas.0503465103</td>\n",
       "    </tr>\n",
       "    <tr>\n",
       "      <th>...</th>\n",
       "      <td>...</td>\n",
       "    </tr>\n",
       "    <tr>\n",
       "      <th>7427</th>\n",
       "      <td>10.3114/fuse.2019.04.05</td>\n",
       "    </tr>\n",
       "    <tr>\n",
       "      <th>7428</th>\n",
       "      <td>10.1172/jci61228</td>\n",
       "    </tr>\n",
       "    <tr>\n",
       "      <th>7429</th>\n",
       "      <td>10.1371/journal.pone.0126457</td>\n",
       "    </tr>\n",
       "    <tr>\n",
       "      <th>7430</th>\n",
       "      <td>10.3114/sim0021</td>\n",
       "    </tr>\n",
       "    <tr>\n",
       "      <th>7431</th>\n",
       "      <td>10.1086/429844</td>\n",
       "    </tr>\n",
       "  </tbody>\n",
       "</table>\n",
       "<p>7432 rows × 1 columns</p>\n",
       "</div>"
      ],
      "text/plain": [
       "                 original_paper_doi\n",
       "0         10.1186/s13045-018-0613-5\n",
       "1           10.1073/pnas.2221432120\n",
       "2     10.1016/j.cellsig.2013.11.026\n",
       "3         10.1186/s12864-020-6562-8\n",
       "4           10.1073/pnas.0503465103\n",
       "...                             ...\n",
       "7427        10.3114/fuse.2019.04.05\n",
       "7428               10.1172/jci61228\n",
       "7429   10.1371/journal.pone.0126457\n",
       "7430                10.3114/sim0021\n",
       "7431                 10.1086/429844\n",
       "\n",
       "[7432 rows x 1 columns]"
      ]
     },
     "execution_count": 8,
     "metadata": {},
     "output_type": "execute_result"
    }
   ],
   "source": [
    "# !!! Apply for non-retracted papers only!\n",
    "\n",
    "# Replace 'https://doi.org/' with nothing, effectively removing it directly from the first column\n",
    "discipline_df.iloc[:, 0] = discipline_df.iloc[:, 0].str.replace('https://doi.org/', '', regex=False)\n",
    "\n",
    "# Rename the first column to 'original_paper_doi' after the operation\n",
    "discipline_df.columns = ['original_paper_doi']\n",
    "\n",
    "# Show the updated DataFrame\n",
    "discipline_df"
   ]
  },
  {
   "cell_type": "code",
   "execution_count": 9,
   "id": "848cefb3-a5c7-473e-bf24-67fc2144e116",
   "metadata": {
    "tags": []
   },
   "outputs": [
    {
     "name": "stdout",
     "output_type": "stream",
     "text": [
      "<class 'pandas.core.frame.DataFrame'>\n",
      "RangeIndex: 7432 entries, 0 to 7431\n",
      "Data columns (total 1 columns):\n",
      " #   Column              Non-Null Count  Dtype \n",
      "---  ------              --------------  ----- \n",
      " 0   original_paper_doi  7432 non-null   object\n",
      "dtypes: object(1)\n",
      "memory usage: 58.2+ KB\n"
     ]
    }
   ],
   "source": [
    "#show datafroma info\n",
    "\n",
    "discipline_df.info()"
   ]
  },
  {
   "cell_type": "code",
   "execution_count": 10,
   "id": "5fb8f09d-3b93-4198-839f-f7ac01fcf124",
   "metadata": {
    "tags": []
   },
   "outputs": [
    {
     "data": {
      "text/plain": [
       "Series([], Name: count, dtype: int64)"
      ]
     },
     "execution_count": 10,
     "metadata": {},
     "output_type": "execute_result"
    }
   ],
   "source": [
    "#Check if there are any DOI duplicates in the input csv\n",
    "\n",
    "duplicate_dois = discipline_df['original_paper_doi'].value_counts()\n",
    "duplicate_dois = duplicate_dois[duplicate_dois > 1]\n",
    "\n",
    "duplicate_dois"
   ]
  },
  {
   "cell_type": "code",
   "execution_count": 11,
   "id": "1d97c008-cc8d-4a81-abaa-8d32b487fbf1",
   "metadata": {
    "tags": []
   },
   "outputs": [],
   "source": [
    "# In case there are duplicates there are two different actions possible\n",
    "\n",
    "# 1. Keep the first occurrence and drop other duplicates (in case of real doi duplicates)\n",
    "#discipline_df = discipline_df.drop_duplicates(subset='original_paper_doi', keep='first')\n",
    "\n",
    "# 2. Drop all duplicates in case of invalid DOI (such as unavailable, Unavailable)\n",
    "#discipline_df = discipline_df.drop_duplicates(subset='original_paper_doi', keep=False)\n"
   ]
  },
  {
   "cell_type": "markdown",
   "id": "45f4eb0d-7229-45ea-8372-71996b1bbcbe",
   "metadata": {},
   "source": [
    "## Function Definitions"
   ]
  },
  {
   "cell_type": "markdown",
   "id": "682cba65-a5ca-4075-9da1-49de46fb4270",
   "metadata": {},
   "source": [
    "- We will use a few functions to fetch the required information for our papers in a quick and efficient way. \n",
    "- The following two functions take the DOI of a paper and build the url-s required to fetch the required information from OpenAlex"
   ]
  },
  {
   "cell_type": "code",
   "execution_count": 12,
   "id": "ecb9caae-d1d5-438e-b586-53fc11a0e28c",
   "metadata": {
    "tags": []
   },
   "outputs": [],
   "source": [
    "# Define address_builder function\n",
    "\n",
    "def address_builder(doi):\n",
    "    \"\"\"Takes a DOI identifier and builds full URL address for an OpenAlex API call\"\"\"\n",
    "    \n",
    "    # Store url addresses in string   \n",
    "    base_address = \"https://api.openalex.org/works/https://doi.org/\" + doi\n",
    "    polite_address = base_address + \"?mailto=\" + \"jennyhuelsmeier@posteo.de\" # Use polite address for faster API call performance\n",
    "    \n",
    "    # Return polite address\n",
    "    \n",
    "    return polite_address"
   ]
  },
  {
   "cell_type": "markdown",
   "id": "89bccfe7-77e3-4cfe-acf5-afd121fc7408",
   "metadata": {},
   "source": [
    "-Function to extract the relevant meta-data for a paper with DOI as the identifier in the API call. "
   ]
  },
  {
   "cell_type": "markdown",
   "id": "c2df8a16-81e1-4d63-93e8-84aa652c2510",
   "metadata": {},
   "source": [
    "## Fetching the Data"
   ]
  },
  {
   "cell_type": "markdown",
   "id": "811faec0-0948-494f-9c24-7d254dbf4523",
   "metadata": {},
   "source": [
    "\n",
    "- In some cases is it necessary download the jsonfile in batches, eg, when there was an interruption. To mitigate this risk the following process checks what has already been processed by checking the dois in the filenames of the output folder."
   ]
  },
  {
   "cell_type": "code",
   "execution_count": null,
   "id": "ce5a66b1-13c5-463b-a77e-8ca49b26d2e1",
   "metadata": {},
   "outputs": [],
   "source": [
    "# create a list of doi from the filnames of the existing files in a specified folder\n",
    "\n",
    "def create_downloaded_doi_dataframe(json_directory):\n",
    "    # List all JSON files and extract DOIs\n",
    "    json_files = [f for f in os.listdir(json_directory) if f.endswith('.json')]\n",
    "    dois = [f[:-5].replace('_', '/') for f in json_files]\n",
    "    doi_df = pd.DataFrame(dois, columns=['DOI'])\n",
    "    return doi_df\n",
    "\n",
    "existing_doi_df = create_downloaded_doi_dataframe(json_directory)"
   ]
  },
  {
   "cell_type": "code",
   "execution_count": 29,
   "id": "00f4625f-73cc-4bea-b352-89797a758502",
   "metadata": {
    "tags": []
   },
   "outputs": [],
   "source": [
    "# Create a Log File for Existing DOIs\n",
    "def log_existing_dois(existing_doi_df, log_directory):\n",
    "    log_file_path = os.path.join(log_directory, 'existing_doi_log.csv')\n",
    "    existing_doi_df.to_csv(log_file_path, index=False)\n",
    "\n",
    "log_directory = \"../data/non-retracted_papers_json_APIcall_logs\"\n",
    "\n",
    "log_existing_dois(existing_doi_df, log_directory)"
   ]
  },
  {
   "cell_type": "code",
   "execution_count": 30,
   "id": "aaaba851-352b-42b8-83e8-ae5e1e96d421",
   "metadata": {
    "tags": []
   },
   "outputs": [],
   "source": [
    "# Filter Input DataFrame to Remove Existing DOIs found in the proevious step\n",
    "\n",
    "def filter_new_dois(input_df, existing_doi_df):\n",
    "    filtered_df = input_df[~input_df['original_paper_doi'].isin(existing_doi_df['DOI'])]\n",
    "    return filtered_df\n",
    "\n",
    "\n",
    "filtered_df = filter_new_dois(discipline_df, existing_doi_df)"
   ]
  },
  {
   "cell_type": "markdown",
   "id": "cff3c3ed-26ed-4aee-9277-d5034db92b4f",
   "metadata": {},
   "source": [
    "\n",
    "**Check if logic worked and the results in exisiting_doi_log.csv and the output folder as well as the results in filtered_df are as expected**"
   ]
  },
  {
   "cell_type": "markdown",
   "id": "12bca16a-a1d9-419c-b66e-4f6cfec58760",
   "metadata": {},
   "source": [
    "\n",
    "**Functions to create the API call loop for download*"
   ]
  },
  {
   "cell_type": "code",
   "execution_count": 32,
   "id": "0fe2082e-fd2b-4631-a017-14a45167919e",
   "metadata": {
    "tags": []
   },
   "outputs": [],
   "source": [
    "#Define API Call Function for each DOIs\n",
    "\n",
    "def fetch_doi_fulljson(disciplines_doi_df, json_directory):\n",
    "    log = []\n",
    "    for doi in disciplines_doi_df['original_paper_doi']:\n",
    "        url = address_builder(doi)\n",
    "        response = requests.get(url)\n",
    "        if response.status_code == 200:\n",
    "            data = response.json()\n",
    "            # Save JSON file\n",
    "            file_path = os.path.join(json_directory, doi.replace('/', '_') + '.json')\n",
    "            with open(file_path, 'w') as file:\n",
    "                json.dump(data, file)\n",
    "            log.append({'DOI': doi, 'Status': 'Success'})\n",
    "        else:\n",
    "            log.append({'DOI': doi, 'Status': f\"Failed - {response.status_code}\"})\n",
    "    return pd.DataFrame(log)\n"
   ]
  },
  {
   "cell_type": "code",
   "execution_count": 33,
   "id": "303314aa-a0fd-4836-9adb-94ad683cffd9",
   "metadata": {
    "tags": []
   },
   "outputs": [],
   "source": [
    "#Define function to write log for API calls\n",
    "\n",
    "def write_api_call_log(api_log_df, log_directory):\n",
    "    log_file_path = os.path.join(log_directory, 'doi_calling_log.csv')\n",
    "    api_log_df.to_csv(log_file_path, index=False)\n"
   ]
  },
  {
   "cell_type": "code",
   "execution_count": 34,
   "id": "99b6d072-9db0-4499-9311-91c14f9016a9",
   "metadata": {
    "tags": []
   },
   "outputs": [],
   "source": [
    "# Define function to Run Api calls and log results\n",
    "def fetch_and_log_data(filtered_doi_df, json_directory, log_directory):\n",
    "    # Fetch data for the new DOIs\n",
    "    api_log_df = fetch_doi_fulljson(filtered_doi_df, json_directory)\n",
    "    \n",
    "    # Log the results of the API calls\n",
    "    write_api_call_log(api_log_df, log_directory)\n"
   ]
  },
  {
   "cell_type": "markdown",
   "id": "92fd2c57-0b9b-4ef4-9657-435c5dc0c51b",
   "metadata": {},
   "source": [
    "**Check if the code works on a sample subset**"
   ]
  },
  {
   "cell_type": "code",
   "execution_count": 50,
   "id": "2fa6078c-6185-40c1-b180-d3e1b218dc7a",
   "metadata": {
    "tags": []
   },
   "outputs": [
    {
     "name": "stdout",
     "output_type": "stream",
     "text": [
      "<class 'pandas.core.frame.DataFrame'>\n",
      "RangeIndex: 20 entries, 0 to 19\n",
      "Data columns (total 1 columns):\n",
      " #   Column              Non-Null Count  Dtype \n",
      "---  ------              --------------  ----- \n",
      " 0   original_paper_doi  20 non-null     object\n",
      "dtypes: object(1)\n",
      "memory usage: 292.0+ bytes\n"
     ]
    }
   ],
   "source": [
    "# Define sample size\n",
    "\n",
    "sample_size = 20\n",
    "\n",
    "# Check if sample_size is less than the number of rows in the DataFrame\n",
    "\n",
    "if sample_size <= len(discipline_df):\n",
    "    # Create a random sample of the DataFrame with the defined sample size\n",
    "    sample_df = discipline_df.sample(n=sample_size, random_state=1)  # random_state for reproducibility\n",
    "else:\n",
    "    print(\"Sample size is larger than the DataFrame.\")\n",
    "\n",
    "# Obtain info for the new DataFrame\n",
    "sample_df.info()"
   ]
  },
  {
   "cell_type": "markdown",
   "id": "b0f0939a-c4e8-4062-b2aa-995cab1c53ca",
   "metadata": {},
   "source": [
    "\n",
    "- Inspect results and of all works well proceed to download the rest of the files"
   ]
  },
  {
   "cell_type": "code",
   "execution_count": null,
   "id": "0bc14e99-180a-42b7-ae90-745bdbfd5aa6",
   "metadata": {},
   "outputs": [],
   "source": [
    "# run function to fetch data for sample and log results\n",
    "\n",
    "fetch_and_log_data(sample_df, json_directory, log_directory) "
   ]
  },
  {
   "cell_type": "code",
   "execution_count": null,
   "id": "8910550d-ad23-463c-85a3-cbd5de9019ab",
   "metadata": {},
   "outputs": [],
   "source": [
    "\n",
    "# rerun code to add already downloaded sample files to existing doi list and exclude from main call\n",
    "\n",
    "log_existing_dois(existing_doi_df, log_directory)\n",
    "filtered_df = filter_new_dois(discipline_df, existing_doi_df)"
   ]
  },
  {
   "cell_type": "markdown",
   "id": "99d2e1ab-3187-4a64-a0b1-40779b4667cc",
   "metadata": {},
   "source": [
    "\n",
    "- Master function to fetch json files for all retracted papers"
   ]
  },
  {
   "cell_type": "code",
   "execution_count": 35,
   "id": "8f367f77-e058-47a1-8f4c-1ca5a606a7f3",
   "metadata": {
    "tags": []
   },
   "outputs": [],
   "source": [
    "# Fetch all json files for the main corpus of the discipline \n",
    "\n",
    "fetch_and_log_data(filtered_df, json_directory, log_directory) \n"
   ]
  },
  {
   "cell_type": "markdown",
   "id": "4a40eb07-22f5-4179-8ea6-7883eaeaa3b0",
   "metadata": {},
   "source": [
    "\n",
    "- Check logs for error messages and unavailable files and compare count of downloaded jsonfiles in output folder"
   ]
  }
 ],
 "metadata": {
  "kernelspec": {
   "display_name": "Python 3 (ipykernel)",
   "language": "python",
   "name": "python3"
  },
  "language_info": {
   "codemirror_mode": {
    "name": "ipython",
    "version": 3
   },
   "file_extension": ".py",
   "mimetype": "text/x-python",
   "name": "python",
   "nbconvert_exporter": "python",
   "pygments_lexer": "ipython3",
   "version": "3.11.3"
  }
 },
 "nbformat": 4,
 "nbformat_minor": 5
}
