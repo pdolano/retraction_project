{
 "cells": [
  {
   "cell_type": "markdown",
   "id": "d7dec497-e30d-4ba0-aba9-2b4fa51f0732",
   "metadata": {},
   "source": [
    "# Loading all abstracts as text for further processing for models"
   ]
  },
  {
   "cell_type": "markdown",
   "id": "0151ec5e-ff8e-4666-b0b9-3f0249ec16b5",
   "metadata": {},
   "source": [
    " **This noebook can be duplicated to use as the beginning to input the relevant dataset on Cellbiology**"
   ]
  },
  {
   "cell_type": "code",
   "execution_count": 2,
   "id": "c553fa1f-44ef-44f5-bd96-b38133cf125f",
   "metadata": {
    "tags": []
   },
   "outputs": [
    {
     "name": "stderr",
     "output_type": "stream",
     "text": [
      "2024-06-01 15:42:07.549438: I tensorflow/core/platform/cpu_feature_guard.cc:210] This TensorFlow binary is optimized to use available CPU instructions in performance-critical operations.\n",
      "To enable the following instructions: AVX2 FMA, in other operations, rebuild TensorFlow with the appropriate compiler flags.\n"
     ]
    }
   ],
   "source": [
    "# Import required libraries\n",
    "\n",
    "import pandas as pd\n",
    "import csv\n",
    "\n",
    "from transformers import pipeline\n",
    "import numpy as np\n",
    "from tqdm import tqdm\n",
    "\n",
    "import warnings\n",
    "warnings.filterwarnings(\"ignore\")"
   ]
  },
  {
   "cell_type": "markdown",
   "id": "126aead9-eac8-4588-afa7-656ae3ee8d3b",
   "metadata": {},
   "source": [
    "# Load & clean non retracted papers"
   ]
  },
  {
   "cell_type": "markdown",
   "id": "ccf9056e-c17d-4b77-9b3a-b395f9bd79fa",
   "metadata": {},
   "source": [
    "**Reading the csv file with the text of non-retracted papers into a dataframe**"
   ]
  },
  {
   "cell_type": "code",
   "execution_count": 3,
   "id": "59de722b-dd9d-4961-8f61-d04ba2fa7d78",
   "metadata": {
    "tags": []
   },
   "outputs": [],
   "source": [
    "# Relative path to the CSV file for non-retracted papers\n",
    "file_path = '../data/cellbio_abstracts/cellbio_abstracts_non-retracted_text.csv'\n",
    "\n",
    "# Load the CSV file into a DataFrame, specifying the pipe '|' as the delimiter\n",
    "abstract_nonretracted_df = pd.read_csv(file_path, delimiter='|')\n",
    "\n",
    "# Display information about the DataFrame \n",
    "#abstract_nonretracted_df.info()\n",
    "#abstract_nonretracted_df.head()\n"
   ]
  },
  {
   "cell_type": "markdown",
   "id": "810715e5-8b98-4e1f-90c4-5490fc6e0cc2",
   "metadata": {
    "tags": []
   },
   "source": [
    "**Removing all rows where retract% or withdraw% appear in the abstract text**"
   ]
  },
  {
   "cell_type": "code",
   "execution_count": 4,
   "id": "81481a14-4669-459d-8a0f-35d27270c7c7",
   "metadata": {
    "tags": []
   },
   "outputs": [],
   "source": [
    "# filter the dataframe to clean up rows that have the word retracted in non-retracted papers\n",
    "\n",
    "# Filter the DataFrame to only include rows where 'ret_flag' is True\n",
    "\n",
    "ret_flag_nonretracted_df = abstract_nonretracted_df[abstract_nonretracted_df['ret_flag'] == True]\n",
    "\n",
    "# Info on the filtered DataFrame\n",
    "#ret_flag_nonretracted_df.info()"
   ]
  },
  {
   "cell_type": "code",
   "execution_count": 5,
   "id": "609d6e66-c2ac-41b8-a303-29e6f33663f0",
   "metadata": {
    "tags": []
   },
   "outputs": [],
   "source": [
    "# Drop rows where 'ret_flag' is True directly from the main DataFrame\n",
    "cleaned_nonretracted_df = abstract_nonretracted_df[abstract_nonretracted_df['ret_flag'] != True]\n",
    "\n",
    "# Display the cleaned DataFrame to verify the rows are dropped\n",
    "#cleaned_nonretracted_df.info()\n",
    "#cleaned_nonretracted_df"
   ]
  },
  {
   "cell_type": "markdown",
   "id": "c08aef85-8532-4e49-85df-07c7ce122b42",
   "metadata": {},
   "source": [
    "# Load & clean retracted papers "
   ]
  },
  {
   "cell_type": "markdown",
   "id": "19c3be49-f6cc-4360-b3a6-907ffefd4b00",
   "metadata": {},
   "source": [
    "**Reading the csv file with the text of retracted papaers into a dataframe**"
   ]
  },
  {
   "cell_type": "code",
   "execution_count": 6,
   "id": "574efc8f-6c44-4b47-bb58-4b6af76534a2",
   "metadata": {
    "tags": []
   },
   "outputs": [],
   "source": [
    "# Relative path to the CSV file\n",
    "file_path = '../data/cellbio_abstracts/cellbio_abstracts_retracted_text.csv'\n",
    "\n",
    "# Load the CSV file into a DataFrame, specifying the pipe '|' as the delimiter\n",
    "abstract_retracted_df = pd.read_csv(file_path, delimiter='|')\n",
    "\n",
    "# Display information about the DataFrame \n",
    "#abstract_retracted_df.info()\n",
    "#abstract_retracted_df.head()\n"
   ]
  },
  {
   "cell_type": "markdown",
   "id": "5bce75bd-1906-4848-b3b7-0d728834639b",
   "metadata": {},
   "source": [
    "**Removing all rows where retract% or withdraw% appear in the abstract text**"
   ]
  },
  {
   "cell_type": "code",
   "execution_count": 7,
   "id": "83be343c-767d-46b3-b28e-24aff1843b17",
   "metadata": {
    "tags": []
   },
   "outputs": [],
   "source": [
    "# filter the dataframe to clean up rows that have the word retracted :\n",
    "\n",
    "# Filter the DataFrame to only include rows where 'ret_flag' is True\n",
    "ret_flag_retracted_df = abstract_retracted_df[abstract_retracted_df['ret_flag'] == True]\n",
    "\n",
    "# Display the filtered DataFrame\n",
    "#ret_flag_retracted_df.info()"
   ]
  },
  {
   "cell_type": "code",
   "execution_count": 8,
   "id": "aa735280-cf99-480f-9b44-5ab71a79977c",
   "metadata": {
    "tags": []
   },
   "outputs": [],
   "source": [
    "# Drop rows where 'ret_flag' is True directly from the main DataFrame\n",
    "\n",
    "cleaned_retracted_df = abstract_retracted_df[abstract_retracted_df['ret_flag'] != True]\n",
    "\n",
    "# Display the cleaned DataFrame to verify the rows are dropped\n",
    "#cleaned_retracted_df.info()\n",
    "#cleaned_retracted_df"
   ]
  },
  {
   "cell_type": "markdown",
   "id": "23cd8e38-3c40-4fb3-95fb-b22912ab9f85",
   "metadata": {},
   "source": [
    "# Dataframe with just abstract_text and target for both retracted and non-retracted papers\n"
   ]
  },
  {
   "cell_type": "markdown",
   "id": "3c9441ba-a7bc-44d8-b860-ce93f282d80e",
   "metadata": {},
   "source": [
    "Create one Dataframe each target group"
   ]
  },
  {
   "cell_type": "code",
   "execution_count": 9,
   "id": "7a9a9a61-f7c9-496e-965c-f361416d525f",
   "metadata": {
    "tags": []
   },
   "outputs": [],
   "source": [
    "\n",
    "# Selecting required columns for retracted abstracts\n",
    "retracted_subset = cleaned_retracted_df[['abstract_text', 'target']]\n",
    "\n",
    "# Selecting required columns for non-retracted abstracts\n",
    "nonretracted_subset = cleaned_nonretracted_df[['abstract_text', 'target']]\n",
    "\n",
    "# Creating new dataframes\n",
    "retracted_df = pd.DataFrame(retracted_subset)\n",
    "nonretracted_df = pd.DataFrame(nonretracted_subset)\n",
    "\n",
    "#Display dfs\n",
    "#retracted_df\n",
    "#nonretracted_df"
   ]
  },
  {
   "cell_type": "markdown",
   "id": "918c91a8-9d76-47c1-a189-fe83cea2ccc2",
   "metadata": {},
   "source": [
    "# Combine both target groups into one dataframe for dataset model processing"
   ]
  },
  {
   "cell_type": "code",
   "execution_count": 10,
   "id": "41b419de-caf2-408b-b126-cb38b4c1f352",
   "metadata": {
    "tags": []
   },
   "outputs": [
    {
     "data": {
      "text/html": [
       "<div>\n",
       "<style scoped>\n",
       "    .dataframe tbody tr th:only-of-type {\n",
       "        vertical-align: middle;\n",
       "    }\n",
       "\n",
       "    .dataframe tbody tr th {\n",
       "        vertical-align: top;\n",
       "    }\n",
       "\n",
       "    .dataframe thead th {\n",
       "        text-align: right;\n",
       "    }\n",
       "</style>\n",
       "<table border=\"1\" class=\"dataframe\">\n",
       "  <thead>\n",
       "    <tr style=\"text-align: right;\">\n",
       "      <th></th>\n",
       "      <th>abstract_text</th>\n",
       "      <th>target</th>\n",
       "    </tr>\n",
       "  </thead>\n",
       "  <tbody>\n",
       "    <tr>\n",
       "      <th>0</th>\n",
       "      <td>\"Recent studies have demonstrated that the cel...</td>\n",
       "      <td>1</td>\n",
       "    </tr>\n",
       "    <tr>\n",
       "      <th>1</th>\n",
       "      <td>\"Pulmonary senescence and fibrosis occur with ...</td>\n",
       "      <td>1</td>\n",
       "    </tr>\n",
       "    <tr>\n",
       "      <th>2</th>\n",
       "      <td>\"Therapeutic effects of quercetin-loaded phyto...</td>\n",
       "      <td>1</td>\n",
       "    </tr>\n",
       "    <tr>\n",
       "      <th>3</th>\n",
       "      <td>\"Zinc oxide nanoparticles (ZnO NP) may be pres...</td>\n",
       "      <td>1</td>\n",
       "    </tr>\n",
       "    <tr>\n",
       "      <th>4</th>\n",
       "      <td>\"This study aims to elucidate the mechanisms b...</td>\n",
       "      <td>0</td>\n",
       "    </tr>\n",
       "    <tr>\n",
       "      <th>...</th>\n",
       "      <td>...</td>\n",
       "      <td>...</td>\n",
       "    </tr>\n",
       "    <tr>\n",
       "      <th>10467</th>\n",
       "      <td>\"Interleukin-1 (IL-1) is important for the pat...</td>\n",
       "      <td>1</td>\n",
       "    </tr>\n",
       "    <tr>\n",
       "      <th>10468</th>\n",
       "      <td>\"Abstract: This study aimed to investigate the...</td>\n",
       "      <td>0</td>\n",
       "    </tr>\n",
       "    <tr>\n",
       "      <th>10469</th>\n",
       "      <td>\"Telomerase reverse transcriptase (TERT) is ti...</td>\n",
       "      <td>1</td>\n",
       "    </tr>\n",
       "    <tr>\n",
       "      <th>10470</th>\n",
       "      <td>\"The aim of this study was to explore the effe...</td>\n",
       "      <td>0</td>\n",
       "    </tr>\n",
       "    <tr>\n",
       "      <th>10471</th>\n",
       "      <td>\"The adult zebrafish is capable of regeneratin...</td>\n",
       "      <td>0</td>\n",
       "    </tr>\n",
       "  </tbody>\n",
       "</table>\n",
       "<p>10472 rows × 2 columns</p>\n",
       "</div>"
      ],
      "text/plain": [
       "                                           abstract_text  target\n",
       "0      \"Recent studies have demonstrated that the cel...       1\n",
       "1      \"Pulmonary senescence and fibrosis occur with ...       1\n",
       "2      \"Therapeutic effects of quercetin-loaded phyto...       1\n",
       "3      \"Zinc oxide nanoparticles (ZnO NP) may be pres...       1\n",
       "4      \"This study aims to elucidate the mechanisms b...       0\n",
       "...                                                  ...     ...\n",
       "10467  \"Interleukin-1 (IL-1) is important for the pat...       1\n",
       "10468  \"Abstract: This study aimed to investigate the...       0\n",
       "10469  \"Telomerase reverse transcriptase (TERT) is ti...       1\n",
       "10470  \"The aim of this study was to explore the effe...       0\n",
       "10471  \"The adult zebrafish is capable of regeneratin...       0\n",
       "\n",
       "[10472 rows x 2 columns]"
      ]
     },
     "execution_count": 10,
     "metadata": {},
     "output_type": "execute_result"
    }
   ],
   "source": [
    "\n",
    "# Concatenating both dataframes\n",
    "abstracts_df = pd.concat([retracted_df, nonretracted_df], ignore_index=True)\n",
    "\n",
    "# Optionally, you can shuffle the rows if you want\n",
    "abstracts_df = abstracts_df.sample(frac=1).reset_index(drop=True)\n",
    "\n",
    "#make sure target is a integer\n",
    "abstracts_df['target'] = abstracts_df['target'].astype(int)\n",
    "\n",
    "\n",
    "# Print the combined dataframe\n",
    "abstracts_df\n"
   ]
  },
  {
   "cell_type": "code",
   "execution_count": 11,
   "id": "0b0192e1-3d47-41d2-9ee8-db26806a9ea9",
   "metadata": {
    "tags": []
   },
   "outputs": [
    {
     "name": "stdout",
     "output_type": "stream",
     "text": [
      "There are 10472 rows in the dataset\n"
     ]
    }
   ],
   "source": [
    "print(f'There are {abstracts_df.shape[0]} rows in the dataset')"
   ]
  },
  {
   "cell_type": "code",
   "execution_count": null,
   "id": "9ad5ed69-516b-47f5-9b0d-47599d6fa78e",
   "metadata": {},
   "outputs": [],
   "source": []
  }
 ],
 "metadata": {
  "kernelspec": {
   "display_name": "Python 3 (ipykernel)",
   "language": "python",
   "name": "python3"
  },
  "language_info": {
   "codemirror_mode": {
    "name": "ipython",
    "version": 3
   },
   "file_extension": ".py",
   "mimetype": "text/x-python",
   "name": "python",
   "nbconvert_exporter": "python",
   "pygments_lexer": "ipython3",
   "version": "3.11.3"
  }
 },
 "nbformat": 4,
 "nbformat_minor": 5
}
