{
 "cells": [
  {
   "cell_type": "markdown",
   "id": "d7dec497-e30d-4ba0-aba9-2b4fa51f0732",
   "metadata": {},
   "source": [
    "# Loading all abstracts as text for further processing for models"
   ]
  },
  {
   "cell_type": "markdown",
   "id": "0151ec5e-ff8e-4666-b0b9-3f0249ec16b5",
   "metadata": {},
   "source": [
    "\n",
    "Let us import all required libraries:"
   ]
  },
  {
   "cell_type": "code",
   "execution_count": 6,
   "id": "c553fa1f-44ef-44f5-bd96-b38133cf125f",
   "metadata": {
    "tags": []
   },
   "outputs": [],
   "source": [
    "# Import required libraries\n",
    "\n",
    "import pandas as pd\n",
    "import csv\n",
    "\n",
    "import numpy as np\n",
    "#from tqdm import tqdm\n",
    "\n",
    "import warnings\n",
    "warnings.filterwarnings(\"ignore\")"
   ]
  },
  {
   "cell_type": "markdown",
   "id": "126aead9-eac8-4588-afa7-656ae3ee8d3b",
   "metadata": {},
   "source": [
    "# Load and clean non retracted papers"
   ]
  },
  {
   "cell_type": "markdown",
   "id": "ccf9056e-c17d-4b77-9b3a-b395f9bd79fa",
   "metadata": {},
   "source": [
    "\n",
    "Reading the csv file with the text of non-retracted papers into a dataframe:"
   ]
  },
  {
   "cell_type": "code",
   "execution_count": 7,
   "id": "59de722b-dd9d-4961-8f61-d04ba2fa7d78",
   "metadata": {
    "tags": []
   },
   "outputs": [],
   "source": [
    "# Relative path to the CSV file for non-retracted papers\n",
    "file_path =  '../data/abstracts/cell_biology/non_retracted/retracted_cell_biology_abstracts.csv'\n",
    "\n",
    "# Load the CSV file into a DataFrame, specifying the pipe '|' as the delimiter\n",
    "abstract_nonretracted_df = pd.read_csv(file_path, delimiter='|')\n",
    "\n",
    "# Display information about the DataFrame \n",
    "#abstract_nonretracted_df.info()\n",
    "#abstract_nonretracted_df.head()\n"
   ]
  },
  {
   "cell_type": "markdown",
   "id": "810715e5-8b98-4e1f-90c4-5490fc6e0cc2",
   "metadata": {
    "tags": []
   },
   "source": [
    "\n",
    "Removing all rows where retract% or withdraw% appear in the abstract text:"
   ]
  },
  {
   "cell_type": "code",
   "execution_count": 8,
   "id": "81481a14-4669-459d-8a0f-35d27270c7c7",
   "metadata": {
    "tags": []
   },
   "outputs": [],
   "source": [
    "# filter the dataframe to clean up rows that have the word retracted in non-retracted papers\n",
    "\n",
    "# Filter the DataFrame to only include rows where 'ret_flag' is True\n",
    "\n",
    "ret_flag_nonretracted_df = abstract_nonretracted_df[abstract_nonretracted_df['ret_flag'] == True]\n",
    "\n",
    "# Info on the filtered DataFrame\n",
    "#ret_flag_nonretracted_df.info()"
   ]
  },
  {
   "cell_type": "code",
   "execution_count": 9,
   "id": "609d6e66-c2ac-41b8-a303-29e6f33663f0",
   "metadata": {
    "tags": []
   },
   "outputs": [],
   "source": [
    "# Drop rows where 'ret_flag' is True directly from the main DataFrame\n",
    "cleaned_nonretracted_df = abstract_nonretracted_df[abstract_nonretracted_df['ret_flag'] != True]\n",
    "\n",
    "# Display the cleaned DataFrame to verify the rows are dropped\n",
    "#cleaned_nonretracted_df.info()\n",
    "#cleaned_nonretracted_df"
   ]
  },
  {
   "cell_type": "markdown",
   "id": "c08aef85-8532-4e49-85df-07c7ce122b42",
   "metadata": {},
   "source": [
    "# Load & clean retracted papers "
   ]
  },
  {
   "cell_type": "markdown",
   "id": "19c3be49-f6cc-4360-b3a6-907ffefd4b00",
   "metadata": {},
   "source": [
    "\n",
    "Reading the csv file with the text of retracted papaers into a dataframe:"
   ]
  },
  {
   "cell_type": "code",
   "execution_count": 10,
   "id": "574efc8f-6c44-4b47-bb58-4b6af76534a2",
   "metadata": {
    "tags": []
   },
   "outputs": [
    {
     "ename": "FileNotFoundError",
     "evalue": "[Errno 2] No such file or directory: '../data/cellbio_abstracts/cellbio_abstracts_retracted_text.csv'",
     "output_type": "error",
     "traceback": [
      "\u001b[31m---------------------------------------------------------------------------\u001b[39m",
      "\u001b[31mFileNotFoundError\u001b[39m                         Traceback (most recent call last)",
      "\u001b[36mCell\u001b[39m\u001b[36m \u001b[39m\u001b[32mIn[10]\u001b[39m\u001b[32m, line 5\u001b[39m\n\u001b[32m      2\u001b[39m file_path = \u001b[33m'\u001b[39m\u001b[33m../data/cellbio_abstracts/cellbio_abstracts_retracted_text.csv\u001b[39m\u001b[33m'\u001b[39m\n\u001b[32m      4\u001b[39m \u001b[38;5;66;03m# Load the CSV file into a DataFrame, specifying the pipe '|' as the delimiter\u001b[39;00m\n\u001b[32m----> \u001b[39m\u001b[32m5\u001b[39m abstract_retracted_df = \u001b[43mpd\u001b[49m\u001b[43m.\u001b[49m\u001b[43mread_csv\u001b[49m\u001b[43m(\u001b[49m\u001b[43mfile_path\u001b[49m\u001b[43m,\u001b[49m\u001b[43m \u001b[49m\u001b[43mdelimiter\u001b[49m\u001b[43m=\u001b[49m\u001b[33;43m'\u001b[39;49m\u001b[33;43m|\u001b[39;49m\u001b[33;43m'\u001b[39;49m\u001b[43m)\u001b[49m\n\u001b[32m      7\u001b[39m \u001b[38;5;66;03m# Display information about the DataFrame \u001b[39;00m\n\u001b[32m      8\u001b[39m \u001b[38;5;66;03m#abstract_retracted_df.info()\u001b[39;00m\n\u001b[32m      9\u001b[39m \u001b[38;5;66;03m#abstract_retracted_df.head()\u001b[39;00m\n",
      "\u001b[36mFile \u001b[39m\u001b[32m~/Documents/retraction_project/.venv/lib/python3.13/site-packages/pandas/io/parsers/readers.py:1026\u001b[39m, in \u001b[36mread_csv\u001b[39m\u001b[34m(filepath_or_buffer, sep, delimiter, header, names, index_col, usecols, dtype, engine, converters, true_values, false_values, skipinitialspace, skiprows, skipfooter, nrows, na_values, keep_default_na, na_filter, verbose, skip_blank_lines, parse_dates, infer_datetime_format, keep_date_col, date_parser, date_format, dayfirst, cache_dates, iterator, chunksize, compression, thousands, decimal, lineterminator, quotechar, quoting, doublequote, escapechar, comment, encoding, encoding_errors, dialect, on_bad_lines, delim_whitespace, low_memory, memory_map, float_precision, storage_options, dtype_backend)\u001b[39m\n\u001b[32m   1013\u001b[39m kwds_defaults = _refine_defaults_read(\n\u001b[32m   1014\u001b[39m     dialect,\n\u001b[32m   1015\u001b[39m     delimiter,\n\u001b[32m   (...)\u001b[39m\u001b[32m   1022\u001b[39m     dtype_backend=dtype_backend,\n\u001b[32m   1023\u001b[39m )\n\u001b[32m   1024\u001b[39m kwds.update(kwds_defaults)\n\u001b[32m-> \u001b[39m\u001b[32m1026\u001b[39m \u001b[38;5;28;01mreturn\u001b[39;00m \u001b[43m_read\u001b[49m\u001b[43m(\u001b[49m\u001b[43mfilepath_or_buffer\u001b[49m\u001b[43m,\u001b[49m\u001b[43m \u001b[49m\u001b[43mkwds\u001b[49m\u001b[43m)\u001b[49m\n",
      "\u001b[36mFile \u001b[39m\u001b[32m~/Documents/retraction_project/.venv/lib/python3.13/site-packages/pandas/io/parsers/readers.py:620\u001b[39m, in \u001b[36m_read\u001b[39m\u001b[34m(filepath_or_buffer, kwds)\u001b[39m\n\u001b[32m    617\u001b[39m _validate_names(kwds.get(\u001b[33m\"\u001b[39m\u001b[33mnames\u001b[39m\u001b[33m\"\u001b[39m, \u001b[38;5;28;01mNone\u001b[39;00m))\n\u001b[32m    619\u001b[39m \u001b[38;5;66;03m# Create the parser.\u001b[39;00m\n\u001b[32m--> \u001b[39m\u001b[32m620\u001b[39m parser = \u001b[43mTextFileReader\u001b[49m\u001b[43m(\u001b[49m\u001b[43mfilepath_or_buffer\u001b[49m\u001b[43m,\u001b[49m\u001b[43m \u001b[49m\u001b[43m*\u001b[49m\u001b[43m*\u001b[49m\u001b[43mkwds\u001b[49m\u001b[43m)\u001b[49m\n\u001b[32m    622\u001b[39m \u001b[38;5;28;01mif\u001b[39;00m chunksize \u001b[38;5;129;01mor\u001b[39;00m iterator:\n\u001b[32m    623\u001b[39m     \u001b[38;5;28;01mreturn\u001b[39;00m parser\n",
      "\u001b[36mFile \u001b[39m\u001b[32m~/Documents/retraction_project/.venv/lib/python3.13/site-packages/pandas/io/parsers/readers.py:1620\u001b[39m, in \u001b[36mTextFileReader.__init__\u001b[39m\u001b[34m(self, f, engine, **kwds)\u001b[39m\n\u001b[32m   1617\u001b[39m     \u001b[38;5;28mself\u001b[39m.options[\u001b[33m\"\u001b[39m\u001b[33mhas_index_names\u001b[39m\u001b[33m\"\u001b[39m] = kwds[\u001b[33m\"\u001b[39m\u001b[33mhas_index_names\u001b[39m\u001b[33m\"\u001b[39m]\n\u001b[32m   1619\u001b[39m \u001b[38;5;28mself\u001b[39m.handles: IOHandles | \u001b[38;5;28;01mNone\u001b[39;00m = \u001b[38;5;28;01mNone\u001b[39;00m\n\u001b[32m-> \u001b[39m\u001b[32m1620\u001b[39m \u001b[38;5;28mself\u001b[39m._engine = \u001b[38;5;28;43mself\u001b[39;49m\u001b[43m.\u001b[49m\u001b[43m_make_engine\u001b[49m\u001b[43m(\u001b[49m\u001b[43mf\u001b[49m\u001b[43m,\u001b[49m\u001b[43m \u001b[49m\u001b[38;5;28;43mself\u001b[39;49m\u001b[43m.\u001b[49m\u001b[43mengine\u001b[49m\u001b[43m)\u001b[49m\n",
      "\u001b[36mFile \u001b[39m\u001b[32m~/Documents/retraction_project/.venv/lib/python3.13/site-packages/pandas/io/parsers/readers.py:1880\u001b[39m, in \u001b[36mTextFileReader._make_engine\u001b[39m\u001b[34m(self, f, engine)\u001b[39m\n\u001b[32m   1878\u001b[39m     \u001b[38;5;28;01mif\u001b[39;00m \u001b[33m\"\u001b[39m\u001b[33mb\u001b[39m\u001b[33m\"\u001b[39m \u001b[38;5;129;01mnot\u001b[39;00m \u001b[38;5;129;01min\u001b[39;00m mode:\n\u001b[32m   1879\u001b[39m         mode += \u001b[33m\"\u001b[39m\u001b[33mb\u001b[39m\u001b[33m\"\u001b[39m\n\u001b[32m-> \u001b[39m\u001b[32m1880\u001b[39m \u001b[38;5;28mself\u001b[39m.handles = \u001b[43mget_handle\u001b[49m\u001b[43m(\u001b[49m\n\u001b[32m   1881\u001b[39m \u001b[43m    \u001b[49m\u001b[43mf\u001b[49m\u001b[43m,\u001b[49m\n\u001b[32m   1882\u001b[39m \u001b[43m    \u001b[49m\u001b[43mmode\u001b[49m\u001b[43m,\u001b[49m\n\u001b[32m   1883\u001b[39m \u001b[43m    \u001b[49m\u001b[43mencoding\u001b[49m\u001b[43m=\u001b[49m\u001b[38;5;28;43mself\u001b[39;49m\u001b[43m.\u001b[49m\u001b[43moptions\u001b[49m\u001b[43m.\u001b[49m\u001b[43mget\u001b[49m\u001b[43m(\u001b[49m\u001b[33;43m\"\u001b[39;49m\u001b[33;43mencoding\u001b[39;49m\u001b[33;43m\"\u001b[39;49m\u001b[43m,\u001b[49m\u001b[43m \u001b[49m\u001b[38;5;28;43;01mNone\u001b[39;49;00m\u001b[43m)\u001b[49m\u001b[43m,\u001b[49m\n\u001b[32m   1884\u001b[39m \u001b[43m    \u001b[49m\u001b[43mcompression\u001b[49m\u001b[43m=\u001b[49m\u001b[38;5;28;43mself\u001b[39;49m\u001b[43m.\u001b[49m\u001b[43moptions\u001b[49m\u001b[43m.\u001b[49m\u001b[43mget\u001b[49m\u001b[43m(\u001b[49m\u001b[33;43m\"\u001b[39;49m\u001b[33;43mcompression\u001b[39;49m\u001b[33;43m\"\u001b[39;49m\u001b[43m,\u001b[49m\u001b[43m \u001b[49m\u001b[38;5;28;43;01mNone\u001b[39;49;00m\u001b[43m)\u001b[49m\u001b[43m,\u001b[49m\n\u001b[32m   1885\u001b[39m \u001b[43m    \u001b[49m\u001b[43mmemory_map\u001b[49m\u001b[43m=\u001b[49m\u001b[38;5;28;43mself\u001b[39;49m\u001b[43m.\u001b[49m\u001b[43moptions\u001b[49m\u001b[43m.\u001b[49m\u001b[43mget\u001b[49m\u001b[43m(\u001b[49m\u001b[33;43m\"\u001b[39;49m\u001b[33;43mmemory_map\u001b[39;49m\u001b[33;43m\"\u001b[39;49m\u001b[43m,\u001b[49m\u001b[43m \u001b[49m\u001b[38;5;28;43;01mFalse\u001b[39;49;00m\u001b[43m)\u001b[49m\u001b[43m,\u001b[49m\n\u001b[32m   1886\u001b[39m \u001b[43m    \u001b[49m\u001b[43mis_text\u001b[49m\u001b[43m=\u001b[49m\u001b[43mis_text\u001b[49m\u001b[43m,\u001b[49m\n\u001b[32m   1887\u001b[39m \u001b[43m    \u001b[49m\u001b[43merrors\u001b[49m\u001b[43m=\u001b[49m\u001b[38;5;28;43mself\u001b[39;49m\u001b[43m.\u001b[49m\u001b[43moptions\u001b[49m\u001b[43m.\u001b[49m\u001b[43mget\u001b[49m\u001b[43m(\u001b[49m\u001b[33;43m\"\u001b[39;49m\u001b[33;43mencoding_errors\u001b[39;49m\u001b[33;43m\"\u001b[39;49m\u001b[43m,\u001b[49m\u001b[43m \u001b[49m\u001b[33;43m\"\u001b[39;49m\u001b[33;43mstrict\u001b[39;49m\u001b[33;43m\"\u001b[39;49m\u001b[43m)\u001b[49m\u001b[43m,\u001b[49m\n\u001b[32m   1888\u001b[39m \u001b[43m    \u001b[49m\u001b[43mstorage_options\u001b[49m\u001b[43m=\u001b[49m\u001b[38;5;28;43mself\u001b[39;49m\u001b[43m.\u001b[49m\u001b[43moptions\u001b[49m\u001b[43m.\u001b[49m\u001b[43mget\u001b[49m\u001b[43m(\u001b[49m\u001b[33;43m\"\u001b[39;49m\u001b[33;43mstorage_options\u001b[39;49m\u001b[33;43m\"\u001b[39;49m\u001b[43m,\u001b[49m\u001b[43m \u001b[49m\u001b[38;5;28;43;01mNone\u001b[39;49;00m\u001b[43m)\u001b[49m\u001b[43m,\u001b[49m\n\u001b[32m   1889\u001b[39m \u001b[43m\u001b[49m\u001b[43m)\u001b[49m\n\u001b[32m   1890\u001b[39m \u001b[38;5;28;01massert\u001b[39;00m \u001b[38;5;28mself\u001b[39m.handles \u001b[38;5;129;01mis\u001b[39;00m \u001b[38;5;129;01mnot\u001b[39;00m \u001b[38;5;28;01mNone\u001b[39;00m\n\u001b[32m   1891\u001b[39m f = \u001b[38;5;28mself\u001b[39m.handles.handle\n",
      "\u001b[36mFile \u001b[39m\u001b[32m~/Documents/retraction_project/.venv/lib/python3.13/site-packages/pandas/io/common.py:873\u001b[39m, in \u001b[36mget_handle\u001b[39m\u001b[34m(path_or_buf, mode, encoding, compression, memory_map, is_text, errors, storage_options)\u001b[39m\n\u001b[32m    868\u001b[39m \u001b[38;5;28;01melif\u001b[39;00m \u001b[38;5;28misinstance\u001b[39m(handle, \u001b[38;5;28mstr\u001b[39m):\n\u001b[32m    869\u001b[39m     \u001b[38;5;66;03m# Check whether the filename is to be opened in binary mode.\u001b[39;00m\n\u001b[32m    870\u001b[39m     \u001b[38;5;66;03m# Binary mode does not support 'encoding' and 'newline'.\u001b[39;00m\n\u001b[32m    871\u001b[39m     \u001b[38;5;28;01mif\u001b[39;00m ioargs.encoding \u001b[38;5;129;01mand\u001b[39;00m \u001b[33m\"\u001b[39m\u001b[33mb\u001b[39m\u001b[33m\"\u001b[39m \u001b[38;5;129;01mnot\u001b[39;00m \u001b[38;5;129;01min\u001b[39;00m ioargs.mode:\n\u001b[32m    872\u001b[39m         \u001b[38;5;66;03m# Encoding\u001b[39;00m\n\u001b[32m--> \u001b[39m\u001b[32m873\u001b[39m         handle = \u001b[38;5;28;43mopen\u001b[39;49m\u001b[43m(\u001b[49m\n\u001b[32m    874\u001b[39m \u001b[43m            \u001b[49m\u001b[43mhandle\u001b[49m\u001b[43m,\u001b[49m\n\u001b[32m    875\u001b[39m \u001b[43m            \u001b[49m\u001b[43mioargs\u001b[49m\u001b[43m.\u001b[49m\u001b[43mmode\u001b[49m\u001b[43m,\u001b[49m\n\u001b[32m    876\u001b[39m \u001b[43m            \u001b[49m\u001b[43mencoding\u001b[49m\u001b[43m=\u001b[49m\u001b[43mioargs\u001b[49m\u001b[43m.\u001b[49m\u001b[43mencoding\u001b[49m\u001b[43m,\u001b[49m\n\u001b[32m    877\u001b[39m \u001b[43m            \u001b[49m\u001b[43merrors\u001b[49m\u001b[43m=\u001b[49m\u001b[43merrors\u001b[49m\u001b[43m,\u001b[49m\n\u001b[32m    878\u001b[39m \u001b[43m            \u001b[49m\u001b[43mnewline\u001b[49m\u001b[43m=\u001b[49m\u001b[33;43m\"\u001b[39;49m\u001b[33;43m\"\u001b[39;49m\u001b[43m,\u001b[49m\n\u001b[32m    879\u001b[39m \u001b[43m        \u001b[49m\u001b[43m)\u001b[49m\n\u001b[32m    880\u001b[39m     \u001b[38;5;28;01melse\u001b[39;00m:\n\u001b[32m    881\u001b[39m         \u001b[38;5;66;03m# Binary mode\u001b[39;00m\n\u001b[32m    882\u001b[39m         handle = \u001b[38;5;28mopen\u001b[39m(handle, ioargs.mode)\n",
      "\u001b[31mFileNotFoundError\u001b[39m: [Errno 2] No such file or directory: '../data/cellbio_abstracts/cellbio_abstracts_retracted_text.csv'"
     ]
    }
   ],
   "source": [
    "# Relative path to the CSV file\n",
    "file_path = '../data/cellbio_abstracts/cellbio_abstracts_retracted_text.csv'\n",
    "\n",
    "# Load the CSV file into a DataFrame, specifying the pipe '|' as the delimiter\n",
    "abstract_retracted_df = pd.read_csv(file_path, delimiter='|')\n",
    "\n",
    "# Display information about the DataFrame \n",
    "#abstract_retracted_df.info()\n",
    "#abstract_retracted_df.head()\n"
   ]
  },
  {
   "cell_type": "markdown",
   "id": "5bce75bd-1906-4848-b3b7-0d728834639b",
   "metadata": {},
   "source": [
    "\n",
    "Removing all rows where retract% or withdraw% appear in the abstract text:"
   ]
  },
  {
   "cell_type": "code",
   "execution_count": null,
   "id": "83be343c-767d-46b3-b28e-24aff1843b17",
   "metadata": {
    "tags": []
   },
   "outputs": [],
   "source": [
    "# filter the dataframe to clean up rows that have the word retracted :\n",
    "\n",
    "# Filter the DataFrame to only include rows where 'ret_flag' is True\n",
    "ret_flag_retracted_df = abstract_retracted_df[abstract_retracted_df['ret_flag'] == True]\n",
    "\n",
    "# Display the filtered DataFrame\n",
    "#ret_flag_retracted_df.info()"
   ]
  },
  {
   "cell_type": "code",
   "execution_count": null,
   "id": "aa735280-cf99-480f-9b44-5ab71a79977c",
   "metadata": {
    "tags": []
   },
   "outputs": [],
   "source": [
    "# Drop rows where 'ret_flag' is True directly from the main DataFrame\n",
    "\n",
    "cleaned_retracted_df = abstract_retracted_df[abstract_retracted_df['ret_flag'] != True]\n",
    "\n",
    "# Display the cleaned DataFrame to verify the rows are dropped\n",
    "#cleaned_retracted_df.info()\n",
    "#cleaned_retracted_df"
   ]
  },
  {
   "cell_type": "markdown",
   "id": "23cd8e38-3c40-4fb3-95fb-b22912ab9f85",
   "metadata": {},
   "source": [
    "# Dataframe with just abstract_text and target for both retracted and non-retracted papers\n"
   ]
  },
  {
   "cell_type": "markdown",
   "id": "3c9441ba-a7bc-44d8-b860-ce93f282d80e",
   "metadata": {},
   "source": [
    "Create one Dataframe each target group"
   ]
  },
  {
   "cell_type": "code",
   "execution_count": null,
   "id": "7a9a9a61-f7c9-496e-965c-f361416d525f",
   "metadata": {
    "tags": []
   },
   "outputs": [],
   "source": [
    "\n",
    "# Selecting required columns for retracted abstracts\n",
    "retracted_subset = cleaned_retracted_df[['abstract_text', 'target']]\n",
    "\n",
    "# Selecting required columns for non-retracted abstracts\n",
    "nonretracted_subset = cleaned_nonretracted_df[['abstract_text', 'target']]\n",
    "\n",
    "# Creating new dataframes\n",
    "retracted_df = pd.DataFrame(retracted_subset)\n",
    "nonretracted_df = pd.DataFrame(nonretracted_subset)\n",
    "\n",
    "#Display dfs\n",
    "#retracted_df\n",
    "#nonretracted_df"
   ]
  },
  {
   "cell_type": "markdown",
   "id": "918c91a8-9d76-47c1-a189-fe83cea2ccc2",
   "metadata": {},
   "source": [
    "# Combine both target groups into one dataframe for dataset model processing"
   ]
  },
  {
   "cell_type": "code",
   "execution_count": null,
   "id": "41b419de-caf2-408b-b126-cb38b4c1f352",
   "metadata": {
    "tags": []
   },
   "outputs": [],
   "source": [
    "\n",
    "# Concatenating both dataframes\n",
    "abstracts_df = pd.concat([retracted_df, nonretracted_df], ignore_index=True)\n",
    "\n",
    "# Optionally, you can shuffle the rows if you want\n",
    "abstracts_df = abstracts_df.sample(frac=1).reset_index(drop=True)\n",
    "\n",
    "#make sure target is a integer\n",
    "abstracts_df['target'] = abstracts_df['target'].astype(int)\n",
    "\n",
    "\n",
    "# Print the combined dataframe\n",
    "abstracts_df\n"
   ]
  },
  {
   "cell_type": "code",
   "execution_count": null,
   "id": "0b0192e1-3d47-41d2-9ee8-db26806a9ea9",
   "metadata": {
    "tags": []
   },
   "outputs": [],
   "source": [
    "print(f'There are {abstracts_df.shape[0]} rows in the dataset')"
   ]
  },
  {
   "cell_type": "code",
   "execution_count": null,
   "id": "9ad5ed69-516b-47f5-9b0d-47599d6fa78e",
   "metadata": {},
   "outputs": [],
   "source": []
  }
 ],
 "metadata": {
  "kernelspec": {
   "display_name": "Python 3 (ipykernel)",
   "language": "python",
   "name": "python3"
  },
  "language_info": {
   "codemirror_mode": {
    "name": "ipython",
    "version": 3
   },
   "file_extension": ".py",
   "mimetype": "text/x-python",
   "name": "python",
   "nbconvert_exporter": "python",
   "pygments_lexer": "ipython3",
   "version": "3.13.2"
  }
 },
 "nbformat": 4,
 "nbformat_minor": 5
}
