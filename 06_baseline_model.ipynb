{
 "cells": [
  {
   "cell_type": "markdown",
   "id": "8e7366cb-30e5-44fe-87e4-97ceedfa3015",
   "metadata": {},
   "source": [
    "# 6. Baseline Model"
   ]
  },
  {
   "cell_type": "markdown",
   "id": "f666a0cd-c8fb-4665-835f-8fc84d2a369a",
   "metadata": {},
   "source": [
    "## Introduction"
   ]
  },
  {
   "cell_type": "markdown",
   "id": "b353bfdb-12cd-43d0-a35a-f3079cf7b9fb",
   "metadata": {},
   "source": [
    "This Notebook builds a simple **baseline model** that attempts to classify papers as fraudulent or non-fraudulent on the basis of their abstract. The model uses the Bag of Words method to convert text to numeric values, and a logistic regressor to classify papers as fraudulent or non-fraudulent.\n",
    "\n",
    "The **workflow** of the notebook is set up as follows:\n",
    "\n",
    "- Input: **one .csv file** with abstract data for fraudulent papers, and **one .csv** file with abstract data for non-fraudulent papers.\n",
    "- Output: **none** so far (we do get a performance report for our model but at the moment this is not stored anywhere)."
   ]
  },
  {
   "cell_type": "markdown",
   "id": "97c2c621-65dc-4b67-9ed5-52dec382fe32",
   "metadata": {
    "tags": []
   },
   "source": [
    "## Input / Output Parameters:"
   ]
  },
  {
   "cell_type": "markdown",
   "id": "aaad40fd-ad1a-4081-b257-541f291b79e3",
   "metadata": {},
   "source": [
    "Input:"
   ]
  },
  {
   "cell_type": "code",
   "execution_count": 1,
   "id": "c9bfc906-ffba-44ac-8ce9-7839b8bd9832",
   "metadata": {
    "tags": []
   },
   "outputs": [],
   "source": [
    "\n",
    "# File name for text data from fraudulent papers\n",
    "\n",
    "#file_name_fraudulent = \"retracted_jenny.csv\"\n",
    "\n",
    "file_name_fraudulent = \"cellbio_abstracts_non-retracted_text.csv\"\n",
    "\n",
    "# File path for text data from fraudulent papers\n",
    "\n",
    "file_path_fraudulent = \"../data/text_data/\" + file_name_fraudulent\n",
    "\n",
    "# File name for text data from legitimate papers\n",
    "\n",
    "#file_name_legit = \"non_retracted_jenny.csv\"\n",
    "\n",
    "file_name_legit = \"cellbio_abstracts_retracted_text.csv\"\n",
    "\n",
    "# File path for text data from legitimate papers\n",
    "\n",
    "file_path_legit = \"../data/text_data/\" + file_name_legit \n",
    "\n",
    "# File path for country codes dictionary\n",
    "\n",
    "file_path_country_codes = \"../data/country_codes_dictionary.csv\""
   ]
  },
  {
   "cell_type": "markdown",
   "id": "e180e5ba-3ca6-44a8-bc58-f2a755fdaf9d",
   "metadata": {},
   "source": [
    "## Importing Required Libraries"
   ]
  },
  {
   "cell_type": "markdown",
   "id": "f18a3fe8-9cff-461a-b03f-8bfb14b43450",
   "metadata": {},
   "source": [
    "Let us start by importing the required libraries to implement our task:"
   ]
  },
  {
   "cell_type": "code",
   "execution_count": 2,
   "id": "dc82e987-cde7-4712-9a89-483af411cd1a",
   "metadata": {
    "tags": []
   },
   "outputs": [],
   "source": [
    "\n",
    "# Import required libraries\n",
    "\n",
    "import pandas as pd\n",
    "import sklearn\n",
    "import seaborn as sns\n",
    "\n",
    "from sklearn.feature_extraction.text import CountVectorizer\n",
    "from sklearn.feature_extraction.text import TfidfVectorizer\n",
    "\n",
    "import json\n",
    "\n",
    "from sklearn.model_selection import train_test_split\n",
    "from sklearn.linear_model import LogisticRegression\n",
    "from sklearn.metrics import accuracy_score, classification_report\n",
    "import numpy as np\n",
    "from scipy.stats import norm\n",
    "\n",
    "\n",
    "from sklearn.metrics import roc_curve, auc\n",
    "import matplotlib.pyplot as plt\n",
    "from sklearn.metrics import confusion_matrix\n",
    "import time\n",
    "from function_definitions import seconds_to_hms\n",
    "from sklearn.feature_selection import SelectKBest, f_classif\n",
    "from xgboost.sklearn import XGBClassifier\n",
    "from sklearn.ensemble import RandomForestClassifier\n",
    "\n",
    "import os\n"
   ]
  },
  {
   "cell_type": "markdown",
   "id": "70e7ee99-2a16-4c27-a3fb-69b0b544120c",
   "metadata": {},
   "source": [
    "## Loading Abstracts for Retracted Papers"
   ]
  },
  {
   "cell_type": "markdown",
   "id": "71060f11-2d57-45cc-8ab4-9cdbc08876b8",
   "metadata": {},
   "source": [
    "\n",
    "We will start by uploading our corpus of reconstructed abstracts from a .csv file. Let us start with retracted papers:"
   ]
  },
  {
   "cell_type": "code",
   "execution_count": 3,
   "id": "2399d047-8545-4d10-908d-51f5c970d526",
   "metadata": {},
   "outputs": [
    {
     "data": {
      "text/html": [
       "<div>\n",
       "<style scoped>\n",
       "    .dataframe tbody tr th:only-of-type {\n",
       "        vertical-align: middle;\n",
       "    }\n",
       "\n",
       "    .dataframe tbody tr th {\n",
       "        vertical-align: top;\n",
       "    }\n",
       "\n",
       "    .dataframe thead th {\n",
       "        text-align: right;\n",
       "    }\n",
       "</style>\n",
       "<table border=\"1\" class=\"dataframe\">\n",
       "  <thead>\n",
       "    <tr style=\"text-align: right;\">\n",
       "      <th></th>\n",
       "      <th>abstract_text</th>\n",
       "      <th>target</th>\n",
       "      <th>doi</th>\n",
       "      <th>country</th>\n",
       "      <th>year</th>\n",
       "      <th>red_flag</th>\n",
       "    </tr>\n",
       "  </thead>\n",
       "  <tbody>\n",
       "    <tr>\n",
       "      <th>0</th>\n",
       "      <td>\"Targeting cancer stem cells is critical for s...</td>\n",
       "      <td>0</td>\n",
       "      <td>10.1186_s13045-018-0613-5</td>\n",
       "      <td>CN</td>\n",
       "      <td>2018</td>\n",
       "      <td>False</td>\n",
       "    </tr>\n",
       "  </tbody>\n",
       "</table>\n",
       "</div>"
      ],
      "text/plain": [
       "                                       abstract_text  target  \\\n",
       "0  \"Targeting cancer stem cells is critical for s...       0   \n",
       "\n",
       "                         doi country  year  red_flag  \n",
       "0  10.1186_s13045-018-0613-5      CN  2018     False  "
      ]
     },
     "execution_count": 3,
     "metadata": {},
     "output_type": "execute_result"
    }
   ],
   "source": [
    "\n",
    "# Read reconstructed abstracts for retracted papers from .csv file\n",
    "# Note that separator is \"|\"\n",
    "\n",
    "df_fraudulent_abstracts = pd.read_csv(file_path_fraudulent, sep = \"|\" )\n",
    "\n",
    "# Read country codes correspondences from .csv\n",
    "\n",
    "df_country_codes = pd.read_csv(file_path_country_codes, encoding='latin-1')\n",
    "\n",
    "# Fix misspelling in column \"ret_flag\"\n",
    "\n",
    "df_fraudulent_abstracts.rename(columns={'ret_flag': 'red_flag'}, inplace=True)\n",
    "\n",
    "# Display data frame\n",
    "\n",
    "df_fraudulent_abstracts.head(1)\n"
   ]
  },
  {
   "cell_type": "markdown",
   "id": "cbcf98da-dec7-4c09-8d70-7b1a8391beac",
   "metadata": {},
   "source": [
    "\n",
    "Retracted abstracts often include a statement indicating that the paper in question has been retracted. In our case, those were already marked with a \"yes\" in the \"red_flag\" column, so we can simply remove them from our data frame:"
   ]
  },
  {
   "cell_type": "code",
   "execution_count": 4,
   "id": "ec66b537-ba7b-4829-8eb2-18d6da484875",
   "metadata": {},
   "outputs": [],
   "source": [
    "\n",
    "# Filter away columns for which \"red_flag\" is true\n",
    "\n",
    "df_fraudulent_abstracts = df_fraudulent_abstracts[df_fraudulent_abstracts['red_flag'] != True]\n"
   ]
  },
  {
   "cell_type": "markdown",
   "id": "61fc73bf-0565-4f3e-b99f-e7e99bce117d",
   "metadata": {},
   "source": [
    "The abstract text that remains can now go into our corpus for retracted papers:"
   ]
  },
  {
   "cell_type": "code",
   "execution_count": 5,
   "id": "aecdbb9c-0712-40a3-803b-2a7ece4965aa",
   "metadata": {},
   "outputs": [],
   "source": [
    "\n",
    "\n",
    "# Store column with reconstructed text into our list for the legit corpus\n",
    "\n",
    "corpus_fraudulent = df_fraudulent_abstracts.abstract_text\n",
    "\n",
    "# Visualize result\n",
    "\n",
    "#corpus_fraudulent"
   ]
  },
  {
   "cell_type": "markdown",
   "id": "24c057bd-a67e-4254-b3ab-aafb8b6f4a69",
   "metadata": {},
   "source": [
    "## Loading Abstracts for Non-Retracted Papers"
   ]
  },
  {
   "cell_type": "markdown",
   "id": "eec49358-78b3-4566-a487-e90e35506615",
   "metadata": {},
   "source": [
    "Let us now turn to our non-retracted papers. We start by loading the relevant abstract text into a data frame:"
   ]
  },
  {
   "cell_type": "code",
   "execution_count": 6,
   "id": "c0dfcca4-3147-41dd-99ce-dfbc797f405e",
   "metadata": {},
   "outputs": [
    {
     "data": {
      "text/html": [
       "<div>\n",
       "<style scoped>\n",
       "    .dataframe tbody tr th:only-of-type {\n",
       "        vertical-align: middle;\n",
       "    }\n",
       "\n",
       "    .dataframe tbody tr th {\n",
       "        vertical-align: top;\n",
       "    }\n",
       "\n",
       "    .dataframe thead th {\n",
       "        text-align: right;\n",
       "    }\n",
       "</style>\n",
       "<table border=\"1\" class=\"dataframe\">\n",
       "  <thead>\n",
       "    <tr style=\"text-align: right;\">\n",
       "      <th></th>\n",
       "      <th>abstract_text</th>\n",
       "      <th>target</th>\n",
       "      <th>doi</th>\n",
       "      <th>country</th>\n",
       "      <th>year</th>\n",
       "      <th>ret_flag</th>\n",
       "    </tr>\n",
       "  </thead>\n",
       "  <tbody>\n",
       "    <tr>\n",
       "      <th>0</th>\n",
       "      <td>\"Abstract Hypoxia and sepsis are key concerns ...</td>\n",
       "      <td>1</td>\n",
       "      <td>10.1088_1748-605X_abd1b8</td>\n",
       "      <td>IN</td>\n",
       "      <td>2021</td>\n",
       "      <td>False</td>\n",
       "    </tr>\n",
       "  </tbody>\n",
       "</table>\n",
       "</div>"
      ],
      "text/plain": [
       "                                       abstract_text  target  \\\n",
       "0  \"Abstract Hypoxia and sepsis are key concerns ...       1   \n",
       "\n",
       "                        doi country  year  ret_flag  \n",
       "0  10.1088_1748-605X_abd1b8      IN  2021     False  "
      ]
     },
     "execution_count": 6,
     "metadata": {},
     "output_type": "execute_result"
    }
   ],
   "source": [
    "\n",
    "# Read reconstructed abstracts for non-retracted papers from .csv file\n",
    "# Note that separator is \"|\"\n",
    "\n",
    "df_legit_abstracts = pd.read_csv(file_path_legit, sep = \"|\" )\n",
    "\n",
    "# Display data frame\n",
    "\n",
    "df_legit_abstracts.head(1)\n",
    "\n",
    "\n",
    "\n",
    "\n"
   ]
  },
  {
   "cell_type": "markdown",
   "id": "4b509594-1756-4c05-be4f-e0bad5fa05c7",
   "metadata": {},
   "source": [
    "Since these papers were not retracted, we can directly put them into our corpus for non-retracted text:"
   ]
  },
  {
   "cell_type": "code",
   "execution_count": 7,
   "id": "c8f8aa90-3bf9-4eae-bb57-77955ee2e1cb",
   "metadata": {},
   "outputs": [],
   "source": [
    "# Store column with reconstructed text into our list for the legit corpus\n",
    "\n",
    "corpus_legit = df_legit_abstracts.abstract_text\n"
   ]
  },
  {
   "cell_type": "markdown",
   "id": "c5182b27-7448-4509-b907-b04bce301615",
   "metadata": {},
   "source": [
    "\n",
    "Finally, we can put the two lists with reconstructed abstracts together to obtain our corpus:"
   ]
  },
  {
   "cell_type": "code",
   "execution_count": 8,
   "id": "93cde213-b258-4a8a-ad5e-68dc153664c5",
   "metadata": {},
   "outputs": [],
   "source": [
    "\n",
    "# Create corpus\n",
    "\n",
    "corpus = []\n",
    "corpus.extend(corpus_fraudulent) # Note that we are adding our fraudulent papers first\n",
    "corpus.extend(corpus_legit)"
   ]
  },
  {
   "cell_type": "markdown",
   "id": "a060d248-5db2-4ef7-aa38-a1bf36e36a8a",
   "metadata": {},
   "source": [
    "## Data Preprocessing and Test-Train Split"
   ]
  },
  {
   "cell_type": "markdown",
   "id": "2beeeab5-02a9-4cd7-ae9e-6eef46658371",
   "metadata": {},
   "source": [
    "\n",
    "We can now use the \"target\" column of our data frame to define our target variable and our features, in case we have them:"
   ]
  },
  {
   "cell_type": "code",
   "execution_count": 9,
   "id": "cae91ac1-46ee-41ca-b30f-93d3d58cb5cc",
   "metadata": {},
   "outputs": [],
   "source": [
    "\n",
    "df_all_abstracts = pd.concat([df_legit_abstracts, df_fraudulent_abstracts], ignore_index=True)\n"
   ]
  },
  {
   "cell_type": "code",
   "execution_count": 10,
   "id": "248ea211-ab2b-47ec-b13e-b12e43adf0d9",
   "metadata": {},
   "outputs": [],
   "source": [
    "X = df_all_abstracts[\"abstract_text\"]\n",
    "y = df_all_abstracts[\"target\"]"
   ]
  },
  {
   "cell_type": "markdown",
   "id": "ac9a4d9e-7b98-4315-875c-33f54b5e8518",
   "metadata": {},
   "source": [
    "We are now ready to split our data set into a train and test portion:"
   ]
  },
  {
   "cell_type": "code",
   "execution_count": 11,
   "id": "cdd9650f-0187-432d-93aa-b89f0238bce9",
   "metadata": {},
   "outputs": [],
   "source": [
    "\n",
    "# Split data into train and text sets\n",
    "\n",
    "X_train, X_test, y_train, y_test = train_test_split(X, y, test_size=0.2, random_state=42)"
   ]
  },
  {
   "cell_type": "markdown",
   "id": "8673b65f-ac1e-4c9a-898a-54b335010d1e",
   "metadata": {},
   "source": [
    "## Vectorization with CountVectorizer()"
   ]
  },
  {
   "cell_type": "markdown",
   "id": "7a9f02a3-b8c5-4d75-8b56-8d74118442f4",
   "metadata": {},
   "source": [
    "\n",
    "We can now go ahead and vectorize our whole corpus using the bag of words method. First we generate our vocabulary by applyzing a Count Vectorizer to our train data set:"
   ]
  },
  {
   "cell_type": "code",
   "execution_count": 13,
   "id": "a4163c22-6c48-43ef-bd52-41580b56c3d4",
   "metadata": {},
   "outputs": [
    {
     "name": "stdout",
     "output_type": "stream",
     "text": [
      "Vocabulary:\n",
      "['00' '000' '0000' ... 'zyy1966999' 'zz9' 'zzu']\n",
      "\n",
      "Bag of Words vectors:\n",
      "[[0 0 0 ... 0 0 0]\n",
      " [0 0 0 ... 0 0 0]\n",
      " [0 0 0 ... 0 0 0]\n",
      " ...\n",
      " [0 0 0 ... 0 0 0]\n",
      " [0 0 0 ... 0 0 0]\n",
      " [0 0 0 ... 0 0 0]]\n"
     ]
    }
   ],
   "source": [
    "\n",
    "# Instantiate CountVectorizer \n",
    "\n",
    "vectorizer = CountVectorizer()\n",
    "\n",
    "# Fit vectorizer to corpus of fraudulent papers to create bag of words vectors\n",
    "\n",
    "X_train_vec = vectorizer.fit_transform(X_train)\n",
    "\n",
    "# Obtain vocabulary for corpus\n",
    "\n",
    "print(\"Vocabulary:\")\n",
    "print(vectorizer.get_feature_names_out())\n",
    "\n",
    "# Print bag of words vectors for each document in corpus\n",
    "\n",
    "print(\"\\nBag of Words vectors:\")\n",
    "print(X_train_vec.toarray())"
   ]
  },
  {
   "cell_type": "markdown",
   "id": "81d3c7c4-e328-4fe1-bae8-0a7e072596fa",
   "metadata": {},
   "source": [
    "- And now we use that vocabulary to vectorize our test data set:"
   ]
  },
  {
   "cell_type": "code",
   "execution_count": 14,
   "id": "56fdbe0e-b143-4500-a800-8052b71a75bd",
   "metadata": {},
   "outputs": [],
   "source": [
    "\n",
    "# Vectorize test data set by using our vectorizer\n",
    "\n",
    "X_test_vec = vectorizer.transform(X_test)"
   ]
  },
  {
   "cell_type": "markdown",
   "id": "371c7aaa-600a-45ee-8430-9d9b64e065b5",
   "metadata": {},
   "source": [
    "## Vectorization with TF-IDF"
   ]
  },
  {
   "cell_type": "markdown",
   "id": "f2473ede-8349-467d-b2e9-8630268e06d2",
   "metadata": {},
   "source": [
    "\n",
    "We can also try and vectorize our corpus using TF-IDF instead. Again, we start by applying the vectorizer to our train data set:"
   ]
  },
  {
   "cell_type": "code",
   "execution_count": 15,
   "id": "9acf5321-5459-4017-b1d2-cafaa19175a5",
   "metadata": {},
   "outputs": [
    {
     "name": "stdout",
     "output_type": "stream",
     "text": [
      "Vocabulary:\n",
      "['00' '000' '0000' ... 'zyy1966999' 'zz9' 'zzu']\n",
      "\n",
      "TF-IDF vectors:\n",
      "[[0. 0. 0. ... 0. 0. 0.]\n",
      " [0. 0. 0. ... 0. 0. 0.]\n",
      " [0. 0. 0. ... 0. 0. 0.]\n",
      " ...\n",
      " [0. 0. 0. ... 0. 0. 0.]\n",
      " [0. 0. 0. ... 0. 0. 0.]\n",
      " [0. 0. 0. ... 0. 0. 0.]]\n"
     ]
    }
   ],
   "source": [
    "\n",
    "# Instantiate CountVectorizer \n",
    "\n",
    "tfidf = TfidfVectorizer()\n",
    "\n",
    "# Fit vectorizer to corpus of fraudulent papers to create bag of words vectors\n",
    "\n",
    "X_train_tfidf = tfidf.fit_transform(X_train)\n",
    "\n",
    "# Obtain vocabulary for corpus\n",
    "\n",
    "print(\"Vocabulary:\")\n",
    "print(tfidf.get_feature_names_out())\n",
    "\n",
    "# Print bag of words vectors for each document in corpus\n",
    "\n",
    "print(\"\\nTF-IDF vectors:\")\n",
    "print(X_train_tfidf.toarray())"
   ]
  },
  {
   "cell_type": "markdown",
   "id": "3ffe60dc-36db-49e6-85eb-fe505169202c",
   "metadata": {},
   "source": [
    "- And we then use the vocabulary generated from the train data set to vectorize out test data set:"
   ]
  },
  {
   "cell_type": "code",
   "execution_count": 16,
   "id": "8ae1f53e-bdb7-4d88-ba9f-397f7b980516",
   "metadata": {},
   "outputs": [],
   "source": [
    "\n",
    "# Vectorize test data set using vocabulary from train\n",
    "\n",
    "X_test_tfidf = tfidf.transform(X_test)"
   ]
  },
  {
   "cell_type": "markdown",
   "id": "568981bc-26da-4aee-8957-a43cd45d81e6",
   "metadata": {
    "tags": []
   },
   "source": [
    "## K-Best Analysis "
   ]
  },
  {
   "cell_type": "code",
   "execution_count": 17,
   "id": "63a17aee-3748-4d94-99e1-df33969e4aa2",
   "metadata": {
    "tags": []
   },
   "outputs": [
    {
     "name": "stdout",
     "output_type": "stream",
     "text": [
      "Feature: article, Score: 330.5376514999273\n",
      "Feature: assay, Score: 515.9149878009091\n",
      "Feature: blot, Score: 351.91932804704777\n",
      "Feature: cytometry, Score: 344.55195859576435\n",
      "Feature: endoplasmic, Score: 341.19839088749075\n",
      "Feature: expression, Score: 593.4549419168295\n",
      "Feature: inhibited, Score: 286.00709021223275\n",
      "Feature: invasion, Score: 534.3471837932913\n",
      "Feature: mir, Score: 849.8214862627464\n",
      "Feature: policy, Score: 305.5216807292516\n",
      "Feature: proliferation, Score: 413.08171122777367\n",
      "Feature: qrt, Score: 285.0162689027338\n",
      "Feature: reticulum, Score: 338.3296025914995\n",
      "Feature: retracted, Score: 436.2539644166426\n",
      "Feature: species, Score: 282.06608613200837\n",
      "Feature: tissues, Score: 307.6762755391111\n",
      "Feature: transwell, Score: 336.0355801081814\n",
      "Feature: was, Score: 357.1411031040705\n",
      "Feature: western, Score: 398.4894734239649\n",
      "Feature: withdrawal, Score: 289.8599544933674\n"
     ]
    }
   ],
   "source": [
    "\n",
    "# Instantiate select k best \n",
    "\n",
    "k_best = SelectKBest(score_func=f_classif, k=20)  \n",
    "\n",
    "# Fit select k best to training data \n",
    "\n",
    "X_train_selected_vec = k_best.fit_transform(X_train_vec, y_train)\n",
    "\n",
    "\n",
    "# Get indices of k most salient feature\n",
    "\n",
    "selected_feature_indices = k_best.get_support(indices=True)\n",
    "\n",
    "# Obtain words corresponding to each index from vectorizer\n",
    "\n",
    "features_list = vectorizer.get_feature_names_out()\n",
    "\n",
    "\n",
    "# Obtain words corresponding to most salient features from index\n",
    "\n",
    "selected_feature_names = [features_list[i] for i in selected_feature_indices]\n",
    "\n",
    "# Visualize most salient words\n",
    "\n",
    "selected_feature_names\n",
    "\n",
    "# Obtain scores of selected features\n",
    "selected_feature_scores = k_best.scores_[selected_feature_indices]\n",
    "\n",
    "# Pair feature names with their corresponding scores\n",
    "feature_scores = list(zip(selected_feature_names, selected_feature_scores))\n",
    "\n",
    "# Print feature names and scores\n",
    "for feature_name, score in feature_scores:\n",
    "    print(f\"Feature: {feature_name}, Score: {score}\")"
   ]
  },
  {
   "cell_type": "code",
   "execution_count": 18,
   "id": "1167d360-782c-4bb5-bcff-654cad31ac00",
   "metadata": {},
   "outputs": [
    {
     "name": "stdout",
     "output_type": "stream",
     "text": [
      "                                           abstract_text  target  \\\n",
      "10     \"Cucurbitacin E (CuE)  a potent member of trit...       1   \n",
      "13     \"Tubulointerstitial fibrosis (TIF) is one of t...       1   \n",
      "18     \"The purpose of this study was to find out the...       1   \n",
      "20     \"This study aimed to probe into the associatio...       1   \n",
      "23     \"Syndecan-1 (SDC-1) is a crucial membrane prot...       1   \n",
      "...                                                  ...     ...   \n",
      "13359  \"p-CA is a naturally occurring phenolic acid p...       0   \n",
      "13407  \"Although microRNA-103a (miR-103a) dysfunction...       0   \n",
      "13408  \"Our previous studies have shown that kinesin ...       0   \n",
      "13409  \"Breast cancer is the most common cancer in wo...       0   \n",
      "13411  \"Glioma is the most commonly diagnosed primary...       0   \n",
      "\n",
      "                                 doi country  year ret_flag red_flag  \n",
      "10               10.1042_BSR20160165      CN  2016    False      NaN  \n",
      "13        10.1186_s13287-021-02429-z      CN  2021    False      NaN  \n",
      "18      10.1016_j.biopha.2018.07.119      CN  2018    False      NaN  \n",
      "20              10.4143_crt.2017.537      CN  2018    False      NaN  \n",
      "23         10.1186_s12885-019-6381-y      CN  2019    False      NaN  \n",
      "...                              ...     ...   ...      ...      ...  \n",
      "13359      10.1016_j.cbi.2018.06.001      IN  2018      NaN    False  \n",
      "13407       10.1177_1533033820971643      CN  2020      NaN    False  \n",
      "13408        10.4048_jbc.2019.22.e51      CN  2019      NaN    False  \n",
      "13409  10.1080_15384047.2020.1832429      CN  2020      NaN    False  \n",
      "13411           10.3892_or.2020.7510      CN  2020      NaN    False  \n",
      "\n",
      "[937 rows x 7 columns]\n"
     ]
    }
   ],
   "source": [
    "\n",
    "# Create a boolean mask to filter rows where \"assay\" is present in the \"abstract_text\" column\n",
    "mask = df_all_abstracts[\"abstract_text\"].str.contains(\"western\")\n",
    "\n",
    "# Apply the mask to filter rows\n",
    "filtered_rows = df_all_abstracts[mask]\n",
    "\n",
    "# Display the filtered rows\n",
    "print(filtered_rows)"
   ]
  },
  {
   "cell_type": "code",
   "execution_count": 19,
   "id": "65575f89-758e-467b-b566-d7d77fece0ff",
   "metadata": {
    "tags": []
   },
   "outputs": [
    {
     "data": {
      "text/plain": [
       "'\"Epithelial ovarian cancer (EOC) is highly aggressive with poor patient outcomes  and a deeper understanding of ovarian cancer tumorigenesis could help guide future treatment development. We proposed an optimized hit network-target sets model to systematically characterize the underlying pathological mechanisms and intra-tumoral heterogeneity in human ovarian cancer. Using TCGA data  we constructed an epithelial ovarian cancer regulatory network in this study. We use three distinct methods to produce different HNSs for identification of the driver genes/nodes  core modules  and core genes/nodes. Following the creation of the optimized HNS (OHNS) by the integration of DN (driver nodes)  CM (core module)  and CN (core nodes)  the effectiveness of various HNSs was assessed based on the significance of the network topology  control potential  and clinical value. Immunohistochemical (IHC)  qRT-PCR  and Western blotting were adopted to measure the expression of hub genes and proteins involved in epithelial ovarian cancer (EOC). We discovered that the OHNS has two key advantages: the networks central location and controllability. It also plays a significant role in the illness network due to its wide range of capabilities. The OHNS and clinical samples revealed the endometrial cancer signaling  and the PI3K/AKT  NER  and BMP pathways. MUC16  FOXA1  FBXL2  ARID1A  COX15  COX17  SCO1  SCO2  NDUFA4L2  NDUFA  and PTEN hub genes were predicted and may serve as potential candidates for new treatments and biomarkers for EOC. This research can aid in better capturing the disease progression  the creation of potent multi-target medications  and the direction of the therapeutic community in the optimization of effective treatment regimens by various research objectives in cancer treatment.\"'"
      ]
     },
     "execution_count": 19,
     "metadata": {},
     "output_type": "execute_result"
    }
   ],
   "source": [
    "df_all_abstracts.iloc[9].abstract_text"
   ]
  },
  {
   "cell_type": "markdown",
   "id": "69a996a1-7bf8-406b-bcdd-e213c54c0456",
   "metadata": {},
   "source": [
    "## Classification with Logistic Regression"
   ]
  },
  {
   "cell_type": "markdown",
   "id": "bafef86f-f846-473b-8c07-90e9944813f9",
   "metadata": {},
   "source": [
    "- We can now instantiate our model, fit it to our train data, and use it to obtain predictions for our test data:"
   ]
  },
  {
   "cell_type": "code",
   "execution_count": 20,
   "id": "ba168b9a-8c16-42c6-a387-daf3d8a281b5",
   "metadata": {},
   "outputs": [
    {
     "name": "stdout",
     "output_type": "stream",
     "text": [
      "Time taken to train the model: 0.0h, 0.0m, 0.4956059455871582s. \n",
      "\n"
     ]
    }
   ],
   "source": [
    "\n",
    "\n",
    "# Instantiate logistic regressor\n",
    "\n",
    "log_reg = LogisticRegression(max_iter = 200)\n",
    "\n",
    "# Store start time of loop execution\n",
    "\n",
    "start_time = time.time()\n",
    "\n",
    "# Fit logistic regressor to our train data set\n",
    "\n",
    "#log_reg.fit(X_train_vec, y_train)\n",
    "\n",
    "log_reg.fit(X_train_tfidf, y_train)\n",
    "\n",
    "# Use logistic regressor to obtain predictions for test data set\n",
    "\n",
    "#y_pred = log_reg.predict(X_test_vec)\n",
    "\n",
    "y_pred = log_reg.predict(X_test_tfidf)\n",
    "\n",
    "# And for train data set\n",
    "\n",
    "#y_pred_train = log_reg.predict(X_train_vec)\n",
    "\n",
    "y_pred_train = log_reg.predict(X_train_tfidf)\n",
    "\n",
    "# Calculate elapsed time for for training model\n",
    "\n",
    "elapsed_time = time.time() - start_time\n",
    "\n",
    "# Convert time to hours, minutes, and seconds\n",
    "\n",
    "elapsed_hours, elapsed_minutes, elapsed_seconds = seconds_to_hms(elapsed_time)\n",
    "\n",
    "# Print message with elapsed time\n",
    "\n",
    "print(f\"Time taken to train the model: {elapsed_hours}h, {elapsed_minutes}m, {elapsed_seconds}s. \\n\")\n"
   ]
  },
  {
   "cell_type": "markdown",
   "id": "0f1f95a7-a5fd-43d9-9592-f93a7a5b519b",
   "metadata": {
    "tags": []
   },
   "source": [
    "\n",
    "- Finally let us see how well our model is performing by obtaining some evaluations metrics for it:"
   ]
  },
  {
   "cell_type": "code",
   "execution_count": 21,
   "id": "e5f8de8e-9fcf-4e09-b732-0778112aaf1a",
   "metadata": {},
   "outputs": [
    {
     "name": "stdout",
     "output_type": "stream",
     "text": [
      "Accuracy on train data set: 0.9470894550864795\n",
      "Accuracy on test data set: 0.88\n",
      "Classification Report for Train:\n",
      "               precision    recall  f1-score   support\n",
      "\n",
      "           0       0.95      0.95      0.95      5443\n",
      "           1       0.95      0.95      0.95      5311\n",
      "\n",
      "    accuracy                           0.95     10754\n",
      "   macro avg       0.95      0.95      0.95     10754\n",
      "weighted avg       0.95      0.95      0.95     10754\n",
      "\n",
      "Classification Report for Test:\n",
      "               precision    recall  f1-score   support\n",
      "\n",
      "           0       0.89      0.88      0.88      1363\n",
      "           1       0.88      0.88      0.88      1326\n",
      "\n",
      "    accuracy                           0.88      2689\n",
      "   macro avg       0.88      0.88      0.88      2689\n",
      "weighted avg       0.88      0.88      0.88      2689\n",
      "\n"
     ]
    }
   ],
   "source": [
    "\n",
    "# Obtain accuracy score and other evaluation metrics\n",
    "\n",
    "accuracy_test = accuracy_score(y_test, y_pred)\n",
    "accuracy_train = accuracy_score(y_train, y_pred_train)\n",
    "\n",
    "report_test = classification_report(y_test, y_pred)\n",
    "\n",
    "report_train = classification_report(y_train, y_pred_train)\n",
    "\n",
    "# Print scores\n",
    "\n",
    "print(\"Accuracy on train data set:\", accuracy_train)\n",
    "print(\"Accuracy on test data set:\", round(accuracy_test,2))\n",
    "\n",
    "print(\"Classification Report for Train:\\n\", report_train)\n",
    "\n",
    "print(\"Classification Report for Test:\\n\", report_test)"
   ]
  },
  {
   "cell_type": "markdown",
   "id": "b1c22047-f28a-4347-adf5-dd92ede8091a",
   "metadata": {
    "tags": []
   },
   "source": [
    "- And the confusion matrix:"
   ]
  },
  {
   "cell_type": "code",
   "execution_count": 22,
   "id": "c5045190-b5ad-4b6a-8a8c-42793a7de37e",
   "metadata": {
    "tags": []
   },
   "outputs": [
    {
     "name": "stdout",
     "output_type": "stream",
     "text": [
      "Confusion Matrix for Log Reg:\n",
      " [[1201  162]\n",
      " [ 155 1171]]\n"
     ]
    }
   ],
   "source": [
    "\n",
    "# Obtain confusion matrix\n",
    "conf_matrix_log_reg = confusion_matrix(y_test, y_pred)\n",
    "\n",
    "print(\"Confusion Matrix for Log Reg:\\n\", conf_matrix_log_reg)\n"
   ]
  },
  {
   "cell_type": "markdown",
   "id": "76fd4cf8-49a1-465f-b564-1143e9d129c3",
   "metadata": {
    "tags": []
   },
   "source": [
    "\n",
    "- Let us also find out what the values of the coefficients associated to the different features are:"
   ]
  },
  {
   "cell_type": "code",
   "execution_count": 23,
   "id": "42daa4c7-8e97-4106-af8f-5a39a46e99d5",
   "metadata": {
    "tags": []
   },
   "outputs": [
    {
     "name": "stdout",
     "output_type": "stream",
     "text": [
      "Top 20 coefficients with largest absolute magnitude:\n",
      "1. Feature: yap, Coefficient: -6.928099483997068\n",
      "2. Feature: mir, Coefficient: 5.810986943597875\n",
      "3. Feature: hippo, Coefficient: -5.153534771680976\n",
      "4. Feature: er, Coefficient: -4.897184926464876\n",
      "5. Feature: zebrafish, Coefficient: -4.803861783098088\n",
      "6. Feature: yap1, Coefficient: -4.685421895889608\n",
      "7. Feature: stress, Coefficient: -4.453784956180632\n",
      "8. Feature: taurine, Coefficient: -4.195456326607886\n",
      "9. Feature: article, Coefficient: 3.9437741992316084\n",
      "10. Feature: tyrosinase, Coefficient: -3.7588420904603983\n",
      "11. Feature: vitiligo, Coefficient: -3.599289766902603\n",
      "12. Feature: species, Coefficient: -3.5656538287780384\n",
      "13. Feature: calpain, Coefficient: -3.44671711056253\n",
      "14. Feature: grp78, Coefficient: -3.43518648370633\n",
      "15. Feature: endoplasmic, Coefficient: -3.1596543632657403\n"
     ]
    }
   ],
   "source": [
    "# Obtain coefficients for logistic regressor\n",
    "\n",
    "coefficients = log_reg.coef_[0]\n",
    "intercept = log_reg.intercept_\n",
    "\n",
    "# Obtain feature names from vocabulary\n",
    "\n",
    "feature_names = vectorizer.get_feature_names_out()\n",
    "\n",
    "# Pair each feature with its coefficient\n",
    "\n",
    "coefficients_with_features = list(zip(feature_names, coefficients))\n",
    "\n",
    "# Sort coefficients based on absolute values\n",
    "\n",
    "sorted_coefficients = sorted(coefficients_with_features, key=lambda x: abs(x[1]), reverse=True)\n",
    "\n",
    "# Print the top 10 coefficients along with their corresponding features\n",
    "\n",
    "print(\"Top 20 coefficients with largest absolute magnitude:\")\n",
    "for i, (feature, coefficient) in enumerate(sorted_coefficients[:15], start=1):\n",
    "    print(f\"{i}. Feature: {feature}, Coefficient: {coefficient}\")\n",
    "    "
   ]
  },
  {
   "cell_type": "markdown",
   "id": "5ae0e7d4-2e5b-45e4-8bcd-594ba15eeb68",
   "metadata": {},
   "source": [
    "- Let us create a word cloud:"
   ]
  },
  {
   "cell_type": "code",
   "execution_count": 24,
   "id": "0faaad49-d9b7-480c-9a29-6e1bbdad4282",
   "metadata": {
    "tags": []
   },
   "outputs": [
    {
     "data": {
      "image/png": "[encoded data removed]",
      "text/plain": [
       "<Figure size 1000x500 with 1 Axes>"
      ]
     },
     "metadata": {},
     "output_type": "display_data"
    }
   ],
   "source": [
    "from wordcloud import WordCloud\n",
    "import matplotlib.pyplot as plt\n",
    "\n",
    "# Sort coefficients by absolute value\n",
    "sorted_coefficients = sorted(sorted_coefficients, key=lambda x: abs(x[1]), reverse=True)\n",
    "\n",
    "# Select the top 30 words\n",
    "top_words = sorted_coefficients[:30]\n",
    "\n",
    "# Separate words with positive and negative coefficients\n",
    "positive_words = [word for word, coeff in top_words if coeff > 0]\n",
    "negative_words = [word for word, coeff in top_words if coeff < 0]\n",
    "\n",
    "# Generate word cloud with custom color function\n",
    "def fixed_color_func(word, font_size, position, orientation, random_state=None, **kwargs):\n",
    "    if word in positive_words:\n",
    "        # Set color to light blue for positive coefficients\n",
    "        return \"rgb(135, 206, 250)\"  # Light blue color\n",
    "    elif word in negative_words:\n",
    "        # Set color to light grey for negative coefficients\n",
    "        return \"rgb(192, 192, 192)\"  # Light grey color\n",
    "    else:\n",
    "        # Default color for neutral words\n",
    "        return \"rgb(128, 128, 128)\"  # Default grey color\n",
    "\n",
    "# Convert top_words into a dictionary\n",
    "word_freq_dict = {word: abs(coeff) for word, coeff in top_words}\n",
    "\n",
    "# Generate word cloud\n",
    "wordcloud = WordCloud(width=800, height=400, background_color='white', color_func=fixed_color_func)\n",
    "wordcloud.generate_from_frequencies(word_freq_dict)\n",
    "\n",
    "# Display the generated word cloud using matplotlib\n",
    "plt.figure(figsize=(10, 5))\n",
    "plt.imshow(wordcloud, interpolation='bilinear')\n",
    "plt.axis('off')\n",
    "plt.show()\n"
   ]
  },
  {
   "cell_type": "markdown",
   "id": "7bd57470-8e39-402d-992a-a178386a0b1f",
   "metadata": {
    "tags": []
   },
   "source": [
    "- Let us generate a cloud of words for these results:"
   ]
  },
  {
   "cell_type": "markdown",
   "id": "854416ec-d231-4e1c-9a10-4a80dd38325b",
   "metadata": {},
   "source": [
    "## Classification with XGBoost"
   ]
  },
  {
   "cell_type": "markdown",
   "id": "4722ab0a-3239-47a1-9b18-ce1bfa70ff2e",
   "metadata": {},
   "source": [
    "- Let us start by instantiating our model:"
   ]
  },
  {
   "cell_type": "code",
   "execution_count": 25,
   "id": "26d60918-65f7-4a53-8734-9251db459885",
   "metadata": {},
   "outputs": [],
   "source": [
    "xgboost = XGBClassifier()"
   ]
  },
  {
   "cell_type": "markdown",
   "id": "36c2a838-2732-4c99-ae97-9b5a9913b8eb",
   "metadata": {},
   "source": [
    "- And by fitting it to our vectorized train data set:"
   ]
  },
  {
   "cell_type": "code",
   "execution_count": 26,
   "id": "561470da-e3aa-4166-b52e-010f17ffd9c6",
   "metadata": {},
   "outputs": [
    {
     "data": {
      "text/html": [
       "<style>#sk-container-id-1 {color: black;background-color: white;}#sk-container-id-1 pre{padding: 0;}#sk-container-id-1 div.sk-toggleable {background-color: white;}#sk-container-id-1 label.sk-toggleable__label {cursor: pointer;display: block;width: 100%;margin-bottom: 0;padding: 0.3em;box-sizing: border-box;text-align: center;}#sk-container-id-1 label.sk-toggleable__label-arrow:before {content: \"▸\";float: left;margin-right: 0.25em;color: #696969;}#sk-container-id-1 label.sk-toggleable__label-arrow:hover:before {color: black;}#sk-container-id-1 div.sk-estimator:hover label.sk-toggleable__label-arrow:before {color: black;}#sk-container-id-1 div.sk-toggleable__content {max-height: 0;max-width: 0;overflow: hidden;text-align: left;background-color: #f0f8ff;}#sk-container-id-1 div.sk-toggleable__content pre {margin: 0.2em;color: black;border-radius: 0.25em;background-color: #f0f8ff;}#sk-container-id-1 input.sk-toggleable__control:checked~div.sk-toggleable__content {max-height: 200px;max-width: 100%;overflow: auto;}#sk-container-id-1 input.sk-toggleable__control:checked~label.sk-toggleable__label-arrow:before {content: \"▾\";}#sk-container-id-1 div.sk-estimator input.sk-toggleable__control:checked~label.sk-toggleable__label {background-color: #d4ebff;}#sk-container-id-1 div.sk-label input.sk-toggleable__control:checked~label.sk-toggleable__label {background-color: #d4ebff;}#sk-container-id-1 input.sk-hidden--visually {border: 0;clip: rect(1px 1px 1px 1px);clip: rect(1px, 1px, 1px, 1px);height: 1px;margin: -1px;overflow: hidden;padding: 0;position: absolute;width: 1px;}#sk-container-id-1 div.sk-estimator {font-family: monospace;background-color: #f0f8ff;border: 1px dotted black;border-radius: 0.25em;box-sizing: border-box;margin-bottom: 0.5em;}#sk-container-id-1 div.sk-estimator:hover {background-color: #d4ebff;}#sk-container-id-1 div.sk-parallel-item::after {content: \"\";width: 100%;border-bottom: 1px solid gray;flex-grow: 1;}#sk-container-id-1 div.sk-label:hover label.sk-toggleable__label {background-color: #d4ebff;}#sk-container-id-1 div.sk-serial::before {content: \"\";position: absolute;border-left: 1px solid gray;box-sizing: border-box;top: 0;bottom: 0;left: 50%;z-index: 0;}#sk-container-id-1 div.sk-serial {display: flex;flex-direction: column;align-items: center;background-color: white;padding-right: 0.2em;padding-left: 0.2em;position: relative;}#sk-container-id-1 div.sk-item {position: relative;z-index: 1;}#sk-container-id-1 div.sk-parallel {display: flex;align-items: stretch;justify-content: center;background-color: white;position: relative;}#sk-container-id-1 div.sk-item::before, #sk-container-id-1 div.sk-parallel-item::before {content: \"\";position: absolute;border-left: 1px solid gray;box-sizing: border-box;top: 0;bottom: 0;left: 50%;z-index: -1;}#sk-container-id-1 div.sk-parallel-item {display: flex;flex-direction: column;z-index: 1;position: relative;background-color: white;}#sk-container-id-1 div.sk-parallel-item:first-child::after {align-self: flex-end;width: 50%;}#sk-container-id-1 div.sk-parallel-item:last-child::after {align-self: flex-start;width: 50%;}#sk-container-id-1 div.sk-parallel-item:only-child::after {width: 0;}#sk-container-id-1 div.sk-dashed-wrapped {border: 1px dashed gray;margin: 0 0.4em 0.5em 0.4em;box-sizing: border-box;padding-bottom: 0.4em;background-color: white;}#sk-container-id-1 div.sk-label label {font-family: monospace;font-weight: bold;display: inline-block;line-height: 1.2em;}#sk-container-id-1 div.sk-label-container {text-align: center;}#sk-container-id-1 div.sk-container {/* jupyter's `normalize.less` sets `[hidden] { display: none; }` but bootstrap.min.css set `[hidden] { display: none !important; }` so we also need the `!important` here to be able to override the default hidden behavior on the sphinx rendered scikit-learn.org. See: https://github.com/scikit-learn/scikit-learn/issues/21755 */display: inline-block !important;position: relative;}#sk-container-id-1 div.sk-text-repr-fallback {display: none;}</style><div id=\"sk-container-id-1\" class=\"sk-top-container\"><div class=\"sk-text-repr-fallback\"><pre>XGBClassifier(base_score=None, booster=None, callbacks=None,\n",
       "              colsample_bylevel=None, colsample_bynode=None,\n",
       "              colsample_bytree=None, device=None, early_stopping_rounds=None,\n",
       "              enable_categorical=False, eval_metric=None, feature_types=None,\n",
       "              gamma=None, grow_policy=None, importance_type=None,\n",
       "              interaction_constraints=None, learning_rate=None, max_bin=None,\n",
       "              max_cat_threshold=None, max_cat_to_onehot=None,\n",
       "              max_delta_step=None, max_depth=None, max_leaves=None,\n",
       "              min_child_weight=None, missing=nan, monotone_constraints=None,\n",
       "              multi_strategy=None, n_estimators=None, n_jobs=None,\n",
       "              num_parallel_tree=None, random_state=None, ...)</pre><b>In a Jupyter environment, please rerun this cell to show the HTML representation or trust the notebook. <br />On GitHub, the HTML representation is unable to render, please try loading this page with nbviewer.org.</b></div><div class=\"sk-container\" hidden><div class=\"sk-item\"><div class=\"sk-estimator sk-toggleable\"><input class=\"sk-toggleable__control sk-hidden--visually\" id=\"sk-estimator-id-1\" type=\"checkbox\" checked><label for=\"sk-estimator-id-1\" class=\"sk-toggleable__label sk-toggleable__label-arrow\">XGBClassifier</label><div class=\"sk-toggleable__content\"><pre>XGBClassifier(base_score=None, booster=None, callbacks=None,\n",
       "              colsample_bylevel=None, colsample_bynode=None,\n",
       "              colsample_bytree=None, device=None, early_stopping_rounds=None,\n",
       "              enable_categorical=False, eval_metric=None, feature_types=None,\n",
       "              gamma=None, grow_policy=None, importance_type=None,\n",
       "              interaction_constraints=None, learning_rate=None, max_bin=None,\n",
       "              max_cat_threshold=None, max_cat_to_onehot=None,\n",
       "              max_delta_step=None, max_depth=None, max_leaves=None,\n",
       "              min_child_weight=None, missing=nan, monotone_constraints=None,\n",
       "              multi_strategy=None, n_estimators=None, n_jobs=None,\n",
       "              num_parallel_tree=None, random_state=None, ...)</pre></div></div></div></div></div>"
      ],
      "text/plain": [
       "XGBClassifier(base_score=None, booster=None, callbacks=None,\n",
       "              colsample_bylevel=None, colsample_bynode=None,\n",
       "              colsample_bytree=None, device=None, early_stopping_rounds=None,\n",
       "              enable_categorical=False, eval_metric=None, feature_types=None,\n",
       "              gamma=None, grow_policy=None, importance_type=None,\n",
       "              interaction_constraints=None, learning_rate=None, max_bin=None,\n",
       "              max_cat_threshold=None, max_cat_to_onehot=None,\n",
       "              max_delta_step=None, max_depth=None, max_leaves=None,\n",
       "              min_child_weight=None, missing=nan, monotone_constraints=None,\n",
       "              multi_strategy=None, n_estimators=None, n_jobs=None,\n",
       "              num_parallel_tree=None, random_state=None, ...)"
      ]
     },
     "execution_count": 26,
     "metadata": {},
     "output_type": "execute_result"
    }
   ],
   "source": [
    "xgboost.fit(X_train_tfidf, y_train)"
   ]
  },
  {
   "cell_type": "markdown",
   "id": "6feef471-f1bd-425f-a54d-1f96526ecbbe",
   "metadata": {},
   "source": [
    "- We can now go on to make predictions with our trained model:"
   ]
  },
  {
   "cell_type": "code",
   "execution_count": 27,
   "id": "39fcd7e1-454b-42c9-9b2e-6c3e26bafbd5",
   "metadata": {},
   "outputs": [],
   "source": [
    "\n",
    "# Predictions for the test data set\n",
    "\n",
    "y_pred_xgb = xgboost.predict(X_test_tfidf)\n",
    "\n",
    "# And for train data set\n",
    "\n",
    "y_pred_train_xgb = xgboost.predict(X_train_tfidf)\n"
   ]
  },
  {
   "cell_type": "markdown",
   "id": "52473bea-feb8-419d-9a9d-aa5569fa6fc0",
   "metadata": {},
   "source": [
    "- Let us now and see how are model performs"
   ]
  },
  {
   "cell_type": "code",
   "execution_count": 28,
   "id": "d2de487d-60e0-4b53-bab1-c7c742dd1420",
   "metadata": {
    "tags": []
   },
   "outputs": [
    {
     "name": "stdout",
     "output_type": "stream",
     "text": [
      "Accuracy on train data set (XGB Classifier): 0.9730332899386275\n",
      "Accuracy on test data set (XGB Classifier): 0.89\n",
      "Classification Report for Train (XGB Classifier):\n",
      "               precision    recall  f1-score   support\n",
      "\n",
      "           0       0.98      0.97      0.97      5443\n",
      "           1       0.97      0.98      0.97      5311\n",
      "\n",
      "    accuracy                           0.97     10754\n",
      "   macro avg       0.97      0.97      0.97     10754\n",
      "weighted avg       0.97      0.97      0.97     10754\n",
      "\n",
      "Classification Report for Test (XGB Classifier):\n",
      "               precision    recall  f1-score   support\n",
      "\n",
      "           0       0.89      0.88      0.89      1363\n",
      "           1       0.88      0.89      0.89      1326\n",
      "\n",
      "    accuracy                           0.89      2689\n",
      "   macro avg       0.89      0.89      0.89      2689\n",
      "weighted avg       0.89      0.89      0.89      2689\n",
      "\n"
     ]
    }
   ],
   "source": [
    "\n",
    "# Obtain accuracy score and other evaluation metrics\n",
    "\n",
    "accuracy_test_xgb = accuracy_score(y_test, y_pred_xgb)\n",
    "accuracy_train_xgb = accuracy_score(y_train, y_pred_train_xgb)\n",
    "\n",
    "report_test_xgb = classification_report(y_test, y_pred_xgb)\n",
    "\n",
    "report_train_xgb = classification_report(y_train, y_pred_train_xgb)\n",
    "\n",
    "# Print scores\n",
    "\n",
    "print(\"Accuracy on train data set (XGB Classifier):\", accuracy_train_xgb)\n",
    "print(\"Accuracy on test data set (XGB Classifier):\", round(accuracy_test_xgb,2))\n",
    "\n",
    "print(\"Classification Report for Train (XGB Classifier):\\n\", report_train_xgb)\n",
    "\n",
    "print(\"Classification Report for Test (XGB Classifier):\\n\", report_test_xgb)"
   ]
  },
  {
   "cell_type": "markdown",
   "id": "5018d39a-6f60-4823-8a01-c1e67d32b0b9",
   "metadata": {
    "tags": []
   },
   "source": [
    "- Same for XGBoost"
   ]
  },
  {
   "cell_type": "code",
   "execution_count": 29,
   "id": "5741dae1-2f71-4a9e-a6ce-855c0b78e286",
   "metadata": {
    "tags": []
   },
   "outputs": [
    {
     "name": "stdout",
     "output_type": "stream",
     "text": [
      "Confusion Matrix XGB Classifier:\n",
      " [[1204  159]\n",
      " [ 147 1179]]\n"
     ]
    }
   ],
   "source": [
    "\n",
    "# Obtain confusion matrix\n",
    "conf_matrix_xgb = confusion_matrix(y_test, y_pred_xgb)\n",
    "\n",
    "print(\"Confusion Matrix XGB Classifier:\\n\", conf_matrix_xgb)\n"
   ]
  },
  {
   "cell_type": "markdown",
   "id": "86b35c07-c4b9-491e-9b18-85ec5ebf7d3b",
   "metadata": {},
   "source": [
    "## Classification with Random Forest"
   ]
  },
  {
   "cell_type": "code",
   "execution_count": 30,
   "id": "2b1151b3-a2e9-4595-94ad-08faefd97f80",
   "metadata": {
    "tags": []
   },
   "outputs": [
    {
     "name": "stdout",
     "output_type": "stream",
     "text": [
      "Training completed in: 0.0 hours, 0.0 minutes, and 35.00 seconds\n",
      "Prediction completed in: 0.0 hours, 0.0 minutes, and 5.29 seconds\n",
      "Accuracy: 0.7947192264782447\n"
     ]
    }
   ],
   "source": [
    "\n",
    "# Configuration of the RandomForest Classifier\n",
    "clf = RandomForestClassifier(\n",
    "    n_estimators=8000,\n",
    "    max_depth=20,\n",
    "    max_features='sqrt',\n",
    "    random_state=42,\n",
    "    n_jobs=-1\n",
    ")\n",
    "\n",
    "# Start timing for fitting the model\n",
    "start_time = time.time()\n",
    "clf.fit(X_train_tfidf, y_train)\n",
    "end_time = time.time()\n",
    "fit_time = end_time - start_time\n",
    "hours, minutes, seconds = seconds_to_hms(fit_time)\n",
    "print(f\"Training completed in: {hours} hours, {minutes} minutes, and {seconds:.2f} seconds\")\n",
    "\n",
    "# Start timing for making predictions\n",
    "start_time = time.time()\n",
    "y_pred_rf = clf.predict(X_test_tfidf)\n",
    "y_pred_train_rf = clf.predict(X_train_tfidf)\n",
    "end_time = time.time()\n",
    "predict_time = end_time - start_time\n",
    "hours, minutes, seconds = seconds_to_hms(predict_time)\n",
    "print(f\"Prediction completed in: {hours} hours, {minutes} minutes, and {seconds:.2f} seconds\")\n",
    "\n",
    "# Evaluate the model\n",
    "accuracy = accuracy_score(y_test, y_pred_rf)\n",
    "print(\"Accuracy:\", accuracy)\n"
   ]
  },
  {
   "cell_type": "code",
   "execution_count": 31,
   "id": "1ddf2c69-545f-4cb4-add4-807333c815c9",
   "metadata": {
    "tags": []
   },
   "outputs": [
    {
     "name": "stdout",
     "output_type": "stream",
     "text": [
      "mir: 0.0123\n",
      "was: 0.0085\n",
      "endoplasmic: 0.0084\n",
      "expression: 0.0080\n",
      "reticulum: 0.0076\n",
      "assay: 0.0066\n",
      "is: 0.0065\n",
      "er: 0.0063\n",
      "western: 0.0062\n",
      "are: 0.0059\n",
      "retracted: 0.0058\n",
      "hippo: 0.0057\n",
      "luciferase: 0.0055\n",
      "invasion: 0.0055\n",
      "yap: 0.0054\n",
      "stress: 0.0051\n",
      "article: 0.0050\n",
      "here: 0.0049\n",
      "we: 0.0047\n",
      "microrna: 0.0046\n"
     ]
    }
   ],
   "source": [
    "# Get feature importances from the trained model\n",
    "importances = clf.feature_importances_\n",
    "\n",
    "# Get feature names from the vectorizer\n",
    "feature_names = tfidf.get_feature_names_out()\n",
    "\n",
    "# Define the number of top features you want to display\n",
    "K = 20\n",
    "\n",
    "# Get the indices of the K most important features in descending order of importance\n",
    "indices = importances.argsort()[-K:][::-1]\n",
    "\n",
    "# Display the top K important features with their names and importance scores\n",
    "top_features = [(feature_names[i], importances[i]) for i in indices]\n",
    "for feature, importance in top_features:\n",
    "    print(f\"{feature}: {importance:.4f}\")"
   ]
  },
  {
   "cell_type": "code",
   "execution_count": 32,
   "id": "61b1bf24-407a-4a5c-ad77-8c90d02316fe",
   "metadata": {
    "tags": []
   },
   "outputs": [],
   "source": [
    "\n",
    "# Define function to fit & rpedict random forest\n",
    "\n",
    "\n",
    "def train_and_log_rf(n_estimators, max_depth, train_data, train_labels, test_data, test_labels):\n",
    "    # Configuration of the RandomForest Classifier\n",
    "    clf = RandomForestClassifier(\n",
    "        n_estimators=n_estimators,\n",
    "        max_depth=max_depth,\n",
    "        max_features='sqrt',\n",
    "        random_state=42,\n",
    "        n_jobs=-1\n",
    "    )\n",
    "\n",
    "    # Start timing for fitting the model\n",
    "    start_time = time.time()\n",
    "    clf.fit(train_data, train_labels)\n",
    "    fit_time = time.time() - start_time  # Time in seconds\n",
    "    print(f\"Training Time: {fit_time:.2f} seconds\")\n",
    "\n",
    "    # Start timing for making predictions\n",
    "    start_time = time.time()\n",
    "    y_pred = clf.predict(test_data)\n",
    "    predict_time = time.time() - start_time  # Time in seconds\n",
    "    print(f\"Prediction Time: {predict_time:.2f} seconds\")\n",
    "\n",
    "    # Evaluate the model\n",
    "    accuracy = accuracy_score(test_labels, y_pred)\n",
    "    print(\"Accuracy:\", accuracy)\n",
    "\n",
    "    # Prepare data for logging\n",
    "    log_data = {\n",
    "        'n_estimators': n_estimators,\n",
    "        'max_depth': max_depth,\n",
    "        'training_time': f\"{fit_time:.2f} seconds\",\n",
    "        'prediction_time': f\"{predict_time:.2f} seconds\",\n",
    "        'accuracy': accuracy\n",
    "    }\n",
    "    log_df = pd.DataFrame([log_data])\n",
    "\n",
    "    # Define log file path\n",
    "    log_file_path = '../data/model_logs/model_performance_log.csv'\n",
    "\n",
    "    # Check if the directory exists, if not, create it\n",
    "    os.makedirs(os.path.dirname(log_file_path), exist_ok=True)\n",
    "\n",
    "    # Check if file exists, append if it does, otherwise write a new file\n",
    "    if os.path.isfile(log_file_path):\n",
    "        log_df.to_csv(log_file_path, mode='a', header=False, index=False)\n",
    "    else:\n",
    "        log_df.to_csv(log_file_path, mode='w', header=True, index=False)\n",
    "\n",
    "    # Return the model, predictions, and accuracy\n",
    "    return clf, y_pred, accuracy\n",
    "\n"
   ]
  },
  {
   "cell_type": "code",
   "execution_count": 33,
   "id": "20335371-0667-4f24-a0e5-9e7d6ec6954e",
   "metadata": {
    "tags": []
   },
   "outputs": [
    {
     "name": "stdout",
     "output_type": "stream",
     "text": [
      "Training Time: 49.98 seconds\n",
      "Prediction Time: 0.84 seconds\n",
      "Accuracy: 0.8136853849014504\n"
     ]
    }
   ],
   "source": [
    "# Define number of trees & tree depth and instatiate fitting the model and making the predicitons\n",
    "\n",
    "num_trees = 4000\n",
    "tree_depth = 40\n",
    "\n",
    "clf, y_pred_rf, accuracy_rf = train_and_log_rf(num_trees, tree_depth, X_train_tfidf, y_train, X_test_tfidf, y_test)\n"
   ]
  },
  {
   "cell_type": "code",
   "execution_count": 34,
   "id": "fd4a9b14-4d47-4653-85f7-b4b5237b6f5c",
   "metadata": {
    "tags": []
   },
   "outputs": [
    {
     "name": "stdout",
     "output_type": "stream",
     "text": [
      "Accuracy: 0.90\n",
      "Classification Report:\n",
      "              precision    recall  f1-score   support\n",
      "\n",
      "           0       0.88      0.94      0.91      5443\n",
      "           1       0.94      0.86      0.90      5311\n",
      "\n",
      "    accuracy                           0.90     10754\n",
      "   macro avg       0.91      0.90      0.90     10754\n",
      "weighted avg       0.91      0.90      0.90     10754\n",
      "\n"
     ]
    }
   ],
   "source": [
    "\n",
    "# Calculate accuracy just for train\n",
    "\n",
    "accuracy_train_rf = accuracy_score(y_train, y_pred_train_rf)\n",
    "print(f\"Accuracy: {accuracy_train_rf:.2f}\")\n",
    "\n",
    "# Generate and print classification report for train\n",
    "\n",
    "report_train_rf = classification_report(y_train, y_pred_train_rf)\n",
    "print(\"Classification Report:\")\n",
    "print(report_train_rf)"
   ]
  },
  {
   "cell_type": "code",
   "execution_count": 35,
   "id": "a127016c-af9d-4194-a0ce-0575fdf4a04f",
   "metadata": {
    "tags": []
   },
   "outputs": [
    {
     "name": "stdout",
     "output_type": "stream",
     "text": [
      "Accuracy: 0.81\n",
      "Classification Report:\n",
      "              precision    recall  f1-score   support\n",
      "\n",
      "           0       0.79      0.86      0.82      1363\n",
      "           1       0.85      0.76      0.80      1326\n",
      "\n",
      "    accuracy                           0.81      2689\n",
      "   macro avg       0.82      0.81      0.81      2689\n",
      "weighted avg       0.82      0.81      0.81      2689\n",
      "\n"
     ]
    }
   ],
   "source": [
    "\n",
    "# Calculate accuracy just for test\n",
    "\n",
    "accuracy_test_rf = accuracy_score(y_test, y_pred_rf)\n",
    "print(f\"Accuracy: {accuracy_test_rf:.2f}\")\n",
    "\n",
    "# Generate and print classification test\n",
    "\n",
    "report_test_rf = classification_report(y_test, y_pred_rf)\n",
    "print(\"Classification Report:\")\n",
    "print(report_test_rf)"
   ]
  },
  {
   "cell_type": "code",
   "execution_count": 36,
   "id": "5cccdab1-e9c5-42ec-906b-3725299c79d1",
   "metadata": {
    "tags": []
   },
   "outputs": [
    {
     "data": {
      "image/png": "[encoded data removed]",
      "text/plain": [
       "<Figure size 500x300 with 1 Axes>"
      ]
     },
     "metadata": {},
     "output_type": "display_data"
    }
   ],
   "source": [
    "# Assign\n",
    "cm = confusion_matrix(y_test, y_pred_rf)\n",
    "\n",
    "\n",
    "# Plotting the heatmap\n",
    "plt.figure(figsize=(5, 3))  # Adjust size as needed\n",
    "sns.heatmap(cm, annot=True, fmt='d', cmap='Blues', cbar=False)  # 'fmt' is a string format code\n",
    "plt.title('Confusion Matrix')\n",
    "plt.xlabel('Predicted Labels')\n",
    "plt.ylabel('True Labels')\n",
    "plt.show()"
   ]
  },
  {
   "cell_type": "markdown",
   "id": "52d29691-4e01-45a0-87df-56d92ffa157f",
   "metadata": {},
   "source": [
    "## ROC Curve for all three Models "
   ]
  },
  {
   "cell_type": "markdown",
   "id": "53f66bee-3f7b-462b-8153-f190e2f62fd8",
   "metadata": {},
   "source": [
    "\n",
    "- Let us also obtain ROC score and visualize the ROC curve for our regressor:"
   ]
  },
  {
   "cell_type": "code",
   "execution_count": 37,
   "id": "2c281285-7373-4e1b-8039-dd3e92f7111b",
   "metadata": {},
   "outputs": [
    {
     "data": {
      "image/png": "[encoded data removed]",
      "text/plain": [
       "<Figure size 640x480 with 1 Axes>"
      ]
     },
     "metadata": {},
     "output_type": "display_data"
    }
   ],
   "source": [
    "\n",
    "# Obtain predicted probabilities for positive class (Log Reg)\n",
    "\n",
    "y_pred_proba = log_reg.predict_proba(X_test_vec)[:, 1]\n",
    "\n",
    "# Obtain predicted probabilities for positive class (XGB classifier)\n",
    "\n",
    "y_pred_proba_xgb = xgboost.predict_proba(X_test_vec)[:, 1]\n",
    "\n",
    "# Obtain predicted probabilities for positive class (random forest classifier)\n",
    "\n",
    "y_pred_proba_rf = clf.predict_proba(X_test_vec)[:, 1]\n",
    "\n",
    "# Compute ROC curve and ROC area for each class\n",
    "\n",
    "fpr, tpr, _ = roc_curve(y_test, y_pred_proba)\n",
    "\n",
    "fpr_xgb, tpr_xgb, _ = roc_curve(y_test, y_pred_proba_xgb)\n",
    "\n",
    "fpr_rf, tpr_rf, _ = roc_curve(y_test, y_pred_proba_rf)\n",
    "\n",
    "# Compute Area Under the Curve (AUC)\n",
    "\n",
    "roc_auc = auc(fpr, tpr)\n",
    "\n",
    "roc_auc_xgb = auc(fpr_xgb, tpr_xgb)\n",
    "\n",
    "roc_auc_rf = auc(fpr_rf, tpr_rf)\n",
    "\n",
    "\n",
    "# Plot ROC curve\n",
    "plt.figure()\n",
    "plt.plot(fpr, tpr, color='orange', lw=2, label='Logistic Regressor (area = %0.2f)' % roc_auc)\n",
    "plt.plot(fpr_xgb, tpr_xgb, color='lightgreen', lw=2, label='XG Boost Classifier (area = %0.2f)' % roc_auc_xgb)\n",
    "plt.plot(fpr_rf, tpr_rf, color='blue', lw=2, label='Random Forest Classifier (area = %0.2f)' % roc_auc_rf)\n",
    "\n",
    "plt.plot([0, 1], [0, 1], color='grey', lw=2, linestyle='--')\n",
    "plt.xlim([0.0, 1.0])\n",
    "plt.ylim([0.0, 1.05])\n",
    "plt.xlabel('False Positive Rate')\n",
    "plt.ylabel('True Positive Rate')\n",
    "plt.title('Receiver Operating Characteristic (ROC) Curve')\n",
    "plt.legend(loc='lower right')\n",
    "plt.show()\n",
    "\n"
   ]
  },
  {
   "cell_type": "markdown",
   "id": "0160c918-52ea-4739-a4c1-078a0de3eb81",
   "metadata": {
    "tags": []
   },
   "source": [
    "## Model Performance for Different Countries"
   ]
  },
  {
   "cell_type": "markdown",
   "id": "0e2d463e-ce30-482e-91f5-efe7927ada46",
   "metadata": {},
   "source": [
    "\n",
    "-Finally, let us also make sure that our model gives comparable predictions for papers from different years and countries. Let us start with China:"
   ]
  },
  {
   "cell_type": "code",
   "execution_count": 38,
   "id": "3e0c7fe2-e0b1-44f3-85d5-c0423ac9fe5a",
   "metadata": {
    "tags": []
   },
   "outputs": [
    {
     "name": "stdout",
     "output_type": "stream",
     "text": [
      "(8034, 7)\n"
     ]
    }
   ],
   "source": [
    "\n",
    "# Obtain only abstracts for papers from China and store them in data frame\n",
    "\n",
    "df_ch = df_all_abstracts[df_all_abstracts[\"country\"] == \"CN\"]\n",
    "\n",
    "# Visualize shape of filtered array\n",
    "\n",
    "print(df_ch.shape)\n",
    "\n",
    "# Vectorize text for those papers using TF-IDF vectorization\n",
    "\n",
    "X_ch_tfidf = tfidf.transform(df_ch[\"abstract_text\"])\n",
    "\n",
    "# Obtain predictions for vectorized text with logistic reg model\n",
    "\n",
    "y_pred_ch = log_reg.predict(X_ch_tfidf)"
   ]
  },
  {
   "cell_type": "code",
   "execution_count": 39,
   "id": "663bd046-1d85-46fa-bbb1-5453714d7bee",
   "metadata": {
    "tags": []
   },
   "outputs": [
    {
     "data": {
      "text/plain": [
       "4197"
      ]
     },
     "execution_count": 39,
     "metadata": {},
     "output_type": "execute_result"
    }
   ],
   "source": [
    "\n",
    "# Obtain number of papers flagged as fraudulent\n",
    "\n",
    "y_pred_ch.sum()"
   ]
  },
  {
   "cell_type": "code",
   "execution_count": 40,
   "id": "ada8db20-3fa3-4fa5-864c-032086d2669c",
   "metadata": {
    "tags": []
   },
   "outputs": [
    {
     "data": {
      "text/plain": [
       "8034"
      ]
     },
     "execution_count": 40,
     "metadata": {},
     "output_type": "execute_result"
    }
   ],
   "source": [
    "\n",
    "# Obtain number of papers that we tested in total\n",
    "\n",
    "len(y_pred_ch)"
   ]
  },
  {
   "cell_type": "code",
   "execution_count": 41,
   "id": "719e0f3b-d645-4aff-820c-8630085453ec",
   "metadata": {
    "tags": []
   },
   "outputs": [
    {
     "data": {
      "text/plain": [
       "52.2404779686333"
      ]
     },
     "execution_count": 41,
     "metadata": {},
     "output_type": "execute_result"
    }
   ],
   "source": [
    "\n",
    "# Compute percentage of papers flagged as fraudulent for China\n",
    "\n",
    "per_fraud_china = y_pred_ch.sum() / len(y_pred_ch) * 100\n",
    "\n",
    "# Visualize result\n",
    "\n",
    "per_fraud_china "
   ]
  },
  {
   "cell_type": "code",
   "execution_count": 42,
   "id": "fe6069e4-18c0-4a43-a95f-f67947b18ac7",
   "metadata": {
    "tags": []
   },
   "outputs": [],
   "source": [
    "df_ch_fraud = df_ch[df_ch[\"target\"] == 1]"
   ]
  },
  {
   "cell_type": "code",
   "execution_count": 43,
   "id": "dad6109d-7262-44f0-8519-02ee7ea5776e",
   "metadata": {
    "tags": []
   },
   "outputs": [
    {
     "data": {
      "text/plain": [
       "(3952, 7)"
      ]
     },
     "execution_count": 43,
     "metadata": {},
     "output_type": "execute_result"
    }
   ],
   "source": [
    "df_ch_fraud.shape"
   ]
  },
  {
   "cell_type": "code",
   "execution_count": 44,
   "id": "ee681d57-ecea-4a3c-97ef-fdd19d7c67d4",
   "metadata": {
    "tags": []
   },
   "outputs": [
    {
     "data": {
      "text/plain": [
       "49.19093851132686"
      ]
     },
     "execution_count": 44,
     "metadata": {},
     "output_type": "execute_result"
    }
   ],
   "source": [
    "df_ch_fraud.shape[0] / df_ch.shape[0] * 100"
   ]
  },
  {
   "cell_type": "markdown",
   "id": "1faf7292-a3b9-4b37-abab-6eebb804112c",
   "metadata": {},
   "source": [
    "- Let us now repeat the same steps for the US:"
   ]
  },
  {
   "cell_type": "code",
   "execution_count": 45,
   "id": "71d81439-8036-42f6-a518-1679686a80a7",
   "metadata": {
    "tags": []
   },
   "outputs": [
    {
     "name": "stdout",
     "output_type": "stream",
     "text": [
      "(2211, 7)\n"
     ]
    }
   ],
   "source": [
    "\n",
    "# Obtain only abstracts for papers from China and store them in data frame\n",
    "\n",
    "df_us = df_all_abstracts[df_all_abstracts[\"country\"] == \"US\"]\n",
    "\n",
    "# Visualize shape of filtered array\n",
    "\n",
    "print(df_us.shape)\n",
    "\n",
    "# Vectorize text for those papers using TF-IDF vectorization\n",
    "\n",
    "X_us_tfidf = tfidf.transform(df_us[\"abstract_text\"])\n",
    "\n",
    "# Obtain predictions for vectorized text with logistic reg model\n",
    "\n",
    "y_pred_us = log_reg.predict(X_us_tfidf)"
   ]
  },
  {
   "cell_type": "code",
   "execution_count": 46,
   "id": "38dc7089-0eb0-4ded-b81b-cb68d85feb51",
   "metadata": {
    "tags": []
   },
   "outputs": [
    {
     "data": {
      "text/plain": [
       "38.44414292175487"
      ]
     },
     "execution_count": 46,
     "metadata": {},
     "output_type": "execute_result"
    }
   ],
   "source": [
    "\n",
    "# Compute percentage of papers flagged as fraudulent for China\n",
    "\n",
    "per_fraud_us = y_pred_us.sum() / len(y_pred_us) * 100\n",
    "\n",
    "# Visualize result\n",
    "\n",
    "per_fraud_us"
   ]
  },
  {
   "cell_type": "code",
   "execution_count": 47,
   "id": "8c03164a-8701-4647-9038-7835fec4e32d",
   "metadata": {
    "tags": []
   },
   "outputs": [],
   "source": [
    "df_us_fraud = df_us[df_us[\"target\"] == 1]"
   ]
  },
  {
   "cell_type": "code",
   "execution_count": 48,
   "id": "855002e5-a102-481f-bab4-573307c3ef7c",
   "metadata": {
    "tags": []
   },
   "outputs": [
    {
     "data": {
      "text/plain": [
       "42.06241519674355"
      ]
     },
     "execution_count": 48,
     "metadata": {},
     "output_type": "execute_result"
    }
   ],
   "source": [
    "df_us_fraud.shape[0] / df_us.shape[0] * 100"
   ]
  },
  {
   "cell_type": "markdown",
   "id": "7ba5188b-dea2-4663-8ace-e564a012591f",
   "metadata": {},
   "source": [
    "\n",
    "- It will be easier to simply write a function that performs all these operations for future use:"
   ]
  },
  {
   "cell_type": "code",
   "execution_count": 49,
   "id": "044ac80e-749f-42e9-a0e3-24c443bcf518",
   "metadata": {
    "tags": []
   },
   "outputs": [],
   "source": [
    "\n",
    "def model_tester_country(country_code, df, vectorizer, model):\n",
    "    \n",
    "    # Obtain only abstracts for papers from China and store them in data frame\n",
    "\n",
    "    df_filtered = df[df[\"country\"] == country_code]\n",
    "\n",
    "    # Vectorize text for those papers using TF-IDF vectorization\n",
    "\n",
    "    X_filtered = vectorizer.transform(df_filtered[\"abstract_text\"])\n",
    "\n",
    "    # Obtain predictions for vectorized text with logistic reg model\n",
    "\n",
    "    y_pred_filtered = model.predict(X_filtered)\n",
    "    \n",
    "    # Obtain total number of papers flagged\n",
    "    \n",
    "    total_flagged = y_pred_filtered.sum()\n",
    "\n",
    "    # Compute percentage of papers flagged as fraudulent for country\n",
    "\n",
    "    percentage_flagged = total_flagged / len(y_pred_filtered) * 100\n",
    "    \n",
    "    # Calculate total number of papers that are actually fraudulent for country\n",
    "    \n",
    "    total_fraud = df_filtered[df_filtered[\"target\"] == 1].shape[0]\n",
    "    \n",
    "    # Calculate percentage of papers that are actually fraudulent for country\n",
    "    \n",
    "    percentage_fraud = total_fraud / df_filtered.shape[0] * 100\n",
    "\n",
    "    # Print results\n",
    "    \n",
    "    #print(f\"Perfectage of papers flagged for {country_code} {percentage_flagged}\")\n",
    "    #print(f\"Perfectage of fraudulent papers for {country_code} {percentage_fraud}\")\n",
    "    \n",
    "    return percentage_flagged, percentage_fraud, total_flagged, total_fraud\n",
    " "
   ]
  },
  {
   "cell_type": "markdown",
   "id": "64065cc1-31db-453f-bd5f-d9043ca4e735",
   "metadata": {
    "tags": []
   },
   "source": [
    "- Let us test it to make sure it works OK:"
   ]
  },
  {
   "cell_type": "code",
   "execution_count": 50,
   "id": "80b040bc-84f0-474d-ac56-ae82e63745a1",
   "metadata": {
    "tags": []
   },
   "outputs": [
    {
     "data": {
      "text/plain": [
       "(38.44414292175487, 42.06241519674355, 850, 930)"
      ]
     },
     "execution_count": 50,
     "metadata": {},
     "output_type": "execute_result"
    }
   ],
   "source": [
    "\n",
    "# Calculate percentage of papers flagged for US\n",
    "\n",
    "model_tester_country(\"US\", df_all_abstracts, tfidf, log_reg)"
   ]
  },
  {
   "cell_type": "code",
   "execution_count": 51,
   "id": "6555f6a0-2fcd-4f8a-9901-e276ecb43904",
   "metadata": {
    "tags": []
   },
   "outputs": [
    {
     "data": {
      "text/plain": [
       "(52.2404779686333, 49.19093851132686, 4197, 3952)"
      ]
     },
     "execution_count": 51,
     "metadata": {},
     "output_type": "execute_result"
    }
   ],
   "source": [
    "\n",
    "# Now for China\n",
    "\n",
    "model_tester_country(\"CN\", df_all_abstracts, tfidf, log_reg)"
   ]
  },
  {
   "cell_type": "code",
   "execution_count": 52,
   "id": "5c06cf32-e16f-4e5f-926c-4ed739e26f33",
   "metadata": {
    "tags": []
   },
   "outputs": [
    {
     "data": {
      "text/plain": [
       "(37.03703703703704, 42.592592592592595, 80, 92)"
      ]
     },
     "execution_count": 52,
     "metadata": {},
     "output_type": "execute_result"
    }
   ],
   "source": [
    "\n",
    "# UK\n",
    "\n",
    "model_tester_country(\"GB\", df_all_abstracts, tfidf, log_reg)"
   ]
  },
  {
   "cell_type": "code",
   "execution_count": 53,
   "id": "c3294a35-eb1c-414d-82ae-e8accfb6f469",
   "metadata": {
    "tags": []
   },
   "outputs": [
    {
     "data": {
      "text/plain": [
       "(50.32258064516129, 54.83870967741935, 156, 170)"
      ]
     },
     "execution_count": 53,
     "metadata": {},
     "output_type": "execute_result"
    }
   ],
   "source": [
    "\n",
    "# India\n",
    "\n",
    "model_tester_country(\"IN\", df_all_abstracts, tfidf, log_reg)"
   ]
  },
  {
   "cell_type": "code",
   "execution_count": 54,
   "id": "661eb3a6-fb1d-4330-9fda-833e21b1c11a",
   "metadata": {
    "tags": []
   },
   "outputs": [
    {
     "data": {
      "text/plain": [
       "(52.63157894736842, 53.216374269005854, 90, 91)"
      ]
     },
     "execution_count": 54,
     "metadata": {},
     "output_type": "execute_result"
    }
   ],
   "source": [
    "\n",
    "# Iran\n",
    "\n",
    "model_tester_country(\"IR\", df_all_abstracts, tfidf, log_reg)"
   ]
  },
  {
   "cell_type": "code",
   "execution_count": 55,
   "id": "adfc50d2-65db-4d97-8497-7666f135e135",
   "metadata": {
    "tags": []
   },
   "outputs": [
    {
     "data": {
      "text/plain": [
       "(31.666666666666664, 36.666666666666664, 19, 22)"
      ]
     },
     "execution_count": 55,
     "metadata": {},
     "output_type": "execute_result"
    }
   ],
   "source": [
    "# France\n",
    "\n",
    "model_tester_country(\"AU\", df_all_abstracts, tfidf, log_reg)"
   ]
  },
  {
   "cell_type": "markdown",
   "id": "4ff29761-61bc-4a21-99fd-561bbbbfee38",
   "metadata": {},
   "source": [
    "- Let us run a similar quality test for our year breakdown:"
   ]
  },
  {
   "cell_type": "code",
   "execution_count": 56,
   "id": "71852a47-1c9f-44e1-8199-f752ecaf6641",
   "metadata": {
    "tags": []
   },
   "outputs": [],
   "source": [
    "\n",
    "def model_tester_year(year, df, vectorizer, model):\n",
    "    \n",
    "    # Obtain only abstracts for papers from China and store them in data frame\n",
    "\n",
    "    df_filtered = df[df[\"year\"] == year]\n",
    "\n",
    "    # Vectorize text for those papers using TF-IDF vectorization\n",
    "\n",
    "    X_filtered = vectorizer.transform(df_filtered[\"abstract_text\"])\n",
    "\n",
    "    # Obtain predictions for vectorized text with logistic reg model\n",
    "\n",
    "    y_pred_filtered = model.predict(X_filtered)\n",
    "\n",
    "    # Obtain total number of papers flagged\n",
    "    \n",
    "    total_flagged = y_pred_filtered.sum()\n",
    "\n",
    "    # Compute percentage of papers flagged as fraudulent for country\n",
    "\n",
    "    percentage_flagged = total_flagged / len(y_pred_filtered) * 100\n",
    "    \n",
    "    # Calculate total number of papers that are actually fraudulent for country\n",
    "    \n",
    "    total_fraud = df_filtered[df_filtered[\"target\"] == 1].shape[0]\n",
    "    \n",
    "    # Calculate percentage of papers that are actually fraudulent for country\n",
    "    \n",
    "    percentage_fraud = total_fraud / df_filtered.shape[0] * 100\n",
    "    \n",
    "    return percentage_flagged, percentage_fraud, total_flagged, total_fraud\n",
    " "
   ]
  },
  {
   "cell_type": "code",
   "execution_count": 57,
   "id": "91b0d4b6-a40f-4c97-9b7c-f4edd220a746",
   "metadata": {
    "tags": []
   },
   "outputs": [
    {
     "data": {
      "text/plain": [
       "(50.382165605095544, 46.87898089171975, 791, 736)"
      ]
     },
     "execution_count": 57,
     "metadata": {},
     "output_type": "execute_result"
    }
   ],
   "source": [
    "model_tester_year(2020, df_all_abstracts, tfidf, log_reg)"
   ]
  },
  {
   "cell_type": "code",
   "execution_count": 58,
   "id": "4e5cbc37-f69f-45e9-b08d-3bb4fdd0bee9",
   "metadata": {
    "tags": []
   },
   "outputs": [
    {
     "data": {
      "text/plain": [
       "(51.41635489043293, 47.247461250668096, 962, 884)"
      ]
     },
     "execution_count": 58,
     "metadata": {},
     "output_type": "execute_result"
    }
   ],
   "source": [
    "model_tester_year(2019, df_all_abstracts, tfidf, log_reg)"
   ]
  },
  {
   "cell_type": "code",
   "execution_count": 59,
   "id": "d131d80f-31d6-4eb0-88d1-b5a3a500f948",
   "metadata": {
    "tags": []
   },
   "outputs": [
    {
     "data": {
      "text/plain": [
       "(45.90163934426229, 52.131147540983605, 140, 159)"
      ]
     },
     "execution_count": 59,
     "metadata": {},
     "output_type": "execute_result"
    }
   ],
   "source": [
    "model_tester_year(2009, df_all_abstracts, tfidf, log_reg)"
   ]
  },
  {
   "cell_type": "markdown",
   "id": "9f9f28d6-0a6c-4a72-a420-583306d1f927",
   "metadata": {},
   "source": [
    "\n",
    "- Finally, let us create a function that allows us to run an analysis for both a country and a year of our choice:"
   ]
  },
  {
   "cell_type": "code",
   "execution_count": 60,
   "id": "df3f8433-0f42-4044-9fa8-f0feba47238a",
   "metadata": {
    "tags": []
   },
   "outputs": [],
   "source": [
    "\n",
    "def model_tester_year_country(year, country, df, vectorizer, model):\n",
    "    \n",
    "    # Obtain only abstracts for papers from a given bucket and store them in data frame\n",
    "\n",
    "    df_filtered = df[(df[\"year\"] == year) & (df[\"country\"] == country)]\n",
    "\n",
    "    # Vectorize text for those papers using our vectorizer\n",
    "\n",
    "    X_filtered = vectorizer.transform(df_filtered[\"abstract_text\"])\n",
    "\n",
    "    # Obtain predictions for vectorized text with our model\n",
    "\n",
    "    y_pred_filtered = model.predict(X_filtered)\n",
    "\n",
    "    # Obtain total number of papers flagged\n",
    "    \n",
    "    total_flagged = y_pred_filtered.sum()\n",
    "\n",
    "    # Compute percentage of papers flagged as fraudulent for country\n",
    "\n",
    "    percentage_flagged = total_flagged / len(y_pred_filtered) * 100\n",
    "    \n",
    "    # Calculate total number of papers that are actually fraudulent for country\n",
    "    \n",
    "    total_fraud = df_filtered[df_filtered[\"target\"] == 1].shape[0]\n",
    "    \n",
    "    # Calculate percentage of papers that are actually fraudulent for country\n",
    "    \n",
    "    percentage_fraud = total_fraud / df_filtered.shape[0] * 100\n",
    "\n",
    "    # Print results\n",
    "    \n",
    "    #print(f\"Perfectage of papers flagged for {year} and {country} {percentage_flagged}\")\n",
    "    #print(f\"Perfectage of fraudulent papers for {year} and {country} {percentage_fraud}\")\n",
    "    \n",
    "    return percentage_flagged, percentage_fraud, total_flagged, total_fraud\n",
    "    "
   ]
  },
  {
   "cell_type": "code",
   "execution_count": 61,
   "id": "91139a05-9635-4d1e-bba9-f38213a171d0",
   "metadata": {
    "tags": []
   },
   "outputs": [
    {
     "data": {
      "text/plain": [
       "(52.532391048292105, 49.94110718492344, 446, 424)"
      ]
     },
     "execution_count": 61,
     "metadata": {},
     "output_type": "execute_result"
    }
   ],
   "source": [
    "\n",
    "model_tester_year_country(2017, \"CN\", df_all_abstracts, tfidf, log_reg)"
   ]
  },
  {
   "cell_type": "code",
   "execution_count": 62,
   "id": "956d7396-210a-43d9-8d88-fbf9fb27d3c6",
   "metadata": {
    "tags": []
   },
   "outputs": [
    {
     "data": {
      "text/plain": [
       "(32.5, 32.5, 13, 13)"
      ]
     },
     "execution_count": 62,
     "metadata": {},
     "output_type": "execute_result"
    }
   ],
   "source": [
    "\n",
    "model_tester_year_country(2021, \"US\", df_all_abstracts, tfidf, log_reg)"
   ]
  },
  {
   "cell_type": "code",
   "execution_count": 63,
   "id": "eb9c2ba8-5aca-4faa-b944-0372b29431bd",
   "metadata": {
    "tags": []
   },
   "outputs": [
    {
     "data": {
      "text/plain": [
       "(50.0, 50.0, 9, 9)"
      ]
     },
     "execution_count": 63,
     "metadata": {},
     "output_type": "execute_result"
    }
   ],
   "source": [
    "\n",
    "model_tester_year_country(2018, \"IR\", df_all_abstracts, tfidf, log_reg)"
   ]
  },
  {
   "cell_type": "markdown",
   "id": "7f9454f1-9639-4b9a-97b3-7a12282f856c",
   "metadata": {},
   "source": [
    "- Let us try a more systematic comparison for all countries:"
   ]
  },
  {
   "cell_type": "code",
   "execution_count": 64,
   "id": "55dd4d90-380a-42ca-ae9a-95dac02b626b",
   "metadata": {
    "tags": []
   },
   "outputs": [],
   "source": [
    "\n",
    "countries = df_all_abstracts[\"country\"].unique()\n",
    "results = []\n",
    "difference_percentage = []\n",
    "difference_total = []\n",
    "\n",
    "for country in countries:\n",
    "    country_results = model_tester_country(country, df_all_abstracts, tfidf, log_reg)\n",
    "    results.append(country_results)\n",
    "    difference_percentage.append(country_results[0] - country_results[1])\n",
    "    difference_total.append(country_results[2] - country_results[3])\n",
    "\n"
   ]
  },
  {
   "cell_type": "code",
   "execution_count": 65,
   "id": "2efcb475-41f9-4033-a274-17caa15e5c19",
   "metadata": {
    "tags": []
   },
   "outputs": [],
   "source": [
    "\n",
    "\n",
    "df_differences = pd.DataFrame({\"country\": countries, \"percentage_difference\": difference_percentage, \"total_difference\": difference_total})"
   ]
  },
  {
   "cell_type": "code",
   "execution_count": 66,
   "id": "028e8884-3cc6-4094-a2cd-c128a4ae4fa0",
   "metadata": {
    "tags": []
   },
   "outputs": [],
   "source": [
    "\n",
    "df_differences = df_differences[df_differences[\"total_difference\"] != 0]"
   ]
  },
  {
   "cell_type": "code",
   "execution_count": 67,
   "id": "10024dd2-6a89-4d61-b357-50736d531c0c",
   "metadata": {
    "tags": []
   },
   "outputs": [
    {
     "data": {
      "text/plain": [
       "<Axes: xlabel='country'>"
      ]
     },
     "execution_count": 67,
     "metadata": {},
     "output_type": "execute_result"
    },
    {
     "data": {
      "image/png": "[encoded data removed]",
      "text/plain": [
       "<Figure size 640x480 with 1 Axes>"
      ]
     },
     "metadata": {},
     "output_type": "display_data"
    }
   ],
   "source": [
    "\n",
    "df_differences.plot.bar(x=\"country\", y=\"total_difference\")\n"
   ]
  },
  {
   "cell_type": "code",
   "execution_count": 68,
   "id": "ec1dbfdf-986e-4f34-bdb3-09d464432dda",
   "metadata": {
    "tags": []
   },
   "outputs": [
    {
     "data": {
      "text/plain": [
       "(44, 3)"
      ]
     },
     "execution_count": 68,
     "metadata": {},
     "output_type": "execute_result"
    }
   ],
   "source": [
    "\n",
    "# Obtain size of data frame to decide how to filter top entires\n",
    "\n",
    "df_differences.shape"
   ]
  },
  {
   "cell_type": "code",
   "execution_count": 69,
   "id": "53c74bfa-329f-497c-95f4-07ee92993b7f",
   "metadata": {
    "tags": []
   },
   "outputs": [],
   "source": [
    "\n",
    "# Filter data frame to obtain countries with most papers in absolute number only \n",
    "\n",
    "df_differences_filtered = df_differences.head(27)"
   ]
  },
  {
   "cell_type": "code",
   "execution_count": 70,
   "id": "2ea8f77a-40a5-4622-b04a-40217359302f",
   "metadata": {},
   "outputs": [
    {
     "data": {
      "text/plain": [
       "<Axes: xlabel='country'>"
      ]
     },
     "execution_count": 70,
     "metadata": {},
     "output_type": "execute_result"
    },
    {
     "data": {
      "image/png": "[encoded data removed]",
      "text/plain": [
       "<Figure size 640x480 with 1 Axes>"
      ]
     },
     "metadata": {},
     "output_type": "display_data"
    }
   ],
   "source": [
    "\n",
    "# Make normal plot\n",
    "\n",
    "df_differences.plot.bar(x=\"country\", y=\"percentage_difference\")\n"
   ]
  },
  {
   "cell_type": "code",
   "execution_count": 71,
   "id": "eee9fb0c-4c65-4736-956b-87acaf675b3e",
   "metadata": {
    "tags": []
   },
   "outputs": [
    {
     "data": {
      "image/png": "[encoded data removed]",
      "text/plain": [
       "<Figure size 640x480 with 1 Axes>"
      ]
     },
     "metadata": {},
     "output_type": "display_data"
    }
   ],
   "source": [
    "\n",
    "# Make plot for filtered data frame\n",
    "\n",
    "ax = df_differences_filtered.plot.bar(x=\"country\", y=\"percentage_difference\", color='grey', legend=False)\n",
    "\n",
    "# Set the y axis to -50 and 50 percentage points\n",
    "\n",
    "ax.set_ylim(-70, 70)\n",
    "\n",
    "# Add grid\n",
    "\n",
    "ax.grid(True)\n",
    "\n",
    "# Display plot\n",
    "\n",
    "plt.show()\n"
   ]
  },
  {
   "cell_type": "markdown",
   "id": "3fdaedf5-e610-4dca-8f0e-049074210b74",
   "metadata": {},
   "source": [
    "- And now for all years:"
   ]
  },
  {
   "cell_type": "code",
   "execution_count": 72,
   "id": "fe40f79e-c348-40e2-818f-398d4d91ccaa",
   "metadata": {
    "tags": []
   },
   "outputs": [],
   "source": [
    "\n",
    "year_results = model_tester_year(2020, df_all_abstracts, tfidf, log_reg)\n"
   ]
  },
  {
   "cell_type": "code",
   "execution_count": 73,
   "id": "81c55d78-be4c-470b-9898-5768e2cb06bf",
   "metadata": {
    "tags": []
   },
   "outputs": [],
   "source": [
    "years = df_all_abstracts[\"year\"].unique()\n",
    "results_year = []\n",
    "difference_percentage_year = []\n",
    "difference_total_year = []\n",
    "\n",
    "\n",
    "    \n",
    "for year in years:\n",
    "    year_results = model_tester_year(year, df_all_abstracts, tfidf, log_reg)\n",
    "    results_year.append(year_results)\n",
    "    difference_percentage_year.append(year_results[0] - year_results[1])\n",
    "    difference_total_year.append(year_results[2] - year_results[3])\n",
    "\n"
   ]
  },
  {
   "cell_type": "code",
   "execution_count": 74,
   "id": "be82d393-8b3d-4572-8cc9-5a73f57e89d4",
   "metadata": {
    "tags": []
   },
   "outputs": [],
   "source": [
    "df_differences_year = pd.DataFrame({\"year\": years, \"percentage_difference\": difference_percentage_year, \"total_difference\": difference_total_year})"
   ]
  },
  {
   "cell_type": "code",
   "execution_count": 75,
   "id": "4969a163-0af7-41b6-b334-59e65e11cec7",
   "metadata": {
    "tags": []
   },
   "outputs": [
    {
     "data": {
      "text/html": [
       "<div>\n",
       "<style scoped>\n",
       "    .dataframe tbody tr th:only-of-type {\n",
       "        vertical-align: middle;\n",
       "    }\n",
       "\n",
       "    .dataframe tbody tr th {\n",
       "        vertical-align: top;\n",
       "    }\n",
       "\n",
       "    .dataframe thead th {\n",
       "        text-align: right;\n",
       "    }\n",
       "</style>\n",
       "<table border=\"1\" class=\"dataframe\">\n",
       "  <thead>\n",
       "    <tr style=\"text-align: right;\">\n",
       "      <th></th>\n",
       "      <th>year</th>\n",
       "      <th>percentage_difference</th>\n",
       "      <th>total_difference</th>\n",
       "    </tr>\n",
       "  </thead>\n",
       "  <tbody>\n",
       "    <tr>\n",
       "      <th>0</th>\n",
       "      <td>2021</td>\n",
       "      <td>1.038062</td>\n",
       "      <td>9</td>\n",
       "    </tr>\n",
       "    <tr>\n",
       "      <th>1</th>\n",
       "      <td>2009</td>\n",
       "      <td>-6.229508</td>\n",
       "      <td>-19</td>\n",
       "    </tr>\n",
       "    <tr>\n",
       "      <th>2</th>\n",
       "      <td>2020</td>\n",
       "      <td>3.503185</td>\n",
       "      <td>55</td>\n",
       "    </tr>\n",
       "    <tr>\n",
       "      <th>3</th>\n",
       "      <td>2022</td>\n",
       "      <td>-0.416667</td>\n",
       "      <td>-3</td>\n",
       "    </tr>\n",
       "    <tr>\n",
       "      <th>4</th>\n",
       "      <td>2019</td>\n",
       "      <td>4.168894</td>\n",
       "      <td>78</td>\n",
       "    </tr>\n",
       "  </tbody>\n",
       "</table>\n",
       "</div>"
      ],
      "text/plain": [
       "   year  percentage_difference  total_difference\n",
       "0  2021               1.038062                 9\n",
       "1  2009              -6.229508               -19\n",
       "2  2020               3.503185                55\n",
       "3  2022              -0.416667                -3\n",
       "4  2019               4.168894                78"
      ]
     },
     "execution_count": 75,
     "metadata": {},
     "output_type": "execute_result"
    }
   ],
   "source": [
    "df_differences_year.head(5)"
   ]
  },
  {
   "cell_type": "code",
   "execution_count": 76,
   "id": "8e0d7788-191f-4d4d-b9f1-f1325e1718cf",
   "metadata": {
    "tags": []
   },
   "outputs": [
    {
     "data": {
      "text/plain": [
       "<Axes: xlabel='year'>"
      ]
     },
     "execution_count": 76,
     "metadata": {},
     "output_type": "execute_result"
    },
    {
     "data": {
      "image/png": "[encoded data removed]",
      "text/plain": [
       "<Figure size 640x480 with 1 Axes>"
      ]
     },
     "metadata": {},
     "output_type": "display_data"
    }
   ],
   "source": [
    "df_differences_year.plot.bar(x=\"year\", y=\"percentage_difference\")\n"
   ]
  },
  {
   "cell_type": "code",
   "execution_count": 77,
   "id": "c2d060d9-3714-4b08-b269-f1ed0323881b",
   "metadata": {
    "tags": []
   },
   "outputs": [
    {
     "data": {
      "text/plain": [
       "<Axes: xlabel='year'>"
      ]
     },
     "execution_count": 77,
     "metadata": {},
     "output_type": "execute_result"
    },
    {
     "data": {
      "image/png": "[encoded data removed]",
      "text/plain": [
       "<Figure size 640x480 with 1 Axes>"
      ]
     },
     "metadata": {},
     "output_type": "display_data"
    }
   ],
   "source": [
    "\n",
    "df_differences_year.plot.bar(x=\"year\", y=\"total_difference\")\n"
   ]
  },
  {
   "cell_type": "markdown",
   "id": "90dc449e-1b77-406a-90ee-55f62bf08d03",
   "metadata": {},
   "source": [
    "-Let us get some scores and performance metrics per year and country too. First we'll try China:\n"
   ]
  },
  {
   "cell_type": "code",
   "execution_count": 78,
   "id": "e1e677d8-1dfc-45ab-93f0-c0fd6dec8d2a",
   "metadata": {
    "tags": []
   },
   "outputs": [],
   "source": [
    "\n",
    "df_china = df_all_abstracts[df_all_abstracts[\"country\"] == \"CN\"]\n",
    "\n",
    "# Vectorize text for those papers using TF-IDF vectorization\n",
    "\n",
    "X_china = tfidf.transform(df_china[\"abstract_text\"])\n",
    "\n",
    "# Obtain predictions for vectorized text with logistic reg model\n",
    "\n",
    "y_pred_china = log_reg.predict(X_china)\n",
    "    "
   ]
  },
  {
   "cell_type": "code",
   "execution_count": 79,
   "id": "f7008422-c7c5-4a1f-b57d-1a58d43328c1",
   "metadata": {
    "tags": []
   },
   "outputs": [
    {
     "name": "stdout",
     "output_type": "stream",
     "text": [
      "Classification Report for China:\n",
      "               precision    recall  f1-score   support\n",
      "\n",
      "           0       0.97      0.91      0.94      4082\n",
      "           1       0.91      0.97      0.94      3952\n",
      "\n",
      "    accuracy                           0.94      8034\n",
      "   macro avg       0.94      0.94      0.94      8034\n",
      "weighted avg       0.94      0.94      0.94      8034\n",
      "\n"
     ]
    }
   ],
   "source": [
    "y_china = df_china[\"target\"]\n",
    "\n",
    "report_test = classification_report(y_china, y_pred_china)\n",
    "\n",
    "print(\"Classification Report for China:\\n\", report_test)"
   ]
  },
  {
   "cell_type": "code",
   "execution_count": 80,
   "id": "ad2c0a3b-ac90-46bf-bb2b-547003ec5ca9",
   "metadata": {
    "tags": []
   },
   "outputs": [
    {
     "data": {
      "text/plain": [
       "array([[3704,  378],\n",
       "       [ 133, 3819]])"
      ]
     },
     "execution_count": 80,
     "metadata": {},
     "output_type": "execute_result"
    }
   ],
   "source": [
    "conf_matrix_china = confusion_matrix(y_china, y_pred_china)\n",
    "\n",
    "conf_matrix_china"
   ]
  },
  {
   "cell_type": "markdown",
   "id": "e2ad4474-da40-4660-ad84-78f0645c7fac",
   "metadata": {
    "tags": []
   },
   "source": [
    "- And then the US:"
   ]
  },
  {
   "cell_type": "code",
   "execution_count": 81,
   "id": "741fa11e-f2ad-4760-bcf7-42c32e56b946",
   "metadata": {
    "tags": []
   },
   "outputs": [],
   "source": [
    "\n",
    "df_us = df_all_abstracts[df_all_abstracts[\"country\"] == \"US\"]\n",
    "\n",
    "# Vectorize text for those papers using TF-IDF vectorization\n",
    "\n",
    "X_us = tfidf.transform(df_us[\"abstract_text\"])\n",
    "\n",
    "# Obtain predictions for vectorized text with logistic reg model\n",
    "\n",
    "y_pred_us = log_reg.predict(X_us)\n",
    "    "
   ]
  },
  {
   "cell_type": "code",
   "execution_count": 82,
   "id": "eb1dc96d-6e08-46c2-b30b-b07c8d1e417a",
   "metadata": {
    "tags": []
   },
   "outputs": [
    {
     "name": "stdout",
     "output_type": "stream",
     "text": [
      "Classification Report for the USA:\n",
      "               precision    recall  f1-score   support\n",
      "\n",
      "           0       0.92      0.98      0.95      1281\n",
      "           1       0.97      0.89      0.93       930\n",
      "\n",
      "    accuracy                           0.94      2211\n",
      "   macro avg       0.95      0.94      0.94      2211\n",
      "weighted avg       0.94      0.94      0.94      2211\n",
      "\n"
     ]
    }
   ],
   "source": [
    "y_us = df_us[\"target\"]\n",
    "\n",
    "report_test_us = classification_report(y_us, y_pred_us)\n",
    "\n",
    "print(\"Classification Report for the USA:\\n\", report_test_us)"
   ]
  },
  {
   "cell_type": "code",
   "execution_count": 83,
   "id": "c6ab5a2a-6ebb-439b-aa1b-e18f80a4035a",
   "metadata": {
    "tags": []
   },
   "outputs": [
    {
     "data": {
      "text/plain": [
       "array([[1258,   23],\n",
       "       [ 103,  827]])"
      ]
     },
     "execution_count": 83,
     "metadata": {},
     "output_type": "execute_result"
    }
   ],
   "source": [
    "conf_matrix_us = confusion_matrix(y_us, y_pred_us)\n",
    "\n",
    "conf_matrix_us"
   ]
  },
  {
   "cell_type": "code",
   "execution_count": null,
   "id": "1b304955-f853-4bf1-b509-01709a633234",
   "metadata": {},
   "outputs": [],
   "source": []
  },
  {
   "cell_type": "code",
   "execution_count": null,
   "id": "dfeb1731-a2b6-4a35-99bf-1737b9c5e113",
   "metadata": {},
   "outputs": [],
   "source": []
  }
 ],
 "metadata": {
  "kernelspec": {
   "display_name": "Python 3 (ipykernel)",
   "language": "python",
   "name": "python3"
  },
  "language_info": {
   "codemirror_mode": {
    "name": "ipython",
    "version": 3
   },
   "file_extension": ".py",
   "mimetype": "text/x-python",
   "name": "python",
   "nbconvert_exporter": "python",
   "pygments_lexer": "ipython3",
   "version": "3.11.3"
  }
 },
 "nbformat": 4,
 "nbformat_minor": 5
}
