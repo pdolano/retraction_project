{
 "cells": [
  {
   "cell_type": "markdown",
   "id": "8e7366cb-30e5-44fe-87e4-97ceedfa3015",
   "metadata": {},
   "source": [
    "# 6. Classification Task: Predicting What Papers Should Be Retracted"
   ]
  },
  {
   "cell_type": "markdown",
   "id": "f666a0cd-c8fb-4665-835f-8fc84d2a369a",
   "metadata": {},
   "source": [
    "## Introduction"
   ]
  },
  {
   "cell_type": "markdown",
   "id": "b353bfdb-12cd-43d0-a35a-f3079cf7b9fb",
   "metadata": {},
   "source": [
    "\n",
    "This Notebook performs our **main classification task**. It uses some of the most common classifier models (logistic regressor, XGBoost Classifier, and Random Forest Classifier) to **predict what papers are at risk of retraction**, and the most common vectorizers (Bag of Words and tf idf) to convert text data into numbers that our models can process. We will use our corpus of abstracts for both retracted and non-retracted papers to carve out both our train and test data sets for this task. \n",
    "\n",
    "The Notebook uses the corpus of abstracts that was generated in **Notebook 5**.\n",
    "\n",
    "\n",
    "The **workflow** of the notebook is set up as follows:\n",
    "\n",
    "- Input: **one .csv file** with abstract data for fraudulent papers, and **one .csv** file with abstract data for non-fraudulent papers.\n",
    "- Output: **none**."
   ]
  },
  {
   "cell_type": "markdown",
   "id": "97c2c621-65dc-4b67-9ed5-52dec382fe32",
   "metadata": {
    "tags": []
   },
   "source": [
    "## Input / Output Parameters:"
   ]
  },
  {
   "cell_type": "markdown",
   "id": "aaad40fd-ad1a-4081-b257-541f291b79e3",
   "metadata": {},
   "source": [
    "Input:"
   ]
  },
  {
   "cell_type": "code",
   "execution_count": 2,
   "id": "c9bfc906-ffba-44ac-8ce9-7839b8bd9832",
   "metadata": {
    "tags": []
   },
   "outputs": [],
   "source": [
    "\n",
    "# File name for text data from fraudulent papers\n",
    "#file_name_fraudulent = \"cellbio_abstracts_non-retracted_text.csv\"\n",
    "\n",
    "file_name_fraudulent = \"cellbio_abstracts_retracted_text.csv\"\n",
    "\n",
    "# File path for text data from fraudulent papers\n",
    "\n",
    "file_path_fraudulent = \"../data/text_data/\" + file_name_fraudulent\n",
    "\n",
    "# File name for text data from legitimate papers\n",
    "#file_name_legit = \"cellbio_abstracts_retracted_text.csv\"\n",
    "\n",
    "file_name_legit = \"cellbio_abstracts_non-retracted_text.csv\"\n",
    "\n",
    "# File path for text data from legitimate papers\n",
    "\n",
    "file_path_legit = \"../data/text_data/\" + file_name_legit \n",
    "\n",
    "# File path for country codes dictionary\n",
    "\n",
    "file_path_country_codes = \"../data/country_codes_dictionary.csv\""
   ]
  },
  {
   "cell_type": "markdown",
   "id": "e180e5ba-3ca6-44a8-bc58-f2a755fdaf9d",
   "metadata": {},
   "source": [
    "## Importing Required Libraries"
   ]
  },
  {
   "cell_type": "markdown",
   "id": "f18a3fe8-9cff-461a-b03f-8bfb14b43450",
   "metadata": {},
   "source": [
    "Let us start by importing the required libraries to implement our task:"
   ]
  },
  {
   "cell_type": "code",
   "execution_count": 1,
   "id": "dc82e987-cde7-4712-9a89-483af411cd1a",
   "metadata": {
    "tags": []
   },
   "outputs": [],
   "source": [
    "\n",
    "# Import required libraries\n",
    "\n",
    "import pandas as pd\n",
    "import numpy as np\n",
    "\n",
    "import seaborn as sns\n",
    "import matplotlib.pyplot as plt\n",
    "\n",
    "import sklearn\n",
    "from sklearn.feature_selection import SelectKBest, f_classif\n",
    "from sklearn.model_selection import train_test_split\n",
    "from sklearn.linear_model import LogisticRegression\n",
    "from sklearn.metrics import accuracy_score, classification_report\n",
    "from sklearn.metrics import roc_curve, auc\n",
    "from sklearn.metrics import confusion_matrix\n",
    "from sklearn.feature_extraction.text import CountVectorizer\n",
    "from sklearn.feature_extraction.text import TfidfVectorizer\n",
    "from sklearn.ensemble import RandomForestClassifier\n",
    "from xgboost.sklearn import XGBClassifier\n",
    "\n",
    "import json\n",
    "import os\n",
    "\n",
    "from scipy.stats import norm\n",
    "\n",
    "import time\n",
    "from function_definitions import seconds_to_hms\n",
    "\n"
   ]
  },
  {
   "cell_type": "markdown",
   "id": "70e7ee99-2a16-4c27-a3fb-69b0b544120c",
   "metadata": {},
   "source": [
    "## Loading Abstracts for Retracted Papers"
   ]
  },
  {
   "cell_type": "markdown",
   "id": "71060f11-2d57-45cc-8ab4-9cdbc08876b8",
   "metadata": {},
   "source": [
    "\n",
    "We will start by uploading our corpus of reconstructed abstracts from a .csv file. Let us start with retracted papers:"
   ]
  },
  {
   "cell_type": "code",
   "execution_count": 67,
   "id": "2399d047-8545-4d10-908d-51f5c970d526",
   "metadata": {},
   "outputs": [
    {
     "data": {
      "text/html": [
       "<div>\n",
       "<style scoped>\n",
       "    .dataframe tbody tr th:only-of-type {\n",
       "        vertical-align: middle;\n",
       "    }\n",
       "\n",
       "    .dataframe tbody tr th {\n",
       "        vertical-align: top;\n",
       "    }\n",
       "\n",
       "    .dataframe thead th {\n",
       "        text-align: right;\n",
       "    }\n",
       "</style>\n",
       "<table border=\"1\" class=\"dataframe\">\n",
       "  <thead>\n",
       "    <tr style=\"text-align: right;\">\n",
       "      <th></th>\n",
       "      <th>abstract_text</th>\n",
       "      <th>target</th>\n",
       "      <th>doi</th>\n",
       "      <th>country</th>\n",
       "      <th>year</th>\n",
       "      <th>ret_flag</th>\n",
       "    </tr>\n",
       "  </thead>\n",
       "  <tbody>\n",
       "    <tr>\n",
       "      <th>0</th>\n",
       "      <td>\"Abstract Hypoxia and sepsis are key concerns ...</td>\n",
       "      <td>1</td>\n",
       "      <td>10.1088_1748-605X_abd1b8</td>\n",
       "      <td>IN</td>\n",
       "      <td>2021</td>\n",
       "      <td>False</td>\n",
       "    </tr>\n",
       "  </tbody>\n",
       "</table>\n",
       "</div>"
      ],
      "text/plain": [
       "                                       abstract_text  target  \\\n",
       "0  \"Abstract Hypoxia and sepsis are key concerns ...       1   \n",
       "\n",
       "                        doi country  year  ret_flag  \n",
       "0  10.1088_1748-605X_abd1b8      IN  2021     False  "
      ]
     },
     "execution_count": 67,
     "metadata": {},
     "output_type": "execute_result"
    }
   ],
   "source": [
    "\n",
    "# Read reconstructed abstracts for retracted papers from .csv file\n",
    "# Note that separator is \"|\"\n",
    "\n",
    "df_fraudulent_abstracts = pd.read_csv(file_path_fraudulent, sep = \"|\" )\n",
    "\n",
    "# Read country codes correspondences from .csv\n",
    "\n",
    "df_country_codes = pd.read_csv(file_path_country_codes, encoding='latin-1')\n",
    "\n",
    "# Display data frame\n",
    "\n",
    "df_fraudulent_abstracts.head(1)\n"
   ]
  },
  {
   "cell_type": "markdown",
   "id": "cbcf98da-dec7-4c09-8d70-7b1a8391beac",
   "metadata": {},
   "source": [
    "\n",
    "Retracted abstracts often include a statement indicating that the paper in question has been retracted. In our case, those were already marked with a \"yes\" in the \"ret_flag\" column, so we can simply remove them from our data frame:"
   ]
  },
  {
   "cell_type": "code",
   "execution_count": 83,
   "id": "ec66b537-ba7b-4829-8eb2-18d6da484875",
   "metadata": {},
   "outputs": [
    {
     "ename": "SyntaxError",
     "evalue": "cannot assign to subscript here. Maybe you meant '==' instead of '='? (1493418479.py, line 5)",
     "output_type": "error",
     "traceback": [
      "\u001b[0;36m  Cell \u001b[0;32mIn[83], line 5\u001b[0;36m\u001b[0m\n\u001b[0;31m    df_ret_flag = df_fraudulent_abstracts[df_fraudulent_abstracts['ret_flag'] = True]\u001b[0m\n\u001b[0m                                          ^\u001b[0m\n\u001b[0;31mSyntaxError\u001b[0m\u001b[0;31m:\u001b[0m cannot assign to subscript here. Maybe you meant '==' instead of '='?\n"
     ]
    }
   ],
   "source": [
    "\n",
    "# Filter away columns for which \"ret_flag\" is true\n",
    "\n",
    "df_fraudulent_abstracts = df_fraudulent_abstracts[df_fraudulent_abstracts['ret_flag'] != True]\n",
    "\n",
    "df_ret_flag = df_fraudulent_abstracts[df_fraudulent_abstracts['ret_flag'] = True]\n"
   ]
  },
  {
   "cell_type": "markdown",
   "id": "61fc73bf-0565-4f3e-b99f-e7e99bce117d",
   "metadata": {},
   "source": [
    "The abstract text that remains can now go into our corpus for retracted papers:"
   ]
  },
  {
   "cell_type": "code",
   "execution_count": 82,
   "id": "aecdbb9c-0712-40a3-803b-2a7ece4965aa",
   "metadata": {},
   "outputs": [
    {
     "data": {
      "text/plain": [
       "0       \"Abstract Hypoxia and sepsis are key concerns ...\n",
       "1       \"Most ovarian cancers are diagnosed at advance...\n",
       "2       \"Purpose: Evidence indicates that the actin-bi...\n",
       "3       \"Papillary thyroid carcinoma (PTC) is the most...\n",
       "4       \"Other SectionsABSTRACTINTRODUCTIONRESULTSDISC...\n",
       "                              ...                        \n",
       "6631    \"The present study investigated the effect of ...\n",
       "6632    \"Endothelin is a long-lasting potent vasoconst...\n",
       "6633    \"In the plant RNA interference (RNAi) pathway ...\n",
       "6634    \"Monocytes play an important role in inflammat...\n",
       "6635    \"Cytosolic phospholipase A(2)alpha (cPLA(2)alp...\n",
       "Name: abstract_text, Length: 5897, dtype: object"
      ]
     },
     "execution_count": 82,
     "metadata": {},
     "output_type": "execute_result"
    }
   ],
   "source": [
    "\n",
    "# Store column with reconstructed text into our list for the legit corpus\n",
    "\n",
    "corpus_fraudulent = df_fraudulent_abstracts.abstract_text\n",
    "\n",
    "# Visualize result\n",
    "\n",
    "corpus_fraudulent"
   ]
  },
  {
   "cell_type": "markdown",
   "id": "24c057bd-a67e-4254-b3ab-aafb8b6f4a69",
   "metadata": {},
   "source": [
    "## Loading Abstracts for Non-Retracted Papers"
   ]
  },
  {
   "cell_type": "markdown",
   "id": "eec49358-78b3-4566-a487-e90e35506615",
   "metadata": {},
   "source": [
    "Let us now turn to our non-retracted papers. We start by loading the relevant abstract text into a data frame:"
   ]
  },
  {
   "cell_type": "code",
   "execution_count": 36,
   "id": "c0dfcca4-3147-41dd-99ce-dfbc797f405e",
   "metadata": {},
   "outputs": [
    {
     "data": {
      "text/html": [
       "<div>\n",
       "<style scoped>\n",
       "    .dataframe tbody tr th:only-of-type {\n",
       "        vertical-align: middle;\n",
       "    }\n",
       "\n",
       "    .dataframe tbody tr th {\n",
       "        vertical-align: top;\n",
       "    }\n",
       "\n",
       "    .dataframe thead th {\n",
       "        text-align: right;\n",
       "    }\n",
       "</style>\n",
       "<table border=\"1\" class=\"dataframe\">\n",
       "  <thead>\n",
       "    <tr style=\"text-align: right;\">\n",
       "      <th></th>\n",
       "      <th>abstract_text</th>\n",
       "      <th>target</th>\n",
       "      <th>doi</th>\n",
       "      <th>country</th>\n",
       "      <th>year</th>\n",
       "      <th>ret_flag</th>\n",
       "    </tr>\n",
       "  </thead>\n",
       "  <tbody>\n",
       "    <tr>\n",
       "      <th>0</th>\n",
       "      <td>\"Targeting cancer stem cells is critical for s...</td>\n",
       "      <td>0</td>\n",
       "      <td>10.1186_s13045-018-0613-5</td>\n",
       "      <td>CN</td>\n",
       "      <td>2018</td>\n",
       "      <td>False</td>\n",
       "    </tr>\n",
       "  </tbody>\n",
       "</table>\n",
       "</div>"
      ],
      "text/plain": [
       "                                       abstract_text  target  \\\n",
       "0  \"Targeting cancer stem cells is critical for s...       0   \n",
       "\n",
       "                         doi country  year  ret_flag  \n",
       "0  10.1186_s13045-018-0613-5      CN  2018     False  "
      ]
     },
     "execution_count": 36,
     "metadata": {},
     "output_type": "execute_result"
    }
   ],
   "source": [
    "\n",
    "# Read reconstructed abstracts for non-retracted papers from .csv file\n",
    "# Note that separator is \"|\"\n",
    "\n",
    "df_legit_abstracts = pd.read_csv(file_path_legit, sep = \"|\" )\n",
    "\n",
    "# Display data frame\n",
    "\n",
    "df_legit_abstracts.head(1)\n",
    "\n"
   ]
  },
  {
   "cell_type": "markdown",
   "id": "4b509594-1756-4c05-be4f-e0bad5fa05c7",
   "metadata": {},
   "source": [
    "\n",
    "Although these papers were labelled as not retracted by OpenAlex, it will still be convenient to filter again potential occurrences of the word the word \"retracted\" etc. in the abstract:"
   ]
  },
  {
   "cell_type": "code",
   "execution_count": 59,
   "id": "f86a0cca-f1e7-4ce4-9aef-eff06c91f369",
   "metadata": {
    "tags": []
   },
   "outputs": [
    {
     "data": {
      "text/html": [
       "<div>\n",
       "<style scoped>\n",
       "    .dataframe tbody tr th:only-of-type {\n",
       "        vertical-align: middle;\n",
       "    }\n",
       "\n",
       "    .dataframe tbody tr th {\n",
       "        vertical-align: top;\n",
       "    }\n",
       "\n",
       "    .dataframe thead th {\n",
       "        text-align: right;\n",
       "    }\n",
       "</style>\n",
       "<table border=\"1\" class=\"dataframe\">\n",
       "  <thead>\n",
       "    <tr style=\"text-align: right;\">\n",
       "      <th></th>\n",
       "      <th>abstract_text</th>\n",
       "      <th>target</th>\n",
       "      <th>doi</th>\n",
       "      <th>country</th>\n",
       "      <th>year</th>\n",
       "      <th>ret_flag</th>\n",
       "    </tr>\n",
       "  </thead>\n",
       "  <tbody>\n",
       "    <tr>\n",
       "      <th>36</th>\n",
       "      <td>\"The case report aims to discuss the clinical ...</td>\n",
       "      <td>0</td>\n",
       "      <td>10.1097_md.0000000000010663</td>\n",
       "      <td>CN</td>\n",
       "      <td>2018</td>\n",
       "      <td>True</td>\n",
       "    </tr>\n",
       "    <tr>\n",
       "      <th>47</th>\n",
       "      <td>\"Keratocytes are fast-moving cells in which ad...</td>\n",
       "      <td>0</td>\n",
       "      <td>10.1371_journal.pbio.1001059</td>\n",
       "      <td>US</td>\n",
       "      <td>2011</td>\n",
       "      <td>True</td>\n",
       "    </tr>\n",
       "    <tr>\n",
       "      <th>629</th>\n",
       "      <td>\"We sought to evaluate the long-term efficacy ...</td>\n",
       "      <td>0</td>\n",
       "      <td>10.2337_dc05-2370</td>\n",
       "      <td>JP</td>\n",
       "      <td>2006</td>\n",
       "      <td>True</td>\n",
       "    </tr>\n",
       "    <tr>\n",
       "      <th>846</th>\n",
       "      <td>\"Turnover of focal adhesions allows cell retra...</td>\n",
       "      <td>0</td>\n",
       "      <td>10.1038_ncomms11692</td>\n",
       "      <td>US</td>\n",
       "      <td>2016</td>\n",
       "      <td>True</td>\n",
       "    </tr>\n",
       "    <tr>\n",
       "      <th>912</th>\n",
       "      <td>\"Accumulating evidence suggest that behavioral...</td>\n",
       "      <td>0</td>\n",
       "      <td>10.1016_j.pnpbp.2021.110456</td>\n",
       "      <td>MO</td>\n",
       "      <td>2022</td>\n",
       "      <td>True</td>\n",
       "    </tr>\n",
       "    <tr>\n",
       "      <th>2308</th>\n",
       "      <td>\"Article15 August 2001free access Regulation o...</td>\n",
       "      <td>0</td>\n",
       "      <td>10.1093_emboj_20.16.4370</td>\n",
       "      <td>GB</td>\n",
       "      <td>2001</td>\n",
       "      <td>True</td>\n",
       "    </tr>\n",
       "    <tr>\n",
       "      <th>2310</th>\n",
       "      <td>\"Contact inhibition ubiquitously exists in non...</td>\n",
       "      <td>0</td>\n",
       "      <td>10.1242_jcs.103267</td>\n",
       "      <td>US</td>\n",
       "      <td>2012</td>\n",
       "      <td>True</td>\n",
       "    </tr>\n",
       "    <tr>\n",
       "      <th>2438</th>\n",
       "      <td>\"Cellular locomotion is driven by repeated cyc...</td>\n",
       "      <td>0</td>\n",
       "      <td>10.1242_jcs.00792</td>\n",
       "      <td>IL</td>\n",
       "      <td>2003</td>\n",
       "      <td>True</td>\n",
       "    </tr>\n",
       "    <tr>\n",
       "      <th>2911</th>\n",
       "      <td>\"Migrasomes are newly discovered cell organell...</td>\n",
       "      <td>0</td>\n",
       "      <td>10.1038_s41467-023-36596-9</td>\n",
       "      <td>IL</td>\n",
       "      <td>2023</td>\n",
       "      <td>True</td>\n",
       "    </tr>\n",
       "    <tr>\n",
       "      <th>2981</th>\n",
       "      <td>\"Cell motility proceeds by cycles of edge prot...</td>\n",
       "      <td>0</td>\n",
       "      <td>10.1016_j.cell.2006.12.039</td>\n",
       "      <td>FR</td>\n",
       "      <td>2007</td>\n",
       "      <td>True</td>\n",
       "    </tr>\n",
       "    <tr>\n",
       "      <th>3572</th>\n",
       "      <td>\"Background: Centella asiatica (L.) Urb. is a ...</td>\n",
       "      <td>0</td>\n",
       "      <td>10.18632_oncotarget.17654</td>\n",
       "      <td>CN</td>\n",
       "      <td>2017</td>\n",
       "      <td>True</td>\n",
       "    </tr>\n",
       "    <tr>\n",
       "      <th>3683</th>\n",
       "      <td>\"Axonal beading  or the formation of a series ...</td>\n",
       "      <td>0</td>\n",
       "      <td>10.1016_j.bpj.2019.07.046</td>\n",
       "      <td>IN</td>\n",
       "      <td>2019</td>\n",
       "      <td>True</td>\n",
       "    </tr>\n",
       "    <tr>\n",
       "      <th>3773</th>\n",
       "      <td>\"Epidermolytic palmoplantar keratoderma (EPPK)...</td>\n",
       "      <td>0</td>\n",
       "      <td>10.1159_000489381</td>\n",
       "      <td>CN</td>\n",
       "      <td>2018</td>\n",
       "      <td>True</td>\n",
       "    </tr>\n",
       "    <tr>\n",
       "      <th>3794</th>\n",
       "      <td>\"Arecoline is a naturally occurring psychoacti...</td>\n",
       "      <td>0</td>\n",
       "      <td>10.1016_j.pnpbp.2020.109977</td>\n",
       "      <td>CN</td>\n",
       "      <td>2021</td>\n",
       "      <td>True</td>\n",
       "    </tr>\n",
       "    <tr>\n",
       "      <th>3943</th>\n",
       "      <td>\"The article entitled miR-27b-3p Inhibits Inva...</td>\n",
       "      <td>0</td>\n",
       "      <td>10.2174_1871520621666210707095833</td>\n",
       "      <td>CN</td>\n",
       "      <td>2022</td>\n",
       "      <td>True</td>\n",
       "    </tr>\n",
       "    <tr>\n",
       "      <th>4079</th>\n",
       "      <td>\"Abstract Cerebral ischemia causes severe cell...</td>\n",
       "      <td>0</td>\n",
       "      <td>10.1038_s41419-017-0260-8</td>\n",
       "      <td>CN</td>\n",
       "      <td>2018</td>\n",
       "      <td>True</td>\n",
       "    </tr>\n",
       "    <tr>\n",
       "      <th>4303</th>\n",
       "      <td>\"Skin soft tissue expansion is one of the most...</td>\n",
       "      <td>0</td>\n",
       "      <td>10.3390_ijms23179622</td>\n",
       "      <td>CN</td>\n",
       "      <td>2022</td>\n",
       "      <td>True</td>\n",
       "    </tr>\n",
       "    <tr>\n",
       "      <th>4559</th>\n",
       "      <td>\"Migration is one of the five major behaviors ...</td>\n",
       "      <td>0</td>\n",
       "      <td>10.1186_s12935-021-02234-x</td>\n",
       "      <td>CN</td>\n",
       "      <td>2021</td>\n",
       "      <td>True</td>\n",
       "    </tr>\n",
       "    <tr>\n",
       "      <th>4805</th>\n",
       "      <td>\"Membrane tension plays an essential role in c...</td>\n",
       "      <td>0</td>\n",
       "      <td>10.1016_j.cub.2013.05.063</td>\n",
       "      <td>IL</td>\n",
       "      <td>2013</td>\n",
       "      <td>True</td>\n",
       "    </tr>\n",
       "    <tr>\n",
       "      <th>5004</th>\n",
       "      <td>\"Discontinuation of amitriptyline (AMI) has be...</td>\n",
       "      <td>0</td>\n",
       "      <td>10.1016_j.aquatox.2022.106129</td>\n",
       "      <td>CN</td>\n",
       "      <td>2022</td>\n",
       "      <td>True</td>\n",
       "    </tr>\n",
       "    <tr>\n",
       "      <th>5287</th>\n",
       "      <td>\"Abstract The aim of the study was to systemat...</td>\n",
       "      <td>0</td>\n",
       "      <td>10.1097_md.0000000000019232</td>\n",
       "      <td>CN</td>\n",
       "      <td>2020</td>\n",
       "      <td>True</td>\n",
       "    </tr>\n",
       "    <tr>\n",
       "      <th>5458</th>\n",
       "      <td>\"Acupuncture has been used to treat myofascial...</td>\n",
       "      <td>0</td>\n",
       "      <td>10.1136_acupmed-2017-011536</td>\n",
       "      <td>CN</td>\n",
       "      <td>2019</td>\n",
       "      <td>True</td>\n",
       "    </tr>\n",
       "    <tr>\n",
       "      <th>5478</th>\n",
       "      <td>\"Collective cell migration in tissues occurs t...</td>\n",
       "      <td>0</td>\n",
       "      <td>10.1073_pnas.1010059108</td>\n",
       "      <td>US</td>\n",
       "      <td>2011</td>\n",
       "      <td>True</td>\n",
       "    </tr>\n",
       "    <tr>\n",
       "      <th>5692</th>\n",
       "      <td>\"Cell movement begins with a leading edge prot...</td>\n",
       "      <td>0</td>\n",
       "      <td>10.1016_j.molcel.2011.02.031</td>\n",
       "      <td>US</td>\n",
       "      <td>2011</td>\n",
       "      <td>True</td>\n",
       "    </tr>\n",
       "    <tr>\n",
       "      <th>5717</th>\n",
       "      <td>\"Abstract The three canonical Rho GTPases RhoA...</td>\n",
       "      <td>0</td>\n",
       "      <td>10.1038_srep21901</td>\n",
       "      <td>CH</td>\n",
       "      <td>2016</td>\n",
       "      <td>True</td>\n",
       "    </tr>\n",
       "    <tr>\n",
       "      <th>5776</th>\n",
       "      <td>\"Article19 April 2007free access Functional an...</td>\n",
       "      <td>0</td>\n",
       "      <td>10.1038_sj.emboj.7601689</td>\n",
       "      <td>FR</td>\n",
       "      <td>2007</td>\n",
       "      <td>True</td>\n",
       "    </tr>\n",
       "    <tr>\n",
       "      <th>5811</th>\n",
       "      <td>\"Abstract The physical properties of two-dimen...</td>\n",
       "      <td>0</td>\n",
       "      <td>10.1038_ncomms9720</td>\n",
       "      <td>US</td>\n",
       "      <td>2015</td>\n",
       "      <td>True</td>\n",
       "    </tr>\n",
       "    <tr>\n",
       "      <th>5894</th>\n",
       "      <td>\"Following the publication of this paper  an i...</td>\n",
       "      <td>0</td>\n",
       "      <td>10.3892_ijmm.2021.5021</td>\n",
       "      <td>CN</td>\n",
       "      <td>2021</td>\n",
       "      <td>True</td>\n",
       "    </tr>\n",
       "    <tr>\n",
       "      <th>5972</th>\n",
       "      <td>\"BackgroundManagement of bone cancer pain is d...</td>\n",
       "      <td>0</td>\n",
       "      <td>10.1177_1744806919876150</td>\n",
       "      <td>CN</td>\n",
       "      <td>2019</td>\n",
       "      <td>True</td>\n",
       "    </tr>\n",
       "    <tr>\n",
       "      <th>6079</th>\n",
       "      <td>\"The actin-binding protein profilin1 (PFN1) pl...</td>\n",
       "      <td>0</td>\n",
       "      <td>10.1002_eji.201747124</td>\n",
       "      <td>DE</td>\n",
       "      <td>2017</td>\n",
       "      <td>True</td>\n",
       "    </tr>\n",
       "    <tr>\n",
       "      <th>6084</th>\n",
       "      <td>\"Axon retraction greatly limits functional rec...</td>\n",
       "      <td>0</td>\n",
       "      <td>10.1089_neu.2018.5966</td>\n",
       "      <td>CN</td>\n",
       "      <td>2019</td>\n",
       "      <td>True</td>\n",
       "    </tr>\n",
       "    <tr>\n",
       "      <th>6142</th>\n",
       "      <td>\"Blebs are spherical cellular protrusions that...</td>\n",
       "      <td>0</td>\n",
       "      <td>10.1529_biophysj.107.113605</td>\n",
       "      <td>US</td>\n",
       "      <td>2008</td>\n",
       "      <td>True</td>\n",
       "    </tr>\n",
       "    <tr>\n",
       "      <th>6399</th>\n",
       "      <td>\"Cells receive extracellular stimuli in variou...</td>\n",
       "      <td>0</td>\n",
       "      <td>10.1242_jcs.064964</td>\n",
       "      <td>SG</td>\n",
       "      <td>2011</td>\n",
       "      <td>True</td>\n",
       "    </tr>\n",
       "    <tr>\n",
       "      <th>6406</th>\n",
       "      <td>\"The actin cytoskeleton plays a major role in ...</td>\n",
       "      <td>0</td>\n",
       "      <td>10.1146_annurev.cellbio.18.031802.150501</td>\n",
       "      <td>US</td>\n",
       "      <td>2002</td>\n",
       "      <td>True</td>\n",
       "    </tr>\n",
       "    <tr>\n",
       "      <th>6561</th>\n",
       "      <td>\"Recent methods have revealed that cells on pl...</td>\n",
       "      <td>0</td>\n",
       "      <td>10.1073_pnas.1207997110</td>\n",
       "      <td>US</td>\n",
       "      <td>2012</td>\n",
       "      <td>True</td>\n",
       "    </tr>\n",
       "  </tbody>\n",
       "</table>\n",
       "</div>"
      ],
      "text/plain": [
       "                                          abstract_text  target  \\\n",
       "36    \"The case report aims to discuss the clinical ...       0   \n",
       "47    \"Keratocytes are fast-moving cells in which ad...       0   \n",
       "629   \"We sought to evaluate the long-term efficacy ...       0   \n",
       "846   \"Turnover of focal adhesions allows cell retra...       0   \n",
       "912   \"Accumulating evidence suggest that behavioral...       0   \n",
       "2308  \"Article15 August 2001free access Regulation o...       0   \n",
       "2310  \"Contact inhibition ubiquitously exists in non...       0   \n",
       "2438  \"Cellular locomotion is driven by repeated cyc...       0   \n",
       "2911  \"Migrasomes are newly discovered cell organell...       0   \n",
       "2981  \"Cell motility proceeds by cycles of edge prot...       0   \n",
       "3572  \"Background: Centella asiatica (L.) Urb. is a ...       0   \n",
       "3683  \"Axonal beading  or the formation of a series ...       0   \n",
       "3773  \"Epidermolytic palmoplantar keratoderma (EPPK)...       0   \n",
       "3794  \"Arecoline is a naturally occurring psychoacti...       0   \n",
       "3943  \"The article entitled miR-27b-3p Inhibits Inva...       0   \n",
       "4079  \"Abstract Cerebral ischemia causes severe cell...       0   \n",
       "4303  \"Skin soft tissue expansion is one of the most...       0   \n",
       "4559  \"Migration is one of the five major behaviors ...       0   \n",
       "4805  \"Membrane tension plays an essential role in c...       0   \n",
       "5004  \"Discontinuation of amitriptyline (AMI) has be...       0   \n",
       "5287  \"Abstract The aim of the study was to systemat...       0   \n",
       "5458  \"Acupuncture has been used to treat myofascial...       0   \n",
       "5478  \"Collective cell migration in tissues occurs t...       0   \n",
       "5692  \"Cell movement begins with a leading edge prot...       0   \n",
       "5717  \"Abstract The three canonical Rho GTPases RhoA...       0   \n",
       "5776  \"Article19 April 2007free access Functional an...       0   \n",
       "5811  \"Abstract The physical properties of two-dimen...       0   \n",
       "5894  \"Following the publication of this paper  an i...       0   \n",
       "5972  \"BackgroundManagement of bone cancer pain is d...       0   \n",
       "6079  \"The actin-binding protein profilin1 (PFN1) pl...       0   \n",
       "6084  \"Axon retraction greatly limits functional rec...       0   \n",
       "6142  \"Blebs are spherical cellular protrusions that...       0   \n",
       "6399  \"Cells receive extracellular stimuli in variou...       0   \n",
       "6406  \"The actin cytoskeleton plays a major role in ...       0   \n",
       "6561  \"Recent methods have revealed that cells on pl...       0   \n",
       "\n",
       "                                           doi country  year  ret_flag  \n",
       "36                 10.1097_md.0000000000010663      CN  2018      True  \n",
       "47                10.1371_journal.pbio.1001059      US  2011      True  \n",
       "629                          10.2337_dc05-2370      JP  2006      True  \n",
       "846                        10.1038_ncomms11692      US  2016      True  \n",
       "912                10.1016_j.pnpbp.2021.110456      MO  2022      True  \n",
       "2308                  10.1093_emboj_20.16.4370      GB  2001      True  \n",
       "2310                        10.1242_jcs.103267      US  2012      True  \n",
       "2438                         10.1242_jcs.00792      IL  2003      True  \n",
       "2911                10.1038_s41467-023-36596-9      IL  2023      True  \n",
       "2981                10.1016_j.cell.2006.12.039      FR  2007      True  \n",
       "3572                 10.18632_oncotarget.17654      CN  2017      True  \n",
       "3683                 10.1016_j.bpj.2019.07.046      IN  2019      True  \n",
       "3773                         10.1159_000489381      CN  2018      True  \n",
       "3794               10.1016_j.pnpbp.2020.109977      CN  2021      True  \n",
       "3943         10.2174_1871520621666210707095833      CN  2022      True  \n",
       "4079                 10.1038_s41419-017-0260-8      CN  2018      True  \n",
       "4303                      10.3390_ijms23179622      CN  2022      True  \n",
       "4559                10.1186_s12935-021-02234-x      CN  2021      True  \n",
       "4805                 10.1016_j.cub.2013.05.063      IL  2013      True  \n",
       "5004             10.1016_j.aquatox.2022.106129      CN  2022      True  \n",
       "5287               10.1097_md.0000000000019232      CN  2020      True  \n",
       "5458               10.1136_acupmed-2017-011536      CN  2019      True  \n",
       "5478                   10.1073_pnas.1010059108      US  2011      True  \n",
       "5692              10.1016_j.molcel.2011.02.031      US  2011      True  \n",
       "5717                         10.1038_srep21901      CH  2016      True  \n",
       "5776                  10.1038_sj.emboj.7601689      FR  2007      True  \n",
       "5811                        10.1038_ncomms9720      US  2015      True  \n",
       "5894                    10.3892_ijmm.2021.5021      CN  2021      True  \n",
       "5972                  10.1177_1744806919876150      CN  2019      True  \n",
       "6079                     10.1002_eji.201747124      DE  2017      True  \n",
       "6084                     10.1089_neu.2018.5966      CN  2019      True  \n",
       "6142               10.1529_biophysj.107.113605      US  2008      True  \n",
       "6399                        10.1242_jcs.064964      SG  2011      True  \n",
       "6406  10.1146_annurev.cellbio.18.031802.150501      US  2002      True  \n",
       "6561                   10.1073_pnas.1207997110      US  2012      True  "
      ]
     },
     "execution_count": 59,
     "metadata": {},
     "output_type": "execute_result"
    }
   ],
   "source": [
    "\n",
    "# Filter away columns for which \"ret_flag\" is true\n",
    "\n",
    "#df_legit_abstracts = df_legit_abstracts[df_legit_abstracts['ret_flag'] != True]\n",
    "\n",
    "df_legit_abstracts = df_legit_abstracts[df_legit_abstracts['ret_flag']]\n",
    "\n",
    "df_legit_abstracts"
   ]
  },
  {
   "cell_type": "code",
   "execution_count": 66,
   "id": "e5b39192-92e0-47f0-88df-e2f5589e809c",
   "metadata": {
    "tags": []
   },
   "outputs": [
    {
     "data": {
      "text/plain": [
       "'\"BackgroundManagement of bone cancer pain is difficult because of its complex mechanisms  which has a major impact on the quality of patients daily life. Recent studies have indicated that endoplasmic reticulum stress is involved in many neurological and inflammatory pathways associated with pain. However  the factors that contribute to endoplasmic reticulum stress and its causes in bone cancer pain are still unknown. In this study  we examined whether the endoplasmic reticulum stress response is involved in caspase signaling pathway-dependent apoptosis in neurons in the spinal dorsal horn of tumor-bearing rats and whether it thereby induces bone cancer pain. MethodsBone cancer pain was measured behaviorally by the paw withdrawal threshold. The expression levels of endoplasmic reticulum stress markers  namely  immunoglobulin-binding protein/glucose-regulated protein 78 (BIP/GRP78)  activating transcription factor-6 (ATF6)  phosphorylated inositol-requiring enzyme-1 (p-IRE1)  phosphorylated protein kinase RNA-like endoplasmic reticulum kinase (p-PERK) and cleaved caspase-3  were quantitatively assessed by western blot. The distribution of p-eIF2 (an endoplasmic reticulum marker) and cleaved caspase-3 in the lumbar enlargement of the spinal cord was determined by immunohistochemistry in spinal dorsal horn slices. ResultsBone cancer pain suffered bone damage and persistent mechanical allodynia. Bone cancer pain increased the expression of GRP78  ATF6  p-PERK  p-IRE1  and cleaved caspase-3 in a rat model of bone cancer pain. In addition  p-eIF2 and cleaved caspase-3 were localized to neurons. The intrathecal injection of tauroursodeoxycholic acid as a specific inhibitor of endoplasmic reticulum stress attenuated bone cancer pain and reduced the expression of GRP78  ATF6  p-PERK  p-IRE1  and cleaved caspase-3 in the spinal cord. Moreover  Z-DEVD-FMK (FMK) was also shown to attenuate bone cancer pain. ConclusionEndoplasmic reticulum stress causes the activation of caspase signaling pathway-dependent apoptosis in neuronal cells and induces bone cancer pain-related hyperalgesia.\"'"
      ]
     },
     "execution_count": 66,
     "metadata": {},
     "output_type": "execute_result"
    }
   ],
   "source": [
    "df_legit_abstracts.at[5972, \"abstract_text\"]"
   ]
  },
  {
   "cell_type": "code",
   "execution_count": 37,
   "id": "c8f8aa90-3bf9-4eae-bb57-77955ee2e1cb",
   "metadata": {},
   "outputs": [],
   "source": [
    "\n",
    "# Store column with reconstructed text into our list for the legit corpus\n",
    "\n",
    "corpus_legit = df_legit_abstracts.abstract_text\n"
   ]
  },
  {
   "cell_type": "markdown",
   "id": "c5182b27-7448-4509-b907-b04bce301615",
   "metadata": {},
   "source": [
    "\n",
    "Finally, we can put the two lists with reconstructed abstracts together to obtain our corpus:"
   ]
  },
  {
   "cell_type": "code",
   "execution_count": 38,
   "id": "93cde213-b258-4a8a-ad5e-68dc153664c5",
   "metadata": {},
   "outputs": [],
   "source": [
    "\n",
    "# Create corpus\n",
    "\n",
    "corpus = []\n",
    "corpus.extend(corpus_fraudulent) # Note that we are adding our fraudulent papers first\n",
    "corpus.extend(corpus_legit)"
   ]
  },
  {
   "cell_type": "markdown",
   "id": "a060d248-5db2-4ef7-aa38-a1bf36e36a8a",
   "metadata": {},
   "source": [
    "## Data Preprocessing and Test-Train Split"
   ]
  },
  {
   "cell_type": "markdown",
   "id": "2beeeab5-02a9-4cd7-ae9e-6eef46658371",
   "metadata": {},
   "source": [
    "\n",
    "We can now use the \"target\" column of our data frame to define our target variable and our features, in case we have them:"
   ]
  },
  {
   "cell_type": "code",
   "execution_count": 69,
   "id": "cae91ac1-46ee-41ca-b30f-93d3d58cb5cc",
   "metadata": {},
   "outputs": [],
   "source": [
    "\n",
    "# Create data frame with all abstracts\n",
    "\n",
    "df_all_abstracts = pd.concat([df_legit_abstracts, df_fraudulent_abstracts], ignore_index=True)\n",
    "\n",
    "# Definte target and features\n",
    "\n",
    "X = df_all_abstracts[\"abstract_text\"]\n",
    "y = df_all_abstracts[\"target\"]"
   ]
  },
  {
   "cell_type": "markdown",
   "id": "ac9a4d9e-7b98-4315-875c-33f54b5e8518",
   "metadata": {},
   "source": [
    "We are now ready to split our data set into a train and test portion:"
   ]
  },
  {
   "cell_type": "code",
   "execution_count": 70,
   "id": "cdd9650f-0187-432d-93aa-b89f0238bce9",
   "metadata": {},
   "outputs": [],
   "source": [
    "\n",
    "# Split data into train and text sets\n",
    "\n",
    "X_train, X_test, y_train, y_test = train_test_split(X, y, test_size=0.2, random_state=42)"
   ]
  },
  {
   "cell_type": "markdown",
   "id": "8673b65f-ac1e-4c9a-898a-54b335010d1e",
   "metadata": {},
   "source": [
    "## Vectorization with CountVectorizer()"
   ]
  },
  {
   "cell_type": "markdown",
   "id": "7a9f02a3-b8c5-4d75-8b56-8d74118442f4",
   "metadata": {},
   "source": [
    "\n",
    "We can now go ahead and vectorize our whole corpus using the bag of words method. First we generate our vocabulary by applyzing a Count Vectorizer to our train data set:"
   ]
  },
  {
   "cell_type": "code",
   "execution_count": 71,
   "id": "a4163c22-6c48-43ef-bd52-41580b56c3d4",
   "metadata": {},
   "outputs": [
    {
     "name": "stdout",
     "output_type": "stream",
     "text": [
      "Vocabulary:\n",
      "['00' '000' '0000' ... 'zymography' 'zymolyase' 'zyxin']\n",
      "\n",
      "Bag of Words vectors:\n",
      "[[0 0 0 ... 0 0 0]\n",
      " [0 0 0 ... 0 0 0]\n",
      " [0 0 0 ... 0 0 0]\n",
      " ...\n",
      " [0 0 0 ... 0 0 0]\n",
      " [0 0 0 ... 0 0 0]\n",
      " [0 0 0 ... 0 0 0]]\n"
     ]
    }
   ],
   "source": [
    "\n",
    "# Instantiate CountVectorizer \n",
    "\n",
    "vectorizer = CountVectorizer()\n",
    "\n",
    "# Fit vectorizer to corpus of fraudulent papers to create bag of words vectors\n",
    "\n",
    "X_train_vec = vectorizer.fit_transform(X_train)\n",
    "\n",
    "# Obtain vocabulary for corpus\n",
    "\n",
    "print(\"Vocabulary:\")\n",
    "print(vectorizer.get_feature_names_out())\n",
    "\n",
    "# Print bag of words vectors for each document in corpus\n",
    "\n",
    "print(\"\\nBag of Words vectors:\")\n",
    "print(X_train_vec.toarray())"
   ]
  },
  {
   "cell_type": "markdown",
   "id": "81d3c7c4-e328-4fe1-bae8-0a7e072596fa",
   "metadata": {},
   "source": [
    "- And now we use that vocabulary to vectorize our test data set:"
   ]
  },
  {
   "cell_type": "code",
   "execution_count": 72,
   "id": "56fdbe0e-b143-4500-a800-8052b71a75bd",
   "metadata": {},
   "outputs": [],
   "source": [
    "\n",
    "# Vectorize test data set by using our vectorizer\n",
    "\n",
    "X_test_vec = vectorizer.transform(X_test)"
   ]
  },
  {
   "cell_type": "markdown",
   "id": "371c7aaa-600a-45ee-8430-9d9b64e065b5",
   "metadata": {},
   "source": [
    "## Vectorization with TF-IDF"
   ]
  },
  {
   "cell_type": "markdown",
   "id": "f2473ede-8349-467d-b2e9-8630268e06d2",
   "metadata": {},
   "source": [
    "\n",
    "We can also try and vectorize our corpus using TF-IDF instead. Again, we start by applying the vectorizer to our train data set:"
   ]
  },
  {
   "cell_type": "code",
   "execution_count": 73,
   "id": "9acf5321-5459-4017-b1d2-cafaa19175a5",
   "metadata": {},
   "outputs": [
    {
     "name": "stdout",
     "output_type": "stream",
     "text": [
      "Vocabulary:\n",
      "['00' '000' '0000' ... 'zymography' 'zymolyase' 'zyxin']\n",
      "\n",
      "TF-IDF vectors:\n",
      "[[0. 0. 0. ... 0. 0. 0.]\n",
      " [0. 0. 0. ... 0. 0. 0.]\n",
      " [0. 0. 0. ... 0. 0. 0.]\n",
      " ...\n",
      " [0. 0. 0. ... 0. 0. 0.]\n",
      " [0. 0. 0. ... 0. 0. 0.]\n",
      " [0. 0. 0. ... 0. 0. 0.]]\n"
     ]
    }
   ],
   "source": [
    "\n",
    "# Instantiate CountVectorizer \n",
    "\n",
    "tfidf = TfidfVectorizer()\n",
    "\n",
    "# Fit vectorizer to corpus of fraudulent papers to create bag of words vectors\n",
    "\n",
    "X_train_tfidf = tfidf.fit_transform(X_train)\n",
    "\n",
    "# Obtain vocabulary for corpus\n",
    "\n",
    "print(\"Vocabulary:\")\n",
    "print(tfidf.get_feature_names_out())\n",
    "\n",
    "# Print bag of words vectors for each document in corpus\n",
    "\n",
    "print(\"\\nTF-IDF vectors:\")\n",
    "print(X_train_tfidf.toarray())"
   ]
  },
  {
   "cell_type": "markdown",
   "id": "3ffe60dc-36db-49e6-85eb-fe505169202c",
   "metadata": {},
   "source": [
    "- And we then use the vocabulary generated from the train data set to vectorize out test data set:"
   ]
  },
  {
   "cell_type": "code",
   "execution_count": 74,
   "id": "8ae1f53e-bdb7-4d88-ba9f-397f7b980516",
   "metadata": {},
   "outputs": [],
   "source": [
    "\n",
    "# Vectorize test data set using vocabulary from train\n",
    "\n",
    "X_test_tfidf = tfidf.transform(X_test)"
   ]
  },
  {
   "cell_type": "markdown",
   "id": "568981bc-26da-4aee-8957-a43cd45d81e6",
   "metadata": {
    "tags": []
   },
   "source": [
    "## K-Best Analysis "
   ]
  },
  {
   "cell_type": "code",
   "execution_count": 75,
   "id": "63a17aee-3748-4d94-99e1-df33969e4aa2",
   "metadata": {
    "tags": []
   },
   "outputs": [
    {
     "name": "stdout",
     "output_type": "stream",
     "text": [
      "Feature: adhesions, Score: 865.903804745295\n",
      "Feature: bending, Score: 323.99224142046796\n",
      "Feature: confluent, Score: 455.1971622095852\n",
      "Feature: danio, Score: 442.4174786084567\n",
      "Feature: edge, Score: 1078.4325451351924\n",
      "Feature: fluctuates, Score: 442.4174786084567\n",
      "Feature: focal, Score: 343.35908501816937\n",
      "Feature: lamella, Score: 318.28595583342207\n",
      "Feature: lamellipodial, Score: 348.1317864459987\n",
      "Feature: lamellipodium, Score: 440.99474328283003\n",
      "Feature: polymerization, Score: 330.4366347685043\n",
      "Feature: profilin, Score: 442.4174786084567\n",
      "Feature: protruding, Score: 442.4174786084567\n",
      "Feature: protrusion, Score: 1302.209937036212\n",
      "Feature: rear, Score: 501.34450228194885\n",
      "Feature: rerio, Score: 442.4174786084567\n",
      "Feature: trailing, Score: 442.4174786084567\n",
      "Feature: upward, Score: 323.99224142046796\n",
      "Feature: yonezawa, Score: 442.4174786084567\n",
      "Feature: zebrafish, Score: 455.05906529623223\n"
     ]
    }
   ],
   "source": [
    "\n",
    "# Instantiate select k best \n",
    "\n",
    "k_best = SelectKBest(score_func=f_classif, k=20)  \n",
    "\n",
    "# Fit select k best to training data \n",
    "\n",
    "X_train_selected_vec = k_best.fit_transform(X_train_vec, y_train)\n",
    "\n",
    "# Get indices of k most salient feature\n",
    "\n",
    "selected_feature_indices = k_best.get_support(indices=True)\n",
    "\n",
    "# Obtain words corresponding to each index from vectorizer\n",
    "\n",
    "features_list = vectorizer.get_feature_names_out()\n",
    "\n",
    "\n",
    "# Obtain words corresponding to most salient features from index\n",
    "\n",
    "selected_feature_names = [features_list[i] for i in selected_feature_indices]\n",
    "\n",
    "# Visualize most salient words\n",
    "\n",
    "selected_feature_names\n",
    "\n",
    "# Obtain scores of selected features\n",
    "selected_feature_scores = k_best.scores_[selected_feature_indices]\n",
    "\n",
    "# Pair feature names with their corresponding scores\n",
    "feature_scores = list(zip(selected_feature_names, selected_feature_scores))\n",
    "\n",
    "# Print feature names and scores\n",
    "for feature_name, score in feature_scores:\n",
    "    print(f\"Feature: {feature_name}, Score: {score}\")"
   ]
  },
  {
   "cell_type": "code",
   "execution_count": 76,
   "id": "1167d360-782c-4bb5-bcff-654cad31ac00",
   "metadata": {},
   "outputs": [
    {
     "name": "stdout",
     "output_type": "stream",
     "text": [
      "                                          abstract_text  target  \\\n",
      "5     \"Article15 August 2001free access Regulation o...       0   \n",
      "10    \"Background: Centella asiatica (L.) Urb. is a ...       0   \n",
      "21    \"Acupuncture has been used to treat myofascial...       0   \n",
      "28    \"BackgroundManagement of bone cancer pain is d...       0   \n",
      "45    \"Cucurbitacin E (CuE)  a potent member of trit...       1   \n",
      "...                                                 ...     ...   \n",
      "6139  \"Prostate cancer (PCA) is the second most freq...       1   \n",
      "6254  \"Abstract Background Systemic lupus erythemato...       1   \n",
      "6480  \"Medullary thyroid carcinoma (MTC) is a rare t...       1   \n",
      "6484  \"Hepatocellular carcinoma (HCC) is one of the ...       1   \n",
      "6489  \"Abstract Background Distal esophageal adenoca...       1   \n",
      "\n",
      "                              doi  country  year  ret_flag  \n",
      "5        10.1093_emboj_20.16.4370       GB  2001      True  \n",
      "10      10.18632_oncotarget.17654       CN  2017      True  \n",
      "21    10.1136_acupmed-2017-011536       CN  2019      True  \n",
      "28       10.1177_1744806919876150       CN  2019      True  \n",
      "45            10.1042_BSR20160165       CN  2016     False  \n",
      "...                           ...      ...   ...       ...  \n",
      "6139        10.1093_carcin_bgh095  Unknown  2004     False  \n",
      "6254     10.1186_1471-2474-10-141       CN  2009     False  \n",
      "6480        10.1089_thy.2012.0224  Unknown  2013     False  \n",
      "6484      10.1186_1471-230X-14-62       CN  2014     False  \n",
      "6489      10.1186_1471-2407-14-28       CN  2014     False  \n",
      "\n",
      "[679 rows x 6 columns]\n"
     ]
    }
   ],
   "source": [
    "\n",
    "# Create a boolean mask to filter rows where \"assay\" is present in the \"abstract_text\" column\n",
    "mask = df_all_abstracts[\"abstract_text\"].str.contains(\"western\")\n",
    "\n",
    "# Apply the mask to filter rows\n",
    "filtered_rows = df_all_abstracts[mask]\n",
    "\n",
    "# Display the filtered rows\n",
    "print(filtered_rows)"
   ]
  },
  {
   "cell_type": "code",
   "execution_count": 77,
   "id": "65575f89-758e-467b-b566-d7d77fece0ff",
   "metadata": {
    "tags": []
   },
   "outputs": [
    {
     "data": {
      "text/plain": [
       "'\"Cell motility proceeds by cycles of edge protrusion  adhesion  and retraction. Whether these functions are coordinated by biochemical or biomechanical processes is unknown. We find that myosin II pulls the rear of the lamellipodial actin network  causing upward bending  edge retraction  and initiation of new adhesion sites. The network then separates from the edge and condenses over the myosin. Protrusion resumes as lamellipodial actin regenerates from the front and extends rearward until it reaches newly assembled myosin  initiating the next cycle. Upward bending  observed by evanescence and electron microscopy  results in ruffle formation when adhesion strength is low. Correlative fluorescence and electron microscopy shows that the regenerating lamellipodium forms a cohesive  separable layer of actin above the lamellum. Thus  actin polymerization periodically builds a mechanical link  the lamellipodium  connecting myosin motors with the initiation of adhesion sites  suggesting that the major functions driving motility are coordinated by a biomechanical process.\"'"
      ]
     },
     "execution_count": 77,
     "metadata": {},
     "output_type": "execute_result"
    }
   ],
   "source": [
    "df_all_abstracts.iloc[9].abstract_text"
   ]
  },
  {
   "cell_type": "markdown",
   "id": "69a996a1-7bf8-406b-bcdd-e213c54c0456",
   "metadata": {},
   "source": [
    "## Classification with Logistic Regression"
   ]
  },
  {
   "cell_type": "markdown",
   "id": "bafef86f-f846-473b-8c07-90e9944813f9",
   "metadata": {},
   "source": [
    "- We can now instantiate our model, fit it to our train data, and use it to obtain predictions for our test data:"
   ]
  },
  {
   "cell_type": "code",
   "execution_count": 78,
   "id": "ba168b9a-8c16-42c6-a387-daf3d8a281b5",
   "metadata": {},
   "outputs": [
    {
     "name": "stdout",
     "output_type": "stream",
     "text": [
      "Time taken to train the model: 0.0h, 0.0m, 0.20913195610046387s. \n",
      "\n"
     ]
    }
   ],
   "source": [
    "\n",
    "\n",
    "# Instantiate logistic regressor\n",
    "\n",
    "log_reg = LogisticRegression(max_iter = 200)\n",
    "\n",
    "# Store start time of loop execution\n",
    "\n",
    "start_time = time.time()\n",
    "\n",
    "# Fit logistic regressor to our train data set\n",
    "\n",
    "#log_reg.fit(X_train_vec, y_train)\n",
    "\n",
    "log_reg.fit(X_train_tfidf, y_train)\n",
    "\n",
    "# Use logistic regressor to obtain predictions for test data set\n",
    "\n",
    "#y_pred = log_reg.predict(X_test_vec)\n",
    "\n",
    "y_pred = log_reg.predict(X_test_tfidf)\n",
    "\n",
    "# And for train data set\n",
    "\n",
    "#y_pred_train = log_reg.predict(X_train_vec)\n",
    "\n",
    "y_pred_train = log_reg.predict(X_train_tfidf)\n",
    "\n",
    "# Calculate elapsed time for for training model\n",
    "\n",
    "elapsed_time = time.time() - start_time\n",
    "\n",
    "# Convert time to hours, minutes, and seconds\n",
    "\n",
    "elapsed_hours, elapsed_minutes, elapsed_seconds = seconds_to_hms(elapsed_time)\n",
    "\n",
    "# Print message with elapsed time\n",
    "\n",
    "print(f\"Time taken to train the model: {elapsed_hours}h, {elapsed_minutes}m, {elapsed_seconds}s. \\n\")\n"
   ]
  },
  {
   "cell_type": "markdown",
   "id": "0f1f95a7-a5fd-43d9-9592-f93a7a5b519b",
   "metadata": {
    "tags": []
   },
   "source": [
    "\n",
    "- Finally let us see how well our model is performing by obtaining some evaluations metrics for it:"
   ]
  },
  {
   "cell_type": "code",
   "execution_count": 79,
   "id": "e5f8de8e-9fcf-4e09-b732-0778112aaf1a",
   "metadata": {},
   "outputs": [
    {
     "name": "stdout",
     "output_type": "stream",
     "text": [
      "Accuracy on train data set: 0.9951283492598838\n",
      "Accuracy on test data set: 0.99\n",
      "Classification Report for Train:\n",
      "               precision    recall  f1-score   support\n",
      "\n",
      "           0       0.00      0.00      0.00        26\n",
      "           1       1.00      1.00      1.00      5311\n",
      "\n",
      "    accuracy                           1.00      5337\n",
      "   macro avg       0.50      0.50      0.50      5337\n",
      "weighted avg       0.99      1.00      0.99      5337\n",
      "\n",
      "Classification Report for Test:\n",
      "               precision    recall  f1-score   support\n",
      "\n",
      "           0       0.00      0.00      0.00         9\n",
      "           1       0.99      1.00      1.00      1326\n",
      "\n",
      "    accuracy                           0.99      1335\n",
      "   macro avg       0.50      0.50      0.50      1335\n",
      "weighted avg       0.99      0.99      0.99      1335\n",
      "\n"
     ]
    },
    {
     "name": "stderr",
     "output_type": "stream",
     "text": [
      "/Users/pdolano/.pyenv/versions/3.11.3/lib/python3.11/site-packages/sklearn/metrics/_classification.py:1344: UndefinedMetricWarning: Precision and F-score are ill-defined and being set to 0.0 in labels with no predicted samples. Use `zero_division` parameter to control this behavior.\n",
      "  _warn_prf(average, modifier, msg_start, len(result))\n",
      "/Users/pdolano/.pyenv/versions/3.11.3/lib/python3.11/site-packages/sklearn/metrics/_classification.py:1344: UndefinedMetricWarning: Precision and F-score are ill-defined and being set to 0.0 in labels with no predicted samples. Use `zero_division` parameter to control this behavior.\n",
      "  _warn_prf(average, modifier, msg_start, len(result))\n",
      "/Users/pdolano/.pyenv/versions/3.11.3/lib/python3.11/site-packages/sklearn/metrics/_classification.py:1344: UndefinedMetricWarning: Precision and F-score are ill-defined and being set to 0.0 in labels with no predicted samples. Use `zero_division` parameter to control this behavior.\n",
      "  _warn_prf(average, modifier, msg_start, len(result))\n",
      "/Users/pdolano/.pyenv/versions/3.11.3/lib/python3.11/site-packages/sklearn/metrics/_classification.py:1344: UndefinedMetricWarning: Precision and F-score are ill-defined and being set to 0.0 in labels with no predicted samples. Use `zero_division` parameter to control this behavior.\n",
      "  _warn_prf(average, modifier, msg_start, len(result))\n",
      "/Users/pdolano/.pyenv/versions/3.11.3/lib/python3.11/site-packages/sklearn/metrics/_classification.py:1344: UndefinedMetricWarning: Precision and F-score are ill-defined and being set to 0.0 in labels with no predicted samples. Use `zero_division` parameter to control this behavior.\n",
      "  _warn_prf(average, modifier, msg_start, len(result))\n",
      "/Users/pdolano/.pyenv/versions/3.11.3/lib/python3.11/site-packages/sklearn/metrics/_classification.py:1344: UndefinedMetricWarning: Precision and F-score are ill-defined and being set to 0.0 in labels with no predicted samples. Use `zero_division` parameter to control this behavior.\n",
      "  _warn_prf(average, modifier, msg_start, len(result))\n"
     ]
    }
   ],
   "source": [
    "\n",
    "# Obtain accuracy score and other evaluation metrics\n",
    "\n",
    "accuracy_test = accuracy_score(y_test, y_pred)\n",
    "accuracy_train = accuracy_score(y_train, y_pred_train)\n",
    "\n",
    "report_test = classification_report(y_test, y_pred)\n",
    "\n",
    "report_train = classification_report(y_train, y_pred_train)\n",
    "\n",
    "# Print scores\n",
    "\n",
    "print(\"Accuracy on train data set:\", accuracy_train)\n",
    "print(\"Accuracy on test data set:\", round(accuracy_test,2))\n",
    "\n",
    "print(\"Classification Report for Train:\\n\", report_train)\n",
    "\n",
    "print(\"Classification Report for Test:\\n\", report_test)"
   ]
  },
  {
   "cell_type": "markdown",
   "id": "b1c22047-f28a-4347-adf5-dd92ede8091a",
   "metadata": {
    "tags": []
   },
   "source": [
    "- And the confusion matrix:"
   ]
  },
  {
   "cell_type": "code",
   "execution_count": 80,
   "id": "c5045190-b5ad-4b6a-8a8c-42793a7de37e",
   "metadata": {
    "tags": []
   },
   "outputs": [
    {
     "name": "stdout",
     "output_type": "stream",
     "text": [
      "Confusion Matrix for Log Reg:\n",
      " [[   0    9]\n",
      " [   0 1326]]\n"
     ]
    }
   ],
   "source": [
    "\n",
    "# Obtain confusion matrix\n",
    "conf_matrix_log_reg = confusion_matrix(y_test, y_pred)\n",
    "\n",
    "print(\"Confusion Matrix for Log Reg:\\n\", conf_matrix_log_reg)\n"
   ]
  },
  {
   "cell_type": "markdown",
   "id": "76fd4cf8-49a1-465f-b564-1143e9d129c3",
   "metadata": {
    "tags": []
   },
   "source": [
    "\n",
    "- Let us also find out what the values of the coefficients associated to the different features are:"
   ]
  },
  {
   "cell_type": "code",
   "execution_count": 51,
   "id": "42daa4c7-8e97-4106-af8f-5a39a46e99d5",
   "metadata": {
    "tags": []
   },
   "outputs": [
    {
     "name": "stdout",
     "output_type": "stream",
     "text": [
      "Top 20 coefficients with largest absolute magnitude:\n",
      "1. Feature: yap, Coefficient: -6.8435230095658355\n",
      "2. Feature: mir, Coefficient: 6.057638135727397\n",
      "3. Feature: hippo, Coefficient: -5.180872331584496\n",
      "4. Feature: zebrafish, Coefficient: -4.88350717479392\n",
      "5. Feature: er, Coefficient: -4.719702757674965\n",
      "6. Feature: stress, Coefficient: -4.482924551235056\n",
      "7. Feature: yap1, Coefficient: -4.295989069811512\n",
      "8. Feature: taurine, Coefficient: -4.019882203791222\n",
      "9. Feature: vitiligo, Coefficient: -3.8782385859594584\n",
      "10. Feature: tyrosinase, Coefficient: -3.776827059729754\n",
      "11. Feature: grp78, Coefficient: -3.403020808878587\n",
      "12. Feature: species, Coefficient: -3.379574247727655\n",
      "13. Feature: taz, Coefficient: -3.263241445567326\n",
      "14. Feature: mechanical, Coefficient: -3.2518773139810087\n",
      "15. Feature: calpain, Coefficient: -3.2501269631555525\n"
     ]
    }
   ],
   "source": [
    "# Obtain coefficients for logistic regressor\n",
    "\n",
    "coefficients = log_reg.coef_[0]\n",
    "intercept = log_reg.intercept_\n",
    "\n",
    "# Obtain feature names from vocabulary\n",
    "\n",
    "feature_names = vectorizer.get_feature_names_out()\n",
    "\n",
    "# Pair each feature with its coefficient\n",
    "\n",
    "coefficients_with_features = list(zip(feature_names, coefficients))\n",
    "\n",
    "# Sort coefficients based on absolute values\n",
    "\n",
    "sorted_coefficients = sorted(coefficients_with_features, key=lambda x: abs(x[1]), reverse=True)\n",
    "\n",
    "# Print the top 10 coefficients along with their corresponding features\n",
    "\n",
    "print(\"Top 20 coefficients with largest absolute magnitude:\")\n",
    "for i, (feature, coefficient) in enumerate(sorted_coefficients[:15], start=1):\n",
    "    print(f\"{i}. Feature: {feature}, Coefficient: {coefficient}\")\n",
    "    "
   ]
  },
  {
   "cell_type": "markdown",
   "id": "5ae0e7d4-2e5b-45e4-8bcd-594ba15eeb68",
   "metadata": {},
   "source": [
    "- Let us create a word cloud:"
   ]
  },
  {
   "cell_type": "code",
   "execution_count": 52,
   "id": "0faaad49-d9b7-480c-9a29-6e1bbdad4282",
   "metadata": {
    "tags": []
   },
   "outputs": [
    {
     "data": {
      "image/png": "[encoded data removed]",
      "text/plain": [
       "<Figure size 1000x500 with 1 Axes>"
      ]
     },
     "metadata": {},
     "output_type": "display_data"
    }
   ],
   "source": [
    "from wordcloud import WordCloud\n",
    "import matplotlib.pyplot as plt\n",
    "\n",
    "# Sort coefficients by absolute value\n",
    "sorted_coefficients = sorted(sorted_coefficients, key=lambda x: abs(x[1]), reverse=True)\n",
    "\n",
    "# Select the top 30 words\n",
    "top_words = sorted_coefficients[:30]\n",
    "\n",
    "# Separate words with positive and negative coefficients\n",
    "positive_words = [word for word, coeff in top_words if coeff > 0]\n",
    "negative_words = [word for word, coeff in top_words if coeff < 0]\n",
    "\n",
    "# Generate word cloud with custom color function\n",
    "def fixed_color_func(word, font_size, position, orientation, random_state=None, **kwargs):\n",
    "    if word in positive_words:\n",
    "        # Set color to light blue for positive coefficients\n",
    "        return \"rgb(135, 206, 250)\"  # Light blue color\n",
    "    elif word in negative_words:\n",
    "        # Set color to light grey for negative coefficients\n",
    "        return \"rgb(192, 192, 192)\"  # Light grey color\n",
    "    else:\n",
    "        # Default color for neutral words\n",
    "        return \"rgb(128, 128, 128)\"  # Default grey color\n",
    "\n",
    "# Convert top_words into a dictionary\n",
    "word_freq_dict = {word: abs(coeff) for word, coeff in top_words}\n",
    "\n",
    "# Generate word cloud\n",
    "wordcloud = WordCloud(width=800, height=400, background_color='white', color_func=fixed_color_func)\n",
    "wordcloud.generate_from_frequencies(word_freq_dict)\n",
    "\n",
    "# Display the generated word cloud using matplotlib\n",
    "plt.figure(figsize=(10, 5))\n",
    "plt.imshow(wordcloud, interpolation='bilinear')\n",
    "plt.axis('off')\n",
    "plt.show()\n"
   ]
  },
  {
   "cell_type": "markdown",
   "id": "7bd57470-8e39-402d-992a-a178386a0b1f",
   "metadata": {
    "tags": []
   },
   "source": [
    "- Let us generate a cloud of words for these results:"
   ]
  },
  {
   "cell_type": "markdown",
   "id": "854416ec-d231-4e1c-9a10-4a80dd38325b",
   "metadata": {},
   "source": [
    "## Classification with XGBoost"
   ]
  },
  {
   "cell_type": "markdown",
   "id": "4722ab0a-3239-47a1-9b18-ce1bfa70ff2e",
   "metadata": {},
   "source": [
    "- Let us start by instantiating our model:"
   ]
  },
  {
   "cell_type": "code",
   "execution_count": 25,
   "id": "26d60918-65f7-4a53-8734-9251db459885",
   "metadata": {},
   "outputs": [],
   "source": [
    "xgboost = XGBClassifier()"
   ]
  },
  {
   "cell_type": "markdown",
   "id": "36c2a838-2732-4c99-ae97-9b5a9913b8eb",
   "metadata": {},
   "source": [
    "- And by fitting it to our vectorized train data set:"
   ]
  },
  {
   "cell_type": "code",
   "execution_count": 26,
   "id": "561470da-e3aa-4166-b52e-010f17ffd9c6",
   "metadata": {},
   "outputs": [
    {
     "data": {
      "text/html": [
       "<style>#sk-container-id-1 {color: black;background-color: white;}#sk-container-id-1 pre{padding: 0;}#sk-container-id-1 div.sk-toggleable {background-color: white;}#sk-container-id-1 label.sk-toggleable__label {cursor: pointer;display: block;width: 100%;margin-bottom: 0;padding: 0.3em;box-sizing: border-box;text-align: center;}#sk-container-id-1 label.sk-toggleable__label-arrow:before {content: \"▸\";float: left;margin-right: 0.25em;color: #696969;}#sk-container-id-1 label.sk-toggleable__label-arrow:hover:before {color: black;}#sk-container-id-1 div.sk-estimator:hover label.sk-toggleable__label-arrow:before {color: black;}#sk-container-id-1 div.sk-toggleable__content {max-height: 0;max-width: 0;overflow: hidden;text-align: left;background-color: #f0f8ff;}#sk-container-id-1 div.sk-toggleable__content pre {margin: 0.2em;color: black;border-radius: 0.25em;background-color: #f0f8ff;}#sk-container-id-1 input.sk-toggleable__control:checked~div.sk-toggleable__content {max-height: 200px;max-width: 100%;overflow: auto;}#sk-container-id-1 input.sk-toggleable__control:checked~label.sk-toggleable__label-arrow:before {content: \"▾\";}#sk-container-id-1 div.sk-estimator input.sk-toggleable__control:checked~label.sk-toggleable__label {background-color: #d4ebff;}#sk-container-id-1 div.sk-label input.sk-toggleable__control:checked~label.sk-toggleable__label {background-color: #d4ebff;}#sk-container-id-1 input.sk-hidden--visually {border: 0;clip: rect(1px 1px 1px 1px);clip: rect(1px, 1px, 1px, 1px);height: 1px;margin: -1px;overflow: hidden;padding: 0;position: absolute;width: 1px;}#sk-container-id-1 div.sk-estimator {font-family: monospace;background-color: #f0f8ff;border: 1px dotted black;border-radius: 0.25em;box-sizing: border-box;margin-bottom: 0.5em;}#sk-container-id-1 div.sk-estimator:hover {background-color: #d4ebff;}#sk-container-id-1 div.sk-parallel-item::after {content: \"\";width: 100%;border-bottom: 1px solid gray;flex-grow: 1;}#sk-container-id-1 div.sk-label:hover label.sk-toggleable__label {background-color: #d4ebff;}#sk-container-id-1 div.sk-serial::before {content: \"\";position: absolute;border-left: 1px solid gray;box-sizing: border-box;top: 0;bottom: 0;left: 50%;z-index: 0;}#sk-container-id-1 div.sk-serial {display: flex;flex-direction: column;align-items: center;background-color: white;padding-right: 0.2em;padding-left: 0.2em;position: relative;}#sk-container-id-1 div.sk-item {position: relative;z-index: 1;}#sk-container-id-1 div.sk-parallel {display: flex;align-items: stretch;justify-content: center;background-color: white;position: relative;}#sk-container-id-1 div.sk-item::before, #sk-container-id-1 div.sk-parallel-item::before {content: \"\";position: absolute;border-left: 1px solid gray;box-sizing: border-box;top: 0;bottom: 0;left: 50%;z-index: -1;}#sk-container-id-1 div.sk-parallel-item {display: flex;flex-direction: column;z-index: 1;position: relative;background-color: white;}#sk-container-id-1 div.sk-parallel-item:first-child::after {align-self: flex-end;width: 50%;}#sk-container-id-1 div.sk-parallel-item:last-child::after {align-self: flex-start;width: 50%;}#sk-container-id-1 div.sk-parallel-item:only-child::after {width: 0;}#sk-container-id-1 div.sk-dashed-wrapped {border: 1px dashed gray;margin: 0 0.4em 0.5em 0.4em;box-sizing: border-box;padding-bottom: 0.4em;background-color: white;}#sk-container-id-1 div.sk-label label {font-family: monospace;font-weight: bold;display: inline-block;line-height: 1.2em;}#sk-container-id-1 div.sk-label-container {text-align: center;}#sk-container-id-1 div.sk-container {/* jupyter's `normalize.less` sets `[hidden] { display: none; }` but bootstrap.min.css set `[hidden] { display: none !important; }` so we also need the `!important` here to be able to override the default hidden behavior on the sphinx rendered scikit-learn.org. See: https://github.com/scikit-learn/scikit-learn/issues/21755 */display: inline-block !important;position: relative;}#sk-container-id-1 div.sk-text-repr-fallback {display: none;}</style><div id=\"sk-container-id-1\" class=\"sk-top-container\"><div class=\"sk-text-repr-fallback\"><pre>XGBClassifier(base_score=None, booster=None, callbacks=None,\n",
       "              colsample_bylevel=None, colsample_bynode=None,\n",
       "              colsample_bytree=None, device=None, early_stopping_rounds=None,\n",
       "              enable_categorical=False, eval_metric=None, feature_types=None,\n",
       "              gamma=None, grow_policy=None, importance_type=None,\n",
       "              interaction_constraints=None, learning_rate=None, max_bin=None,\n",
       "              max_cat_threshold=None, max_cat_to_onehot=None,\n",
       "              max_delta_step=None, max_depth=None, max_leaves=None,\n",
       "              min_child_weight=None, missing=nan, monotone_constraints=None,\n",
       "              multi_strategy=None, n_estimators=None, n_jobs=None,\n",
       "              num_parallel_tree=None, random_state=None, ...)</pre><b>In a Jupyter environment, please rerun this cell to show the HTML representation or trust the notebook. <br />On GitHub, the HTML representation is unable to render, please try loading this page with nbviewer.org.</b></div><div class=\"sk-container\" hidden><div class=\"sk-item\"><div class=\"sk-estimator sk-toggleable\"><input class=\"sk-toggleable__control sk-hidden--visually\" id=\"sk-estimator-id-1\" type=\"checkbox\" checked><label for=\"sk-estimator-id-1\" class=\"sk-toggleable__label sk-toggleable__label-arrow\">XGBClassifier</label><div class=\"sk-toggleable__content\"><pre>XGBClassifier(base_score=None, booster=None, callbacks=None,\n",
       "              colsample_bylevel=None, colsample_bynode=None,\n",
       "              colsample_bytree=None, device=None, early_stopping_rounds=None,\n",
       "              enable_categorical=False, eval_metric=None, feature_types=None,\n",
       "              gamma=None, grow_policy=None, importance_type=None,\n",
       "              interaction_constraints=None, learning_rate=None, max_bin=None,\n",
       "              max_cat_threshold=None, max_cat_to_onehot=None,\n",
       "              max_delta_step=None, max_depth=None, max_leaves=None,\n",
       "              min_child_weight=None, missing=nan, monotone_constraints=None,\n",
       "              multi_strategy=None, n_estimators=None, n_jobs=None,\n",
       "              num_parallel_tree=None, random_state=None, ...)</pre></div></div></div></div></div>"
      ],
      "text/plain": [
       "XGBClassifier(base_score=None, booster=None, callbacks=None,\n",
       "              colsample_bylevel=None, colsample_bynode=None,\n",
       "              colsample_bytree=None, device=None, early_stopping_rounds=None,\n",
       "              enable_categorical=False, eval_metric=None, feature_types=None,\n",
       "              gamma=None, grow_policy=None, importance_type=None,\n",
       "              interaction_constraints=None, learning_rate=None, max_bin=None,\n",
       "              max_cat_threshold=None, max_cat_to_onehot=None,\n",
       "              max_delta_step=None, max_depth=None, max_leaves=None,\n",
       "              min_child_weight=None, missing=nan, monotone_constraints=None,\n",
       "              multi_strategy=None, n_estimators=None, n_jobs=None,\n",
       "              num_parallel_tree=None, random_state=None, ...)"
      ]
     },
     "execution_count": 26,
     "metadata": {},
     "output_type": "execute_result"
    }
   ],
   "source": [
    "xgboost.fit(X_train_tfidf, y_train)"
   ]
  },
  {
   "cell_type": "markdown",
   "id": "6feef471-f1bd-425f-a54d-1f96526ecbbe",
   "metadata": {},
   "source": [
    "- We can now go on to make predictions with our trained model:"
   ]
  },
  {
   "cell_type": "code",
   "execution_count": 27,
   "id": "39fcd7e1-454b-42c9-9b2e-6c3e26bafbd5",
   "metadata": {},
   "outputs": [],
   "source": [
    "\n",
    "# Predictions for the test data set\n",
    "\n",
    "y_pred_xgb = xgboost.predict(X_test_tfidf)\n",
    "\n",
    "# And for train data set\n",
    "\n",
    "y_pred_train_xgb = xgboost.predict(X_train_tfidf)\n"
   ]
  },
  {
   "cell_type": "markdown",
   "id": "52473bea-feb8-419d-9a9d-aa5569fa6fc0",
   "metadata": {},
   "source": [
    "- Let us now and see how are model performs"
   ]
  },
  {
   "cell_type": "code",
   "execution_count": 28,
   "id": "d2de487d-60e0-4b53-bab1-c7c742dd1420",
   "metadata": {
    "tags": []
   },
   "outputs": [
    {
     "name": "stdout",
     "output_type": "stream",
     "text": [
      "Accuracy on train data set (XGB Classifier): 0.9730332899386275\n",
      "Accuracy on test data set (XGB Classifier): 0.89\n",
      "Classification Report for Train (XGB Classifier):\n",
      "               precision    recall  f1-score   support\n",
      "\n",
      "           0       0.98      0.97      0.97      5443\n",
      "           1       0.97      0.98      0.97      5311\n",
      "\n",
      "    accuracy                           0.97     10754\n",
      "   macro avg       0.97      0.97      0.97     10754\n",
      "weighted avg       0.97      0.97      0.97     10754\n",
      "\n",
      "Classification Report for Test (XGB Classifier):\n",
      "               precision    recall  f1-score   support\n",
      "\n",
      "           0       0.89      0.88      0.89      1363\n",
      "           1       0.88      0.89      0.89      1326\n",
      "\n",
      "    accuracy                           0.89      2689\n",
      "   macro avg       0.89      0.89      0.89      2689\n",
      "weighted avg       0.89      0.89      0.89      2689\n",
      "\n"
     ]
    }
   ],
   "source": [
    "\n",
    "# Obtain accuracy score and other evaluation metrics\n",
    "\n",
    "accuracy_test_xgb = accuracy_score(y_test, y_pred_xgb)\n",
    "accuracy_train_xgb = accuracy_score(y_train, y_pred_train_xgb)\n",
    "\n",
    "report_test_xgb = classification_report(y_test, y_pred_xgb)\n",
    "\n",
    "report_train_xgb = classification_report(y_train, y_pred_train_xgb)\n",
    "\n",
    "# Print scores\n",
    "\n",
    "print(\"Accuracy on train data set (XGB Classifier):\", accuracy_train_xgb)\n",
    "print(\"Accuracy on test data set (XGB Classifier):\", round(accuracy_test_xgb,2))\n",
    "\n",
    "print(\"Classification Report for Train (XGB Classifier):\\n\", report_train_xgb)\n",
    "\n",
    "print(\"Classification Report for Test (XGB Classifier):\\n\", report_test_xgb)"
   ]
  },
  {
   "cell_type": "markdown",
   "id": "5018d39a-6f60-4823-8a01-c1e67d32b0b9",
   "metadata": {
    "tags": []
   },
   "source": [
    "- Same for XGBoost"
   ]
  },
  {
   "cell_type": "code",
   "execution_count": 29,
   "id": "5741dae1-2f71-4a9e-a6ce-855c0b78e286",
   "metadata": {
    "tags": []
   },
   "outputs": [
    {
     "name": "stdout",
     "output_type": "stream",
     "text": [
      "Confusion Matrix XGB Classifier:\n",
      " [[1204  159]\n",
      " [ 147 1179]]\n"
     ]
    }
   ],
   "source": [
    "\n",
    "# Obtain confusion matrix\n",
    "conf_matrix_xgb = confusion_matrix(y_test, y_pred_xgb)\n",
    "\n",
    "print(\"Confusion Matrix XGB Classifier:\\n\", conf_matrix_xgb)\n"
   ]
  },
  {
   "cell_type": "markdown",
   "id": "86b35c07-c4b9-491e-9b18-85ec5ebf7d3b",
   "metadata": {},
   "source": [
    "## Classification with Random Forest"
   ]
  },
  {
   "cell_type": "code",
   "execution_count": 30,
   "id": "2b1151b3-a2e9-4595-94ad-08faefd97f80",
   "metadata": {
    "tags": []
   },
   "outputs": [
    {
     "name": "stdout",
     "output_type": "stream",
     "text": [
      "Training completed in: 0.0 hours, 0.0 minutes, and 35.00 seconds\n",
      "Prediction completed in: 0.0 hours, 0.0 minutes, and 5.29 seconds\n",
      "Accuracy: 0.7947192264782447\n"
     ]
    }
   ],
   "source": [
    "\n",
    "# Configuration of the RandomForest Classifier\n",
    "clf = RandomForestClassifier(\n",
    "    n_estimators=8000,\n",
    "    max_depth=20,\n",
    "    max_features='sqrt',\n",
    "    random_state=42,\n",
    "    n_jobs=-1\n",
    ")\n",
    "\n",
    "# Start timing for fitting the model\n",
    "start_time = time.time()\n",
    "clf.fit(X_train_tfidf, y_train)\n",
    "end_time = time.time()\n",
    "fit_time = end_time - start_time\n",
    "hours, minutes, seconds = seconds_to_hms(fit_time)\n",
    "print(f\"Training completed in: {hours} hours, {minutes} minutes, and {seconds:.2f} seconds\")\n",
    "\n",
    "# Start timing for making predictions\n",
    "start_time = time.time()\n",
    "y_pred_rf = clf.predict(X_test_tfidf)\n",
    "y_pred_train_rf = clf.predict(X_train_tfidf)\n",
    "end_time = time.time()\n",
    "predict_time = end_time - start_time\n",
    "hours, minutes, seconds = seconds_to_hms(predict_time)\n",
    "print(f\"Prediction completed in: {hours} hours, {minutes} minutes, and {seconds:.2f} seconds\")\n",
    "\n",
    "# Evaluate the model\n",
    "accuracy = accuracy_score(y_test, y_pred_rf)\n",
    "print(\"Accuracy:\", accuracy)\n"
   ]
  },
  {
   "cell_type": "code",
   "execution_count": 31,
   "id": "1ddf2c69-545f-4cb4-add4-807333c815c9",
   "metadata": {
    "tags": []
   },
   "outputs": [
    {
     "name": "stdout",
     "output_type": "stream",
     "text": [
      "mir: 0.0123\n",
      "was: 0.0085\n",
      "endoplasmic: 0.0084\n",
      "expression: 0.0080\n",
      "reticulum: 0.0076\n",
      "assay: 0.0066\n",
      "is: 0.0065\n",
      "er: 0.0063\n",
      "western: 0.0062\n",
      "are: 0.0059\n",
      "retracted: 0.0058\n",
      "hippo: 0.0057\n",
      "luciferase: 0.0055\n",
      "invasion: 0.0055\n",
      "yap: 0.0054\n",
      "stress: 0.0051\n",
      "article: 0.0050\n",
      "here: 0.0049\n",
      "we: 0.0047\n",
      "microrna: 0.0046\n"
     ]
    }
   ],
   "source": [
    "# Get feature importances from the trained model\n",
    "importances = clf.feature_importances_\n",
    "\n",
    "# Get feature names from the vectorizer\n",
    "feature_names = tfidf.get_feature_names_out()\n",
    "\n",
    "# Define the number of top features you want to display\n",
    "K = 20\n",
    "\n",
    "# Get the indices of the K most important features in descending order of importance\n",
    "indices = importances.argsort()[-K:][::-1]\n",
    "\n",
    "# Display the top K important features with their names and importance scores\n",
    "top_features = [(feature_names[i], importances[i]) for i in indices]\n",
    "for feature, importance in top_features:\n",
    "    print(f\"{feature}: {importance:.4f}\")"
   ]
  },
  {
   "cell_type": "code",
   "execution_count": 32,
   "id": "61b1bf24-407a-4a5c-ad77-8c90d02316fe",
   "metadata": {
    "tags": []
   },
   "outputs": [],
   "source": [
    "\n",
    "# Define function to fit & rpedict random forest\n",
    "\n",
    "\n",
    "def train_and_log_rf(n_estimators, max_depth, train_data, train_labels, test_data, test_labels):\n",
    "    # Configuration of the RandomForest Classifier\n",
    "    clf = RandomForestClassifier(\n",
    "        n_estimators=n_estimators,\n",
    "        max_depth=max_depth,\n",
    "        max_features='sqrt',\n",
    "        random_state=42,\n",
    "        n_jobs=-1\n",
    "    )\n",
    "\n",
    "    # Start timing for fitting the model\n",
    "    start_time = time.time()\n",
    "    clf.fit(train_data, train_labels)\n",
    "    fit_time = time.time() - start_time  # Time in seconds\n",
    "    print(f\"Training Time: {fit_time:.2f} seconds\")\n",
    "\n",
    "    # Start timing for making predictions\n",
    "    start_time = time.time()\n",
    "    y_pred = clf.predict(test_data)\n",
    "    predict_time = time.time() - start_time  # Time in seconds\n",
    "    print(f\"Prediction Time: {predict_time:.2f} seconds\")\n",
    "\n",
    "    # Evaluate the model\n",
    "    accuracy = accuracy_score(test_labels, y_pred)\n",
    "    print(\"Accuracy:\", accuracy)\n",
    "\n",
    "    # Prepare data for logging\n",
    "    log_data = {\n",
    "        'n_estimators': n_estimators,\n",
    "        'max_depth': max_depth,\n",
    "        'training_time': f\"{fit_time:.2f} seconds\",\n",
    "        'prediction_time': f\"{predict_time:.2f} seconds\",\n",
    "        'accuracy': accuracy\n",
    "    }\n",
    "    log_df = pd.DataFrame([log_data])\n",
    "\n",
    "    # Define log file path\n",
    "    log_file_path = '../data/model_logs/model_performance_log.csv'\n",
    "\n",
    "    # Check if the directory exists, if not, create it\n",
    "    os.makedirs(os.path.dirname(log_file_path), exist_ok=True)\n",
    "\n",
    "    # Check if file exists, append if it does, otherwise write a new file\n",
    "    if os.path.isfile(log_file_path):\n",
    "        log_df.to_csv(log_file_path, mode='a', header=False, index=False)\n",
    "    else:\n",
    "        log_df.to_csv(log_file_path, mode='w', header=True, index=False)\n",
    "\n",
    "    # Return the model, predictions, and accuracy\n",
    "    return clf, y_pred, accuracy\n",
    "\n"
   ]
  },
  {
   "cell_type": "code",
   "execution_count": 33,
   "id": "20335371-0667-4f24-a0e5-9e7d6ec6954e",
   "metadata": {
    "tags": []
   },
   "outputs": [
    {
     "name": "stdout",
     "output_type": "stream",
     "text": [
      "Training Time: 49.98 seconds\n",
      "Prediction Time: 0.84 seconds\n",
      "Accuracy: 0.8136853849014504\n"
     ]
    }
   ],
   "source": [
    "# Define number of trees & tree depth and instatiate fitting the model and making the predicitons\n",
    "\n",
    "num_trees = 4000\n",
    "tree_depth = 40\n",
    "\n",
    "clf, y_pred_rf, accuracy_rf = train_and_log_rf(num_trees, tree_depth, X_train_tfidf, y_train, X_test_tfidf, y_test)\n"
   ]
  },
  {
   "cell_type": "code",
   "execution_count": 34,
   "id": "fd4a9b14-4d47-4653-85f7-b4b5237b6f5c",
   "metadata": {
    "tags": []
   },
   "outputs": [
    {
     "name": "stdout",
     "output_type": "stream",
     "text": [
      "Accuracy: 0.90\n",
      "Classification Report:\n",
      "              precision    recall  f1-score   support\n",
      "\n",
      "           0       0.88      0.94      0.91      5443\n",
      "           1       0.94      0.86      0.90      5311\n",
      "\n",
      "    accuracy                           0.90     10754\n",
      "   macro avg       0.91      0.90      0.90     10754\n",
      "weighted avg       0.91      0.90      0.90     10754\n",
      "\n"
     ]
    }
   ],
   "source": [
    "\n",
    "# Calculate accuracy just for train\n",
    "\n",
    "accuracy_train_rf = accuracy_score(y_train, y_pred_train_rf)\n",
    "print(f\"Accuracy: {accuracy_train_rf:.2f}\")\n",
    "\n",
    "# Generate and print classification report for train\n",
    "\n",
    "report_train_rf = classification_report(y_train, y_pred_train_rf)\n",
    "print(\"Classification Report:\")\n",
    "print(report_train_rf)"
   ]
  },
  {
   "cell_type": "code",
   "execution_count": 35,
   "id": "a127016c-af9d-4194-a0ce-0575fdf4a04f",
   "metadata": {
    "tags": []
   },
   "outputs": [
    {
     "name": "stdout",
     "output_type": "stream",
     "text": [
      "Accuracy: 0.81\n",
      "Classification Report:\n",
      "              precision    recall  f1-score   support\n",
      "\n",
      "           0       0.79      0.86      0.82      1363\n",
      "           1       0.85      0.76      0.80      1326\n",
      "\n",
      "    accuracy                           0.81      2689\n",
      "   macro avg       0.82      0.81      0.81      2689\n",
      "weighted avg       0.82      0.81      0.81      2689\n",
      "\n"
     ]
    }
   ],
   "source": [
    "\n",
    "# Calculate accuracy just for test\n",
    "\n",
    "accuracy_test_rf = accuracy_score(y_test, y_pred_rf)\n",
    "print(f\"Accuracy: {accuracy_test_rf:.2f}\")\n",
    "\n",
    "# Generate and print classification test\n",
    "\n",
    "report_test_rf = classification_report(y_test, y_pred_rf)\n",
    "print(\"Classification Report:\")\n",
    "print(report_test_rf)"
   ]
  },
  {
   "cell_type": "code",
   "execution_count": 36,
   "id": "5cccdab1-e9c5-42ec-906b-3725299c79d1",
   "metadata": {
    "tags": []
   },
   "outputs": [
    {
     "data": {
      "image/png": "[encoded data removed]",
      "text/plain": [
       "<Figure size 500x300 with 1 Axes>"
      ]
     },
     "metadata": {},
     "output_type": "display_data"
    }
   ],
   "source": [
    "# Assign\n",
    "cm = confusion_matrix(y_test, y_pred_rf)\n",
    "\n",
    "\n",
    "# Plotting the heatmap\n",
    "plt.figure(figsize=(5, 3))  # Adjust size as needed\n",
    "sns.heatmap(cm, annot=True, fmt='d', cmap='Blues', cbar=False)  # 'fmt' is a string format code\n",
    "plt.title('Confusion Matrix')\n",
    "plt.xlabel('Predicted Labels')\n",
    "plt.ylabel('True Labels')\n",
    "plt.show()"
   ]
  },
  {
   "cell_type": "markdown",
   "id": "52d29691-4e01-45a0-87df-56d92ffa157f",
   "metadata": {},
   "source": [
    "## ROC Curve for all three Models "
   ]
  },
  {
   "cell_type": "markdown",
   "id": "53f66bee-3f7b-462b-8153-f190e2f62fd8",
   "metadata": {},
   "source": [
    "\n",
    "- Let us also obtain ROC score and visualize the ROC curve for our regressor:"
   ]
  },
  {
   "cell_type": "code",
   "execution_count": 37,
   "id": "2c281285-7373-4e1b-8039-dd3e92f7111b",
   "metadata": {},
   "outputs": [
    {
     "data": {
      "image/png": "[encoded data removed]",
      "text/plain": [
       "<Figure size 640x480 with 1 Axes>"
      ]
     },
     "metadata": {},
     "output_type": "display_data"
    }
   ],
   "source": [
    "\n",
    "# Obtain predicted probabilities for positive class (Log Reg)\n",
    "\n",
    "y_pred_proba = log_reg.predict_proba(X_test_vec)[:, 1]\n",
    "\n",
    "# Obtain predicted probabilities for positive class (XGB classifier)\n",
    "\n",
    "y_pred_proba_xgb = xgboost.predict_proba(X_test_vec)[:, 1]\n",
    "\n",
    "# Obtain predicted probabilities for positive class (random forest classifier)\n",
    "\n",
    "y_pred_proba_rf = clf.predict_proba(X_test_vec)[:, 1]\n",
    "\n",
    "# Compute ROC curve and ROC area for each class\n",
    "\n",
    "fpr, tpr, _ = roc_curve(y_test, y_pred_proba)\n",
    "\n",
    "fpr_xgb, tpr_xgb, _ = roc_curve(y_test, y_pred_proba_xgb)\n",
    "\n",
    "fpr_rf, tpr_rf, _ = roc_curve(y_test, y_pred_proba_rf)\n",
    "\n",
    "# Compute Area Under the Curve (AUC)\n",
    "\n",
    "roc_auc = auc(fpr, tpr)\n",
    "\n",
    "roc_auc_xgb = auc(fpr_xgb, tpr_xgb)\n",
    "\n",
    "roc_auc_rf = auc(fpr_rf, tpr_rf)\n",
    "\n",
    "\n",
    "# Plot ROC curve\n",
    "plt.figure()\n",
    "plt.plot(fpr, tpr, color='orange', lw=2, label='Logistic Regressor (area = %0.2f)' % roc_auc)\n",
    "plt.plot(fpr_xgb, tpr_xgb, color='lightgreen', lw=2, label='XG Boost Classifier (area = %0.2f)' % roc_auc_xgb)\n",
    "plt.plot(fpr_rf, tpr_rf, color='blue', lw=2, label='Random Forest Classifier (area = %0.2f)' % roc_auc_rf)\n",
    "\n",
    "plt.plot([0, 1], [0, 1], color='grey', lw=2, linestyle='--')\n",
    "plt.xlim([0.0, 1.0])\n",
    "plt.ylim([0.0, 1.05])\n",
    "plt.xlabel('False Positive Rate')\n",
    "plt.ylabel('True Positive Rate')\n",
    "plt.title('Receiver Operating Characteristic (ROC) Curve')\n",
    "plt.legend(loc='lower right')\n",
    "plt.show()\n",
    "\n"
   ]
  },
  {
   "cell_type": "markdown",
   "id": "0160c918-52ea-4739-a4c1-078a0de3eb81",
   "metadata": {
    "tags": []
   },
   "source": [
    "## Model Performance for Different Countries"
   ]
  },
  {
   "cell_type": "markdown",
   "id": "0e2d463e-ce30-482e-91f5-efe7927ada46",
   "metadata": {},
   "source": [
    "\n",
    "-Finally, let us also make sure that our model gives comparable predictions for papers from different years and countries. Let us start with China:"
   ]
  },
  {
   "cell_type": "code",
   "execution_count": 38,
   "id": "3e0c7fe2-e0b1-44f3-85d5-c0423ac9fe5a",
   "metadata": {
    "tags": []
   },
   "outputs": [
    {
     "name": "stdout",
     "output_type": "stream",
     "text": [
      "(8034, 7)\n"
     ]
    }
   ],
   "source": [
    "\n",
    "# Obtain only abstracts for papers from China and store them in data frame\n",
    "\n",
    "df_ch = df_all_abstracts[df_all_abstracts[\"country\"] == \"CN\"]\n",
    "\n",
    "# Visualize shape of filtered array\n",
    "\n",
    "print(df_ch.shape)\n",
    "\n",
    "# Vectorize text for those papers using TF-IDF vectorization\n",
    "\n",
    "X_ch_tfidf = tfidf.transform(df_ch[\"abstract_text\"])\n",
    "\n",
    "# Obtain predictions for vectorized text with logistic reg model\n",
    "\n",
    "y_pred_ch = log_reg.predict(X_ch_tfidf)"
   ]
  },
  {
   "cell_type": "code",
   "execution_count": 39,
   "id": "663bd046-1d85-46fa-bbb1-5453714d7bee",
   "metadata": {
    "tags": []
   },
   "outputs": [
    {
     "data": {
      "text/plain": [
       "4197"
      ]
     },
     "execution_count": 39,
     "metadata": {},
     "output_type": "execute_result"
    }
   ],
   "source": [
    "\n",
    "# Obtain number of papers flagged as fraudulent\n",
    "\n",
    "y_pred_ch.sum()"
   ]
  },
  {
   "cell_type": "code",
   "execution_count": 40,
   "id": "ada8db20-3fa3-4fa5-864c-032086d2669c",
   "metadata": {
    "tags": []
   },
   "outputs": [
    {
     "data": {
      "text/plain": [
       "8034"
      ]
     },
     "execution_count": 40,
     "metadata": {},
     "output_type": "execute_result"
    }
   ],
   "source": [
    "\n",
    "# Obtain number of papers that we tested in total\n",
    "\n",
    "len(y_pred_ch)"
   ]
  },
  {
   "cell_type": "code",
   "execution_count": 41,
   "id": "719e0f3b-d645-4aff-820c-8630085453ec",
   "metadata": {
    "tags": []
   },
   "outputs": [
    {
     "data": {
      "text/plain": [
       "52.2404779686333"
      ]
     },
     "execution_count": 41,
     "metadata": {},
     "output_type": "execute_result"
    }
   ],
   "source": [
    "\n",
    "# Compute percentage of papers flagged as fraudulent for China\n",
    "\n",
    "per_fraud_china = y_pred_ch.sum() / len(y_pred_ch) * 100\n",
    "\n",
    "# Visualize result\n",
    "\n",
    "per_fraud_china "
   ]
  },
  {
   "cell_type": "code",
   "execution_count": 42,
   "id": "fe6069e4-18c0-4a43-a95f-f67947b18ac7",
   "metadata": {
    "tags": []
   },
   "outputs": [],
   "source": [
    "df_ch_fraud = df_ch[df_ch[\"target\"] == 1]"
   ]
  },
  {
   "cell_type": "code",
   "execution_count": 43,
   "id": "dad6109d-7262-44f0-8519-02ee7ea5776e",
   "metadata": {
    "tags": []
   },
   "outputs": [
    {
     "data": {
      "text/plain": [
       "(3952, 7)"
      ]
     },
     "execution_count": 43,
     "metadata": {},
     "output_type": "execute_result"
    }
   ],
   "source": [
    "df_ch_fraud.shape"
   ]
  },
  {
   "cell_type": "code",
   "execution_count": 44,
   "id": "ee681d57-ecea-4a3c-97ef-fdd19d7c67d4",
   "metadata": {
    "tags": []
   },
   "outputs": [
    {
     "data": {
      "text/plain": [
       "49.19093851132686"
      ]
     },
     "execution_count": 44,
     "metadata": {},
     "output_type": "execute_result"
    }
   ],
   "source": [
    "df_ch_fraud.shape[0] / df_ch.shape[0] * 100"
   ]
  },
  {
   "cell_type": "markdown",
   "id": "1faf7292-a3b9-4b37-abab-6eebb804112c",
   "metadata": {},
   "source": [
    "- Let us now repeat the same steps for the US:"
   ]
  },
  {
   "cell_type": "code",
   "execution_count": 45,
   "id": "71d81439-8036-42f6-a518-1679686a80a7",
   "metadata": {
    "tags": []
   },
   "outputs": [
    {
     "name": "stdout",
     "output_type": "stream",
     "text": [
      "(2211, 7)\n"
     ]
    }
   ],
   "source": [
    "\n",
    "# Obtain only abstracts for papers from China and store them in data frame\n",
    "\n",
    "df_us = df_all_abstracts[df_all_abstracts[\"country\"] == \"US\"]\n",
    "\n",
    "# Visualize shape of filtered array\n",
    "\n",
    "print(df_us.shape)\n",
    "\n",
    "# Vectorize text for those papers using TF-IDF vectorization\n",
    "\n",
    "X_us_tfidf = tfidf.transform(df_us[\"abstract_text\"])\n",
    "\n",
    "# Obtain predictions for vectorized text with logistic reg model\n",
    "\n",
    "y_pred_us = log_reg.predict(X_us_tfidf)"
   ]
  },
  {
   "cell_type": "code",
   "execution_count": 46,
   "id": "38dc7089-0eb0-4ded-b81b-cb68d85feb51",
   "metadata": {
    "tags": []
   },
   "outputs": [
    {
     "data": {
      "text/plain": [
       "38.44414292175487"
      ]
     },
     "execution_count": 46,
     "metadata": {},
     "output_type": "execute_result"
    }
   ],
   "source": [
    "\n",
    "# Compute percentage of papers flagged as fraudulent for China\n",
    "\n",
    "per_fraud_us = y_pred_us.sum() / len(y_pred_us) * 100\n",
    "\n",
    "# Visualize result\n",
    "\n",
    "per_fraud_us"
   ]
  },
  {
   "cell_type": "code",
   "execution_count": 47,
   "id": "8c03164a-8701-4647-9038-7835fec4e32d",
   "metadata": {
    "tags": []
   },
   "outputs": [],
   "source": [
    "df_us_fraud = df_us[df_us[\"target\"] == 1]"
   ]
  },
  {
   "cell_type": "code",
   "execution_count": 48,
   "id": "855002e5-a102-481f-bab4-573307c3ef7c",
   "metadata": {
    "tags": []
   },
   "outputs": [
    {
     "data": {
      "text/plain": [
       "42.06241519674355"
      ]
     },
     "execution_count": 48,
     "metadata": {},
     "output_type": "execute_result"
    }
   ],
   "source": [
    "df_us_fraud.shape[0] / df_us.shape[0] * 100"
   ]
  },
  {
   "cell_type": "markdown",
   "id": "7ba5188b-dea2-4663-8ace-e564a012591f",
   "metadata": {},
   "source": [
    "\n",
    "- It will be easier to simply write a function that performs all these operations for future use:"
   ]
  },
  {
   "cell_type": "code",
   "execution_count": 49,
   "id": "044ac80e-749f-42e9-a0e3-24c443bcf518",
   "metadata": {
    "tags": []
   },
   "outputs": [],
   "source": [
    "\n",
    "def model_tester_country(country_code, df, vectorizer, model):\n",
    "    \n",
    "    # Obtain only abstracts for papers from China and store them in data frame\n",
    "\n",
    "    df_filtered = df[df[\"country\"] == country_code]\n",
    "\n",
    "    # Vectorize text for those papers using TF-IDF vectorization\n",
    "\n",
    "    X_filtered = vectorizer.transform(df_filtered[\"abstract_text\"])\n",
    "\n",
    "    # Obtain predictions for vectorized text with logistic reg model\n",
    "\n",
    "    y_pred_filtered = model.predict(X_filtered)\n",
    "    \n",
    "    # Obtain total number of papers flagged\n",
    "    \n",
    "    total_flagged = y_pred_filtered.sum()\n",
    "\n",
    "    # Compute percentage of papers flagged as fraudulent for country\n",
    "\n",
    "    percentage_flagged = total_flagged / len(y_pred_filtered) * 100\n",
    "    \n",
    "    # Calculate total number of papers that are actually fraudulent for country\n",
    "    \n",
    "    total_fraud = df_filtered[df_filtered[\"target\"] == 1].shape[0]\n",
    "    \n",
    "    # Calculate percentage of papers that are actually fraudulent for country\n",
    "    \n",
    "    percentage_fraud = total_fraud / df_filtered.shape[0] * 100\n",
    "\n",
    "    # Print results\n",
    "    \n",
    "    #print(f\"Perfectage of papers flagged for {country_code} {percentage_flagged}\")\n",
    "    #print(f\"Perfectage of fraudulent papers for {country_code} {percentage_fraud}\")\n",
    "    \n",
    "    return percentage_flagged, percentage_fraud, total_flagged, total_fraud\n",
    " "
   ]
  },
  {
   "cell_type": "markdown",
   "id": "64065cc1-31db-453f-bd5f-d9043ca4e735",
   "metadata": {
    "tags": []
   },
   "source": [
    "- Let us test it to make sure it works OK:"
   ]
  },
  {
   "cell_type": "code",
   "execution_count": 50,
   "id": "80b040bc-84f0-474d-ac56-ae82e63745a1",
   "metadata": {
    "tags": []
   },
   "outputs": [
    {
     "data": {
      "text/plain": [
       "(38.44414292175487, 42.06241519674355, 850, 930)"
      ]
     },
     "execution_count": 50,
     "metadata": {},
     "output_type": "execute_result"
    }
   ],
   "source": [
    "\n",
    "# Calculate percentage of papers flagged for US\n",
    "\n",
    "model_tester_country(\"US\", df_all_abstracts, tfidf, log_reg)"
   ]
  },
  {
   "cell_type": "code",
   "execution_count": 51,
   "id": "6555f6a0-2fcd-4f8a-9901-e276ecb43904",
   "metadata": {
    "tags": []
   },
   "outputs": [
    {
     "data": {
      "text/plain": [
       "(52.2404779686333, 49.19093851132686, 4197, 3952)"
      ]
     },
     "execution_count": 51,
     "metadata": {},
     "output_type": "execute_result"
    }
   ],
   "source": [
    "\n",
    "# Now for China\n",
    "\n",
    "model_tester_country(\"CN\", df_all_abstracts, tfidf, log_reg)"
   ]
  },
  {
   "cell_type": "code",
   "execution_count": 52,
   "id": "5c06cf32-e16f-4e5f-926c-4ed739e26f33",
   "metadata": {
    "tags": []
   },
   "outputs": [
    {
     "data": {
      "text/plain": [
       "(37.03703703703704, 42.592592592592595, 80, 92)"
      ]
     },
     "execution_count": 52,
     "metadata": {},
     "output_type": "execute_result"
    }
   ],
   "source": [
    "\n",
    "# UK\n",
    "\n",
    "model_tester_country(\"GB\", df_all_abstracts, tfidf, log_reg)"
   ]
  },
  {
   "cell_type": "code",
   "execution_count": 53,
   "id": "c3294a35-eb1c-414d-82ae-e8accfb6f469",
   "metadata": {
    "tags": []
   },
   "outputs": [
    {
     "data": {
      "text/plain": [
       "(50.32258064516129, 54.83870967741935, 156, 170)"
      ]
     },
     "execution_count": 53,
     "metadata": {},
     "output_type": "execute_result"
    }
   ],
   "source": [
    "\n",
    "# India\n",
    "\n",
    "model_tester_country(\"IN\", df_all_abstracts, tfidf, log_reg)"
   ]
  },
  {
   "cell_type": "code",
   "execution_count": 54,
   "id": "661eb3a6-fb1d-4330-9fda-833e21b1c11a",
   "metadata": {
    "tags": []
   },
   "outputs": [
    {
     "data": {
      "text/plain": [
       "(52.63157894736842, 53.216374269005854, 90, 91)"
      ]
     },
     "execution_count": 54,
     "metadata": {},
     "output_type": "execute_result"
    }
   ],
   "source": [
    "\n",
    "# Iran\n",
    "\n",
    "model_tester_country(\"IR\", df_all_abstracts, tfidf, log_reg)"
   ]
  },
  {
   "cell_type": "code",
   "execution_count": 55,
   "id": "adfc50d2-65db-4d97-8497-7666f135e135",
   "metadata": {
    "tags": []
   },
   "outputs": [
    {
     "data": {
      "text/plain": [
       "(31.666666666666664, 36.666666666666664, 19, 22)"
      ]
     },
     "execution_count": 55,
     "metadata": {},
     "output_type": "execute_result"
    }
   ],
   "source": [
    "# France\n",
    "\n",
    "model_tester_country(\"AU\", df_all_abstracts, tfidf, log_reg)"
   ]
  },
  {
   "cell_type": "markdown",
   "id": "4ff29761-61bc-4a21-99fd-561bbbbfee38",
   "metadata": {},
   "source": [
    "- Let us run a similar quality test for our year breakdown:"
   ]
  },
  {
   "cell_type": "code",
   "execution_count": 56,
   "id": "71852a47-1c9f-44e1-8199-f752ecaf6641",
   "metadata": {
    "tags": []
   },
   "outputs": [],
   "source": [
    "\n",
    "def model_tester_year(year, df, vectorizer, model):\n",
    "    \n",
    "    # Obtain only abstracts for papers from China and store them in data frame\n",
    "\n",
    "    df_filtered = df[df[\"year\"] == year]\n",
    "\n",
    "    # Vectorize text for those papers using TF-IDF vectorization\n",
    "\n",
    "    X_filtered = vectorizer.transform(df_filtered[\"abstract_text\"])\n",
    "\n",
    "    # Obtain predictions for vectorized text with logistic reg model\n",
    "\n",
    "    y_pred_filtered = model.predict(X_filtered)\n",
    "\n",
    "    # Obtain total number of papers flagged\n",
    "    \n",
    "    total_flagged = y_pred_filtered.sum()\n",
    "\n",
    "    # Compute percentage of papers flagged as fraudulent for country\n",
    "\n",
    "    percentage_flagged = total_flagged / len(y_pred_filtered) * 100\n",
    "    \n",
    "    # Calculate total number of papers that are actually fraudulent for country\n",
    "    \n",
    "    total_fraud = df_filtered[df_filtered[\"target\"] == 1].shape[0]\n",
    "    \n",
    "    # Calculate percentage of papers that are actually fraudulent for country\n",
    "    \n",
    "    percentage_fraud = total_fraud / df_filtered.shape[0] * 100\n",
    "    \n",
    "    return percentage_flagged, percentage_fraud, total_flagged, total_fraud\n",
    " "
   ]
  },
  {
   "cell_type": "code",
   "execution_count": 57,
   "id": "91b0d4b6-a40f-4c97-9b7c-f4edd220a746",
   "metadata": {
    "tags": []
   },
   "outputs": [
    {
     "data": {
      "text/plain": [
       "(50.382165605095544, 46.87898089171975, 791, 736)"
      ]
     },
     "execution_count": 57,
     "metadata": {},
     "output_type": "execute_result"
    }
   ],
   "source": [
    "model_tester_year(2020, df_all_abstracts, tfidf, log_reg)"
   ]
  },
  {
   "cell_type": "code",
   "execution_count": 58,
   "id": "4e5cbc37-f69f-45e9-b08d-3bb4fdd0bee9",
   "metadata": {
    "tags": []
   },
   "outputs": [
    {
     "data": {
      "text/plain": [
       "(51.41635489043293, 47.247461250668096, 962, 884)"
      ]
     },
     "execution_count": 58,
     "metadata": {},
     "output_type": "execute_result"
    }
   ],
   "source": [
    "model_tester_year(2019, df_all_abstracts, tfidf, log_reg)"
   ]
  },
  {
   "cell_type": "code",
   "execution_count": 59,
   "id": "d131d80f-31d6-4eb0-88d1-b5a3a500f948",
   "metadata": {
    "tags": []
   },
   "outputs": [
    {
     "data": {
      "text/plain": [
       "(45.90163934426229, 52.131147540983605, 140, 159)"
      ]
     },
     "execution_count": 59,
     "metadata": {},
     "output_type": "execute_result"
    }
   ],
   "source": [
    "model_tester_year(2009, df_all_abstracts, tfidf, log_reg)"
   ]
  },
  {
   "cell_type": "markdown",
   "id": "9f9f28d6-0a6c-4a72-a420-583306d1f927",
   "metadata": {},
   "source": [
    "\n",
    "- Finally, let us create a function that allows us to run an analysis for both a country and a year of our choice:"
   ]
  },
  {
   "cell_type": "code",
   "execution_count": 60,
   "id": "df3f8433-0f42-4044-9fa8-f0feba47238a",
   "metadata": {
    "tags": []
   },
   "outputs": [],
   "source": [
    "\n",
    "def model_tester_year_country(year, country, df, vectorizer, model):\n",
    "    \n",
    "    # Obtain only abstracts for papers from a given bucket and store them in data frame\n",
    "\n",
    "    df_filtered = df[(df[\"year\"] == year) & (df[\"country\"] == country)]\n",
    "\n",
    "    # Vectorize text for those papers using our vectorizer\n",
    "\n",
    "    X_filtered = vectorizer.transform(df_filtered[\"abstract_text\"])\n",
    "\n",
    "    # Obtain predictions for vectorized text with our model\n",
    "\n",
    "    y_pred_filtered = model.predict(X_filtered)\n",
    "\n",
    "    # Obtain total number of papers flagged\n",
    "    \n",
    "    total_flagged = y_pred_filtered.sum()\n",
    "\n",
    "    # Compute percentage of papers flagged as fraudulent for country\n",
    "\n",
    "    percentage_flagged = total_flagged / len(y_pred_filtered) * 100\n",
    "    \n",
    "    # Calculate total number of papers that are actually fraudulent for country\n",
    "    \n",
    "    total_fraud = df_filtered[df_filtered[\"target\"] == 1].shape[0]\n",
    "    \n",
    "    # Calculate percentage of papers that are actually fraudulent for country\n",
    "    \n",
    "    percentage_fraud = total_fraud / df_filtered.shape[0] * 100\n",
    "\n",
    "    # Print results\n",
    "    \n",
    "    #print(f\"Perfectage of papers flagged for {year} and {country} {percentage_flagged}\")\n",
    "    #print(f\"Perfectage of fraudulent papers for {year} and {country} {percentage_fraud}\")\n",
    "    \n",
    "    return percentage_flagged, percentage_fraud, total_flagged, total_fraud\n",
    "    "
   ]
  },
  {
   "cell_type": "code",
   "execution_count": 61,
   "id": "91139a05-9635-4d1e-bba9-f38213a171d0",
   "metadata": {
    "tags": []
   },
   "outputs": [
    {
     "data": {
      "text/plain": [
       "(52.532391048292105, 49.94110718492344, 446, 424)"
      ]
     },
     "execution_count": 61,
     "metadata": {},
     "output_type": "execute_result"
    }
   ],
   "source": [
    "\n",
    "model_tester_year_country(2017, \"CN\", df_all_abstracts, tfidf, log_reg)"
   ]
  },
  {
   "cell_type": "code",
   "execution_count": 62,
   "id": "956d7396-210a-43d9-8d88-fbf9fb27d3c6",
   "metadata": {
    "tags": []
   },
   "outputs": [
    {
     "data": {
      "text/plain": [
       "(32.5, 32.5, 13, 13)"
      ]
     },
     "execution_count": 62,
     "metadata": {},
     "output_type": "execute_result"
    }
   ],
   "source": [
    "\n",
    "model_tester_year_country(2021, \"US\", df_all_abstracts, tfidf, log_reg)"
   ]
  },
  {
   "cell_type": "code",
   "execution_count": 63,
   "id": "eb9c2ba8-5aca-4faa-b944-0372b29431bd",
   "metadata": {
    "tags": []
   },
   "outputs": [
    {
     "data": {
      "text/plain": [
       "(50.0, 50.0, 9, 9)"
      ]
     },
     "execution_count": 63,
     "metadata": {},
     "output_type": "execute_result"
    }
   ],
   "source": [
    "\n",
    "model_tester_year_country(2018, \"IR\", df_all_abstracts, tfidf, log_reg)"
   ]
  },
  {
   "cell_type": "markdown",
   "id": "7f9454f1-9639-4b9a-97b3-7a12282f856c",
   "metadata": {},
   "source": [
    "- Let us try a more systematic comparison for all countries:"
   ]
  },
  {
   "cell_type": "code",
   "execution_count": 64,
   "id": "55dd4d90-380a-42ca-ae9a-95dac02b626b",
   "metadata": {
    "tags": []
   },
   "outputs": [],
   "source": [
    "\n",
    "countries = df_all_abstracts[\"country\"].unique()\n",
    "results = []\n",
    "difference_percentage = []\n",
    "difference_total = []\n",
    "\n",
    "for country in countries:\n",
    "    country_results = model_tester_country(country, df_all_abstracts, tfidf, log_reg)\n",
    "    results.append(country_results)\n",
    "    difference_percentage.append(country_results[0] - country_results[1])\n",
    "    difference_total.append(country_results[2] - country_results[3])\n",
    "\n"
   ]
  },
  {
   "cell_type": "code",
   "execution_count": 65,
   "id": "2efcb475-41f9-4033-a274-17caa15e5c19",
   "metadata": {
    "tags": []
   },
   "outputs": [],
   "source": [
    "\n",
    "\n",
    "df_differences = pd.DataFrame({\"country\": countries, \"percentage_difference\": difference_percentage, \"total_difference\": difference_total})"
   ]
  },
  {
   "cell_type": "code",
   "execution_count": 66,
   "id": "028e8884-3cc6-4094-a2cd-c128a4ae4fa0",
   "metadata": {
    "tags": []
   },
   "outputs": [],
   "source": [
    "\n",
    "df_differences = df_differences[df_differences[\"total_difference\"] != 0]"
   ]
  },
  {
   "cell_type": "code",
   "execution_count": 67,
   "id": "10024dd2-6a89-4d61-b357-50736d531c0c",
   "metadata": {
    "tags": []
   },
   "outputs": [
    {
     "data": {
      "text/plain": [
       "<Axes: xlabel='country'>"
      ]
     },
     "execution_count": 67,
     "metadata": {},
     "output_type": "execute_result"
    },
    {
     "data": {
      "image/png": "[encoded data removed]",
      "text/plain": [
       "<Figure size 640x480 with 1 Axes>"
      ]
     },
     "metadata": {},
     "output_type": "display_data"
    }
   ],
   "source": [
    "\n",
    "df_differences.plot.bar(x=\"country\", y=\"total_difference\")\n"
   ]
  },
  {
   "cell_type": "code",
   "execution_count": 68,
   "id": "ec1dbfdf-986e-4f34-bdb3-09d464432dda",
   "metadata": {
    "tags": []
   },
   "outputs": [
    {
     "data": {
      "text/plain": [
       "(44, 3)"
      ]
     },
     "execution_count": 68,
     "metadata": {},
     "output_type": "execute_result"
    }
   ],
   "source": [
    "\n",
    "# Obtain size of data frame to decide how to filter top entires\n",
    "\n",
    "df_differences.shape"
   ]
  },
  {
   "cell_type": "code",
   "execution_count": 69,
   "id": "53c74bfa-329f-497c-95f4-07ee92993b7f",
   "metadata": {
    "tags": []
   },
   "outputs": [],
   "source": [
    "\n",
    "# Filter data frame to obtain countries with most papers in absolute number only \n",
    "\n",
    "df_differences_filtered = df_differences.head(27)"
   ]
  },
  {
   "cell_type": "code",
   "execution_count": 70,
   "id": "2ea8f77a-40a5-4622-b04a-40217359302f",
   "metadata": {},
   "outputs": [
    {
     "data": {
      "text/plain": [
       "<Axes: xlabel='country'>"
      ]
     },
     "execution_count": 70,
     "metadata": {},
     "output_type": "execute_result"
    },
    {
     "data": {
      "image/png": "[encoded data removed]",
      "text/plain": [
       "<Figure size 640x480 with 1 Axes>"
      ]
     },
     "metadata": {},
     "output_type": "display_data"
    }
   ],
   "source": [
    "\n",
    "# Make normal plot\n",
    "\n",
    "df_differences.plot.bar(x=\"country\", y=\"percentage_difference\")\n"
   ]
  },
  {
   "cell_type": "code",
   "execution_count": 71,
   "id": "eee9fb0c-4c65-4736-956b-87acaf675b3e",
   "metadata": {
    "tags": []
   },
   "outputs": [
    {
     "data": {
      "image/png": "[encoded data removed]",
      "text/plain": [
       "<Figure size 640x480 with 1 Axes>"
      ]
     },
     "metadata": {},
     "output_type": "display_data"
    }
   ],
   "source": [
    "\n",
    "# Make plot for filtered data frame\n",
    "\n",
    "ax = df_differences_filtered.plot.bar(x=\"country\", y=\"percentage_difference\", color='grey', legend=False)\n",
    "\n",
    "# Set the y axis to -50 and 50 percentage points\n",
    "\n",
    "ax.set_ylim(-70, 70)\n",
    "\n",
    "# Add grid\n",
    "\n",
    "ax.grid(True)\n",
    "\n",
    "# Display plot\n",
    "\n",
    "plt.show()\n"
   ]
  },
  {
   "cell_type": "markdown",
   "id": "3fdaedf5-e610-4dca-8f0e-049074210b74",
   "metadata": {},
   "source": [
    "- And now for all years:"
   ]
  },
  {
   "cell_type": "code",
   "execution_count": 72,
   "id": "fe40f79e-c348-40e2-818f-398d4d91ccaa",
   "metadata": {
    "tags": []
   },
   "outputs": [],
   "source": [
    "\n",
    "year_results = model_tester_year(2020, df_all_abstracts, tfidf, log_reg)\n"
   ]
  },
  {
   "cell_type": "code",
   "execution_count": 73,
   "id": "81c55d78-be4c-470b-9898-5768e2cb06bf",
   "metadata": {
    "tags": []
   },
   "outputs": [],
   "source": [
    "years = df_all_abstracts[\"year\"].unique()\n",
    "results_year = []\n",
    "difference_percentage_year = []\n",
    "difference_total_year = []\n",
    "\n",
    "\n",
    "    \n",
    "for year in years:\n",
    "    year_results = model_tester_year(year, df_all_abstracts, tfidf, log_reg)\n",
    "    results_year.append(year_results)\n",
    "    difference_percentage_year.append(year_results[0] - year_results[1])\n",
    "    difference_total_year.append(year_results[2] - year_results[3])\n",
    "\n"
   ]
  },
  {
   "cell_type": "code",
   "execution_count": 74,
   "id": "be82d393-8b3d-4572-8cc9-5a73f57e89d4",
   "metadata": {
    "tags": []
   },
   "outputs": [],
   "source": [
    "df_differences_year = pd.DataFrame({\"year\": years, \"percentage_difference\": difference_percentage_year, \"total_difference\": difference_total_year})"
   ]
  },
  {
   "cell_type": "code",
   "execution_count": 75,
   "id": "4969a163-0af7-41b6-b334-59e65e11cec7",
   "metadata": {
    "tags": []
   },
   "outputs": [
    {
     "data": {
      "text/html": [
       "<div>\n",
       "<style scoped>\n",
       "    .dataframe tbody tr th:only-of-type {\n",
       "        vertical-align: middle;\n",
       "    }\n",
       "\n",
       "    .dataframe tbody tr th {\n",
       "        vertical-align: top;\n",
       "    }\n",
       "\n",
       "    .dataframe thead th {\n",
       "        text-align: right;\n",
       "    }\n",
       "</style>\n",
       "<table border=\"1\" class=\"dataframe\">\n",
       "  <thead>\n",
       "    <tr style=\"text-align: right;\">\n",
       "      <th></th>\n",
       "      <th>year</th>\n",
       "      <th>percentage_difference</th>\n",
       "      <th>total_difference</th>\n",
       "    </tr>\n",
       "  </thead>\n",
       "  <tbody>\n",
       "    <tr>\n",
       "      <th>0</th>\n",
       "      <td>2021</td>\n",
       "      <td>1.038062</td>\n",
       "      <td>9</td>\n",
       "    </tr>\n",
       "    <tr>\n",
       "      <th>1</th>\n",
       "      <td>2009</td>\n",
       "      <td>-6.229508</td>\n",
       "      <td>-19</td>\n",
       "    </tr>\n",
       "    <tr>\n",
       "      <th>2</th>\n",
       "      <td>2020</td>\n",
       "      <td>3.503185</td>\n",
       "      <td>55</td>\n",
       "    </tr>\n",
       "    <tr>\n",
       "      <th>3</th>\n",
       "      <td>2022</td>\n",
       "      <td>-0.416667</td>\n",
       "      <td>-3</td>\n",
       "    </tr>\n",
       "    <tr>\n",
       "      <th>4</th>\n",
       "      <td>2019</td>\n",
       "      <td>4.168894</td>\n",
       "      <td>78</td>\n",
       "    </tr>\n",
       "  </tbody>\n",
       "</table>\n",
       "</div>"
      ],
      "text/plain": [
       "   year  percentage_difference  total_difference\n",
       "0  2021               1.038062                 9\n",
       "1  2009              -6.229508               -19\n",
       "2  2020               3.503185                55\n",
       "3  2022              -0.416667                -3\n",
       "4  2019               4.168894                78"
      ]
     },
     "execution_count": 75,
     "metadata": {},
     "output_type": "execute_result"
    }
   ],
   "source": [
    "df_differences_year.head(5)"
   ]
  },
  {
   "cell_type": "code",
   "execution_count": 76,
   "id": "8e0d7788-191f-4d4d-b9f1-f1325e1718cf",
   "metadata": {
    "tags": []
   },
   "outputs": [
    {
     "data": {
      "text/plain": [
       "<Axes: xlabel='year'>"
      ]
     },
     "execution_count": 76,
     "metadata": {},
     "output_type": "execute_result"
    },
    {
     "data": {
      "image/png": "[encoded data removed]",
      "text/plain": [
       "<Figure size 640x480 with 1 Axes>"
      ]
     },
     "metadata": {},
     "output_type": "display_data"
    }
   ],
   "source": [
    "df_differences_year.plot.bar(x=\"year\", y=\"percentage_difference\")\n"
   ]
  },
  {
   "cell_type": "code",
   "execution_count": 77,
   "id": "c2d060d9-3714-4b08-b269-f1ed0323881b",
   "metadata": {
    "tags": []
   },
   "outputs": [
    {
     "data": {
      "text/plain": [
       "<Axes: xlabel='year'>"
      ]
     },
     "execution_count": 77,
     "metadata": {},
     "output_type": "execute_result"
    },
    {
     "data": {
      "image/png": "[encoded data removed]",
      "text/plain": [
       "<Figure size 640x480 with 1 Axes>"
      ]
     },
     "metadata": {},
     "output_type": "display_data"
    }
   ],
   "source": [
    "\n",
    "df_differences_year.plot.bar(x=\"year\", y=\"total_difference\")\n"
   ]
  },
  {
   "cell_type": "markdown",
   "id": "90dc449e-1b77-406a-90ee-55f62bf08d03",
   "metadata": {},
   "source": [
    "-Let us get some scores and performance metrics per year and country too. First we'll try China:\n"
   ]
  },
  {
   "cell_type": "code",
   "execution_count": 78,
   "id": "e1e677d8-1dfc-45ab-93f0-c0fd6dec8d2a",
   "metadata": {
    "tags": []
   },
   "outputs": [],
   "source": [
    "\n",
    "df_china = df_all_abstracts[df_all_abstracts[\"country\"] == \"CN\"]\n",
    "\n",
    "# Vectorize text for those papers using TF-IDF vectorization\n",
    "\n",
    "X_china = tfidf.transform(df_china[\"abstract_text\"])\n",
    "\n",
    "# Obtain predictions for vectorized text with logistic reg model\n",
    "\n",
    "y_pred_china = log_reg.predict(X_china)\n",
    "    "
   ]
  },
  {
   "cell_type": "code",
   "execution_count": 79,
   "id": "f7008422-c7c5-4a1f-b57d-1a58d43328c1",
   "metadata": {
    "tags": []
   },
   "outputs": [
    {
     "name": "stdout",
     "output_type": "stream",
     "text": [
      "Classification Report for China:\n",
      "               precision    recall  f1-score   support\n",
      "\n",
      "           0       0.97      0.91      0.94      4082\n",
      "           1       0.91      0.97      0.94      3952\n",
      "\n",
      "    accuracy                           0.94      8034\n",
      "   macro avg       0.94      0.94      0.94      8034\n",
      "weighted avg       0.94      0.94      0.94      8034\n",
      "\n"
     ]
    }
   ],
   "source": [
    "y_china = df_china[\"target\"]\n",
    "\n",
    "report_test = classification_report(y_china, y_pred_china)\n",
    "\n",
    "print(\"Classification Report for China:\\n\", report_test)"
   ]
  },
  {
   "cell_type": "code",
   "execution_count": 80,
   "id": "ad2c0a3b-ac90-46bf-bb2b-547003ec5ca9",
   "metadata": {
    "tags": []
   },
   "outputs": [
    {
     "data": {
      "text/plain": [
       "array([[3704,  378],\n",
       "       [ 133, 3819]])"
      ]
     },
     "execution_count": 80,
     "metadata": {},
     "output_type": "execute_result"
    }
   ],
   "source": [
    "conf_matrix_china = confusion_matrix(y_china, y_pred_china)\n",
    "\n",
    "conf_matrix_china"
   ]
  },
  {
   "cell_type": "markdown",
   "id": "e2ad4474-da40-4660-ad84-78f0645c7fac",
   "metadata": {
    "tags": []
   },
   "source": [
    "- And then the US:"
   ]
  },
  {
   "cell_type": "code",
   "execution_count": 81,
   "id": "741fa11e-f2ad-4760-bcf7-42c32e56b946",
   "metadata": {
    "tags": []
   },
   "outputs": [],
   "source": [
    "\n",
    "df_us = df_all_abstracts[df_all_abstracts[\"country\"] == \"US\"]\n",
    "\n",
    "# Vectorize text for those papers using TF-IDF vectorization\n",
    "\n",
    "X_us = tfidf.transform(df_us[\"abstract_text\"])\n",
    "\n",
    "# Obtain predictions for vectorized text with logistic reg model\n",
    "\n",
    "y_pred_us = log_reg.predict(X_us)\n",
    "    "
   ]
  },
  {
   "cell_type": "code",
   "execution_count": 82,
   "id": "eb1dc96d-6e08-46c2-b30b-b07c8d1e417a",
   "metadata": {
    "tags": []
   },
   "outputs": [
    {
     "name": "stdout",
     "output_type": "stream",
     "text": [
      "Classification Report for the USA:\n",
      "               precision    recall  f1-score   support\n",
      "\n",
      "           0       0.92      0.98      0.95      1281\n",
      "           1       0.97      0.89      0.93       930\n",
      "\n",
      "    accuracy                           0.94      2211\n",
      "   macro avg       0.95      0.94      0.94      2211\n",
      "weighted avg       0.94      0.94      0.94      2211\n",
      "\n"
     ]
    }
   ],
   "source": [
    "y_us = df_us[\"target\"]\n",
    "\n",
    "report_test_us = classification_report(y_us, y_pred_us)\n",
    "\n",
    "print(\"Classification Report for the USA:\\n\", report_test_us)"
   ]
  },
  {
   "cell_type": "code",
   "execution_count": 83,
   "id": "c6ab5a2a-6ebb-439b-aa1b-e18f80a4035a",
   "metadata": {
    "tags": []
   },
   "outputs": [
    {
     "data": {
      "text/plain": [
       "array([[1258,   23],\n",
       "       [ 103,  827]])"
      ]
     },
     "execution_count": 83,
     "metadata": {},
     "output_type": "execute_result"
    }
   ],
   "source": [
    "conf_matrix_us = confusion_matrix(y_us, y_pred_us)\n",
    "\n",
    "conf_matrix_us"
   ]
  },
  {
   "cell_type": "code",
   "execution_count": null,
   "id": "1b304955-f853-4bf1-b509-01709a633234",
   "metadata": {},
   "outputs": [],
   "source": []
  },
  {
   "cell_type": "code",
   "execution_count": null,
   "id": "dfeb1731-a2b6-4a35-99bf-1737b9c5e113",
   "metadata": {},
   "outputs": [],
   "source": []
  }
 ],
 "metadata": {
  "kernelspec": {
   "display_name": "Python 3 (ipykernel)",
   "language": "python",
   "name": "python3"
  },
  "language_info": {
   "codemirror_mode": {
    "name": "ipython",
    "version": 3
   },
   "file_extension": ".py",
   "mimetype": "text/x-python",
   "name": "python",
   "nbconvert_exporter": "python",
   "pygments_lexer": "ipython3",
   "version": "3.11.3"
  }
 },
 "nbformat": 4,
 "nbformat_minor": 5
}
