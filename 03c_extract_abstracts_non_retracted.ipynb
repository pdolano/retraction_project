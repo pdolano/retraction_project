{
 "cells": [
  {
   "cell_type": "markdown",
   "id": "83c0d779-9f5c-4cc8-9229-2154c7bf0fe6",
   "metadata": {},
   "source": [
    "# 3c. Extract Abstracts for Non-Retracted Papers"
   ]
  },
  {
   "cell_type": "markdown",
   "id": "945ad1d4-6973-4144-b34e-84fa2296c3ff",
   "metadata": {},
   "source": [
    "## Introduction"
   ]
  },
  {
   "cell_type": "markdown",
   "id": "01f358f2-9bf8-4585-91d6-9b75be1b6a4d",
   "metadata": {},
   "source": [
    "This Notebook **extracts abstracts** from the JSON files that we downloaded from OpenAlex **for our non-retracted papers**. Again, it downloads inverted word indeces directly from the JSON files, and it then reconstructs them to obtain standard abstract text.\n",
    "\n",
    "The Notebook takes as input the JSON files that were downloaded in **Notebook 3b** and it uses the master function that we used to obtain abstracts for retracted papers in **Notebook 2c**. The reconstructed abstract generated in these two notebooks will then be fed to **Notebook 5** in order to generated the corpus that we will use to train our model.\n",
    "\n",
    "The **workflow** has been set to be as follows:\n",
    "\n",
    "- Input: all the **.json files** for our non-retracted papers.\n",
    "- Output: **one .csv file** with the reconstructed abstracts, along with the DOI, year, and country of each paper, and **one .csv file** with log information about the extraction and reconstruction process."
   ]
  },
  {
   "cell_type": "markdown",
   "id": "7e243347-13bd-44ca-ab3a-a41de4e80465",
   "metadata": {},
   "source": [
    "## Input / Output Parameters"
   ]
  },
  {
   "cell_type": "markdown",
   "id": "07dc1d96-0d92-4e02-9696-d9205a7613f7",
   "metadata": {},
   "source": [
    "Input parameters:"
   ]
  },
  {
   "cell_type": "code",
   "execution_count": 14,
   "id": "c9923da9-d01b-4f5f-9398-28f319d26ac0",
   "metadata": {
    "tags": []
   },
   "outputs": [],
   "source": [
    "\n",
    "# Input path\n",
    "\n",
    "input_path = '../data/json_files/cell_biology/non_retracted'\n"
   ]
  },
  {
   "cell_type": "markdown",
   "id": "9cbb7273-9c36-4fcc-8939-3bb7a38f98e0",
   "metadata": {},
   "source": [
    "Output parameters:"
   ]
  },
  {
   "cell_type": "code",
   "execution_count": 15,
   "id": "bb4aecbd-7433-4b87-9169-44f25727858a",
   "metadata": {
    "tags": []
   },
   "outputs": [],
   "source": [
    "\n",
    "# Output path for abstracts\n",
    "\n",
    "output_path_abstracts = '../data/abstracts/cell_biology/non_retracted/non_retracted_cell_biology_abstracts.csv'\n",
    "\n",
    "# Output path for logs\n",
    "\n",
    "output_path_logs = '../data/logs/non_retracted_abstract_extraction_log.csv'\n"
   ]
  },
  {
   "cell_type": "markdown",
   "id": "aae060ff-f297-411b-bb86-0b41f59261c3",
   "metadata": {},
   "source": [
    "## Importing Libraries"
   ]
  },
  {
   "cell_type": "code",
   "execution_count": 18,
   "id": "a88944e2-31ad-497d-9b7a-507db16ed5cf",
   "metadata": {
    "tags": []
   },
   "outputs": [],
   "source": [
    "import os\n",
    "import json\n",
    "import pandas as pd\n",
    "import csv\n",
    "import string\n",
    "import function_definitions"
   ]
  },
  {
   "cell_type": "markdown",
   "id": "6c05fc24-0b42-440e-8bf9-3ff5914cd2b4",
   "metadata": {},
   "source": [
    "## Extracting Abstracts from JSON Files"
   ]
  },
  {
   "cell_type": "markdown",
   "id": "317f3280-75f7-4d85-8b11-a1550ab75087",
   "metadata": {},
   "source": [
    "We already defined our master function to extract abstracts from our .json files when doing so for our retracted papers. Thus, we can simply re-use this function to obtain this same information for our non-retracted papers:"
   ]
  },
  {
   "cell_type": "code",
   "execution_count": 20,
   "id": "6d60645a-0516-4aa6-8b1a-c270420eefd1",
   "metadata": {
    "tags": []
   },
   "outputs": [
    {
     "ename": "TypeError",
     "evalue": "abstract_getter() takes 1 positional argument but 2 were given",
     "output_type": "error",
     "traceback": [
      "\u001b[31m---------------------------------------------------------------------------\u001b[39m",
      "\u001b[31mTypeError\u001b[39m                                 Traceback (most recent call last)",
      "\u001b[36mCell\u001b[39m\u001b[36m \u001b[39m\u001b[32mIn[20]\u001b[39m\u001b[32m, line 6\u001b[39m\n\u001b[32m      3\u001b[39m data = []\n\u001b[32m      4\u001b[39m log_entries = []\n\u001b[32m----> \u001b[39m\u001b[32m6\u001b[39m data, log_entries = \u001b[43mfunction_definitions\u001b[49m\u001b[43m.\u001b[49m\u001b[43mabstract_getter\u001b[49m\u001b[43m(\u001b[49m\u001b[43minput_path\u001b[49m\u001b[43m,\u001b[49m\u001b[43m \u001b[49m\u001b[32;43m0\u001b[39;49m\u001b[43m)\u001b[49m\n",
      "\u001b[31mTypeError\u001b[39m: abstract_getter() takes 1 positional argument but 2 were given"
     ]
    }
   ],
   "source": [
    "\n",
    "# Initialize lists to store data and log entries\n",
    "\n",
    "data = []\n",
    "log_entries = []\n",
    "\n",
    "data, log_entries = function_definitions.abstract_getter(input_path, 0)\n"
   ]
  },
  {
   "cell_type": "markdown",
   "id": "278b3df5-028f-4ca4-8aaa-a50764544e42",
   "metadata": {},
   "source": [
    "## Output"
   ]
  },
  {
   "cell_type": "markdown",
   "id": "e3deb6e4-7b14-486c-ab58-d5566e9e0196",
   "metadata": {},
   "source": [
    "To conclude, we save the abstract text that we extracted from our .json files into a .csv file:"
   ]
  },
  {
   "cell_type": "code",
   "execution_count": null,
   "id": "af43ef2d-222c-4054-bc3e-5b71c8f8760e",
   "metadata": {
    "tags": []
   },
   "outputs": [],
   "source": [
    "\n",
    "# Create data frame with content of data list and pipe symbol as delimiter\n",
    "\n",
    "df = pd.DataFrame(data)\n",
    "\n",
    "# Save content of data frame to .csv\n",
    "\n",
    "df.to_csv(output_path_abstracts, sep='|', index=False, quoting=csv.QUOTE_MINIMAL)\n",
    "\n"
   ]
  },
  {
   "cell_type": "markdown",
   "id": "26b9c20f-7ca0-4c8e-a48d-ec531f19fb59",
   "metadata": {},
   "source": [
    "And we do the same with the log files that we generated in the process:"
   ]
  },
  {
   "cell_type": "code",
   "execution_count": null,
   "id": "1063b19e-0a39-4623-a0e3-34897e74f4ec",
   "metadata": {
    "tags": []
   },
   "outputs": [],
   "source": [
    "\n",
    "# Create data frame with content of log_entries list \n",
    "\n",
    "log_df = pd.DataFrame(log_entries)\n",
    "\n",
    "# Save content of log entry data frame to .csv\n",
    "\n",
    "log_df.to_csv(output_path_logs, index=False, quoting=csv.QUOTE_MINIMAL)\n"
   ]
  }
 ],
 "metadata": {
  "kernelspec": {
   "display_name": "Python 3 (ipykernel)",
   "language": "python",
   "name": "python3"
  },
  "language_info": {
   "codemirror_mode": {
    "name": "ipython",
    "version": 3
   },
   "file_extension": ".py",
   "mimetype": "text/x-python",
   "name": "python",
   "nbconvert_exporter": "python",
   "pygments_lexer": "ipython3",
   "version": "3.13.2"
  }
 },
 "nbformat": 4,
 "nbformat_minor": 5
}
