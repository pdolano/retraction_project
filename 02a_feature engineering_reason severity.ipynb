{
 "cells": [
  {
   "cell_type": "markdown",
   "id": "f99c9ff8-ba5f-4590-8af1-d3d032f51457",
   "metadata": {},
   "source": [
    "# 2a. Feature Engineering: Severity Score\n"
   ]
  },
  {
   "cell_type": "markdown",
   "id": "98fb2255-004b-4238-bd43-2ceb1e71a8f6",
   "metadata": {},
   "source": [
    "## Introduction"
   ]
  },
  {
   "cell_type": "markdown",
   "id": "6b10c2f6-fee1-482c-a91d-865ec9d401df",
   "metadata": {},
   "source": [
    "\n",
    "This notebooks adds an additional column to the clean data set produced in **Notebook 1**. This additional column is a severity score indicating how concerning the kind of retraction associated to each paper in our data set is.\n",
    "\n",
    "This is accomplished by manually creating a one-to-one correspondence between the various reasons for retraction in the \"Retraction Reason\" column of our data set and a **severity score** that ranges from 0 to 4. Later on, this will allows us to run our analysis only on papers that clearly point towards some sort of genuine malpractice. \n",
    "\n",
    "The **input and output parameters** are therefore as follows:\n",
    "\n",
    "- Input parameters: **one .csv file** with our clean data set produced and **another .csv file** with the severity score correspondences that we created manually. \n",
    "- Output paramters: **one .csv file** with \n"
   ]
  },
  {
   "cell_type": "markdown",
   "id": "208135cb-8c0c-43e1-9a30-6c0a5d85a34d",
   "metadata": {},
   "source": [
    "## Input / Output Parameters"
   ]
  },
  {
   "cell_type": "markdown",
   "id": "96e06622-782c-4127-b713-1cae18d81621",
   "metadata": {},
   "source": [
    "- Input parameters:"
   ]
  },
  {
   "cell_type": "code",
   "execution_count": 2,
   "id": "40dd91fe-1253-4320-b57b-43d3d1c3512f",
   "metadata": {
    "tags": []
   },
   "outputs": [],
   "source": [
    "\n",
    "# Input path for severity score correspondence\n",
    "\n",
    "input_path_severity_score = \"../data/reasons_severityscore.csv\"\n",
    "\n",
    "# Input path for clean data set\n",
    "\n",
    "input_path_data_set = \"../data/data_sets/clean_data_set.csv\"\n",
    "\n",
    "# Severity threshold\n",
    "# Only papers with this severity socre or higher will be kept in our data frame\n",
    "\n",
    "severity_threshold = 3"
   ]
  },
  {
   "cell_type": "markdown",
   "id": "615276ac-678c-49e1-a490-4ba48fbfe501",
   "metadata": {},
   "source": [
    "- Output parameters:"
   ]
  },
  {
   "cell_type": "code",
   "execution_count": 3,
   "id": "a178da8e-c150-400e-a4cb-ffe2d590c78e",
   "metadata": {
    "tags": []
   },
   "outputs": [],
   "source": [
    "\n",
    "# Output path for data set with severity score column\n",
    "\n",
    "output_path = \"../data/data_sets/clean_data_severity.csv\""
   ]
  },
  {
   "cell_type": "markdown",
   "id": "4ed627a4-e600-4374-999b-f1da6d663380",
   "metadata": {},
   "source": [
    "## Importing Libraries"
   ]
  },
  {
   "cell_type": "code",
   "execution_count": 4,
   "id": "446b5fdb-23ba-40bc-afd6-4fae1aa00fa0",
   "metadata": {
    "tags": []
   },
   "outputs": [],
   "source": [
    "\n",
    "# Import required libraries\n",
    "\n",
    "import pandas as pd\n",
    "import numpy as np\n",
    "\n",
    "import matplotlib.pyplot as plt\n",
    "import seaborn as sns\n",
    "\n",
    "import missingno as msno\n",
    "import warnings\n",
    "warnings.filterwarnings(\"ignore\")"
   ]
  },
  {
   "cell_type": "markdown",
   "id": "f98ab498-3786-4576-9034-39044375232b",
   "metadata": {},
   "source": [
    "## Adding a \"Severity Score\" to our Data Set"
   ]
  },
  {
   "cell_type": "markdown",
   "id": "d8705c5d-4a6d-4793-bf0c-b2d49a470586",
   "metadata": {},
   "source": [
    "- Let us start by loading our one-to-one correspondence between reasons for retraction and their associated severity score. We will do that by reading it from the .csv file that we created manually:"
   ]
  },
  {
   "cell_type": "code",
   "execution_count": 5,
   "id": "aed2973d-78da-46b5-aada-de2bc82b1464",
   "metadata": {
    "tags": []
   },
   "outputs": [
    {
     "data": {
      "text/html": [
       "<div>\n",
       "<style scoped>\n",
       "    .dataframe tbody tr th:only-of-type {\n",
       "        vertical-align: middle;\n",
       "    }\n",
       "\n",
       "    .dataframe tbody tr th {\n",
       "        vertical-align: top;\n",
       "    }\n",
       "\n",
       "    .dataframe thead th {\n",
       "        text-align: right;\n",
       "    }\n",
       "</style>\n",
       "<table border=\"1\" class=\"dataframe\">\n",
       "  <thead>\n",
       "    <tr style=\"text-align: right;\">\n",
       "      <th></th>\n",
       "      <th>reason</th>\n",
       "      <th>severity_score</th>\n",
       "    </tr>\n",
       "  </thead>\n",
       "  <tbody>\n",
       "    <tr>\n",
       "      <th>0</th>\n",
       "      <td>Author Unresponsive</td>\n",
       "      <td>0</td>\n",
       "    </tr>\n",
       "    <tr>\n",
       "      <th>1</th>\n",
       "      <td>Bias Issues or Lack of Balance</td>\n",
       "      <td>3</td>\n",
       "    </tr>\n",
       "    <tr>\n",
       "      <th>2</th>\n",
       "      <td>Breach of Policy by Author</td>\n",
       "      <td>3</td>\n",
       "    </tr>\n",
       "    <tr>\n",
       "      <th>3</th>\n",
       "      <td>Cites Retracted Work</td>\n",
       "      <td>3</td>\n",
       "    </tr>\n",
       "    <tr>\n",
       "      <th>4</th>\n",
       "      <td>Civil Proceedings</td>\n",
       "      <td>4</td>\n",
       "    </tr>\n",
       "    <tr>\n",
       "      <th>...</th>\n",
       "      <td>...</td>\n",
       "      <td>...</td>\n",
       "    </tr>\n",
       "    <tr>\n",
       "      <th>104</th>\n",
       "      <td>Upgrade/Update of Prior Notice</td>\n",
       "      <td>0</td>\n",
       "    </tr>\n",
       "    <tr>\n",
       "      <th>105</th>\n",
       "      <td>Withdrawal</td>\n",
       "      <td>2</td>\n",
       "    </tr>\n",
       "    <tr>\n",
       "      <th>106</th>\n",
       "      <td>Withdrawn (out of date)</td>\n",
       "      <td>2</td>\n",
       "    </tr>\n",
       "    <tr>\n",
       "      <th>107</th>\n",
       "      <td>Withdrawn to Publish in Different Journal</td>\n",
       "      <td>0</td>\n",
       "    </tr>\n",
       "    <tr>\n",
       "      <th>108</th>\n",
       "      <td>Notice - No/Limited Information</td>\n",
       "      <td>0</td>\n",
       "    </tr>\n",
       "  </tbody>\n",
       "</table>\n",
       "<p>109 rows × 2 columns</p>\n",
       "</div>"
      ],
      "text/plain": [
       "                                        reason  severity_score\n",
       "0                          Author Unresponsive               0\n",
       "1               Bias Issues or Lack of Balance               3\n",
       "2                   Breach of Policy by Author               3\n",
       "3                         Cites Retracted Work               3\n",
       "4                            Civil Proceedings               4\n",
       "..                                         ...             ...\n",
       "104             Upgrade/Update of Prior Notice               0\n",
       "105                                 Withdrawal               2\n",
       "106                    Withdrawn (out of date)               2\n",
       "107  Withdrawn to Publish in Different Journal               0\n",
       "108            Notice - No/Limited Information               0\n",
       "\n",
       "[109 rows x 2 columns]"
      ]
     },
     "execution_count": 5,
     "metadata": {},
     "output_type": "execute_result"
    }
   ],
   "source": [
    "\n",
    "# Load severity score data from .csv file into data frame\n",
    "\n",
    "df_severity = pd.read_csv(input_path_severity_score, sep = \";\")\n",
    "\n",
    "# Visualize result\n",
    "\n",
    "df_severity"
   ]
  },
  {
   "cell_type": "markdown",
   "id": "9941463b-54e8-4758-9f26-a84d7b0319a4",
   "metadata": {},
   "source": [
    "- Next we will load the clean data set that we generated in Notebook 1:"
   ]
  },
  {
   "cell_type": "code",
   "execution_count": 6,
   "id": "aa245ec8-9716-4eb2-89ee-6faf76c92b8a",
   "metadata": {
    "tags": []
   },
   "outputs": [
    {
     "data": {
      "text/html": [
       "<div>\n",
       "<style scoped>\n",
       "    .dataframe tbody tr th:only-of-type {\n",
       "        vertical-align: middle;\n",
       "    }\n",
       "\n",
       "    .dataframe tbody tr th {\n",
       "        vertical-align: top;\n",
       "    }\n",
       "\n",
       "    .dataframe thead th {\n",
       "        text-align: right;\n",
       "    }\n",
       "</style>\n",
       "<table border=\"1\" class=\"dataframe\">\n",
       "  <thead>\n",
       "    <tr style=\"text-align: right;\">\n",
       "      <th></th>\n",
       "      <th>record_id</th>\n",
       "      <th>title</th>\n",
       "      <th>subject</th>\n",
       "      <th>institution</th>\n",
       "      <th>journal</th>\n",
       "      <th>publisher</th>\n",
       "      <th>country</th>\n",
       "      <th>author</th>\n",
       "      <th>urls</th>\n",
       "      <th>article_type</th>\n",
       "      <th>retraction_date</th>\n",
       "      <th>retraction_doi</th>\n",
       "      <th>retraction_pubmed_id</th>\n",
       "      <th>original_paper_date</th>\n",
       "      <th>original_paper_doi</th>\n",
       "      <th>original_paper_pubmed_id</th>\n",
       "      <th>retraction_nature</th>\n",
       "      <th>reason</th>\n",
       "      <th>paywalled</th>\n",
       "      <th>notes</th>\n",
       "    </tr>\n",
       "  </thead>\n",
       "  <tbody>\n",
       "    <tr>\n",
       "      <th>0</th>\n",
       "      <td>52765</td>\n",
       "      <td>An integrated 3D model based face recognition ...</td>\n",
       "      <td>(B/T) Data Science;(B/T) Technology;</td>\n",
       "      <td>Management Information System Department, Cypr...</td>\n",
       "      <td>Applied Nanoscience</td>\n",
       "      <td>Springer</td>\n",
       "      <td>Turkey</td>\n",
       "      <td>Ali Milad;Kamil Yurtkan</td>\n",
       "      <td>https://retractionwatch.com/2024/01/26/springe...</td>\n",
       "      <td>Research Article;</td>\n",
       "      <td>6/30/2023 0:00</td>\n",
       "      <td>10.1007/s13204-024-03010-9</td>\n",
       "      <td>0.0</td>\n",
       "      <td>2/3/2022 0:00</td>\n",
       "      <td>10.1007/s13204-021-02123-9</td>\n",
       "      <td>0.0</td>\n",
       "      <td>Correction</td>\n",
       "      <td>+Error in Text;+Updated to Retraction;</td>\n",
       "      <td>No</td>\n",
       "      <td>See also: https://pubpeer.com/publications/BCC...</td>\n",
       "    </tr>\n",
       "  </tbody>\n",
       "</table>\n",
       "</div>"
      ],
      "text/plain": [
       "   record_id                                              title  \\\n",
       "0      52765  An integrated 3D model based face recognition ...   \n",
       "\n",
       "                                subject  \\\n",
       "0  (B/T) Data Science;(B/T) Technology;   \n",
       "\n",
       "                                         institution              journal  \\\n",
       "0  Management Information System Department, Cypr...  Applied Nanoscience   \n",
       "\n",
       "  publisher country                   author  \\\n",
       "0  Springer  Turkey  Ali Milad;Kamil Yurtkan   \n",
       "\n",
       "                                                urls       article_type  \\\n",
       "0  https://retractionwatch.com/2024/01/26/springe...  Research Article;   \n",
       "\n",
       "  retraction_date              retraction_doi  retraction_pubmed_id  \\\n",
       "0  6/30/2023 0:00  10.1007/s13204-024-03010-9                   0.0   \n",
       "\n",
       "  original_paper_date          original_paper_doi  original_paper_pubmed_id  \\\n",
       "0       2/3/2022 0:00  10.1007/s13204-021-02123-9                       0.0   \n",
       "\n",
       "  retraction_nature                                  reason paywalled  \\\n",
       "0        Correction  +Error in Text;+Updated to Retraction;        No   \n",
       "\n",
       "                                               notes  \n",
       "0  See also: https://pubpeer.com/publications/BCC...  "
      ]
     },
     "execution_count": 6,
     "metadata": {},
     "output_type": "execute_result"
    }
   ],
   "source": [
    "\n",
    "# Read clean data set from input path\n",
    "\n",
    "df = pd.read_csv('../data/data_sets/clean_data_set.csv')\n",
    "\n",
    "# Visualize result\n",
    "\n",
    "df.head(1)"
   ]
  },
  {
   "cell_type": "markdown",
   "id": "8fcf1db0-23d8-4b55-9182-6d75b8e3feb3",
   "metadata": {},
   "source": [
    "- Having done that, we can go ahead and add a new column to our data frame with the severity score associated to the reasons why each paper was retracted. In many cases, a single paper will be associated to more than one reason for retraction, the different reasons having different severity scores attached to them. In these cases, we will associated the highest severity score of those associated to the reasons why the paper got retracted:"
   ]
  },
  {
   "cell_type": "code",
   "execution_count": 15,
   "id": "267d1155-3948-4f62-8da5-f3adff6fc559",
   "metadata": {
    "tags": []
   },
   "outputs": [],
   "source": [
    "\n",
    "# Create new column with list of reasons in \"reason\" column \n",
    "\n",
    "df['reason_list'] = df['reason'].apply(lambda x: [i.strip('+; ') for i in x.split(';') if i.strip()])\n",
    "\n",
    "# Define function to calculate the maximum severity score of those in the reasons_list column\n",
    "\n",
    "def get_max_severity(reason_list):\n",
    "    \"\"\"Function takes a list with reasons for retraction, checks what are the severity scores\n",
    "    associated to each individual reason, then returns the maximum score in that collection.\"\"\"\n",
    "    \n",
    "    # Create list with scores associated to reasons in input list\n",
    "    \n",
    "    scores = df_severity[df_severity['reason'].isin(reason_list)]['severity_score']\n",
    "    \n",
    "    # Return maximum vaue in the scores list\n",
    "    \n",
    "    return max(scores) if not scores.empty else None\n",
    "\n",
    "# Call function to create new \"severity_score\" column with maximum severity score for each paper\n",
    "\n",
    "df['severity_score'] = df['reason_list'].apply(get_max_severity)\n",
    "\n",
    "# Convert elements of \"severity_score\" column to int type\n",
    "\n",
    "df['severity_score'] = df['severity_score'].astype(int)\n"
   ]
  },
  {
   "cell_type": "markdown",
   "id": "7ebb795d-8473-43ab-bf8d-0f48f468b7a6",
   "metadata": {},
   "source": [
    "- We can now take a look and see what the distribution of papers in our original data set is per severity score: "
   ]
  },
  {
   "cell_type": "code",
   "execution_count": 22,
   "id": "a55905df-75c3-48bf-ba31-86f68538fd06",
   "metadata": {
    "tags": []
   },
   "outputs": [
    {
     "data": {
      "text/plain": [
       "severity_score\n",
       "3    23374\n",
       "4    18805\n",
       "0     4955\n",
       "2     4412\n",
       "1      744\n",
       "Name: count, dtype: int64"
      ]
     },
     "execution_count": 22,
     "metadata": {},
     "output_type": "execute_result"
    }
   ],
   "source": [
    "\n",
    "# Obtain value count of each severity score in our data frame\n",
    "\n",
    "score_counts = df['severity_score'].value_counts()\n",
    "\n",
    "# Print value counts\n",
    "\n",
    "score_counts\n"
   ]
  },
  {
   "cell_type": "markdown",
   "id": "2690e680-77bf-4c43-98de-55103374ac68",
   "metadata": {},
   "source": [
    "- Finally, we can go ahead and remove all papers with a severity score below the severity threshold that we chose at the beginning of this notebook:"
   ]
  },
  {
   "cell_type": "code",
   "execution_count": 25,
   "id": "861a8878-565b-427f-9107-b661c58b7f0e",
   "metadata": {
    "tags": []
   },
   "outputs": [],
   "source": [
    "\n",
    "# Filter the dataframe to inlcude only those above our severity threshold\n",
    "\n",
    "df = df[df['severity_score'] >= severity_threshold]\n"
   ]
  },
  {
   "cell_type": "markdown",
   "id": "bf2d7f43-e745-4b15-8f6d-8aee43af404c",
   "metadata": {},
   "source": [
    "## Output"
   ]
  },
  {
   "cell_type": "markdown",
   "id": "9b3cdf82-4427-4ab9-9922-32485cfdcf41",
   "metadata": {},
   "source": [
    "- To conclude, we write the resulting data frame into a .csv file:"
   ]
  },
  {
   "cell_type": "code",
   "execution_count": 26,
   "id": "42572e99-b4a1-4d64-b27a-9002d4aa2f7e",
   "metadata": {
    "tags": []
   },
   "outputs": [],
   "source": [
    "\n",
    "# Save date frame as .csv\n",
    "\n",
    "filtered_df.to_csv(output_path, index=False)\n"
   ]
  }
 ],
 "metadata": {
  "kernelspec": {
   "display_name": "Python 3 (ipykernel)",
   "language": "python",
   "name": "python3"
  },
  "language_info": {
   "codemirror_mode": {
    "name": "ipython",
    "version": 3
   },
   "file_extension": ".py",
   "mimetype": "text/x-python",
   "name": "python",
   "nbconvert_exporter": "python",
   "pygments_lexer": "ipython3",
   "version": "3.11.3"
  }
 },
 "nbformat": 4,
 "nbformat_minor": 5
}
